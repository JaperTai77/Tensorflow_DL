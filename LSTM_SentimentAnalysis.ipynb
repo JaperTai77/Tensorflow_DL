{
 "cells": [
  {
   "cell_type": "markdown",
   "metadata": {},
   "source": [
    "## LSTM"
   ]
  },
  {
   "cell_type": "code",
   "execution_count": 60,
   "metadata": {},
   "outputs": [],
   "source": [
    "import tensorflow as tf\n",
    "import numpy as np\n",
    "import pandas as pd\n",
    "import re\n",
    "from tensorflow.keras.layers import Flatten,LSTM, Dense, Flatten, Embedding\n",
    "import keras\n",
    "from keras import Model\n",
    "from tensorflow.keras.preprocessing.sequence import pad_sequences\n",
    "from tensorflow.keras.utils import to_categorical\n",
    "from keras_preprocessing.text import Tokenizer\n",
    "from keras.initializers import glorot_uniform\n",
    "from sklearn import model_selection"
   ]
  },
  {
   "cell_type": "code",
   "execution_count": 51,
   "metadata": {
    "scrolled": false
   },
   "outputs": [
    {
     "name": "stdout",
     "output_type": "stream",
     "text": [
      "/Users/jasper/Documents/python/Neual_net/data\n"
     ]
    },
    {
     "data": {
      "text/plain": [
       "'\"2\",\"Stuning even for the non-gamer\",\"This sound track was beautiful! It paints the senery in your mind so well I would recomend it even to people who hate vid. game music! I have played the game Chrono Cross but out of all of the games I have ever played it has the best music! It backs away from crude keyboarding and takes a fresher step with grate guitars and soulful orchestras. It would impress anyone who cares to listen! ^_^\"\\n'"
      ]
     },
     "execution_count": 51,
     "metadata": {},
     "output_type": "execute_result"
    }
   ],
   "source": [
    "%cd \"/Users/jasper/Documents/python/Neual_net/data\"\n",
    "with open('train.csv', 'r') as file:\n",
    "   text = file.readlines()\n",
    "\n",
    "text[0]"
   ]
  },
  {
   "cell_type": "code",
   "execution_count": 52,
   "metadata": {},
   "outputs": [
    {
     "data": {
      "text/html": [
       "<div>\n",
       "<style scoped>\n",
       "    .dataframe tbody tr th:only-of-type {\n",
       "        vertical-align: middle;\n",
       "    }\n",
       "\n",
       "    .dataframe tbody tr th {\n",
       "        vertical-align: top;\n",
       "    }\n",
       "\n",
       "    .dataframe thead th {\n",
       "        text-align: right;\n",
       "    }\n",
       "</style>\n",
       "<table border=\"1\" class=\"dataframe\">\n",
       "  <thead>\n",
       "    <tr style=\"text-align: right;\">\n",
       "      <th></th>\n",
       "      <th>review</th>\n",
       "      <th>label</th>\n",
       "    </tr>\n",
       "  </thead>\n",
       "  <tbody>\n",
       "    <tr>\n",
       "      <th>0</th>\n",
       "      <td>\"Stuning even for the non-gamer\" \"This sound t...</td>\n",
       "      <td>1</td>\n",
       "    </tr>\n",
       "    <tr>\n",
       "      <th>1</th>\n",
       "      <td>\"The best soundtrack ever to anything.\" \"I'm r...</td>\n",
       "      <td>1</td>\n",
       "    </tr>\n",
       "    <tr>\n",
       "      <th>2</th>\n",
       "      <td>\"Amazing!\" \"This soundtrack is my favorite mus...</td>\n",
       "      <td>1</td>\n",
       "    </tr>\n",
       "    <tr>\n",
       "      <th>3</th>\n",
       "      <td>\"Excellent Soundtrack\" \"I truly like this soun...</td>\n",
       "      <td>1</td>\n",
       "    </tr>\n",
       "    <tr>\n",
       "      <th>4</th>\n",
       "      <td>\"Remember  Pull Your Jaw Off The Floor After H...</td>\n",
       "      <td>1</td>\n",
       "    </tr>\n",
       "    <tr>\n",
       "      <th>5</th>\n",
       "      <td>\"an absolute masterpiece\" \"I am quite sure any...</td>\n",
       "      <td>1</td>\n",
       "    </tr>\n",
       "    <tr>\n",
       "      <th>6</th>\n",
       "      <td>\"Buyer beware\" \"This is a self-published book ...</td>\n",
       "      <td>0</td>\n",
       "    </tr>\n",
       "    <tr>\n",
       "      <th>7</th>\n",
       "      <td>\"Glorious story\" \"I loved Whisper of the wicke...</td>\n",
       "      <td>1</td>\n",
       "    </tr>\n",
       "    <tr>\n",
       "      <th>8</th>\n",
       "      <td>\"A FIVE STAR BOOK\" \"I just finished reading Wh...</td>\n",
       "      <td>1</td>\n",
       "    </tr>\n",
       "    <tr>\n",
       "      <th>9</th>\n",
       "      <td>\"Whispers of the Wicked Saints\" \"This was a ea...</td>\n",
       "      <td>1</td>\n",
       "    </tr>\n",
       "  </tbody>\n",
       "</table>\n",
       "</div>"
      ],
      "text/plain": [
       "                                              review  label\n",
       "0  \"Stuning even for the non-gamer\" \"This sound t...      1\n",
       "1  \"The best soundtrack ever to anything.\" \"I'm r...      1\n",
       "2  \"Amazing!\" \"This soundtrack is my favorite mus...      1\n",
       "3  \"Excellent Soundtrack\" \"I truly like this soun...      1\n",
       "4  \"Remember  Pull Your Jaw Off The Floor After H...      1\n",
       "5  \"an absolute masterpiece\" \"I am quite sure any...      1\n",
       "6  \"Buyer beware\" \"This is a self-published book ...      0\n",
       "7  \"Glorious story\" \"I loved Whisper of the wicke...      1\n",
       "8  \"A FIVE STAR BOOK\" \"I just finished reading Wh...      1\n",
       "9  \"Whispers of the Wicked Saints\" \"This was a ea...      1"
      ]
     },
     "execution_count": 52,
     "metadata": {},
     "output_type": "execute_result"
    }
   ],
   "source": [
    "# create dataframe\n",
    "Xtrain = pd.DataFrame()\n",
    "word = []\n",
    "label = []\n",
    "\n",
    "for n in text:\n",
    "    n = n.split(',')\n",
    "    label.append(1) if n[0] == '\"2\"' else label.append(0)\n",
    "    word.append(' '.join(n[1:]))\n",
    "Xtrain['review'] = word; Xtrain['label'] = label\n",
    "Xtrain.head(10)"
   ]
  },
  {
   "cell_type": "code",
   "execution_count": 32,
   "metadata": {},
   "outputs": [
    {
     "data": {
      "text/plain": [
       "1    1800000\n",
       "0    1800000\n",
       "Name: label, dtype: int64"
      ]
     },
     "execution_count": 32,
     "metadata": {},
     "output_type": "execute_result"
    }
   ],
   "source": [
    "Xtrain['label'].value_counts()"
   ]
  },
  {
   "cell_type": "code",
   "execution_count": 53,
   "metadata": {},
   "outputs": [],
   "source": [
    "#use only 2% of data to avoid overloading your system\n",
    "\n",
    "_, Xset, __, yset = model_selection.train_test_split(Xtrain['review'],\n",
    "                                                    Xtrain['label'],\n",
    "                                                    test_size = 0.01)"
   ]
  },
  {
   "cell_type": "code",
   "execution_count": 54,
   "metadata": {},
   "outputs": [],
   "source": [
    "# remove punctuation, convert upper to lower case, and remove single character\n",
    "\n",
    "def preparation(tex):\n",
    "    out_tex = re.sub('[^a-zA-Z]', ' ', tex)\n",
    "    out_tex = ''.join(list(map(lambda x: x.lower(),out_tex)))\n",
    "    out_tex = re.sub(r'\\s+[a-zA-Z]\\s', ' ',out_tex) #r'', do not process escape sequences \n",
    "    return out_tex"
   ]
  },
  {
   "cell_type": "code",
   "execution_count": 55,
   "metadata": {},
   "outputs": [
    {
     "data": {
      "text/html": [
       "<div>\n",
       "<style scoped>\n",
       "    .dataframe tbody tr th:only-of-type {\n",
       "        vertical-align: middle;\n",
       "    }\n",
       "\n",
       "    .dataframe tbody tr th {\n",
       "        vertical-align: top;\n",
       "    }\n",
       "\n",
       "    .dataframe thead th {\n",
       "        text-align: right;\n",
       "    }\n",
       "</style>\n",
       "<table border=\"1\" class=\"dataframe\">\n",
       "  <thead>\n",
       "    <tr style=\"text-align: right;\">\n",
       "      <th></th>\n",
       "      <th>review</th>\n",
       "      <th>label</th>\n",
       "    </tr>\n",
       "  </thead>\n",
       "  <tbody>\n",
       "    <tr>\n",
       "      <th>0</th>\n",
       "      <td>outback station read   outback   the first in...</td>\n",
       "      <td>1</td>\n",
       "    </tr>\n",
       "    <tr>\n",
       "      <th>1</th>\n",
       "      <td>top ranking reggae     river niger believe fo...</td>\n",
       "      <td>1</td>\n",
       "    </tr>\n",
       "    <tr>\n",
       "      <th>2</th>\n",
       "      <td>don bore the jukebox     this cd starts off g...</td>\n",
       "      <td>0</td>\n",
       "    </tr>\n",
       "    <tr>\n",
       "      <th>3</th>\n",
       "      <td>rubbish cant believe how many good reviews th...</td>\n",
       "      <td>0</td>\n",
       "    </tr>\n",
       "    <tr>\n",
       "      <th>4</th>\n",
       "      <td>what disappointment stopped watching this mov...</td>\n",
       "      <td>0</td>\n",
       "    </tr>\n",
       "  </tbody>\n",
       "</table>\n",
       "</div>"
      ],
      "text/plain": [
       "                                              review  label\n",
       "0   outback station read   outback   the first in...      1\n",
       "1   top ranking reggae     river niger believe fo...      1\n",
       "2   don bore the jukebox     this cd starts off g...      0\n",
       "3   rubbish cant believe how many good reviews th...      0\n",
       "4   what disappointment stopped watching this mov...      0"
      ]
     },
     "execution_count": 55,
     "metadata": {},
     "output_type": "execute_result"
    }
   ],
   "source": [
    "text = []\n",
    "for review in list(Xset):\n",
    "    text.append(preparation(review))\n",
    "Xtrain = pd.DataFrame()\n",
    "Xtrain['review'] = text\n",
    "Xtrain['label'] = list(yset)\n",
    "Xtrain.head()"
   ]
  },
  {
   "cell_type": "code",
   "execution_count": 56,
   "metadata": {},
   "outputs": [],
   "source": [
    "# convert to arrays\n",
    "Xtrain, Xtest, ytrain, ytest = model_selection.train_test_split(Xtrain['review'],\n",
    "                                                               Xtrain['label'],\n",
    "                                                               test_size = 0.3)\n",
    "Xtrain = np.array(Xtrain.values.tolist())\n",
    "Xtest = np.array(Xtest.values.tolist())\n",
    "ytrain = np.array(ytrain.values.tolist())\n",
    "ytest = np.array(ytest.values.tolist())"
   ]
  },
  {
   "cell_type": "code",
   "execution_count": 57,
   "metadata": {},
   "outputs": [
    {
     "name": "stdout",
     "output_type": "stream",
     "text": [
      "53835\n"
     ]
    }
   ],
   "source": [
    "# tokenizer\n",
    "tok = Tokenizer()\n",
    "tok.fit_on_texts(Xtrain)\n",
    "word_index = tok.word_index\n",
    "total_size = len(word_index)+1\n",
    "print(total_size)"
   ]
  },
  {
   "cell_type": "code",
   "execution_count": 58,
   "metadata": {},
   "outputs": [],
   "source": [
    "Xtrain = tok.texts_to_sequences(Xtrain)\n",
    "Xtest = tok.texts_to_sequences(Xtest)\n",
    "\n",
    "# add padding to ensure same length\n",
    "max_length = 100\n",
    "Xtrain = pad_sequences(Xtrain, padding = 'post', maxlen = max_length)\n",
    "Xtest = pad_sequences(Xtest, padding = 'post', maxlen = max_length)"
   ]
  },
  {
   "cell_type": "code",
   "execution_count": 69,
   "metadata": {},
   "outputs": [
    {
     "name": "stdout",
     "output_type": "stream",
     "text": [
      "Model: \"sequential\"\n",
      "_________________________________________________________________\n",
      "Layer (type)                 Output Shape              Param #   \n",
      "=================================================================\n",
      "embedding_1 (Embedding)      (None, 100, 20)           1076700   \n",
      "_________________________________________________________________\n",
      "lstm (LSTM)                  (None, 32)                6784      \n",
      "_________________________________________________________________\n",
      "dense (Dense)                (None, 1)                 33        \n",
      "=================================================================\n",
      "Total params: 1,083,517\n",
      "Trainable params: 1,083,517\n",
      "Non-trainable params: 0\n",
      "_________________________________________________________________\n"
     ]
    }
   ],
   "source": [
    "# Create model\n",
    "model = tf.keras.Sequential()\n",
    "model.add(Embedding(total_size, 20, input_length=max_length))\n",
    "model.add(LSTM(32,dropout=0.2, recurrent_dropout=0.2))\n",
    "model.add(Dense(1, activation='sigmoid'))\n",
    "model.summary()"
   ]
  },
  {
   "cell_type": "code",
   "execution_count": 70,
   "metadata": {},
   "outputs": [],
   "source": [
    "model.compile(optimizer='adam', loss='binary_crossentropy',metrics=['accuracy'])"
   ]
  },
  {
   "cell_type": "code",
   "execution_count": 71,
   "metadata": {},
   "outputs": [
    {
     "name": "stdout",
     "output_type": "stream",
     "text": [
      "Epoch 1/5\n",
      "WARNING:tensorflow:AutoGraph could not transform <function Model.make_train_function.<locals>.train_function at 0x7fd83c0d4200> and will run it as-is.\n",
      "Please report this to the TensorFlow team. When filing the bug, set the verbosity to 10 (on Linux, `export AUTOGRAPH_VERBOSITY=10`) and attach the full output.\n",
      "Cause: 'arguments' object has no attribute 'posonlyargs'\n",
      "To silence this warning, decorate the function with @tf.autograph.experimental.do_not_convert\n",
      "WARNING: AutoGraph could not transform <function Model.make_train_function.<locals>.train_function at 0x7fd83c0d4200> and will run it as-is.\n",
      "Please report this to the TensorFlow team. When filing the bug, set the verbosity to 10 (on Linux, `export AUTOGRAPH_VERBOSITY=10`) and attach the full output.\n",
      "Cause: 'arguments' object has no attribute 'posonlyargs'\n",
      "To silence this warning, decorate the function with @tf.autograph.experimental.do_not_convert\n",
      "197/197 [==============================] - ETA: 0s - loss: 0.6776 - accuracy: 0.5464WARNING:tensorflow:AutoGraph could not transform <function Model.make_test_function.<locals>.test_function at 0x7fd7c996c8c0> and will run it as-is.\n",
      "Please report this to the TensorFlow team. When filing the bug, set the verbosity to 10 (on Linux, `export AUTOGRAPH_VERBOSITY=10`) and attach the full output.\n",
      "Cause: 'arguments' object has no attribute 'posonlyargs'\n",
      "To silence this warning, decorate the function with @tf.autograph.experimental.do_not_convert\n",
      "WARNING: AutoGraph could not transform <function Model.make_test_function.<locals>.test_function at 0x7fd7c996c8c0> and will run it as-is.\n",
      "Please report this to the TensorFlow team. When filing the bug, set the verbosity to 10 (on Linux, `export AUTOGRAPH_VERBOSITY=10`) and attach the full output.\n",
      "Cause: 'arguments' object has no attribute 'posonlyargs'\n",
      "To silence this warning, decorate the function with @tf.autograph.experimental.do_not_convert\n",
      "197/197 [==============================] - 31s 118ms/step - loss: 0.6775 - accuracy: 0.5466 - val_loss: 0.6840 - val_accuracy: 0.5490\n",
      "Epoch 2/5\n",
      "197/197 [==============================] - 25s 129ms/step - loss: 0.6532 - accuracy: 0.5963 - val_loss: 0.6917 - val_accuracy: 0.5231\n",
      "Epoch 3/5\n",
      "197/197 [==============================] - 26s 131ms/step - loss: 0.6892 - accuracy: 0.5643 - val_loss: 0.6886 - val_accuracy: 0.5515\n",
      "Epoch 4/5\n",
      "197/197 [==============================] - 28s 142ms/step - loss: 0.6567 - accuracy: 0.6276 - val_loss: 0.4915 - val_accuracy: 0.7996\n",
      "Epoch 5/5\n",
      "197/197 [==============================] - 27s 136ms/step - loss: 0.4894 - accuracy: 0.8151 - val_loss: 0.4525 - val_accuracy: 0.8242\n"
     ]
    },
    {
     "data": {
      "text/plain": [
       "<tensorflow.python.keras.callbacks.History at 0x7fd83c179810>"
      ]
     },
     "execution_count": 71,
     "metadata": {},
     "output_type": "execute_result"
    }
   ],
   "source": [
    "model.fit(Xtrain, ytrain, batch_size=128, epochs=5, validation_data=(Xtest, ytest))\n"
   ]
  },
  {
   "cell_type": "code",
   "execution_count": 94,
   "metadata": {},
   "outputs": [
    {
     "data": {
      "text/html": [
       "<div>\n",
       "<style scoped>\n",
       "    .dataframe tbody tr th:only-of-type {\n",
       "        vertical-align: middle;\n",
       "    }\n",
       "\n",
       "    .dataframe tbody tr th {\n",
       "        vertical-align: top;\n",
       "    }\n",
       "\n",
       "    .dataframe thead th {\n",
       "        text-align: right;\n",
       "    }\n",
       "</style>\n",
       "<table border=\"1\" class=\"dataframe\">\n",
       "  <thead>\n",
       "    <tr style=\"text-align: right;\">\n",
       "      <th></th>\n",
       "      <th>prediction</th>\n",
       "      <th>true</th>\n",
       "    </tr>\n",
       "  </thead>\n",
       "  <tbody>\n",
       "    <tr>\n",
       "      <th>0</th>\n",
       "      <td>1.0</td>\n",
       "      <td>1</td>\n",
       "    </tr>\n",
       "    <tr>\n",
       "      <th>1</th>\n",
       "      <td>0.0</td>\n",
       "      <td>1</td>\n",
       "    </tr>\n",
       "    <tr>\n",
       "      <th>2</th>\n",
       "      <td>1.0</td>\n",
       "      <td>1</td>\n",
       "    </tr>\n",
       "    <tr>\n",
       "      <th>3</th>\n",
       "      <td>1.0</td>\n",
       "      <td>1</td>\n",
       "    </tr>\n",
       "    <tr>\n",
       "      <th>4</th>\n",
       "      <td>0.0</td>\n",
       "      <td>0</td>\n",
       "    </tr>\n",
       "  </tbody>\n",
       "</table>\n",
       "</div>"
      ],
      "text/plain": [
       "   prediction  true\n",
       "0         1.0     1\n",
       "1         0.0     1\n",
       "2         1.0     1\n",
       "3         1.0     1\n",
       "4         0.0     0"
      ]
     },
     "execution_count": 94,
     "metadata": {},
     "output_type": "execute_result"
    }
   ],
   "source": [
    "prob = model.predict(Xtest)\n",
    "pred = tf.round(prob)\n",
    "df = pd.DataFrame({'prediction':tf.squeeze(pred,axis = -1).numpy(),'true':ytest.to_numpy()})\n",
    "df.head()"
   ]
  },
  {
   "cell_type": "code",
   "execution_count": 101,
   "metadata": {},
   "outputs": [],
   "source": [
    "df['acc'] = df.apply(lambda x: 1 if x['prediction'] == x['true'] else 0, axis=1)"
   ]
  },
  {
   "cell_type": "code",
   "execution_count": 103,
   "metadata": {},
   "outputs": [
    {
     "data": {
      "text/plain": [
       "0.8241666666666667"
      ]
     },
     "execution_count": 103,
     "metadata": {},
     "output_type": "execute_result"
    }
   ],
   "source": [
    "df.acc.sum()/len(df) # same from the"
   ]
  },
  {
   "cell_type": "code",
   "execution_count": null,
   "metadata": {},
   "outputs": [],
   "source": []
  }
 ],
 "metadata": {
  "kernelspec": {
   "display_name": "Python 3",
   "language": "python",
   "name": "python3"
  },
  "language_info": {
   "codemirror_mode": {
    "name": "ipython",
    "version": 3
   },
   "file_extension": ".py",
   "mimetype": "text/x-python",
   "name": "python",
   "nbconvert_exporter": "python",
   "pygments_lexer": "ipython3",
   "version": "3.7.10"
  }
 },
 "nbformat": 4,
 "nbformat_minor": 4
}
