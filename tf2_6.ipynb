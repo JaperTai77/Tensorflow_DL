{
  "nbformat": 4,
  "nbformat_minor": 0,
  "metadata": {
    "colab": {
      "name": "tf2_6.ipynb",
      "provenance": [],
      "collapsed_sections": [],
      "authorship_tag": "ABX9TyM6B4PpbvU94zjLSobxfA/w",
      "include_colab_link": true
    },
    "kernelspec": {
      "display_name": "Python 3",
      "name": "python3"
    },
    "language_info": {
      "name": "python"
    },
    "widgets": {
      "application/vnd.jupyter.widget-state+json": {
        "bedc862179aa456086c59b86d0f5a739": {
          "model_module": "@jupyter-widgets/controls",
          "model_name": "HBoxModel",
          "model_module_version": "1.5.0",
          "state": {
            "_view_name": "HBoxView",
            "_dom_classes": [],
            "_model_name": "HBoxModel",
            "_view_module": "@jupyter-widgets/controls",
            "_model_module_version": "1.5.0",
            "_view_count": null,
            "_view_module_version": "1.5.0",
            "box_style": "",
            "layout": "IPY_MODEL_c83d56c9991c4b09aa71405884420def",
            "_model_module": "@jupyter-widgets/controls",
            "children": [
              "IPY_MODEL_ffc1f236674a42e6a2d63be4cba16577",
              "IPY_MODEL_2c2c9bcee83c4a7db59bfce1402d1a33",
              "IPY_MODEL_19ccfaf875044d65aa91499615323286"
            ]
          }
        },
        "c83d56c9991c4b09aa71405884420def": {
          "model_module": "@jupyter-widgets/base",
          "model_name": "LayoutModel",
          "model_module_version": "1.2.0",
          "state": {
            "_view_name": "LayoutView",
            "grid_template_rows": null,
            "right": null,
            "justify_content": null,
            "_view_module": "@jupyter-widgets/base",
            "overflow": null,
            "_model_module_version": "1.2.0",
            "_view_count": null,
            "flex_flow": null,
            "width": null,
            "min_width": null,
            "border": null,
            "align_items": null,
            "bottom": null,
            "_model_module": "@jupyter-widgets/base",
            "top": null,
            "grid_column": null,
            "overflow_y": null,
            "overflow_x": null,
            "grid_auto_flow": null,
            "grid_area": null,
            "grid_template_columns": null,
            "flex": null,
            "_model_name": "LayoutModel",
            "justify_items": null,
            "grid_row": null,
            "max_height": null,
            "align_content": null,
            "visibility": null,
            "align_self": null,
            "height": null,
            "min_height": null,
            "padding": null,
            "grid_auto_rows": null,
            "grid_gap": null,
            "max_width": null,
            "order": null,
            "_view_module_version": "1.2.0",
            "grid_template_areas": null,
            "object_position": null,
            "object_fit": null,
            "grid_auto_columns": null,
            "margin": null,
            "display": null,
            "left": null
          }
        },
        "ffc1f236674a42e6a2d63be4cba16577": {
          "model_module": "@jupyter-widgets/controls",
          "model_name": "HTMLModel",
          "model_module_version": "1.5.0",
          "state": {
            "_view_name": "HTMLView",
            "style": "IPY_MODEL_ba6dfc1e4caa4a3abf1eb57e6082eaa8",
            "_dom_classes": [],
            "description": "",
            "_model_name": "HTMLModel",
            "placeholder": "​",
            "_view_module": "@jupyter-widgets/controls",
            "_model_module_version": "1.5.0",
            "value": "Dl Completed...: 100%",
            "_view_count": null,
            "_view_module_version": "1.5.0",
            "description_tooltip": null,
            "_model_module": "@jupyter-widgets/controls",
            "layout": "IPY_MODEL_79515411bbd24ca49282455d90fca4f9"
          }
        },
        "2c2c9bcee83c4a7db59bfce1402d1a33": {
          "model_module": "@jupyter-widgets/controls",
          "model_name": "FloatProgressModel",
          "model_module_version": "1.5.0",
          "state": {
            "_view_name": "ProgressView",
            "style": "IPY_MODEL_1543603623b04d788fef7867840d4c65",
            "_dom_classes": [],
            "description": "",
            "_model_name": "FloatProgressModel",
            "bar_style": "success",
            "max": 1,
            "_view_module": "@jupyter-widgets/controls",
            "_model_module_version": "1.5.0",
            "value": 1,
            "_view_count": null,
            "_view_module_version": "1.5.0",
            "orientation": "horizontal",
            "min": 0,
            "description_tooltip": null,
            "_model_module": "@jupyter-widgets/controls",
            "layout": "IPY_MODEL_d098ddb5db554e39a46ae63685b75168"
          }
        },
        "19ccfaf875044d65aa91499615323286": {
          "model_module": "@jupyter-widgets/controls",
          "model_name": "HTMLModel",
          "model_module_version": "1.5.0",
          "state": {
            "_view_name": "HTMLView",
            "style": "IPY_MODEL_6c4c23e86f03486fba4299ec8a8e196e",
            "_dom_classes": [],
            "description": "",
            "_model_name": "HTMLModel",
            "placeholder": "​",
            "_view_module": "@jupyter-widgets/controls",
            "_model_module_version": "1.5.0",
            "value": " 1/1 [05:27&lt;00:00, 199.24s/ url]",
            "_view_count": null,
            "_view_module_version": "1.5.0",
            "description_tooltip": null,
            "_model_module": "@jupyter-widgets/controls",
            "layout": "IPY_MODEL_6e7f13d785b240e6a4e9bb2f4e07dbd7"
          }
        },
        "ba6dfc1e4caa4a3abf1eb57e6082eaa8": {
          "model_module": "@jupyter-widgets/controls",
          "model_name": "DescriptionStyleModel",
          "model_module_version": "1.5.0",
          "state": {
            "_view_name": "StyleView",
            "_model_name": "DescriptionStyleModel",
            "description_width": "",
            "_view_module": "@jupyter-widgets/base",
            "_model_module_version": "1.5.0",
            "_view_count": null,
            "_view_module_version": "1.2.0",
            "_model_module": "@jupyter-widgets/controls"
          }
        },
        "79515411bbd24ca49282455d90fca4f9": {
          "model_module": "@jupyter-widgets/base",
          "model_name": "LayoutModel",
          "model_module_version": "1.2.0",
          "state": {
            "_view_name": "LayoutView",
            "grid_template_rows": null,
            "right": null,
            "justify_content": null,
            "_view_module": "@jupyter-widgets/base",
            "overflow": null,
            "_model_module_version": "1.2.0",
            "_view_count": null,
            "flex_flow": null,
            "width": null,
            "min_width": null,
            "border": null,
            "align_items": null,
            "bottom": null,
            "_model_module": "@jupyter-widgets/base",
            "top": null,
            "grid_column": null,
            "overflow_y": null,
            "overflow_x": null,
            "grid_auto_flow": null,
            "grid_area": null,
            "grid_template_columns": null,
            "flex": null,
            "_model_name": "LayoutModel",
            "justify_items": null,
            "grid_row": null,
            "max_height": null,
            "align_content": null,
            "visibility": null,
            "align_self": null,
            "height": null,
            "min_height": null,
            "padding": null,
            "grid_auto_rows": null,
            "grid_gap": null,
            "max_width": null,
            "order": null,
            "_view_module_version": "1.2.0",
            "grid_template_areas": null,
            "object_position": null,
            "object_fit": null,
            "grid_auto_columns": null,
            "margin": null,
            "display": null,
            "left": null
          }
        },
        "1543603623b04d788fef7867840d4c65": {
          "model_module": "@jupyter-widgets/controls",
          "model_name": "ProgressStyleModel",
          "model_module_version": "1.5.0",
          "state": {
            "_view_name": "StyleView",
            "_model_name": "ProgressStyleModel",
            "description_width": "",
            "_view_module": "@jupyter-widgets/base",
            "_model_module_version": "1.5.0",
            "_view_count": null,
            "_view_module_version": "1.2.0",
            "bar_color": null,
            "_model_module": "@jupyter-widgets/controls"
          }
        },
        "d098ddb5db554e39a46ae63685b75168": {
          "model_module": "@jupyter-widgets/base",
          "model_name": "LayoutModel",
          "model_module_version": "1.2.0",
          "state": {
            "_view_name": "LayoutView",
            "grid_template_rows": null,
            "right": null,
            "justify_content": null,
            "_view_module": "@jupyter-widgets/base",
            "overflow": null,
            "_model_module_version": "1.2.0",
            "_view_count": null,
            "flex_flow": null,
            "width": "20px",
            "min_width": null,
            "border": null,
            "align_items": null,
            "bottom": null,
            "_model_module": "@jupyter-widgets/base",
            "top": null,
            "grid_column": null,
            "overflow_y": null,
            "overflow_x": null,
            "grid_auto_flow": null,
            "grid_area": null,
            "grid_template_columns": null,
            "flex": null,
            "_model_name": "LayoutModel",
            "justify_items": null,
            "grid_row": null,
            "max_height": null,
            "align_content": null,
            "visibility": null,
            "align_self": null,
            "height": null,
            "min_height": null,
            "padding": null,
            "grid_auto_rows": null,
            "grid_gap": null,
            "max_width": null,
            "order": null,
            "_view_module_version": "1.2.0",
            "grid_template_areas": null,
            "object_position": null,
            "object_fit": null,
            "grid_auto_columns": null,
            "margin": null,
            "display": null,
            "left": null
          }
        },
        "6c4c23e86f03486fba4299ec8a8e196e": {
          "model_module": "@jupyter-widgets/controls",
          "model_name": "DescriptionStyleModel",
          "model_module_version": "1.5.0",
          "state": {
            "_view_name": "StyleView",
            "_model_name": "DescriptionStyleModel",
            "description_width": "",
            "_view_module": "@jupyter-widgets/base",
            "_model_module_version": "1.5.0",
            "_view_count": null,
            "_view_module_version": "1.2.0",
            "_model_module": "@jupyter-widgets/controls"
          }
        },
        "6e7f13d785b240e6a4e9bb2f4e07dbd7": {
          "model_module": "@jupyter-widgets/base",
          "model_name": "LayoutModel",
          "model_module_version": "1.2.0",
          "state": {
            "_view_name": "LayoutView",
            "grid_template_rows": null,
            "right": null,
            "justify_content": null,
            "_view_module": "@jupyter-widgets/base",
            "overflow": null,
            "_model_module_version": "1.2.0",
            "_view_count": null,
            "flex_flow": null,
            "width": null,
            "min_width": null,
            "border": null,
            "align_items": null,
            "bottom": null,
            "_model_module": "@jupyter-widgets/base",
            "top": null,
            "grid_column": null,
            "overflow_y": null,
            "overflow_x": null,
            "grid_auto_flow": null,
            "grid_area": null,
            "grid_template_columns": null,
            "flex": null,
            "_model_name": "LayoutModel",
            "justify_items": null,
            "grid_row": null,
            "max_height": null,
            "align_content": null,
            "visibility": null,
            "align_self": null,
            "height": null,
            "min_height": null,
            "padding": null,
            "grid_auto_rows": null,
            "grid_gap": null,
            "max_width": null,
            "order": null,
            "_view_module_version": "1.2.0",
            "grid_template_areas": null,
            "object_position": null,
            "object_fit": null,
            "grid_auto_columns": null,
            "margin": null,
            "display": null,
            "left": null
          }
        },
        "23a1f6ae5432449f801880da1d7599cc": {
          "model_module": "@jupyter-widgets/controls",
          "model_name": "HBoxModel",
          "model_module_version": "1.5.0",
          "state": {
            "_view_name": "HBoxView",
            "_dom_classes": [],
            "_model_name": "HBoxModel",
            "_view_module": "@jupyter-widgets/controls",
            "_model_module_version": "1.5.0",
            "_view_count": null,
            "_view_module_version": "1.5.0",
            "box_style": "",
            "layout": "IPY_MODEL_bbb49b83cb0e4f2bbf305356aaeb6112",
            "_model_module": "@jupyter-widgets/controls",
            "children": [
              "IPY_MODEL_aba723eafb184218840442cda58134ac",
              "IPY_MODEL_d4a09b0811654d1899371fb7ac6612a7",
              "IPY_MODEL_3c2694aa3f2b4249b1620e47d885a2e9"
            ]
          }
        },
        "bbb49b83cb0e4f2bbf305356aaeb6112": {
          "model_module": "@jupyter-widgets/base",
          "model_name": "LayoutModel",
          "model_module_version": "1.2.0",
          "state": {
            "_view_name": "LayoutView",
            "grid_template_rows": null,
            "right": null,
            "justify_content": null,
            "_view_module": "@jupyter-widgets/base",
            "overflow": null,
            "_model_module_version": "1.2.0",
            "_view_count": null,
            "flex_flow": null,
            "width": null,
            "min_width": null,
            "border": null,
            "align_items": null,
            "bottom": null,
            "_model_module": "@jupyter-widgets/base",
            "top": null,
            "grid_column": null,
            "overflow_y": null,
            "overflow_x": null,
            "grid_auto_flow": null,
            "grid_area": null,
            "grid_template_columns": null,
            "flex": null,
            "_model_name": "LayoutModel",
            "justify_items": null,
            "grid_row": null,
            "max_height": null,
            "align_content": null,
            "visibility": null,
            "align_self": null,
            "height": null,
            "min_height": null,
            "padding": null,
            "grid_auto_rows": null,
            "grid_gap": null,
            "max_width": null,
            "order": null,
            "_view_module_version": "1.2.0",
            "grid_template_areas": null,
            "object_position": null,
            "object_fit": null,
            "grid_auto_columns": null,
            "margin": null,
            "display": null,
            "left": null
          }
        },
        "aba723eafb184218840442cda58134ac": {
          "model_module": "@jupyter-widgets/controls",
          "model_name": "HTMLModel",
          "model_module_version": "1.5.0",
          "state": {
            "_view_name": "HTMLView",
            "style": "IPY_MODEL_92b385d968ce4047ae6a2962396ce5ec",
            "_dom_classes": [],
            "description": "",
            "_model_name": "HTMLModel",
            "placeholder": "​",
            "_view_module": "@jupyter-widgets/controls",
            "_model_module_version": "1.5.0",
            "value": "Dl Size...: 100%",
            "_view_count": null,
            "_view_module_version": "1.5.0",
            "description_tooltip": null,
            "_model_module": "@jupyter-widgets/controls",
            "layout": "IPY_MODEL_48f430d913f0414fa726e5002f52bc5f"
          }
        },
        "d4a09b0811654d1899371fb7ac6612a7": {
          "model_module": "@jupyter-widgets/controls",
          "model_name": "FloatProgressModel",
          "model_module_version": "1.5.0",
          "state": {
            "_view_name": "ProgressView",
            "style": "IPY_MODEL_ec769b45ae364335b25b7ebd41dce2a1",
            "_dom_classes": [],
            "description": "",
            "_model_name": "FloatProgressModel",
            "bar_style": "success",
            "max": 1,
            "_view_module": "@jupyter-widgets/controls",
            "_model_module_version": "1.5.0",
            "value": 1,
            "_view_count": null,
            "_view_module_version": "1.5.0",
            "orientation": "horizontal",
            "min": 0,
            "description_tooltip": null,
            "_model_module": "@jupyter-widgets/controls",
            "layout": "IPY_MODEL_5faa7ce107a0435a98ada455d5925e29"
          }
        },
        "3c2694aa3f2b4249b1620e47d885a2e9": {
          "model_module": "@jupyter-widgets/controls",
          "model_name": "HTMLModel",
          "model_module_version": "1.5.0",
          "state": {
            "_view_name": "HTMLView",
            "style": "IPY_MODEL_4534a88c6c0444c8b268e945885e4eb8",
            "_dom_classes": [],
            "description": "",
            "_model_name": "HTMLModel",
            "placeholder": "​",
            "_view_module": "@jupyter-widgets/controls",
            "_model_module_version": "1.5.0",
            "value": " 4764/4764 [05:27&lt;00:00, 24.17 MiB/s]",
            "_view_count": null,
            "_view_module_version": "1.5.0",
            "description_tooltip": null,
            "_model_module": "@jupyter-widgets/controls",
            "layout": "IPY_MODEL_62913885511e41f5919087eb7097b9f0"
          }
        },
        "92b385d968ce4047ae6a2962396ce5ec": {
          "model_module": "@jupyter-widgets/controls",
          "model_name": "DescriptionStyleModel",
          "model_module_version": "1.5.0",
          "state": {
            "_view_name": "StyleView",
            "_model_name": "DescriptionStyleModel",
            "description_width": "",
            "_view_module": "@jupyter-widgets/base",
            "_model_module_version": "1.5.0",
            "_view_count": null,
            "_view_module_version": "1.2.0",
            "_model_module": "@jupyter-widgets/controls"
          }
        },
        "48f430d913f0414fa726e5002f52bc5f": {
          "model_module": "@jupyter-widgets/base",
          "model_name": "LayoutModel",
          "model_module_version": "1.2.0",
          "state": {
            "_view_name": "LayoutView",
            "grid_template_rows": null,
            "right": null,
            "justify_content": null,
            "_view_module": "@jupyter-widgets/base",
            "overflow": null,
            "_model_module_version": "1.2.0",
            "_view_count": null,
            "flex_flow": null,
            "width": null,
            "min_width": null,
            "border": null,
            "align_items": null,
            "bottom": null,
            "_model_module": "@jupyter-widgets/base",
            "top": null,
            "grid_column": null,
            "overflow_y": null,
            "overflow_x": null,
            "grid_auto_flow": null,
            "grid_area": null,
            "grid_template_columns": null,
            "flex": null,
            "_model_name": "LayoutModel",
            "justify_items": null,
            "grid_row": null,
            "max_height": null,
            "align_content": null,
            "visibility": null,
            "align_self": null,
            "height": null,
            "min_height": null,
            "padding": null,
            "grid_auto_rows": null,
            "grid_gap": null,
            "max_width": null,
            "order": null,
            "_view_module_version": "1.2.0",
            "grid_template_areas": null,
            "object_position": null,
            "object_fit": null,
            "grid_auto_columns": null,
            "margin": null,
            "display": null,
            "left": null
          }
        },
        "ec769b45ae364335b25b7ebd41dce2a1": {
          "model_module": "@jupyter-widgets/controls",
          "model_name": "ProgressStyleModel",
          "model_module_version": "1.5.0",
          "state": {
            "_view_name": "StyleView",
            "_model_name": "ProgressStyleModel",
            "description_width": "",
            "_view_module": "@jupyter-widgets/base",
            "_model_module_version": "1.5.0",
            "_view_count": null,
            "_view_module_version": "1.2.0",
            "bar_color": null,
            "_model_module": "@jupyter-widgets/controls"
          }
        },
        "5faa7ce107a0435a98ada455d5925e29": {
          "model_module": "@jupyter-widgets/base",
          "model_name": "LayoutModel",
          "model_module_version": "1.2.0",
          "state": {
            "_view_name": "LayoutView",
            "grid_template_rows": null,
            "right": null,
            "justify_content": null,
            "_view_module": "@jupyter-widgets/base",
            "overflow": null,
            "_model_module_version": "1.2.0",
            "_view_count": null,
            "flex_flow": null,
            "width": "20px",
            "min_width": null,
            "border": null,
            "align_items": null,
            "bottom": null,
            "_model_module": "@jupyter-widgets/base",
            "top": null,
            "grid_column": null,
            "overflow_y": null,
            "overflow_x": null,
            "grid_auto_flow": null,
            "grid_area": null,
            "grid_template_columns": null,
            "flex": null,
            "_model_name": "LayoutModel",
            "justify_items": null,
            "grid_row": null,
            "max_height": null,
            "align_content": null,
            "visibility": null,
            "align_self": null,
            "height": null,
            "min_height": null,
            "padding": null,
            "grid_auto_rows": null,
            "grid_gap": null,
            "max_width": null,
            "order": null,
            "_view_module_version": "1.2.0",
            "grid_template_areas": null,
            "object_position": null,
            "object_fit": null,
            "grid_auto_columns": null,
            "margin": null,
            "display": null,
            "left": null
          }
        },
        "4534a88c6c0444c8b268e945885e4eb8": {
          "model_module": "@jupyter-widgets/controls",
          "model_name": "DescriptionStyleModel",
          "model_module_version": "1.5.0",
          "state": {
            "_view_name": "StyleView",
            "_model_name": "DescriptionStyleModel",
            "description_width": "",
            "_view_module": "@jupyter-widgets/base",
            "_model_module_version": "1.5.0",
            "_view_count": null,
            "_view_module_version": "1.2.0",
            "_model_module": "@jupyter-widgets/controls"
          }
        },
        "62913885511e41f5919087eb7097b9f0": {
          "model_module": "@jupyter-widgets/base",
          "model_name": "LayoutModel",
          "model_module_version": "1.2.0",
          "state": {
            "_view_name": "LayoutView",
            "grid_template_rows": null,
            "right": null,
            "justify_content": null,
            "_view_module": "@jupyter-widgets/base",
            "overflow": null,
            "_model_module_version": "1.2.0",
            "_view_count": null,
            "flex_flow": null,
            "width": null,
            "min_width": null,
            "border": null,
            "align_items": null,
            "bottom": null,
            "_model_module": "@jupyter-widgets/base",
            "top": null,
            "grid_column": null,
            "overflow_y": null,
            "overflow_x": null,
            "grid_auto_flow": null,
            "grid_area": null,
            "grid_template_columns": null,
            "flex": null,
            "_model_name": "LayoutModel",
            "justify_items": null,
            "grid_row": null,
            "max_height": null,
            "align_content": null,
            "visibility": null,
            "align_self": null,
            "height": null,
            "min_height": null,
            "padding": null,
            "grid_auto_rows": null,
            "grid_gap": null,
            "max_width": null,
            "order": null,
            "_view_module_version": "1.2.0",
            "grid_template_areas": null,
            "object_position": null,
            "object_fit": null,
            "grid_auto_columns": null,
            "margin": null,
            "display": null,
            "left": null
          }
        },
        "244f7241242e40de82977d7c0100f55c": {
          "model_module": "@jupyter-widgets/controls",
          "model_name": "HBoxModel",
          "model_module_version": "1.5.0",
          "state": {
            "_view_name": "HBoxView",
            "_dom_classes": [],
            "_model_name": "HBoxModel",
            "_view_module": "@jupyter-widgets/controls",
            "_model_module_version": "1.5.0",
            "_view_count": null,
            "_view_module_version": "1.5.0",
            "box_style": "",
            "layout": "IPY_MODEL_9d1d6a7be62b422e91c14967a112fd50",
            "_model_module": "@jupyter-widgets/controls",
            "children": [
              "IPY_MODEL_64c957430f934621a9a5ecc71c9f231e",
              "IPY_MODEL_58f9a2c1e3b5406bb8ea72adb2e2e26e",
              "IPY_MODEL_8a959feca0624f4bae0ef35dc3c7385c"
            ]
          }
        },
        "9d1d6a7be62b422e91c14967a112fd50": {
          "model_module": "@jupyter-widgets/base",
          "model_name": "LayoutModel",
          "model_module_version": "1.2.0",
          "state": {
            "_view_name": "LayoutView",
            "grid_template_rows": null,
            "right": null,
            "justify_content": null,
            "_view_module": "@jupyter-widgets/base",
            "overflow": null,
            "_model_module_version": "1.2.0",
            "_view_count": null,
            "flex_flow": null,
            "width": null,
            "min_width": null,
            "border": null,
            "align_items": null,
            "bottom": null,
            "_model_module": "@jupyter-widgets/base",
            "top": null,
            "grid_column": null,
            "overflow_y": null,
            "overflow_x": null,
            "grid_auto_flow": null,
            "grid_area": null,
            "grid_template_columns": null,
            "flex": null,
            "_model_name": "LayoutModel",
            "justify_items": null,
            "grid_row": null,
            "max_height": null,
            "align_content": null,
            "visibility": null,
            "align_self": null,
            "height": null,
            "min_height": null,
            "padding": null,
            "grid_auto_rows": null,
            "grid_gap": null,
            "max_width": null,
            "order": null,
            "_view_module_version": "1.2.0",
            "grid_template_areas": null,
            "object_position": null,
            "object_fit": null,
            "grid_auto_columns": null,
            "margin": null,
            "display": null,
            "left": null
          }
        },
        "64c957430f934621a9a5ecc71c9f231e": {
          "model_module": "@jupyter-widgets/controls",
          "model_name": "HTMLModel",
          "model_module_version": "1.5.0",
          "state": {
            "_view_name": "HTMLView",
            "style": "IPY_MODEL_dd21dccd1bd444c3a9a14dfcc1d79040",
            "_dom_classes": [],
            "description": "",
            "_model_name": "HTMLModel",
            "placeholder": "​",
            "_view_module": "@jupyter-widgets/controls",
            "_model_module_version": "1.5.0",
            "value": "Extraction completed...: 100%",
            "_view_count": null,
            "_view_module_version": "1.5.0",
            "description_tooltip": null,
            "_model_module": "@jupyter-widgets/controls",
            "layout": "IPY_MODEL_12e660e300d04530a11c69e5cd3349d9"
          }
        },
        "58f9a2c1e3b5406bb8ea72adb2e2e26e": {
          "model_module": "@jupyter-widgets/controls",
          "model_name": "FloatProgressModel",
          "model_module_version": "1.5.0",
          "state": {
            "_view_name": "ProgressView",
            "style": "IPY_MODEL_afd92666880c49c5adbeaf6ef0f2221a",
            "_dom_classes": [],
            "description": "",
            "_model_name": "FloatProgressModel",
            "bar_style": "success",
            "max": 1,
            "_view_module": "@jupyter-widgets/controls",
            "_model_module_version": "1.5.0",
            "value": 1,
            "_view_count": null,
            "_view_module_version": "1.5.0",
            "orientation": "horizontal",
            "min": 0,
            "description_tooltip": null,
            "_model_module": "@jupyter-widgets/controls",
            "layout": "IPY_MODEL_6be94e36394e489385b9d820917df508"
          }
        },
        "8a959feca0624f4bae0ef35dc3c7385c": {
          "model_module": "@jupyter-widgets/controls",
          "model_name": "HTMLModel",
          "model_module_version": "1.5.0",
          "state": {
            "_view_name": "HTMLView",
            "style": "IPY_MODEL_d535be80abb44218aeedb7b99a04b5e0",
            "_dom_classes": [],
            "description": "",
            "_model_name": "HTMLModel",
            "placeholder": "​",
            "_view_module": "@jupyter-widgets/controls",
            "_model_module_version": "1.5.0",
            "value": " 1/1 [05:27&lt;00:00, 327.03s/ file]",
            "_view_count": null,
            "_view_module_version": "1.5.0",
            "description_tooltip": null,
            "_model_module": "@jupyter-widgets/controls",
            "layout": "IPY_MODEL_2929bd19aa324182982d816b1bcda9f1"
          }
        },
        "dd21dccd1bd444c3a9a14dfcc1d79040": {
          "model_module": "@jupyter-widgets/controls",
          "model_name": "DescriptionStyleModel",
          "model_module_version": "1.5.0",
          "state": {
            "_view_name": "StyleView",
            "_model_name": "DescriptionStyleModel",
            "description_width": "",
            "_view_module": "@jupyter-widgets/base",
            "_model_module_version": "1.5.0",
            "_view_count": null,
            "_view_module_version": "1.2.0",
            "_model_module": "@jupyter-widgets/controls"
          }
        },
        "12e660e300d04530a11c69e5cd3349d9": {
          "model_module": "@jupyter-widgets/base",
          "model_name": "LayoutModel",
          "model_module_version": "1.2.0",
          "state": {
            "_view_name": "LayoutView",
            "grid_template_rows": null,
            "right": null,
            "justify_content": null,
            "_view_module": "@jupyter-widgets/base",
            "overflow": null,
            "_model_module_version": "1.2.0",
            "_view_count": null,
            "flex_flow": null,
            "width": null,
            "min_width": null,
            "border": null,
            "align_items": null,
            "bottom": null,
            "_model_module": "@jupyter-widgets/base",
            "top": null,
            "grid_column": null,
            "overflow_y": null,
            "overflow_x": null,
            "grid_auto_flow": null,
            "grid_area": null,
            "grid_template_columns": null,
            "flex": null,
            "_model_name": "LayoutModel",
            "justify_items": null,
            "grid_row": null,
            "max_height": null,
            "align_content": null,
            "visibility": null,
            "align_self": null,
            "height": null,
            "min_height": null,
            "padding": null,
            "grid_auto_rows": null,
            "grid_gap": null,
            "max_width": null,
            "order": null,
            "_view_module_version": "1.2.0",
            "grid_template_areas": null,
            "object_position": null,
            "object_fit": null,
            "grid_auto_columns": null,
            "margin": null,
            "display": null,
            "left": null
          }
        },
        "afd92666880c49c5adbeaf6ef0f2221a": {
          "model_module": "@jupyter-widgets/controls",
          "model_name": "ProgressStyleModel",
          "model_module_version": "1.5.0",
          "state": {
            "_view_name": "StyleView",
            "_model_name": "ProgressStyleModel",
            "description_width": "",
            "_view_module": "@jupyter-widgets/base",
            "_model_module_version": "1.5.0",
            "_view_count": null,
            "_view_module_version": "1.2.0",
            "bar_color": null,
            "_model_module": "@jupyter-widgets/controls"
          }
        },
        "6be94e36394e489385b9d820917df508": {
          "model_module": "@jupyter-widgets/base",
          "model_name": "LayoutModel",
          "model_module_version": "1.2.0",
          "state": {
            "_view_name": "LayoutView",
            "grid_template_rows": null,
            "right": null,
            "justify_content": null,
            "_view_module": "@jupyter-widgets/base",
            "overflow": null,
            "_model_module_version": "1.2.0",
            "_view_count": null,
            "flex_flow": null,
            "width": "20px",
            "min_width": null,
            "border": null,
            "align_items": null,
            "bottom": null,
            "_model_module": "@jupyter-widgets/base",
            "top": null,
            "grid_column": null,
            "overflow_y": null,
            "overflow_x": null,
            "grid_auto_flow": null,
            "grid_area": null,
            "grid_template_columns": null,
            "flex": null,
            "_model_name": "LayoutModel",
            "justify_items": null,
            "grid_row": null,
            "max_height": null,
            "align_content": null,
            "visibility": null,
            "align_self": null,
            "height": null,
            "min_height": null,
            "padding": null,
            "grid_auto_rows": null,
            "grid_gap": null,
            "max_width": null,
            "order": null,
            "_view_module_version": "1.2.0",
            "grid_template_areas": null,
            "object_position": null,
            "object_fit": null,
            "grid_auto_columns": null,
            "margin": null,
            "display": null,
            "left": null
          }
        },
        "d535be80abb44218aeedb7b99a04b5e0": {
          "model_module": "@jupyter-widgets/controls",
          "model_name": "DescriptionStyleModel",
          "model_module_version": "1.5.0",
          "state": {
            "_view_name": "StyleView",
            "_model_name": "DescriptionStyleModel",
            "description_width": "",
            "_view_module": "@jupyter-widgets/base",
            "_model_module_version": "1.5.0",
            "_view_count": null,
            "_view_module_version": "1.2.0",
            "_model_module": "@jupyter-widgets/controls"
          }
        },
        "2929bd19aa324182982d816b1bcda9f1": {
          "model_module": "@jupyter-widgets/base",
          "model_name": "LayoutModel",
          "model_module_version": "1.2.0",
          "state": {
            "_view_name": "LayoutView",
            "grid_template_rows": null,
            "right": null,
            "justify_content": null,
            "_view_module": "@jupyter-widgets/base",
            "overflow": null,
            "_model_module_version": "1.2.0",
            "_view_count": null,
            "flex_flow": null,
            "width": null,
            "min_width": null,
            "border": null,
            "align_items": null,
            "bottom": null,
            "_model_module": "@jupyter-widgets/base",
            "top": null,
            "grid_column": null,
            "overflow_y": null,
            "overflow_x": null,
            "grid_auto_flow": null,
            "grid_area": null,
            "grid_template_columns": null,
            "flex": null,
            "_model_name": "LayoutModel",
            "justify_items": null,
            "grid_row": null,
            "max_height": null,
            "align_content": null,
            "visibility": null,
            "align_self": null,
            "height": null,
            "min_height": null,
            "padding": null,
            "grid_auto_rows": null,
            "grid_gap": null,
            "max_width": null,
            "order": null,
            "_view_module_version": "1.2.0",
            "grid_template_areas": null,
            "object_position": null,
            "object_fit": null,
            "grid_auto_columns": null,
            "margin": null,
            "display": null,
            "left": null
          }
        },
        "87ae8cf0cc1047f29896b56397b3c5d7": {
          "model_module": "@jupyter-widgets/controls",
          "model_name": "HBoxModel",
          "model_module_version": "1.5.0",
          "state": {
            "_view_name": "HBoxView",
            "_dom_classes": [],
            "_model_name": "HBoxModel",
            "_view_module": "@jupyter-widgets/controls",
            "_model_module_version": "1.5.0",
            "_view_count": null,
            "_view_module_version": "1.5.0",
            "box_style": "",
            "layout": "IPY_MODEL_d8be680d6d2a4f0fa4b297ea357dd448",
            "_model_module": "@jupyter-widgets/controls",
            "children": [
              "IPY_MODEL_64252047380e42e6891b6570918190b8",
              "IPY_MODEL_a4a436ae74af45478d4f26b10349f7c5",
              "IPY_MODEL_9c54761d4a1341458ad8a381df8a68ce"
            ]
          }
        },
        "d8be680d6d2a4f0fa4b297ea357dd448": {
          "model_module": "@jupyter-widgets/base",
          "model_name": "LayoutModel",
          "model_module_version": "1.2.0",
          "state": {
            "_view_name": "LayoutView",
            "grid_template_rows": null,
            "right": null,
            "justify_content": null,
            "_view_module": "@jupyter-widgets/base",
            "overflow": null,
            "_model_module_version": "1.2.0",
            "_view_count": null,
            "flex_flow": null,
            "width": null,
            "min_width": null,
            "border": null,
            "align_items": null,
            "bottom": null,
            "_model_module": "@jupyter-widgets/base",
            "top": null,
            "grid_column": null,
            "overflow_y": null,
            "overflow_x": null,
            "grid_auto_flow": null,
            "grid_area": null,
            "grid_template_columns": null,
            "flex": null,
            "_model_name": "LayoutModel",
            "justify_items": null,
            "grid_row": null,
            "max_height": null,
            "align_content": null,
            "visibility": null,
            "align_self": null,
            "height": null,
            "min_height": null,
            "padding": null,
            "grid_auto_rows": null,
            "grid_gap": null,
            "max_width": null,
            "order": null,
            "_view_module_version": "1.2.0",
            "grid_template_areas": null,
            "object_position": null,
            "object_fit": null,
            "grid_auto_columns": null,
            "margin": null,
            "display": null,
            "left": null
          }
        },
        "64252047380e42e6891b6570918190b8": {
          "model_module": "@jupyter-widgets/controls",
          "model_name": "HTMLModel",
          "model_module_version": "1.5.0",
          "state": {
            "_view_name": "HTMLView",
            "style": "IPY_MODEL_f70a9d6aa6134d8db3a5f93ed8976f9f",
            "_dom_classes": [],
            "description": "",
            "_model_name": "HTMLModel",
            "placeholder": "​",
            "_view_module": "@jupyter-widgets/controls",
            "_model_module_version": "1.5.0",
            "value": "",
            "_view_count": null,
            "_view_module_version": "1.5.0",
            "description_tooltip": null,
            "_model_module": "@jupyter-widgets/controls",
            "layout": "IPY_MODEL_4ecc39cb362540d7a030b80dbd148eb6"
          }
        },
        "a4a436ae74af45478d4f26b10349f7c5": {
          "model_module": "@jupyter-widgets/controls",
          "model_name": "FloatProgressModel",
          "model_module_version": "1.5.0",
          "state": {
            "_view_name": "ProgressView",
            "style": "IPY_MODEL_ffe6a7070e8046beb6784508d1471e6a",
            "_dom_classes": [],
            "description": "",
            "_model_name": "FloatProgressModel",
            "bar_style": "info",
            "max": 1,
            "_view_module": "@jupyter-widgets/controls",
            "_model_module_version": "1.5.0",
            "value": 1,
            "_view_count": null,
            "_view_module_version": "1.5.0",
            "orientation": "horizontal",
            "min": 0,
            "description_tooltip": null,
            "_model_module": "@jupyter-widgets/controls",
            "layout": "IPY_MODEL_d25893f06e7d4ff2ae2844e62553c1a1"
          }
        },
        "9c54761d4a1341458ad8a381df8a68ce": {
          "model_module": "@jupyter-widgets/controls",
          "model_name": "HTMLModel",
          "model_module_version": "1.5.0",
          "state": {
            "_view_name": "HTMLView",
            "style": "IPY_MODEL_67cfeb82ba0a40afaf22d58ae3eb39fa",
            "_dom_classes": [],
            "description": "",
            "_model_name": "HTMLModel",
            "placeholder": "​",
            "_view_module": "@jupyter-widgets/controls",
            "_model_module_version": "1.5.0",
            "value": " 75706/0 [02:16&lt;00:00, 609.47 examples/s]",
            "_view_count": null,
            "_view_module_version": "1.5.0",
            "description_tooltip": null,
            "_model_module": "@jupyter-widgets/controls",
            "layout": "IPY_MODEL_91cf4225f40b45e38d0a3c8cc9e83aee"
          }
        },
        "f70a9d6aa6134d8db3a5f93ed8976f9f": {
          "model_module": "@jupyter-widgets/controls",
          "model_name": "DescriptionStyleModel",
          "model_module_version": "1.5.0",
          "state": {
            "_view_name": "StyleView",
            "_model_name": "DescriptionStyleModel",
            "description_width": "",
            "_view_module": "@jupyter-widgets/base",
            "_model_module_version": "1.5.0",
            "_view_count": null,
            "_view_module_version": "1.2.0",
            "_model_module": "@jupyter-widgets/controls"
          }
        },
        "4ecc39cb362540d7a030b80dbd148eb6": {
          "model_module": "@jupyter-widgets/base",
          "model_name": "LayoutModel",
          "model_module_version": "1.2.0",
          "state": {
            "_view_name": "LayoutView",
            "grid_template_rows": null,
            "right": null,
            "justify_content": null,
            "_view_module": "@jupyter-widgets/base",
            "overflow": null,
            "_model_module_version": "1.2.0",
            "_view_count": null,
            "flex_flow": null,
            "width": null,
            "min_width": null,
            "border": null,
            "align_items": null,
            "bottom": null,
            "_model_module": "@jupyter-widgets/base",
            "top": null,
            "grid_column": null,
            "overflow_y": null,
            "overflow_x": null,
            "grid_auto_flow": null,
            "grid_area": null,
            "grid_template_columns": null,
            "flex": null,
            "_model_name": "LayoutModel",
            "justify_items": null,
            "grid_row": null,
            "max_height": null,
            "align_content": null,
            "visibility": null,
            "align_self": null,
            "height": null,
            "min_height": null,
            "padding": null,
            "grid_auto_rows": null,
            "grid_gap": null,
            "max_width": null,
            "order": null,
            "_view_module_version": "1.2.0",
            "grid_template_areas": null,
            "object_position": null,
            "object_fit": null,
            "grid_auto_columns": null,
            "margin": null,
            "display": null,
            "left": null
          }
        },
        "ffe6a7070e8046beb6784508d1471e6a": {
          "model_module": "@jupyter-widgets/controls",
          "model_name": "ProgressStyleModel",
          "model_module_version": "1.5.0",
          "state": {
            "_view_name": "StyleView",
            "_model_name": "ProgressStyleModel",
            "description_width": "",
            "_view_module": "@jupyter-widgets/base",
            "_model_module_version": "1.5.0",
            "_view_count": null,
            "_view_module_version": "1.2.0",
            "bar_color": null,
            "_model_module": "@jupyter-widgets/controls"
          }
        },
        "d25893f06e7d4ff2ae2844e62553c1a1": {
          "model_module": "@jupyter-widgets/base",
          "model_name": "LayoutModel",
          "model_module_version": "1.2.0",
          "state": {
            "_view_name": "LayoutView",
            "grid_template_rows": null,
            "right": null,
            "justify_content": null,
            "_view_module": "@jupyter-widgets/base",
            "overflow": null,
            "_model_module_version": "1.2.0",
            "_view_count": null,
            "flex_flow": null,
            "width": "20px",
            "min_width": null,
            "border": null,
            "align_items": null,
            "bottom": null,
            "_model_module": "@jupyter-widgets/base",
            "top": null,
            "grid_column": null,
            "overflow_y": null,
            "overflow_x": null,
            "grid_auto_flow": null,
            "grid_area": null,
            "grid_template_columns": null,
            "flex": null,
            "_model_name": "LayoutModel",
            "justify_items": null,
            "grid_row": null,
            "max_height": null,
            "align_content": null,
            "visibility": null,
            "align_self": null,
            "height": null,
            "min_height": null,
            "padding": null,
            "grid_auto_rows": null,
            "grid_gap": null,
            "max_width": null,
            "order": null,
            "_view_module_version": "1.2.0",
            "grid_template_areas": null,
            "object_position": null,
            "object_fit": null,
            "grid_auto_columns": null,
            "margin": null,
            "display": null,
            "left": null
          }
        },
        "67cfeb82ba0a40afaf22d58ae3eb39fa": {
          "model_module": "@jupyter-widgets/controls",
          "model_name": "DescriptionStyleModel",
          "model_module_version": "1.5.0",
          "state": {
            "_view_name": "StyleView",
            "_model_name": "DescriptionStyleModel",
            "description_width": "",
            "_view_module": "@jupyter-widgets/base",
            "_model_module_version": "1.5.0",
            "_view_count": null,
            "_view_module_version": "1.2.0",
            "_model_module": "@jupyter-widgets/controls"
          }
        },
        "91cf4225f40b45e38d0a3c8cc9e83aee": {
          "model_module": "@jupyter-widgets/base",
          "model_name": "LayoutModel",
          "model_module_version": "1.2.0",
          "state": {
            "_view_name": "LayoutView",
            "grid_template_rows": null,
            "right": null,
            "justify_content": null,
            "_view_module": "@jupyter-widgets/base",
            "overflow": null,
            "_model_module_version": "1.2.0",
            "_view_count": null,
            "flex_flow": null,
            "width": null,
            "min_width": null,
            "border": null,
            "align_items": null,
            "bottom": null,
            "_model_module": "@jupyter-widgets/base",
            "top": null,
            "grid_column": null,
            "overflow_y": null,
            "overflow_x": null,
            "grid_auto_flow": null,
            "grid_area": null,
            "grid_template_columns": null,
            "flex": null,
            "_model_name": "LayoutModel",
            "justify_items": null,
            "grid_row": null,
            "max_height": null,
            "align_content": null,
            "visibility": null,
            "align_self": null,
            "height": null,
            "min_height": null,
            "padding": null,
            "grid_auto_rows": null,
            "grid_gap": null,
            "max_width": null,
            "order": null,
            "_view_module_version": "1.2.0",
            "grid_template_areas": null,
            "object_position": null,
            "object_fit": null,
            "grid_auto_columns": null,
            "margin": null,
            "display": null,
            "left": null
          }
        },
        "44a68ef0a90d400d8b12b1c57e5382cb": {
          "model_module": "@jupyter-widgets/controls",
          "model_name": "HBoxModel",
          "model_module_version": "1.5.0",
          "state": {
            "_view_name": "HBoxView",
            "_dom_classes": [],
            "_model_name": "HBoxModel",
            "_view_module": "@jupyter-widgets/controls",
            "_model_module_version": "1.5.0",
            "_view_count": null,
            "_view_module_version": "1.5.0",
            "box_style": "",
            "layout": "IPY_MODEL_13852de859384079a86cd0586643c8f1",
            "_model_module": "@jupyter-widgets/controls",
            "children": [
              "IPY_MODEL_211315dde99049e2a2492fd3f24db389",
              "IPY_MODEL_704bca906631464daabd790b69e6b396",
              "IPY_MODEL_8f8a1946b2dc4c549027826fd9cacee7"
            ]
          }
        },
        "13852de859384079a86cd0586643c8f1": {
          "model_module": "@jupyter-widgets/base",
          "model_name": "LayoutModel",
          "model_module_version": "1.2.0",
          "state": {
            "_view_name": "LayoutView",
            "grid_template_rows": null,
            "right": null,
            "justify_content": null,
            "_view_module": "@jupyter-widgets/base",
            "overflow": null,
            "_model_module_version": "1.2.0",
            "_view_count": null,
            "flex_flow": null,
            "width": null,
            "min_width": null,
            "border": null,
            "align_items": null,
            "bottom": null,
            "_model_module": "@jupyter-widgets/base",
            "top": null,
            "grid_column": null,
            "overflow_y": null,
            "overflow_x": null,
            "grid_auto_flow": null,
            "grid_area": null,
            "grid_template_columns": null,
            "flex": null,
            "_model_name": "LayoutModel",
            "justify_items": null,
            "grid_row": null,
            "max_height": null,
            "align_content": null,
            "visibility": null,
            "align_self": null,
            "height": null,
            "min_height": null,
            "padding": null,
            "grid_auto_rows": null,
            "grid_gap": null,
            "max_width": null,
            "order": null,
            "_view_module_version": "1.2.0",
            "grid_template_areas": null,
            "object_position": null,
            "object_fit": null,
            "grid_auto_columns": null,
            "margin": null,
            "display": null,
            "left": null
          }
        },
        "211315dde99049e2a2492fd3f24db389": {
          "model_module": "@jupyter-widgets/controls",
          "model_name": "HTMLModel",
          "model_module_version": "1.5.0",
          "state": {
            "_view_name": "HTMLView",
            "style": "IPY_MODEL_986932dd319b4489985921a46e8f2591",
            "_dom_classes": [],
            "description": "",
            "_model_name": "HTMLModel",
            "placeholder": "​",
            "_view_module": "@jupyter-widgets/controls",
            "_model_module_version": "1.5.0",
            "value": "100%",
            "_view_count": null,
            "_view_module_version": "1.5.0",
            "description_tooltip": null,
            "_model_module": "@jupyter-widgets/controls",
            "layout": "IPY_MODEL_c81eae8d0f024f5e92fb51d4afbc392a"
          }
        },
        "704bca906631464daabd790b69e6b396": {
          "model_module": "@jupyter-widgets/controls",
          "model_name": "FloatProgressModel",
          "model_module_version": "1.5.0",
          "state": {
            "_view_name": "ProgressView",
            "style": "IPY_MODEL_21dfcd86be524a7eacdf1b4d1bf4533a",
            "_dom_classes": [],
            "description": "",
            "_model_name": "FloatProgressModel",
            "bar_style": "danger",
            "max": 75750,
            "_view_module": "@jupyter-widgets/controls",
            "_model_module_version": "1.5.0",
            "value": 75749,
            "_view_count": null,
            "_view_module_version": "1.5.0",
            "orientation": "horizontal",
            "min": 0,
            "description_tooltip": null,
            "_model_module": "@jupyter-widgets/controls",
            "layout": "IPY_MODEL_2af41695d33f4d059a086189b846fc48"
          }
        },
        "8f8a1946b2dc4c549027826fd9cacee7": {
          "model_module": "@jupyter-widgets/controls",
          "model_name": "HTMLModel",
          "model_module_version": "1.5.0",
          "state": {
            "_view_name": "HTMLView",
            "style": "IPY_MODEL_a72c6076d3b5490da0c1dfdea649d4c6",
            "_dom_classes": [],
            "description": "",
            "_model_name": "HTMLModel",
            "placeholder": "​",
            "_view_module": "@jupyter-widgets/controls",
            "_model_module_version": "1.5.0",
            "value": " 75749/75750 [01:03&lt;00:00, 831.87 examples/s]",
            "_view_count": null,
            "_view_module_version": "1.5.0",
            "description_tooltip": null,
            "_model_module": "@jupyter-widgets/controls",
            "layout": "IPY_MODEL_8a554e3073464816b5b617414832a86c"
          }
        },
        "986932dd319b4489985921a46e8f2591": {
          "model_module": "@jupyter-widgets/controls",
          "model_name": "DescriptionStyleModel",
          "model_module_version": "1.5.0",
          "state": {
            "_view_name": "StyleView",
            "_model_name": "DescriptionStyleModel",
            "description_width": "",
            "_view_module": "@jupyter-widgets/base",
            "_model_module_version": "1.5.0",
            "_view_count": null,
            "_view_module_version": "1.2.0",
            "_model_module": "@jupyter-widgets/controls"
          }
        },
        "c81eae8d0f024f5e92fb51d4afbc392a": {
          "model_module": "@jupyter-widgets/base",
          "model_name": "LayoutModel",
          "model_module_version": "1.2.0",
          "state": {
            "_view_name": "LayoutView",
            "grid_template_rows": null,
            "right": null,
            "justify_content": null,
            "_view_module": "@jupyter-widgets/base",
            "overflow": null,
            "_model_module_version": "1.2.0",
            "_view_count": null,
            "flex_flow": null,
            "width": null,
            "min_width": null,
            "border": null,
            "align_items": null,
            "bottom": null,
            "_model_module": "@jupyter-widgets/base",
            "top": null,
            "grid_column": null,
            "overflow_y": null,
            "overflow_x": null,
            "grid_auto_flow": null,
            "grid_area": null,
            "grid_template_columns": null,
            "flex": null,
            "_model_name": "LayoutModel",
            "justify_items": null,
            "grid_row": null,
            "max_height": null,
            "align_content": null,
            "visibility": null,
            "align_self": null,
            "height": null,
            "min_height": null,
            "padding": null,
            "grid_auto_rows": null,
            "grid_gap": null,
            "max_width": null,
            "order": null,
            "_view_module_version": "1.2.0",
            "grid_template_areas": null,
            "object_position": null,
            "object_fit": null,
            "grid_auto_columns": null,
            "margin": null,
            "display": null,
            "left": null
          }
        },
        "21dfcd86be524a7eacdf1b4d1bf4533a": {
          "model_module": "@jupyter-widgets/controls",
          "model_name": "ProgressStyleModel",
          "model_module_version": "1.5.0",
          "state": {
            "_view_name": "StyleView",
            "_model_name": "ProgressStyleModel",
            "description_width": "",
            "_view_module": "@jupyter-widgets/base",
            "_model_module_version": "1.5.0",
            "_view_count": null,
            "_view_module_version": "1.2.0",
            "bar_color": null,
            "_model_module": "@jupyter-widgets/controls"
          }
        },
        "2af41695d33f4d059a086189b846fc48": {
          "model_module": "@jupyter-widgets/base",
          "model_name": "LayoutModel",
          "model_module_version": "1.2.0",
          "state": {
            "_view_name": "LayoutView",
            "grid_template_rows": null,
            "right": null,
            "justify_content": null,
            "_view_module": "@jupyter-widgets/base",
            "overflow": null,
            "_model_module_version": "1.2.0",
            "_view_count": null,
            "flex_flow": null,
            "width": null,
            "min_width": null,
            "border": null,
            "align_items": null,
            "bottom": null,
            "_model_module": "@jupyter-widgets/base",
            "top": null,
            "grid_column": null,
            "overflow_y": null,
            "overflow_x": null,
            "grid_auto_flow": null,
            "grid_area": null,
            "grid_template_columns": null,
            "flex": null,
            "_model_name": "LayoutModel",
            "justify_items": null,
            "grid_row": null,
            "max_height": null,
            "align_content": null,
            "visibility": null,
            "align_self": null,
            "height": null,
            "min_height": null,
            "padding": null,
            "grid_auto_rows": null,
            "grid_gap": null,
            "max_width": null,
            "order": null,
            "_view_module_version": "1.2.0",
            "grid_template_areas": null,
            "object_position": null,
            "object_fit": null,
            "grid_auto_columns": null,
            "margin": null,
            "display": null,
            "left": null
          }
        },
        "a72c6076d3b5490da0c1dfdea649d4c6": {
          "model_module": "@jupyter-widgets/controls",
          "model_name": "DescriptionStyleModel",
          "model_module_version": "1.5.0",
          "state": {
            "_view_name": "StyleView",
            "_model_name": "DescriptionStyleModel",
            "description_width": "",
            "_view_module": "@jupyter-widgets/base",
            "_model_module_version": "1.5.0",
            "_view_count": null,
            "_view_module_version": "1.2.0",
            "_model_module": "@jupyter-widgets/controls"
          }
        },
        "8a554e3073464816b5b617414832a86c": {
          "model_module": "@jupyter-widgets/base",
          "model_name": "LayoutModel",
          "model_module_version": "1.2.0",
          "state": {
            "_view_name": "LayoutView",
            "grid_template_rows": null,
            "right": null,
            "justify_content": null,
            "_view_module": "@jupyter-widgets/base",
            "overflow": null,
            "_model_module_version": "1.2.0",
            "_view_count": null,
            "flex_flow": null,
            "width": null,
            "min_width": null,
            "border": null,
            "align_items": null,
            "bottom": null,
            "_model_module": "@jupyter-widgets/base",
            "top": null,
            "grid_column": null,
            "overflow_y": null,
            "overflow_x": null,
            "grid_auto_flow": null,
            "grid_area": null,
            "grid_template_columns": null,
            "flex": null,
            "_model_name": "LayoutModel",
            "justify_items": null,
            "grid_row": null,
            "max_height": null,
            "align_content": null,
            "visibility": null,
            "align_self": null,
            "height": null,
            "min_height": null,
            "padding": null,
            "grid_auto_rows": null,
            "grid_gap": null,
            "max_width": null,
            "order": null,
            "_view_module_version": "1.2.0",
            "grid_template_areas": null,
            "object_position": null,
            "object_fit": null,
            "grid_auto_columns": null,
            "margin": null,
            "display": null,
            "left": null
          }
        },
        "2439b66a5bb84800869a67dc86a9d912": {
          "model_module": "@jupyter-widgets/controls",
          "model_name": "HBoxModel",
          "model_module_version": "1.5.0",
          "state": {
            "_view_name": "HBoxView",
            "_dom_classes": [],
            "_model_name": "HBoxModel",
            "_view_module": "@jupyter-widgets/controls",
            "_model_module_version": "1.5.0",
            "_view_count": null,
            "_view_module_version": "1.5.0",
            "box_style": "",
            "layout": "IPY_MODEL_707a88930d3746fea767adca438fb15a",
            "_model_module": "@jupyter-widgets/controls",
            "children": [
              "IPY_MODEL_137b68b08a1247e78c5d2c05438da307",
              "IPY_MODEL_9640a4cd029746e0bb56c251b6792346",
              "IPY_MODEL_f4c9a3f6252c4f5a84643ae71c9aa2a2"
            ]
          }
        },
        "707a88930d3746fea767adca438fb15a": {
          "model_module": "@jupyter-widgets/base",
          "model_name": "LayoutModel",
          "model_module_version": "1.2.0",
          "state": {
            "_view_name": "LayoutView",
            "grid_template_rows": null,
            "right": null,
            "justify_content": null,
            "_view_module": "@jupyter-widgets/base",
            "overflow": null,
            "_model_module_version": "1.2.0",
            "_view_count": null,
            "flex_flow": null,
            "width": null,
            "min_width": null,
            "border": null,
            "align_items": null,
            "bottom": null,
            "_model_module": "@jupyter-widgets/base",
            "top": null,
            "grid_column": null,
            "overflow_y": null,
            "overflow_x": null,
            "grid_auto_flow": null,
            "grid_area": null,
            "grid_template_columns": null,
            "flex": null,
            "_model_name": "LayoutModel",
            "justify_items": null,
            "grid_row": null,
            "max_height": null,
            "align_content": null,
            "visibility": null,
            "align_self": null,
            "height": null,
            "min_height": null,
            "padding": null,
            "grid_auto_rows": null,
            "grid_gap": null,
            "max_width": null,
            "order": null,
            "_view_module_version": "1.2.0",
            "grid_template_areas": null,
            "object_position": null,
            "object_fit": null,
            "grid_auto_columns": null,
            "margin": null,
            "display": null,
            "left": null
          }
        },
        "137b68b08a1247e78c5d2c05438da307": {
          "model_module": "@jupyter-widgets/controls",
          "model_name": "HTMLModel",
          "model_module_version": "1.5.0",
          "state": {
            "_view_name": "HTMLView",
            "style": "IPY_MODEL_67b9fbe8141941bb8fe3986042b3bd5b",
            "_dom_classes": [],
            "description": "",
            "_model_name": "HTMLModel",
            "placeholder": "​",
            "_view_module": "@jupyter-widgets/controls",
            "_model_module_version": "1.5.0",
            "value": "",
            "_view_count": null,
            "_view_module_version": "1.5.0",
            "description_tooltip": null,
            "_model_module": "@jupyter-widgets/controls",
            "layout": "IPY_MODEL_25b904a282c34c5e9ca4f9a8939ba175"
          }
        },
        "9640a4cd029746e0bb56c251b6792346": {
          "model_module": "@jupyter-widgets/controls",
          "model_name": "FloatProgressModel",
          "model_module_version": "1.5.0",
          "state": {
            "_view_name": "ProgressView",
            "style": "IPY_MODEL_2a0b5abd26594d19a494e1037fa2c3c1",
            "_dom_classes": [],
            "description": "",
            "_model_name": "FloatProgressModel",
            "bar_style": "info",
            "max": 1,
            "_view_module": "@jupyter-widgets/controls",
            "_model_module_version": "1.5.0",
            "value": 1,
            "_view_count": null,
            "_view_module_version": "1.5.0",
            "orientation": "horizontal",
            "min": 0,
            "description_tooltip": null,
            "_model_module": "@jupyter-widgets/controls",
            "layout": "IPY_MODEL_db438e4a91734a8dbf0c0bfa47a11d7a"
          }
        },
        "f4c9a3f6252c4f5a84643ae71c9aa2a2": {
          "model_module": "@jupyter-widgets/controls",
          "model_name": "HTMLModel",
          "model_module_version": "1.5.0",
          "state": {
            "_view_name": "HTMLView",
            "style": "IPY_MODEL_8fdc524d6c2e45518496b347a217b4af",
            "_dom_classes": [],
            "description": "",
            "_model_name": "HTMLModel",
            "placeholder": "​",
            "_view_module": "@jupyter-widgets/controls",
            "_model_module_version": "1.5.0",
            "value": " 25248/0 [01:08&lt;00:00, 348.40 examples/s]",
            "_view_count": null,
            "_view_module_version": "1.5.0",
            "description_tooltip": null,
            "_model_module": "@jupyter-widgets/controls",
            "layout": "IPY_MODEL_bd6726571b6845a79b36433fab698e7d"
          }
        },
        "67b9fbe8141941bb8fe3986042b3bd5b": {
          "model_module": "@jupyter-widgets/controls",
          "model_name": "DescriptionStyleModel",
          "model_module_version": "1.5.0",
          "state": {
            "_view_name": "StyleView",
            "_model_name": "DescriptionStyleModel",
            "description_width": "",
            "_view_module": "@jupyter-widgets/base",
            "_model_module_version": "1.5.0",
            "_view_count": null,
            "_view_module_version": "1.2.0",
            "_model_module": "@jupyter-widgets/controls"
          }
        },
        "25b904a282c34c5e9ca4f9a8939ba175": {
          "model_module": "@jupyter-widgets/base",
          "model_name": "LayoutModel",
          "model_module_version": "1.2.0",
          "state": {
            "_view_name": "LayoutView",
            "grid_template_rows": null,
            "right": null,
            "justify_content": null,
            "_view_module": "@jupyter-widgets/base",
            "overflow": null,
            "_model_module_version": "1.2.0",
            "_view_count": null,
            "flex_flow": null,
            "width": null,
            "min_width": null,
            "border": null,
            "align_items": null,
            "bottom": null,
            "_model_module": "@jupyter-widgets/base",
            "top": null,
            "grid_column": null,
            "overflow_y": null,
            "overflow_x": null,
            "grid_auto_flow": null,
            "grid_area": null,
            "grid_template_columns": null,
            "flex": null,
            "_model_name": "LayoutModel",
            "justify_items": null,
            "grid_row": null,
            "max_height": null,
            "align_content": null,
            "visibility": null,
            "align_self": null,
            "height": null,
            "min_height": null,
            "padding": null,
            "grid_auto_rows": null,
            "grid_gap": null,
            "max_width": null,
            "order": null,
            "_view_module_version": "1.2.0",
            "grid_template_areas": null,
            "object_position": null,
            "object_fit": null,
            "grid_auto_columns": null,
            "margin": null,
            "display": null,
            "left": null
          }
        },
        "2a0b5abd26594d19a494e1037fa2c3c1": {
          "model_module": "@jupyter-widgets/controls",
          "model_name": "ProgressStyleModel",
          "model_module_version": "1.5.0",
          "state": {
            "_view_name": "StyleView",
            "_model_name": "ProgressStyleModel",
            "description_width": "",
            "_view_module": "@jupyter-widgets/base",
            "_model_module_version": "1.5.0",
            "_view_count": null,
            "_view_module_version": "1.2.0",
            "bar_color": null,
            "_model_module": "@jupyter-widgets/controls"
          }
        },
        "db438e4a91734a8dbf0c0bfa47a11d7a": {
          "model_module": "@jupyter-widgets/base",
          "model_name": "LayoutModel",
          "model_module_version": "1.2.0",
          "state": {
            "_view_name": "LayoutView",
            "grid_template_rows": null,
            "right": null,
            "justify_content": null,
            "_view_module": "@jupyter-widgets/base",
            "overflow": null,
            "_model_module_version": "1.2.0",
            "_view_count": null,
            "flex_flow": null,
            "width": "20px",
            "min_width": null,
            "border": null,
            "align_items": null,
            "bottom": null,
            "_model_module": "@jupyter-widgets/base",
            "top": null,
            "grid_column": null,
            "overflow_y": null,
            "overflow_x": null,
            "grid_auto_flow": null,
            "grid_area": null,
            "grid_template_columns": null,
            "flex": null,
            "_model_name": "LayoutModel",
            "justify_items": null,
            "grid_row": null,
            "max_height": null,
            "align_content": null,
            "visibility": null,
            "align_self": null,
            "height": null,
            "min_height": null,
            "padding": null,
            "grid_auto_rows": null,
            "grid_gap": null,
            "max_width": null,
            "order": null,
            "_view_module_version": "1.2.0",
            "grid_template_areas": null,
            "object_position": null,
            "object_fit": null,
            "grid_auto_columns": null,
            "margin": null,
            "display": null,
            "left": null
          }
        },
        "8fdc524d6c2e45518496b347a217b4af": {
          "model_module": "@jupyter-widgets/controls",
          "model_name": "DescriptionStyleModel",
          "model_module_version": "1.5.0",
          "state": {
            "_view_name": "StyleView",
            "_model_name": "DescriptionStyleModel",
            "description_width": "",
            "_view_module": "@jupyter-widgets/base",
            "_model_module_version": "1.5.0",
            "_view_count": null,
            "_view_module_version": "1.2.0",
            "_model_module": "@jupyter-widgets/controls"
          }
        },
        "bd6726571b6845a79b36433fab698e7d": {
          "model_module": "@jupyter-widgets/base",
          "model_name": "LayoutModel",
          "model_module_version": "1.2.0",
          "state": {
            "_view_name": "LayoutView",
            "grid_template_rows": null,
            "right": null,
            "justify_content": null,
            "_view_module": "@jupyter-widgets/base",
            "overflow": null,
            "_model_module_version": "1.2.0",
            "_view_count": null,
            "flex_flow": null,
            "width": null,
            "min_width": null,
            "border": null,
            "align_items": null,
            "bottom": null,
            "_model_module": "@jupyter-widgets/base",
            "top": null,
            "grid_column": null,
            "overflow_y": null,
            "overflow_x": null,
            "grid_auto_flow": null,
            "grid_area": null,
            "grid_template_columns": null,
            "flex": null,
            "_model_name": "LayoutModel",
            "justify_items": null,
            "grid_row": null,
            "max_height": null,
            "align_content": null,
            "visibility": null,
            "align_self": null,
            "height": null,
            "min_height": null,
            "padding": null,
            "grid_auto_rows": null,
            "grid_gap": null,
            "max_width": null,
            "order": null,
            "_view_module_version": "1.2.0",
            "grid_template_areas": null,
            "object_position": null,
            "object_fit": null,
            "grid_auto_columns": null,
            "margin": null,
            "display": null,
            "left": null
          }
        },
        "9c49eb0015cd4eae9251301fb46b5a20": {
          "model_module": "@jupyter-widgets/controls",
          "model_name": "HBoxModel",
          "model_module_version": "1.5.0",
          "state": {
            "_view_name": "HBoxView",
            "_dom_classes": [],
            "_model_name": "HBoxModel",
            "_view_module": "@jupyter-widgets/controls",
            "_model_module_version": "1.5.0",
            "_view_count": null,
            "_view_module_version": "1.5.0",
            "box_style": "",
            "layout": "IPY_MODEL_033839cf98824e7f90e6b7055ff168a2",
            "_model_module": "@jupyter-widgets/controls",
            "children": [
              "IPY_MODEL_36b97c5c0d0049ae95a86f61f4c7c9b7",
              "IPY_MODEL_badebd6346754d238fe67436383d1b62",
              "IPY_MODEL_b3226d6d8c99435f88b2c9abb284b1e4"
            ]
          }
        },
        "033839cf98824e7f90e6b7055ff168a2": {
          "model_module": "@jupyter-widgets/base",
          "model_name": "LayoutModel",
          "model_module_version": "1.2.0",
          "state": {
            "_view_name": "LayoutView",
            "grid_template_rows": null,
            "right": null,
            "justify_content": null,
            "_view_module": "@jupyter-widgets/base",
            "overflow": null,
            "_model_module_version": "1.2.0",
            "_view_count": null,
            "flex_flow": null,
            "width": null,
            "min_width": null,
            "border": null,
            "align_items": null,
            "bottom": null,
            "_model_module": "@jupyter-widgets/base",
            "top": null,
            "grid_column": null,
            "overflow_y": null,
            "overflow_x": null,
            "grid_auto_flow": null,
            "grid_area": null,
            "grid_template_columns": null,
            "flex": null,
            "_model_name": "LayoutModel",
            "justify_items": null,
            "grid_row": null,
            "max_height": null,
            "align_content": null,
            "visibility": null,
            "align_self": null,
            "height": null,
            "min_height": null,
            "padding": null,
            "grid_auto_rows": null,
            "grid_gap": null,
            "max_width": null,
            "order": null,
            "_view_module_version": "1.2.0",
            "grid_template_areas": null,
            "object_position": null,
            "object_fit": null,
            "grid_auto_columns": null,
            "margin": null,
            "display": null,
            "left": null
          }
        },
        "36b97c5c0d0049ae95a86f61f4c7c9b7": {
          "model_module": "@jupyter-widgets/controls",
          "model_name": "HTMLModel",
          "model_module_version": "1.5.0",
          "state": {
            "_view_name": "HTMLView",
            "style": "IPY_MODEL_94f18aa4d0e2477bb65dd5f2095a6b35",
            "_dom_classes": [],
            "description": "",
            "_model_name": "HTMLModel",
            "placeholder": "​",
            "_view_module": "@jupyter-widgets/controls",
            "_model_module_version": "1.5.0",
            "value": "100%",
            "_view_count": null,
            "_view_module_version": "1.5.0",
            "description_tooltip": null,
            "_model_module": "@jupyter-widgets/controls",
            "layout": "IPY_MODEL_11833e042ebc4fac8d7500c2ff764666"
          }
        },
        "badebd6346754d238fe67436383d1b62": {
          "model_module": "@jupyter-widgets/controls",
          "model_name": "FloatProgressModel",
          "model_module_version": "1.5.0",
          "state": {
            "_view_name": "ProgressView",
            "style": "IPY_MODEL_a92236867bef4aa8b2a051c3bd0cf813",
            "_dom_classes": [],
            "description": "",
            "_model_name": "FloatProgressModel",
            "bar_style": "danger",
            "max": 25250,
            "_view_module": "@jupyter-widgets/controls",
            "_model_module_version": "1.5.0",
            "value": 25249,
            "_view_count": null,
            "_view_module_version": "1.5.0",
            "orientation": "horizontal",
            "min": 0,
            "description_tooltip": null,
            "_model_module": "@jupyter-widgets/controls",
            "layout": "IPY_MODEL_cd03c6a4481e433c8c3a96928a9c3d8f"
          }
        },
        "b3226d6d8c99435f88b2c9abb284b1e4": {
          "model_module": "@jupyter-widgets/controls",
          "model_name": "HTMLModel",
          "model_module_version": "1.5.0",
          "state": {
            "_view_name": "HTMLView",
            "style": "IPY_MODEL_69fa380fafc84859a628f9cfa2b24cf9",
            "_dom_classes": [],
            "description": "",
            "_model_name": "HTMLModel",
            "placeholder": "​",
            "_view_module": "@jupyter-widgets/controls",
            "_model_module_version": "1.5.0",
            "value": " 25249/25250 [00:12&lt;00:00, 689.12 examples/s]",
            "_view_count": null,
            "_view_module_version": "1.5.0",
            "description_tooltip": null,
            "_model_module": "@jupyter-widgets/controls",
            "layout": "IPY_MODEL_1001a2500d624d838736b01fe51178ce"
          }
        },
        "94f18aa4d0e2477bb65dd5f2095a6b35": {
          "model_module": "@jupyter-widgets/controls",
          "model_name": "DescriptionStyleModel",
          "model_module_version": "1.5.0",
          "state": {
            "_view_name": "StyleView",
            "_model_name": "DescriptionStyleModel",
            "description_width": "",
            "_view_module": "@jupyter-widgets/base",
            "_model_module_version": "1.5.0",
            "_view_count": null,
            "_view_module_version": "1.2.0",
            "_model_module": "@jupyter-widgets/controls"
          }
        },
        "11833e042ebc4fac8d7500c2ff764666": {
          "model_module": "@jupyter-widgets/base",
          "model_name": "LayoutModel",
          "model_module_version": "1.2.0",
          "state": {
            "_view_name": "LayoutView",
            "grid_template_rows": null,
            "right": null,
            "justify_content": null,
            "_view_module": "@jupyter-widgets/base",
            "overflow": null,
            "_model_module_version": "1.2.0",
            "_view_count": null,
            "flex_flow": null,
            "width": null,
            "min_width": null,
            "border": null,
            "align_items": null,
            "bottom": null,
            "_model_module": "@jupyter-widgets/base",
            "top": null,
            "grid_column": null,
            "overflow_y": null,
            "overflow_x": null,
            "grid_auto_flow": null,
            "grid_area": null,
            "grid_template_columns": null,
            "flex": null,
            "_model_name": "LayoutModel",
            "justify_items": null,
            "grid_row": null,
            "max_height": null,
            "align_content": null,
            "visibility": null,
            "align_self": null,
            "height": null,
            "min_height": null,
            "padding": null,
            "grid_auto_rows": null,
            "grid_gap": null,
            "max_width": null,
            "order": null,
            "_view_module_version": "1.2.0",
            "grid_template_areas": null,
            "object_position": null,
            "object_fit": null,
            "grid_auto_columns": null,
            "margin": null,
            "display": null,
            "left": null
          }
        },
        "a92236867bef4aa8b2a051c3bd0cf813": {
          "model_module": "@jupyter-widgets/controls",
          "model_name": "ProgressStyleModel",
          "model_module_version": "1.5.0",
          "state": {
            "_view_name": "StyleView",
            "_model_name": "ProgressStyleModel",
            "description_width": "",
            "_view_module": "@jupyter-widgets/base",
            "_model_module_version": "1.5.0",
            "_view_count": null,
            "_view_module_version": "1.2.0",
            "bar_color": null,
            "_model_module": "@jupyter-widgets/controls"
          }
        },
        "cd03c6a4481e433c8c3a96928a9c3d8f": {
          "model_module": "@jupyter-widgets/base",
          "model_name": "LayoutModel",
          "model_module_version": "1.2.0",
          "state": {
            "_view_name": "LayoutView",
            "grid_template_rows": null,
            "right": null,
            "justify_content": null,
            "_view_module": "@jupyter-widgets/base",
            "overflow": null,
            "_model_module_version": "1.2.0",
            "_view_count": null,
            "flex_flow": null,
            "width": null,
            "min_width": null,
            "border": null,
            "align_items": null,
            "bottom": null,
            "_model_module": "@jupyter-widgets/base",
            "top": null,
            "grid_column": null,
            "overflow_y": null,
            "overflow_x": null,
            "grid_auto_flow": null,
            "grid_area": null,
            "grid_template_columns": null,
            "flex": null,
            "_model_name": "LayoutModel",
            "justify_items": null,
            "grid_row": null,
            "max_height": null,
            "align_content": null,
            "visibility": null,
            "align_self": null,
            "height": null,
            "min_height": null,
            "padding": null,
            "grid_auto_rows": null,
            "grid_gap": null,
            "max_width": null,
            "order": null,
            "_view_module_version": "1.2.0",
            "grid_template_areas": null,
            "object_position": null,
            "object_fit": null,
            "grid_auto_columns": null,
            "margin": null,
            "display": null,
            "left": null
          }
        },
        "69fa380fafc84859a628f9cfa2b24cf9": {
          "model_module": "@jupyter-widgets/controls",
          "model_name": "DescriptionStyleModel",
          "model_module_version": "1.5.0",
          "state": {
            "_view_name": "StyleView",
            "_model_name": "DescriptionStyleModel",
            "description_width": "",
            "_view_module": "@jupyter-widgets/base",
            "_model_module_version": "1.5.0",
            "_view_count": null,
            "_view_module_version": "1.2.0",
            "_model_module": "@jupyter-widgets/controls"
          }
        },
        "1001a2500d624d838736b01fe51178ce": {
          "model_module": "@jupyter-widgets/base",
          "model_name": "LayoutModel",
          "model_module_version": "1.2.0",
          "state": {
            "_view_name": "LayoutView",
            "grid_template_rows": null,
            "right": null,
            "justify_content": null,
            "_view_module": "@jupyter-widgets/base",
            "overflow": null,
            "_model_module_version": "1.2.0",
            "_view_count": null,
            "flex_flow": null,
            "width": null,
            "min_width": null,
            "border": null,
            "align_items": null,
            "bottom": null,
            "_model_module": "@jupyter-widgets/base",
            "top": null,
            "grid_column": null,
            "overflow_y": null,
            "overflow_x": null,
            "grid_auto_flow": null,
            "grid_area": null,
            "grid_template_columns": null,
            "flex": null,
            "_model_name": "LayoutModel",
            "justify_items": null,
            "grid_row": null,
            "max_height": null,
            "align_content": null,
            "visibility": null,
            "align_self": null,
            "height": null,
            "min_height": null,
            "padding": null,
            "grid_auto_rows": null,
            "grid_gap": null,
            "max_width": null,
            "order": null,
            "_view_module_version": "1.2.0",
            "grid_template_areas": null,
            "object_position": null,
            "object_fit": null,
            "grid_auto_columns": null,
            "margin": null,
            "display": null,
            "left": null
          }
        }
      }
    },
    "accelerator": "GPU"
  },
  "cells": [
    {
      "cell_type": "markdown",
      "metadata": {
        "id": "view-in-github",
        "colab_type": "text"
      },
      "source": [
        "<a href=\"https://colab.research.google.com/github/JaperTai77/Tensorflow_DL/blob/main/tf2_6.ipynb\" target=\"_parent\"><img src=\"https://colab.research.google.com/assets/colab-badge.svg\" alt=\"Open In Colab\"/></a>"
      ]
    },
    {
      "cell_type": "markdown",
      "metadata": {
        "id": "eCe0dQBUZ1v9"
      },
      "source": [
        "# Food Vision 101"
      ]
    },
    {
      "cell_type": "markdown",
      "metadata": {
        "id": "rsCw6bJGafAz"
      },
      "source": [
        "## Preparation"
      ]
    },
    {
      "cell_type": "markdown",
      "metadata": {
        "id": "UgG4GzhCZ_Z4"
      },
      "source": [
        "#### Import package and data"
      ]
    },
    {
      "cell_type": "code",
      "metadata": {
        "id": "0O3wiNtevAIw"
      },
      "source": [
        "import tensorflow as tf\n",
        "import pandas as pd\n",
        "import numpy as np\n",
        "import matplotlib.pyplot as plt\n",
        "import tensorflow_datasets as tfds"
      ],
      "execution_count": 1,
      "outputs": []
    },
    {
      "cell_type": "code",
      "metadata": {
        "colab": {
          "base_uri": "https://localhost:8080/",
          "height": 296,
          "referenced_widgets": [
            "bedc862179aa456086c59b86d0f5a739",
            "c83d56c9991c4b09aa71405884420def",
            "ffc1f236674a42e6a2d63be4cba16577",
            "2c2c9bcee83c4a7db59bfce1402d1a33",
            "19ccfaf875044d65aa91499615323286",
            "ba6dfc1e4caa4a3abf1eb57e6082eaa8",
            "79515411bbd24ca49282455d90fca4f9",
            "1543603623b04d788fef7867840d4c65",
            "d098ddb5db554e39a46ae63685b75168",
            "6c4c23e86f03486fba4299ec8a8e196e",
            "6e7f13d785b240e6a4e9bb2f4e07dbd7",
            "23a1f6ae5432449f801880da1d7599cc",
            "bbb49b83cb0e4f2bbf305356aaeb6112",
            "aba723eafb184218840442cda58134ac",
            "d4a09b0811654d1899371fb7ac6612a7",
            "3c2694aa3f2b4249b1620e47d885a2e9",
            "92b385d968ce4047ae6a2962396ce5ec",
            "48f430d913f0414fa726e5002f52bc5f",
            "ec769b45ae364335b25b7ebd41dce2a1",
            "5faa7ce107a0435a98ada455d5925e29",
            "4534a88c6c0444c8b268e945885e4eb8",
            "62913885511e41f5919087eb7097b9f0",
            "244f7241242e40de82977d7c0100f55c",
            "9d1d6a7be62b422e91c14967a112fd50",
            "64c957430f934621a9a5ecc71c9f231e",
            "58f9a2c1e3b5406bb8ea72adb2e2e26e",
            "8a959feca0624f4bae0ef35dc3c7385c",
            "dd21dccd1bd444c3a9a14dfcc1d79040",
            "12e660e300d04530a11c69e5cd3349d9",
            "afd92666880c49c5adbeaf6ef0f2221a",
            "6be94e36394e489385b9d820917df508",
            "d535be80abb44218aeedb7b99a04b5e0",
            "2929bd19aa324182982d816b1bcda9f1",
            "87ae8cf0cc1047f29896b56397b3c5d7",
            "d8be680d6d2a4f0fa4b297ea357dd448",
            "64252047380e42e6891b6570918190b8",
            "a4a436ae74af45478d4f26b10349f7c5",
            "9c54761d4a1341458ad8a381df8a68ce",
            "f70a9d6aa6134d8db3a5f93ed8976f9f",
            "4ecc39cb362540d7a030b80dbd148eb6",
            "ffe6a7070e8046beb6784508d1471e6a",
            "d25893f06e7d4ff2ae2844e62553c1a1",
            "67cfeb82ba0a40afaf22d58ae3eb39fa",
            "91cf4225f40b45e38d0a3c8cc9e83aee",
            "44a68ef0a90d400d8b12b1c57e5382cb",
            "13852de859384079a86cd0586643c8f1",
            "211315dde99049e2a2492fd3f24db389",
            "704bca906631464daabd790b69e6b396",
            "8f8a1946b2dc4c549027826fd9cacee7",
            "986932dd319b4489985921a46e8f2591",
            "c81eae8d0f024f5e92fb51d4afbc392a",
            "21dfcd86be524a7eacdf1b4d1bf4533a",
            "2af41695d33f4d059a086189b846fc48",
            "a72c6076d3b5490da0c1dfdea649d4c6",
            "8a554e3073464816b5b617414832a86c",
            "2439b66a5bb84800869a67dc86a9d912",
            "707a88930d3746fea767adca438fb15a",
            "137b68b08a1247e78c5d2c05438da307",
            "9640a4cd029746e0bb56c251b6792346",
            "f4c9a3f6252c4f5a84643ae71c9aa2a2",
            "67b9fbe8141941bb8fe3986042b3bd5b",
            "25b904a282c34c5e9ca4f9a8939ba175",
            "2a0b5abd26594d19a494e1037fa2c3c1",
            "db438e4a91734a8dbf0c0bfa47a11d7a",
            "8fdc524d6c2e45518496b347a217b4af",
            "bd6726571b6845a79b36433fab698e7d",
            "9c49eb0015cd4eae9251301fb46b5a20",
            "033839cf98824e7f90e6b7055ff168a2",
            "36b97c5c0d0049ae95a86f61f4c7c9b7",
            "badebd6346754d238fe67436383d1b62",
            "b3226d6d8c99435f88b2c9abb284b1e4",
            "94f18aa4d0e2477bb65dd5f2095a6b35",
            "11833e042ebc4fac8d7500c2ff764666",
            "a92236867bef4aa8b2a051c3bd0cf813",
            "cd03c6a4481e433c8c3a96928a9c3d8f",
            "69fa380fafc84859a628f9cfa2b24cf9",
            "1001a2500d624d838736b01fe51178ce"
          ]
        },
        "id": "0ywoKW1qaRfp",
        "outputId": "9a6fde68-8e06-44fe-a061-20e193c653d3"
      },
      "source": [
        "(trainset, testset), info = tfds.load(name = 'food101',\n",
        "                                split = ['train', 'validation'],\n",
        "                                shuffle_files = True,\n",
        "                                as_supervised = True, # return data and label\n",
        "                                with_info = True)"
      ],
      "execution_count": 2,
      "outputs": [
        {
          "output_type": "stream",
          "name": "stdout",
          "text": [
            "\u001b[1mDownloading and preparing dataset food101/2.0.0 (download: 4.65 GiB, generated: Unknown size, total: 4.65 GiB) to /root/tensorflow_datasets/food101/2.0.0...\u001b[0m\n"
          ]
        },
        {
          "output_type": "display_data",
          "data": {
            "application/vnd.jupyter.widget-view+json": {
              "model_id": "bedc862179aa456086c59b86d0f5a739",
              "version_minor": 0,
              "version_major": 2
            },
            "text/plain": [
              "Dl Completed...: 0 url [00:00, ? url/s]"
            ]
          },
          "metadata": {}
        },
        {
          "output_type": "display_data",
          "data": {
            "application/vnd.jupyter.widget-view+json": {
              "model_id": "23a1f6ae5432449f801880da1d7599cc",
              "version_minor": 0,
              "version_major": 2
            },
            "text/plain": [
              "Dl Size...: 0 MiB [00:00, ? MiB/s]"
            ]
          },
          "metadata": {}
        },
        {
          "output_type": "display_data",
          "data": {
            "application/vnd.jupyter.widget-view+json": {
              "model_id": "244f7241242e40de82977d7c0100f55c",
              "version_minor": 0,
              "version_major": 2
            },
            "text/plain": [
              "Extraction completed...: 0 file [00:00, ? file/s]"
            ]
          },
          "metadata": {}
        },
        {
          "output_type": "stream",
          "name": "stdout",
          "text": [
            "\n",
            "\n",
            "\n"
          ]
        },
        {
          "output_type": "display_data",
          "data": {
            "application/vnd.jupyter.widget-view+json": {
              "model_id": "87ae8cf0cc1047f29896b56397b3c5d7",
              "version_minor": 0,
              "version_major": 2
            },
            "text/plain": [
              "0 examples [00:00, ? examples/s]"
            ]
          },
          "metadata": {}
        },
        {
          "output_type": "stream",
          "name": "stdout",
          "text": [
            "Shuffling and writing examples to /root/tensorflow_datasets/food101/2.0.0.incompletePD3Q2N/food101-train.tfrecord\n"
          ]
        },
        {
          "output_type": "display_data",
          "data": {
            "application/vnd.jupyter.widget-view+json": {
              "model_id": "44a68ef0a90d400d8b12b1c57e5382cb",
              "version_minor": 0,
              "version_major": 2
            },
            "text/plain": [
              "  0%|          | 0/75750 [00:00<?, ? examples/s]"
            ]
          },
          "metadata": {}
        },
        {
          "output_type": "display_data",
          "data": {
            "application/vnd.jupyter.widget-view+json": {
              "model_id": "2439b66a5bb84800869a67dc86a9d912",
              "version_minor": 0,
              "version_major": 2
            },
            "text/plain": [
              "0 examples [00:00, ? examples/s]"
            ]
          },
          "metadata": {}
        },
        {
          "output_type": "stream",
          "name": "stdout",
          "text": [
            "Shuffling and writing examples to /root/tensorflow_datasets/food101/2.0.0.incompletePD3Q2N/food101-validation.tfrecord\n"
          ]
        },
        {
          "output_type": "display_data",
          "data": {
            "application/vnd.jupyter.widget-view+json": {
              "model_id": "9c49eb0015cd4eae9251301fb46b5a20",
              "version_minor": 0,
              "version_major": 2
            },
            "text/plain": [
              "  0%|          | 0/25250 [00:00<?, ? examples/s]"
            ]
          },
          "metadata": {}
        },
        {
          "output_type": "stream",
          "name": "stdout",
          "text": [
            "\u001b[1mDataset food101 downloaded and prepared to /root/tensorflow_datasets/food101/2.0.0. Subsequent calls will reuse this data.\u001b[0m\n"
          ]
        }
      ]
    },
    {
      "cell_type": "code",
      "metadata": {
        "id": "ckdWwFw2z2-L"
      },
      "source": [
        "class_name = info.features['label'].names"
      ],
      "execution_count": 3,
      "outputs": []
    },
    {
      "cell_type": "markdown",
      "metadata": {
        "id": "i4xf7Ta2cAoe"
      },
      "source": [
        "#### Explore dataset"
      ]
    },
    {
      "cell_type": "code",
      "metadata": {
        "colab": {
          "base_uri": "https://localhost:8080/"
        },
        "id": "kEzwVMRSb8tV",
        "outputId": "1f7e9d37-87df-4b36-8638-0c92887b8436"
      },
      "source": [
        "one_sample = trainset.take(1)\n",
        "for im, lab in one_sample:\n",
        "  print(im.shape)\n",
        "  print(im.dtype)\n",
        "  print(lab)"
      ],
      "execution_count": 8,
      "outputs": [
        {
          "output_type": "stream",
          "name": "stdout",
          "text": [
            "(512, 512, 3)\n",
            "<dtype: 'uint8'>\n",
            "tf.Tensor(21, shape=(), dtype=int64)\n"
          ]
        }
      ]
    },
    {
      "cell_type": "code",
      "metadata": {
        "colab": {
          "base_uri": "https://localhost:8080/"
        },
        "id": "10UBtOFHb8W6",
        "outputId": "4ce96e87-6a1f-412d-98c8-70dabe409356"
      },
      "source": [
        "tf.reduce_min(im), tf.reduce_max(im)"
      ],
      "execution_count": 9,
      "outputs": [
        {
          "output_type": "execute_result",
          "data": {
            "text/plain": [
              "(<tf.Tensor: shape=(), dtype=uint8, numpy=0>,\n",
              " <tf.Tensor: shape=(), dtype=uint8, numpy=255>)"
            ]
          },
          "metadata": {},
          "execution_count": 9
        }
      ]
    },
    {
      "cell_type": "code",
      "metadata": {
        "colab": {
          "base_uri": "https://localhost:8080/",
          "height": 281
        },
        "id": "iHVa_a2edAyV",
        "outputId": "a95cbd97-a70c-49b1-f608-4c39b2cc7fd6"
      },
      "source": [
        "plt.imshow(im)\n",
        "plt.title(class_name[lab.numpy()])\n",
        "plt.axis(False)"
      ],
      "execution_count": 10,
      "outputs": [
        {
          "output_type": "execute_result",
          "data": {
            "text/plain": [
              "(-0.5, 511.5, 511.5, -0.5)"
            ]
          },
          "metadata": {},
          "execution_count": 10
        },
        {
          "output_type": "display_data",
          "data": {
            "image/png": "[encoded data removed]",
            "text/plain": [
              "<Figure size 432x288 with 1 Axes>"
            ]
          },
          "metadata": {
            "needs_background": "light"
          }
        }
      ]
    },
    {
      "cell_type": "markdown",
      "metadata": {
        "id": "KRYrt287dywu"
      },
      "source": [
        "## Preprocessing"
      ]
    },
    {
      "cell_type": "markdown",
      "metadata": {
        "id": "g6CwROSsd80s"
      },
      "source": [
        "#### Convert shape, data type, and resize"
      ]
    },
    {
      "cell_type": "markdown",
      "metadata": {
        "id": "BTbJABoWilew"
      },
      "source": [
        "https://www.tensorflow.org/guide/data_performance\n",
        "\n",
        "Here is a summary of the best practices for designing performant TensorFlow input pipelines:\n",
        "\n",
        "Use the **prefetch** transformation to overlap the work of a producer and consumer\\\n",
        "Parallelize the data reading transformation using the **interleave** transformation\\\n",
        "Parallelize the **map** transformation by setting the **num_parallel_calls** argument\\\n",
        "Use the **cache** transformation to cache data in memory during the first epoch\\\n",
        "Vectorize user-defined functions passed in to the **map** transformation\\\n",
        "Reduce memory usage when applying the **interleave**, **prefetch**, and **shuffle** transformations"
      ]
    },
    {
      "cell_type": "code",
      "metadata": {
        "id": "3cQejS2-d02Z"
      },
      "source": [
        "def preprocessing(image,label,imgShape = 224):\n",
        "  image = tf.image.resize(image,size = [imgShape,imgShape])\n",
        "  image = tf.cast(image,tf.float32)\n",
        "  # image = image/255. no need for efficientNet\n",
        "  return image, label"
      ],
      "execution_count": 11,
      "outputs": []
    },
    {
      "cell_type": "code",
      "metadata": {
        "id": "q-GuZ9QMgpcn"
      },
      "source": [
        "train = trainset.map(map_func = preprocessing,\n",
        "          num_parallel_calls = tf.data.AUTOTUNE) \n",
        "# utilize all computing power\n",
        "test = testset.map(map_func = preprocessing,\n",
        "          num_parallel_calls = tf.data.AUTOTUNE) "
      ],
      "execution_count": 14,
      "outputs": []
    },
    {
      "cell_type": "markdown",
      "metadata": {
        "id": "H2R1nk_rgjXs"
      },
      "source": [
        "#### Shuffle and batch"
      ]
    },
    {
      "cell_type": "code",
      "metadata": {
        "id": "EcdTNo0LgmEQ"
      },
      "source": [
        "train = train.shuffle(buffer_size = 1000) \n",
        "# how many data to shuffle at a time\n",
        "train = train.batch(batch_size = 32).prefetch(buffer_size=tf.data.AUTOTUNE)\n",
        "\n",
        "test = test.batch(batch_size = 32).prefetch(buffer_size=tf.data.AUTOTUNE)#.cache() store in RAM"
      ],
      "execution_count": 15,
      "outputs": []
    },
    {
      "cell_type": "markdown",
      "metadata": {
        "id": "pZzsR6i8mJwF"
      },
      "source": [
        "## Build Model"
      ]
    },
    {
      "cell_type": "markdown",
      "metadata": {
        "id": "qgSTXPmmmP6s"
      },
      "source": [
        "#### Callbacks"
      ]
    },
    {
      "cell_type": "code",
      "metadata": {
        "id": "pDYlu06fk46B"
      },
      "source": [
        "# tensorboard\n",
        "tensorboard = tf.keras.callbacks.TensorBoard('traininglogs/efficientnetb0_101_classes_all_data_feature_extract')\n",
        "\n",
        "# checkpoint\n",
        "checkpoint = tf.keras.callbacks.ModelCheckpoint('model_checkpoints/cp.ckpt',\n",
        "                                                monitor = 'val_acc',\n",
        "                                                save_best_only = True,\n",
        "                                                save_weights_only = True,\n",
        "                                                verbose = 0)"
      ],
      "execution_count": 16,
      "outputs": []
    },
    {
      "cell_type": "markdown",
      "metadata": {
        "id": "hg0Wz7oWoeWh"
      },
      "source": [
        "#### Mixed precision training"
      ]
    },
    {
      "cell_type": "code",
      "metadata": {
        "colab": {
          "base_uri": "https://localhost:8080/"
        },
        "id": "UU3Y3d4PoIKY",
        "outputId": "d9cda0cd-e55b-4ed1-ae80-a0abf1b148f1"
      },
      "source": [
        "# Turn on mixed precision training\n",
        "from tensorflow.keras import mixed_precision\n",
        "mixed_precision.set_global_policy(policy=\"mixed_float16\") # set global policy to mixed precision\n",
        "\n",
        "mixed_precision.global_policy() # should output \"mixed_float16\""
      ],
      "execution_count": 17,
      "outputs": [
        {
          "output_type": "stream",
          "name": "stdout",
          "text": [
            "WARNING:tensorflow:Mixed precision compatibility check (mixed_float16): WARNING\n",
            "Your GPU may run slowly with dtype policy mixed_float16 because it does not have compute capability of at least 7.0. Your GPU:\n",
            "  Tesla K80, compute capability 3.7\n",
            "See https://developer.nvidia.com/cuda-gpus for a list of GPUs and their compute capabilities.\n",
            "If you will use compatible GPU(s) not attached to this host, e.g. by running a multi-worker model, you can ignore this warning. This message will only be logged once\n"
          ]
        },
        {
          "output_type": "stream",
          "name": "stderr",
          "text": [
            "WARNING:tensorflow:Mixed precision compatibility check (mixed_float16): WARNING\n",
            "Your GPU may run slowly with dtype policy mixed_float16 because it does not have compute capability of at least 7.0. Your GPU:\n",
            "  Tesla K80, compute capability 3.7\n",
            "See https://developer.nvidia.com/cuda-gpus for a list of GPUs and their compute capabilities.\n",
            "If you will use compatible GPU(s) not attached to this host, e.g. by running a multi-worker model, you can ignore this warning. This message will only be logged once\n"
          ]
        },
        {
          "output_type": "execute_result",
          "data": {
            "text/plain": [
              "<Policy \"mixed_float16\">"
            ]
          },
          "metadata": {},
          "execution_count": 17
        }
      ]
    },
    {
      "cell_type": "markdown",
      "metadata": {
        "id": "9Yykd0N9pS_I"
      },
      "source": [
        "#### Feature extraction model"
      ]
    },
    {
      "cell_type": "code",
      "metadata": {
        "colab": {
          "base_uri": "https://localhost:8080/"
        },
        "id": "7zaHCq6rpbrX",
        "outputId": "04f4ce03-9e09-4fe9-a000-a3c5dce078ad"
      },
      "source": [
        "base_model = tf.keras.applications.EfficientNetB0(include_top=False)\n",
        "base_model.trainable = False\n",
        "input = tf.keras.layers.Input(shape = (224,224,3),name = 'input')\n",
        "x = base_model(input,training = False)\n",
        "x = tf.keras.layers.GlobalAveragePooling2D(name=\"pooling_layer\")(x)\n",
        "x = tf.keras.layers.Dense(len(class_name))(x)\n",
        "# Activation function need to be in float32 when using mixed precision training\n",
        "output = tf.keras.layers.Activation('softmax',dtype = tf.float32)(x)\n",
        "model = tf.keras.Model(input,output)\n",
        "\n",
        "model.compile(loss = \"sparse_categorical_crossentropy\",\n",
        "              optimizer = tf.keras.optimizers.Adam(),\n",
        "              metrics = ['accuracy'])\n",
        "\n",
        "model.summary()"
      ],
      "execution_count": 18,
      "outputs": [
        {
          "output_type": "stream",
          "name": "stdout",
          "text": [
            "Downloading data from https://storage.googleapis.com/keras-applications/efficientnetb0_notop.h5\n",
            "16711680/16705208 [==============================] - 0s 0us/step\n",
            "16719872/16705208 [==============================] - 0s 0us/step\n",
            "Model: \"model\"\n",
            "_________________________________________________________________\n",
            " Layer (type)                Output Shape              Param #   \n",
            "=================================================================\n",
            " input (InputLayer)          [(None, 224, 224, 3)]     0         \n",
            "                                                                 \n",
            " efficientnetb0 (Functional)  (None, None, None, 1280)  4049571  \n",
            "                                                                 \n",
            " pooling_layer (GlobalAverag  (None, 1280)             0         \n",
            " ePooling2D)                                                     \n",
            "                                                                 \n",
            " dense (Dense)               (None, 101)               129381    \n",
            "                                                                 \n",
            " activation (Activation)     (None, 101)               0         \n",
            "                                                                 \n",
            "=================================================================\n",
            "Total params: 4,178,952\n",
            "Trainable params: 129,381\n",
            "Non-trainable params: 4,049,571\n",
            "_________________________________________________________________\n"
          ]
        }
      ]
    },
    {
      "cell_type": "code",
      "metadata": {
        "colab": {
          "base_uri": "https://localhost:8080/"
        },
        "id": "iAMZe4fOsi_I",
        "outputId": "08cf915c-26ba-4361-9e87-50cf54981a7a"
      },
      "source": [
        "for layer in model.layers:\n",
        "  print(layer.name, layer.dtype_policy)"
      ],
      "execution_count": null,
      "outputs": [
        {
          "name": "stdout",
          "output_type": "stream",
          "text": [
            "input <Policy \"float32\">\n",
            "efficientnetb0 <Policy \"mixed_float16\">\n",
            "pooling_layer <Policy \"mixed_float16\">\n",
            "dense <Policy \"mixed_float16\">\n",
            "activation <Policy \"float32\">\n"
          ]
        }
      ]
    },
    {
      "cell_type": "code",
      "metadata": {
        "colab": {
          "base_uri": "https://localhost:8080/"
        },
        "id": "2ZOiWLR9tUE8",
        "outputId": "25111882-b02b-46b7-891b-55025bb26bfb"
      },
      "source": [
        "for layer in model.layers[1].layers:\n",
        "  print(layer.name, layer.dtype_policy)"
      ],
      "execution_count": null,
      "outputs": [
        {
          "name": "stdout",
          "output_type": "stream",
          "text": [
            "input_1 <Policy \"float32\">\n",
            "rescaling <Policy \"mixed_float16\">\n",
            "normalization <Policy \"mixed_float16\">\n",
            "stem_conv_pad <Policy \"mixed_float16\">\n",
            "stem_conv <Policy \"mixed_float16\">\n",
            "stem_bn <Policy \"mixed_float16\">\n",
            "stem_activation <Policy \"mixed_float16\">\n",
            "block1a_dwconv <Policy \"mixed_float16\">\n",
            "block1a_bn <Policy \"mixed_float16\">\n",
            "block1a_activation <Policy \"mixed_float16\">\n",
            "block1a_se_squeeze <Policy \"mixed_float16\">\n",
            "block1a_se_reshape <Policy \"mixed_float16\">\n",
            "block1a_se_reduce <Policy \"mixed_float16\">\n",
            "block1a_se_expand <Policy \"mixed_float16\">\n",
            "block1a_se_excite <Policy \"mixed_float16\">\n",
            "block1a_project_conv <Policy \"mixed_float16\">\n",
            "block1a_project_bn <Policy \"mixed_float16\">\n",
            "block2a_expand_conv <Policy \"mixed_float16\">\n",
            "block2a_expand_bn <Policy \"mixed_float16\">\n",
            "block2a_expand_activation <Policy \"mixed_float16\">\n",
            "block2a_dwconv_pad <Policy \"mixed_float16\">\n",
            "block2a_dwconv <Policy \"mixed_float16\">\n",
            "block2a_bn <Policy \"mixed_float16\">\n",
            "block2a_activation <Policy \"mixed_float16\">\n",
            "block2a_se_squeeze <Policy \"mixed_float16\">\n",
            "block2a_se_reshape <Policy \"mixed_float16\">\n",
            "block2a_se_reduce <Policy \"mixed_float16\">\n",
            "block2a_se_expand <Policy \"mixed_float16\">\n",
            "block2a_se_excite <Policy \"mixed_float16\">\n",
            "block2a_project_conv <Policy \"mixed_float16\">\n",
            "block2a_project_bn <Policy \"mixed_float16\">\n",
            "block2b_expand_conv <Policy \"mixed_float16\">\n",
            "block2b_expand_bn <Policy \"mixed_float16\">\n",
            "block2b_expand_activation <Policy \"mixed_float16\">\n",
            "block2b_dwconv <Policy \"mixed_float16\">\n",
            "block2b_bn <Policy \"mixed_float16\">\n",
            "block2b_activation <Policy \"mixed_float16\">\n",
            "block2b_se_squeeze <Policy \"mixed_float16\">\n",
            "block2b_se_reshape <Policy \"mixed_float16\">\n",
            "block2b_se_reduce <Policy \"mixed_float16\">\n",
            "block2b_se_expand <Policy \"mixed_float16\">\n",
            "block2b_se_excite <Policy \"mixed_float16\">\n",
            "block2b_project_conv <Policy \"mixed_float16\">\n",
            "block2b_project_bn <Policy \"mixed_float16\">\n",
            "block2b_drop <Policy \"mixed_float16\">\n",
            "block2b_add <Policy \"mixed_float16\">\n",
            "block3a_expand_conv <Policy \"mixed_float16\">\n",
            "block3a_expand_bn <Policy \"mixed_float16\">\n",
            "block3a_expand_activation <Policy \"mixed_float16\">\n",
            "block3a_dwconv_pad <Policy \"mixed_float16\">\n",
            "block3a_dwconv <Policy \"mixed_float16\">\n",
            "block3a_bn <Policy \"mixed_float16\">\n",
            "block3a_activation <Policy \"mixed_float16\">\n",
            "block3a_se_squeeze <Policy \"mixed_float16\">\n",
            "block3a_se_reshape <Policy \"mixed_float16\">\n",
            "block3a_se_reduce <Policy \"mixed_float16\">\n",
            "block3a_se_expand <Policy \"mixed_float16\">\n",
            "block3a_se_excite <Policy \"mixed_float16\">\n",
            "block3a_project_conv <Policy \"mixed_float16\">\n",
            "block3a_project_bn <Policy \"mixed_float16\">\n",
            "block3b_expand_conv <Policy \"mixed_float16\">\n",
            "block3b_expand_bn <Policy \"mixed_float16\">\n",
            "block3b_expand_activation <Policy \"mixed_float16\">\n",
            "block3b_dwconv <Policy \"mixed_float16\">\n",
            "block3b_bn <Policy \"mixed_float16\">\n",
            "block3b_activation <Policy \"mixed_float16\">\n",
            "block3b_se_squeeze <Policy \"mixed_float16\">\n",
            "block3b_se_reshape <Policy \"mixed_float16\">\n",
            "block3b_se_reduce <Policy \"mixed_float16\">\n",
            "block3b_se_expand <Policy \"mixed_float16\">\n",
            "block3b_se_excite <Policy \"mixed_float16\">\n",
            "block3b_project_conv <Policy \"mixed_float16\">\n",
            "block3b_project_bn <Policy \"mixed_float16\">\n",
            "block3b_drop <Policy \"mixed_float16\">\n",
            "block3b_add <Policy \"mixed_float16\">\n",
            "block4a_expand_conv <Policy \"mixed_float16\">\n",
            "block4a_expand_bn <Policy \"mixed_float16\">\n",
            "block4a_expand_activation <Policy \"mixed_float16\">\n",
            "block4a_dwconv_pad <Policy \"mixed_float16\">\n",
            "block4a_dwconv <Policy \"mixed_float16\">\n",
            "block4a_bn <Policy \"mixed_float16\">\n",
            "block4a_activation <Policy \"mixed_float16\">\n",
            "block4a_se_squeeze <Policy \"mixed_float16\">\n",
            "block4a_se_reshape <Policy \"mixed_float16\">\n",
            "block4a_se_reduce <Policy \"mixed_float16\">\n",
            "block4a_se_expand <Policy \"mixed_float16\">\n",
            "block4a_se_excite <Policy \"mixed_float16\">\n",
            "block4a_project_conv <Policy \"mixed_float16\">\n",
            "block4a_project_bn <Policy \"mixed_float16\">\n",
            "block4b_expand_conv <Policy \"mixed_float16\">\n",
            "block4b_expand_bn <Policy \"mixed_float16\">\n",
            "block4b_expand_activation <Policy \"mixed_float16\">\n",
            "block4b_dwconv <Policy \"mixed_float16\">\n",
            "block4b_bn <Policy \"mixed_float16\">\n",
            "block4b_activation <Policy \"mixed_float16\">\n",
            "block4b_se_squeeze <Policy \"mixed_float16\">\n",
            "block4b_se_reshape <Policy \"mixed_float16\">\n",
            "block4b_se_reduce <Policy \"mixed_float16\">\n",
            "block4b_se_expand <Policy \"mixed_float16\">\n",
            "block4b_se_excite <Policy \"mixed_float16\">\n",
            "block4b_project_conv <Policy \"mixed_float16\">\n",
            "block4b_project_bn <Policy \"mixed_float16\">\n",
            "block4b_drop <Policy \"mixed_float16\">\n",
            "block4b_add <Policy \"mixed_float16\">\n",
            "block4c_expand_conv <Policy \"mixed_float16\">\n",
            "block4c_expand_bn <Policy \"mixed_float16\">\n",
            "block4c_expand_activation <Policy \"mixed_float16\">\n",
            "block4c_dwconv <Policy \"mixed_float16\">\n",
            "block4c_bn <Policy \"mixed_float16\">\n",
            "block4c_activation <Policy \"mixed_float16\">\n",
            "block4c_se_squeeze <Policy \"mixed_float16\">\n",
            "block4c_se_reshape <Policy \"mixed_float16\">\n",
            "block4c_se_reduce <Policy \"mixed_float16\">\n",
            "block4c_se_expand <Policy \"mixed_float16\">\n",
            "block4c_se_excite <Policy \"mixed_float16\">\n",
            "block4c_project_conv <Policy \"mixed_float16\">\n",
            "block4c_project_bn <Policy \"mixed_float16\">\n",
            "block4c_drop <Policy \"mixed_float16\">\n",
            "block4c_add <Policy \"mixed_float16\">\n",
            "block5a_expand_conv <Policy \"mixed_float16\">\n",
            "block5a_expand_bn <Policy \"mixed_float16\">\n",
            "block5a_expand_activation <Policy \"mixed_float16\">\n",
            "block5a_dwconv <Policy \"mixed_float16\">\n",
            "block5a_bn <Policy \"mixed_float16\">\n",
            "block5a_activation <Policy \"mixed_float16\">\n",
            "block5a_se_squeeze <Policy \"mixed_float16\">\n",
            "block5a_se_reshape <Policy \"mixed_float16\">\n",
            "block5a_se_reduce <Policy \"mixed_float16\">\n",
            "block5a_se_expand <Policy \"mixed_float16\">\n",
            "block5a_se_excite <Policy \"mixed_float16\">\n",
            "block5a_project_conv <Policy \"mixed_float16\">\n",
            "block5a_project_bn <Policy \"mixed_float16\">\n",
            "block5b_expand_conv <Policy \"mixed_float16\">\n",
            "block5b_expand_bn <Policy \"mixed_float16\">\n",
            "block5b_expand_activation <Policy \"mixed_float16\">\n",
            "block5b_dwconv <Policy \"mixed_float16\">\n",
            "block5b_bn <Policy \"mixed_float16\">\n",
            "block5b_activation <Policy \"mixed_float16\">\n",
            "block5b_se_squeeze <Policy \"mixed_float16\">\n",
            "block5b_se_reshape <Policy \"mixed_float16\">\n",
            "block5b_se_reduce <Policy \"mixed_float16\">\n",
            "block5b_se_expand <Policy \"mixed_float16\">\n",
            "block5b_se_excite <Policy \"mixed_float16\">\n",
            "block5b_project_conv <Policy \"mixed_float16\">\n",
            "block5b_project_bn <Policy \"mixed_float16\">\n",
            "block5b_drop <Policy \"mixed_float16\">\n",
            "block5b_add <Policy \"mixed_float16\">\n",
            "block5c_expand_conv <Policy \"mixed_float16\">\n",
            "block5c_expand_bn <Policy \"mixed_float16\">\n",
            "block5c_expand_activation <Policy \"mixed_float16\">\n",
            "block5c_dwconv <Policy \"mixed_float16\">\n",
            "block5c_bn <Policy \"mixed_float16\">\n",
            "block5c_activation <Policy \"mixed_float16\">\n",
            "block5c_se_squeeze <Policy \"mixed_float16\">\n",
            "block5c_se_reshape <Policy \"mixed_float16\">\n",
            "block5c_se_reduce <Policy \"mixed_float16\">\n",
            "block5c_se_expand <Policy \"mixed_float16\">\n",
            "block5c_se_excite <Policy \"mixed_float16\">\n",
            "block5c_project_conv <Policy \"mixed_float16\">\n",
            "block5c_project_bn <Policy \"mixed_float16\">\n",
            "block5c_drop <Policy \"mixed_float16\">\n",
            "block5c_add <Policy \"mixed_float16\">\n",
            "block6a_expand_conv <Policy \"mixed_float16\">\n",
            "block6a_expand_bn <Policy \"mixed_float16\">\n",
            "block6a_expand_activation <Policy \"mixed_float16\">\n",
            "block6a_dwconv_pad <Policy \"mixed_float16\">\n",
            "block6a_dwconv <Policy \"mixed_float16\">\n",
            "block6a_bn <Policy \"mixed_float16\">\n",
            "block6a_activation <Policy \"mixed_float16\">\n",
            "block6a_se_squeeze <Policy \"mixed_float16\">\n",
            "block6a_se_reshape <Policy \"mixed_float16\">\n",
            "block6a_se_reduce <Policy \"mixed_float16\">\n",
            "block6a_se_expand <Policy \"mixed_float16\">\n",
            "block6a_se_excite <Policy \"mixed_float16\">\n",
            "block6a_project_conv <Policy \"mixed_float16\">\n",
            "block6a_project_bn <Policy \"mixed_float16\">\n",
            "block6b_expand_conv <Policy \"mixed_float16\">\n",
            "block6b_expand_bn <Policy \"mixed_float16\">\n",
            "block6b_expand_activation <Policy \"mixed_float16\">\n",
            "block6b_dwconv <Policy \"mixed_float16\">\n",
            "block6b_bn <Policy \"mixed_float16\">\n",
            "block6b_activation <Policy \"mixed_float16\">\n",
            "block6b_se_squeeze <Policy \"mixed_float16\">\n",
            "block6b_se_reshape <Policy \"mixed_float16\">\n",
            "block6b_se_reduce <Policy \"mixed_float16\">\n",
            "block6b_se_expand <Policy \"mixed_float16\">\n",
            "block6b_se_excite <Policy \"mixed_float16\">\n",
            "block6b_project_conv <Policy \"mixed_float16\">\n",
            "block6b_project_bn <Policy \"mixed_float16\">\n",
            "block6b_drop <Policy \"mixed_float16\">\n",
            "block6b_add <Policy \"mixed_float16\">\n",
            "block6c_expand_conv <Policy \"mixed_float16\">\n",
            "block6c_expand_bn <Policy \"mixed_float16\">\n",
            "block6c_expand_activation <Policy \"mixed_float16\">\n",
            "block6c_dwconv <Policy \"mixed_float16\">\n",
            "block6c_bn <Policy \"mixed_float16\">\n",
            "block6c_activation <Policy \"mixed_float16\">\n",
            "block6c_se_squeeze <Policy \"mixed_float16\">\n",
            "block6c_se_reshape <Policy \"mixed_float16\">\n",
            "block6c_se_reduce <Policy \"mixed_float16\">\n",
            "block6c_se_expand <Policy \"mixed_float16\">\n",
            "block6c_se_excite <Policy \"mixed_float16\">\n",
            "block6c_project_conv <Policy \"mixed_float16\">\n",
            "block6c_project_bn <Policy \"mixed_float16\">\n",
            "block6c_drop <Policy \"mixed_float16\">\n",
            "block6c_add <Policy \"mixed_float16\">\n",
            "block6d_expand_conv <Policy \"mixed_float16\">\n",
            "block6d_expand_bn <Policy \"mixed_float16\">\n",
            "block6d_expand_activation <Policy \"mixed_float16\">\n",
            "block6d_dwconv <Policy \"mixed_float16\">\n",
            "block6d_bn <Policy \"mixed_float16\">\n",
            "block6d_activation <Policy \"mixed_float16\">\n",
            "block6d_se_squeeze <Policy \"mixed_float16\">\n",
            "block6d_se_reshape <Policy \"mixed_float16\">\n",
            "block6d_se_reduce <Policy \"mixed_float16\">\n",
            "block6d_se_expand <Policy \"mixed_float16\">\n",
            "block6d_se_excite <Policy \"mixed_float16\">\n",
            "block6d_project_conv <Policy \"mixed_float16\">\n",
            "block6d_project_bn <Policy \"mixed_float16\">\n",
            "block6d_drop <Policy \"mixed_float16\">\n",
            "block6d_add <Policy \"mixed_float16\">\n",
            "block7a_expand_conv <Policy \"mixed_float16\">\n",
            "block7a_expand_bn <Policy \"mixed_float16\">\n",
            "block7a_expand_activation <Policy \"mixed_float16\">\n",
            "block7a_dwconv <Policy \"mixed_float16\">\n",
            "block7a_bn <Policy \"mixed_float16\">\n",
            "block7a_activation <Policy \"mixed_float16\">\n",
            "block7a_se_squeeze <Policy \"mixed_float16\">\n",
            "block7a_se_reshape <Policy \"mixed_float16\">\n",
            "block7a_se_reduce <Policy \"mixed_float16\">\n",
            "block7a_se_expand <Policy \"mixed_float16\">\n",
            "block7a_se_excite <Policy \"mixed_float16\">\n",
            "block7a_project_conv <Policy \"mixed_float16\">\n",
            "block7a_project_bn <Policy \"mixed_float16\">\n",
            "top_conv <Policy \"mixed_float16\">\n",
            "top_bn <Policy \"mixed_float16\">\n",
            "top_activation <Policy \"mixed_float16\">\n"
          ]
        }
      ]
    },
    {
      "cell_type": "code",
      "metadata": {
        "colab": {
          "base_uri": "https://localhost:8080/"
        },
        "id": "hQB_kKU3FUoC",
        "outputId": "056d9ca2-6bf0-4629-c84b-617497e75ebe"
      },
      "source": [
        "train"
      ],
      "execution_count": 19,
      "outputs": [
        {
          "output_type": "execute_result",
          "data": {
            "text/plain": [
              "<PrefetchDataset shapes: ((None, 224, 224, 3), (None,)), types: (tf.float32, tf.int64)>"
            ]
          },
          "metadata": {},
          "execution_count": 19
        }
      ]
    },
    {
      "cell_type": "code",
      "metadata": {
        "colab": {
          "base_uri": "https://localhost:8080/"
        },
        "id": "AQkTnS6UKLJu",
        "outputId": "9dd68208-1bab-4d9f-c3a0-67953b3ffe10"
      },
      "source": [
        "test"
      ],
      "execution_count": 20,
      "outputs": [
        {
          "output_type": "execute_result",
          "data": {
            "text/plain": [
              "<PrefetchDataset shapes: ((None, 224, 224, 3), (None,)), types: (tf.float32, tf.int64)>"
            ]
          },
          "metadata": {},
          "execution_count": 20
        }
      ]
    },
    {
      "cell_type": "code",
      "metadata": {
        "colab": {
          "base_uri": "https://localhost:8080/"
        },
        "id": "zmtb2yPXt3ad",
        "outputId": "2fb98d32-a557-4ea0-bb78-ba36cbdb20a8"
      },
      "source": [
        "history = model.fit(train, epochs = 3,\n",
        "                    steps_per_epoch = len(train),\n",
        "                    validation_data = test,\n",
        "                    validation_steps = int(0.10*len(test)),\n",
        "                    callbacks = [checkpoint])"
      ],
      "execution_count": 21,
      "outputs": [
        {
          "metadata": {
            "tags": null
          },
          "name": "stdout",
          "output_type": "stream",
          "text": [
            "Epoch 1/3\n",
            "2368/2368 [==============================] - ETA: 0s - loss: 1.8215 - accuracy: 0.5562WARNING:tensorflow:Can save best model only with val_acc available, skipping.\n"
          ]
        },
        {
          "metadata": {
            "tags": null
          },
          "name": "stderr",
          "output_type": "stream",
          "text": [
            "WARNING:tensorflow:Can save best model only with val_acc available, skipping.\n"
          ]
        },
        {
          "metadata": {
            "tags": null
          },
          "name": "stdout",
          "output_type": "stream",
          "text": [
            "2368/2368 [==============================] - 301s 108ms/step - loss: 1.8215 - accuracy: 0.5562 - val_loss: 1.2182 - val_accuracy: 0.6721\n",
            "Epoch 2/3\n",
            "2367/2368 [============================>.] - ETA: 0s - loss: 1.2938 - accuracy: 0.6651WARNING:tensorflow:Can save best model only with val_acc available, skipping.\n"
          ]
        },
        {
          "metadata": {
            "tags": null
          },
          "name": "stderr",
          "output_type": "stream",
          "text": [
            "WARNING:tensorflow:Can save best model only with val_acc available, skipping.\n"
          ]
        },
        {
          "output_type": "stream",
          "name": "stdout",
          "text": [
            "2368/2368 [==============================] - 244s 102ms/step - loss: 1.2939 - accuracy: 0.6651 - val_loss: 1.1279 - val_accuracy: 0.6998\n",
            "Epoch 3/3\n",
            "2367/2368 [============================>.] - ETA: 0s - loss: 1.1427 - accuracy: 0.7034WARNING:tensorflow:Can save best model only with val_acc available, skipping.\n"
          ]
        },
        {
          "output_type": "stream",
          "name": "stderr",
          "text": [
            "WARNING:tensorflow:Can save best model only with val_acc available, skipping.\n"
          ]
        },
        {
          "output_type": "stream",
          "name": "stdout",
          "text": [
            "\b\b\b\b\b\b\b\b\b\b\b\b\b\b\b\b\b\b\b\b\b\b\b\b\b\b\b\b\b\b\b\b\b\b\b\b\b\b\b\b\b\b\b\b\b\b\b\b\b\b\b\b\b\b\b\b\b\b\b\b\b\b\b\b\b\b\b\b\b\b\b\b\b\b\b\b\b\b\b\b\b\b\b\b\b\b\r2368/2368 [==============================] - 246s 103ms/step - loss: 1.1428 - accuracy: 0.7034 - val_loss: 1.0740 - val_accuracy: 0.7081\n"
          ]
        }
      ]
    },
    {
      "cell_type": "code",
      "metadata": {
        "id": "Ziw8UrDUuvC7",
        "colab": {
          "base_uri": "https://localhost:8080/"
        },
        "outputId": "88b8c7e0-0d67-4702-bfea-759bdaa348b9"
      },
      "source": [
        "model.evaluate(test)"
      ],
      "execution_count": 22,
      "outputs": [
        {
          "output_type": "stream",
          "name": "stdout",
          "text": [
            "790/790 [==============================] - 81s 103ms/step - loss: 1.0892 - accuracy: 0.7045\n"
          ]
        },
        {
          "output_type": "execute_result",
          "data": {
            "text/plain": [
              "[1.08920156955719, 0.7045148611068726]"
            ]
          },
          "metadata": {},
          "execution_count": 22
        }
      ]
    },
    {
      "cell_type": "markdown",
      "metadata": {
        "id": "ZdJqtdNeu9pS"
      },
      "source": [
        "#### Clone model"
      ]
    },
    {
      "cell_type": "code",
      "metadata": {
        "id": "_0il9ZR_u_bx"
      },
      "source": [
        "clone_model = tf.keras.models.clone_model(model)\n",
        "clone_model.load_weights('model_checkpoints/cp.ckpt')"
      ],
      "execution_count": null,
      "outputs": []
    },
    {
      "cell_type": "code",
      "metadata": {
        "id": "vWQWCyOwyMnt"
      },
      "source": [
        "# save to drive\n",
        "model.save('drive/MyDrive/tf2/food101_model')\n",
        "model = tf.keras.models.load_model('drive/MyDrive/tf2/food101_model')"
      ],
      "execution_count": null,
      "outputs": []
    },
    {
      "cell_type": "markdown",
      "metadata": {
        "id": "zIfK7Ei3AUwM"
      },
      "source": [
        "## Fine Tune Model"
      ]
    },
    {
      "cell_type": "markdown",
      "metadata": {
        "id": "7v4CDjpjBDO0"
      },
      "source": [
        "#### More callbacks"
      ]
    },
    {
      "cell_type": "code",
      "metadata": {
        "id": "eDiitVh0xuTn"
      },
      "source": [
        "earlystop = tf.keras.callbacks.EarlyStopping(monitor = 'val_loss',\n",
        "                                              patience = 3)\n",
        "checkpoint = tf.keras.callbacks.ModelCheckpoint('finetuneCheckpoint',\n",
        "                                                save_best_only = True,\n",
        "                                                monitor = 'val_loss')\n",
        "# learning rate reduction callback\n",
        "red_lr = tf.keras.callbacks.ReduceLROnPlateau(monitor = 'val_loss',\n",
        "                                              factor = 0.2, # multiply learning rate by 0.2 (1/5))\n",
        "                                              patience = 2, verbose = 1,\n",
        "                                              min_lr = 1e-7 # set a minimum learning rate\n",
        "                                              )"
      ],
      "execution_count": 25,
      "outputs": []
    },
    {
      "cell_type": "markdown",
      "metadata": {
        "id": "zbMseOgdJigO"
      },
      "source": [
        "Once the validation loss stops improving for two or more epochs, we'll reduce the learning rate by a factor of 5"
      ]
    },
    {
      "cell_type": "code",
      "metadata": {
        "colab": {
          "base_uri": "https://localhost:8080/"
        },
        "id": "DBqTbWGbJi-g",
        "outputId": "470fa66c-35d2-498e-b4cc-1c1e3e9795e5"
      },
      "source": [
        "model.compile(loss=\"sparse_categorical_crossentropy\",\n",
        "              optimizer=tf.keras.optimizers.Adam(0.0001),\n",
        "              metrics=[\"accuracy\"])\n",
        "history_tuned = model.fit(train,epochs = 100,\n",
        "                          steps_per_epoch = len(train),\n",
        "                          validation_data = test,\n",
        "                          validation_steps = int(0.10*len(test)),\n",
        "                          callbacks = [earlystop,checkpoint,red_lr])"
      ],
      "execution_count": 27,
      "outputs": [
        {
          "metadata": {
            "tags": null
          },
          "name": "stdout",
          "output_type": "stream",
          "text": [
            "Epoch 1/100\n",
            "2367/2368 [============================>.] - ETA: 0s - loss: 0.9722 - accuracy: 0.7509INFO:tensorflow:Assets written to: finetuneCheckpoint/assets\n"
          ]
        },
        {
          "metadata": {
            "tags": null
          },
          "name": "stderr",
          "output_type": "stream",
          "text": [
            "INFO:tensorflow:Assets written to: finetuneCheckpoint/assets\n",
            "/usr/local/lib/python3.7/dist-packages/keras/engine/functional.py:1410: CustomMaskWarning: Custom mask layers require a config and must override get_config. When loading, the custom mask layer must be passed to the custom_objects argument.\n",
            "  layer_config = serialize_layer_fn(layer)\n",
            "/usr/local/lib/python3.7/dist-packages/keras/saving/saved_model/layer_serialization.py:112: CustomMaskWarning: Custom mask layers require a config and must override get_config. When loading, the custom mask layer must be passed to the custom_objects argument.\n",
            "  return generic_utils.serialize_keras_object(obj)\n"
          ]
        },
        {
          "metadata": {
            "tags": null
          },
          "name": "stdout",
          "output_type": "stream",
          "text": [
            "2368/2368 [==============================] - 318s 130ms/step - loss: 0.9722 - accuracy: 0.7509 - val_loss: 1.0473 - val_accuracy: 0.7176 - lr: 1.0000e-04\n",
            "Epoch 2/100\n",
            "2367/2368 [============================>.] - ETA: 0s - loss: 0.9550 - accuracy: 0.7564INFO:tensorflow:Assets written to: finetuneCheckpoint/assets\n"
          ]
        },
        {
          "metadata": {
            "tags": null
          },
          "name": "stderr",
          "output_type": "stream",
          "text": [
            "INFO:tensorflow:Assets written to: finetuneCheckpoint/assets\n",
            "/usr/local/lib/python3.7/dist-packages/keras/engine/functional.py:1410: CustomMaskWarning: Custom mask layers require a config and must override get_config. When loading, the custom mask layer must be passed to the custom_objects argument.\n",
            "  layer_config = serialize_layer_fn(layer)\n",
            "/usr/local/lib/python3.7/dist-packages/keras/saving/saved_model/layer_serialization.py:112: CustomMaskWarning: Custom mask layers require a config and must override get_config. When loading, the custom mask layer must be passed to the custom_objects argument.\n",
            "  return generic_utils.serialize_keras_object(obj)\n"
          ]
        },
        {
          "metadata": {
            "tags": null
          },
          "name": "stdout",
          "output_type": "stream",
          "text": [
            "2368/2368 [==============================] - 306s 128ms/step - loss: 0.9549 - accuracy: 0.7564 - val_loss: 1.0457 - val_accuracy: 0.7231 - lr: 1.0000e-04\n",
            "Epoch 3/100\n",
            "2367/2368 [============================>.] - ETA: 0s - loss: 0.9439 - accuracy: 0.7599INFO:tensorflow:Assets written to: finetuneCheckpoint/assets\n"
          ]
        },
        {
          "metadata": {
            "tags": null
          },
          "name": "stderr",
          "output_type": "stream",
          "text": [
            "INFO:tensorflow:Assets written to: finetuneCheckpoint/assets\n",
            "/usr/local/lib/python3.7/dist-packages/keras/engine/functional.py:1410: CustomMaskWarning: Custom mask layers require a config and must override get_config. When loading, the custom mask layer must be passed to the custom_objects argument.\n",
            "  layer_config = serialize_layer_fn(layer)\n",
            "/usr/local/lib/python3.7/dist-packages/keras/saving/saved_model/layer_serialization.py:112: CustomMaskWarning: Custom mask layers require a config and must override get_config. When loading, the custom mask layer must be passed to the custom_objects argument.\n",
            "  return generic_utils.serialize_keras_object(obj)\n"
          ]
        },
        {
          "metadata": {
            "tags": null
          },
          "name": "stdout",
          "output_type": "stream",
          "text": [
            "2368/2368 [==============================] - 303s 127ms/step - loss: 0.9438 - accuracy: 0.7599 - val_loss: 1.0404 - val_accuracy: 0.7207 - lr: 1.0000e-04\n",
            "Epoch 4/100\n",
            "2367/2368 [============================>.] - ETA: 0s - loss: 0.9342 - accuracy: 0.7623INFO:tensorflow:Assets written to: finetuneCheckpoint/assets\n"
          ]
        },
        {
          "metadata": {
            "tags": null
          },
          "name": "stderr",
          "output_type": "stream",
          "text": [
            "INFO:tensorflow:Assets written to: finetuneCheckpoint/assets\n",
            "/usr/local/lib/python3.7/dist-packages/keras/engine/functional.py:1410: CustomMaskWarning: Custom mask layers require a config and must override get_config. When loading, the custom mask layer must be passed to the custom_objects argument.\n",
            "  layer_config = serialize_layer_fn(layer)\n",
            "/usr/local/lib/python3.7/dist-packages/keras/saving/saved_model/layer_serialization.py:112: CustomMaskWarning: Custom mask layers require a config and must override get_config. When loading, the custom mask layer must be passed to the custom_objects argument.\n",
            "  return generic_utils.serialize_keras_object(obj)\n"
          ]
        },
        {
          "output_type": "stream",
          "name": "stdout",
          "text": [
            "2368/2368 [==============================] - 309s 130ms/step - loss: 0.9343 - accuracy: 0.7623 - val_loss: 1.0397 - val_accuracy: 0.7243 - lr: 1.0000e-04\n",
            "Epoch 5/100\n",
            "2367/2368 [============================>.] - ETA: 0s - loss: 0.9255 - accuracy: 0.7654INFO:tensorflow:Assets written to: finetuneCheckpoint/assets\n"
          ]
        },
        {
          "output_type": "stream",
          "name": "stderr",
          "text": [
            "INFO:tensorflow:Assets written to: finetuneCheckpoint/assets\n",
            "/usr/local/lib/python3.7/dist-packages/keras/engine/functional.py:1410: CustomMaskWarning: Custom mask layers require a config and must override get_config. When loading, the custom mask layer must be passed to the custom_objects argument.\n",
            "  layer_config = serialize_layer_fn(layer)\n",
            "/usr/local/lib/python3.7/dist-packages/keras/saving/saved_model/layer_serialization.py:112: CustomMaskWarning: Custom mask layers require a config and must override get_config. When loading, the custom mask layer must be passed to the custom_objects argument.\n",
            "  return generic_utils.serialize_keras_object(obj)\n"
          ]
        },
        {
          "output_type": "stream",
          "name": "stdout",
          "text": [
            "\b\b\b\b\b\b\b\b\b\b\b\b\b\b\b\b\b\b\b\b\b\b\b\b\b\b\b\b\b\b\b\b\b\b\b\b\b\b\b\b\b\b\b\b\b\b\b\b\b\b\b\b\b\b\b\b\b\b\b\b\b\b\b\b\b\b\b\b\b\b\b\b\b\b\b\b\b\b\b\b\b\b\b\b\b\b\r2368/2368 [==============================] - 307s 129ms/step - loss: 0.9255 - accuracy: 0.7654 - val_loss: 1.0392 - val_accuracy: 0.7211 - lr: 1.0000e-04\n",
            "Epoch 6/100\n",
            "2368/2368 [==============================] - 249s 104ms/step - loss: 0.9171 - accuracy: 0.7672 - val_loss: 1.0400 - val_accuracy: 0.7215 - lr: 1.0000e-04\n",
            "Epoch 7/100\n",
            "2367/2368 [============================>.] - ETA: 0s - loss: 0.9091 - accuracy: 0.7694INFO:tensorflow:Assets written to: finetuneCheckpoint/assets\n"
          ]
        },
        {
          "output_type": "stream",
          "name": "stderr",
          "text": [
            "INFO:tensorflow:Assets written to: finetuneCheckpoint/assets\n",
            "/usr/local/lib/python3.7/dist-packages/keras/engine/functional.py:1410: CustomMaskWarning: Custom mask layers require a config and must override get_config. When loading, the custom mask layer must be passed to the custom_objects argument.\n",
            "  layer_config = serialize_layer_fn(layer)\n",
            "/usr/local/lib/python3.7/dist-packages/keras/saving/saved_model/layer_serialization.py:112: CustomMaskWarning: Custom mask layers require a config and must override get_config. When loading, the custom mask layer must be passed to the custom_objects argument.\n",
            "  return generic_utils.serialize_keras_object(obj)\n"
          ]
        },
        {
          "output_type": "stream",
          "name": "stdout",
          "text": [
            "\b\b\b\b\b\b\b\b\b\b\b\b\b\b\b\b\b\b\b\b\b\b\b\b\b\b\b\b\b\b\b\b\b\b\b\b\b\b\b\b\b\b\b\b\b\b\b\b\b\b\b\b\b\b\b\b\b\b\b\b\b\b\b\b\b\b\b\b\b\b\b\b\b\b\b\b\b\b\b\b\b\b\b\b\b\b\r2368/2368 [==============================] - 308s 129ms/step - loss: 0.9091 - accuracy: 0.7694 - val_loss: 1.0309 - val_accuracy: 0.7235 - lr: 1.0000e-04\n",
            "Epoch 8/100\n",
            "2368/2368 [==============================] - 249s 104ms/step - loss: 0.9014 - accuracy: 0.7713 - val_loss: 1.0314 - val_accuracy: 0.7219 - lr: 1.0000e-04\n",
            "Epoch 9/100\n",
            "2367/2368 [============================>.] - ETA: 0s - loss: 0.8940 - accuracy: 0.7740INFO:tensorflow:Assets written to: finetuneCheckpoint/assets\n"
          ]
        },
        {
          "output_type": "stream",
          "name": "stderr",
          "text": [
            "INFO:tensorflow:Assets written to: finetuneCheckpoint/assets\n",
            "/usr/local/lib/python3.7/dist-packages/keras/engine/functional.py:1410: CustomMaskWarning: Custom mask layers require a config and must override get_config. When loading, the custom mask layer must be passed to the custom_objects argument.\n",
            "  layer_config = serialize_layer_fn(layer)\n",
            "/usr/local/lib/python3.7/dist-packages/keras/saving/saved_model/layer_serialization.py:112: CustomMaskWarning: Custom mask layers require a config and must override get_config. When loading, the custom mask layer must be passed to the custom_objects argument.\n",
            "  return generic_utils.serialize_keras_object(obj)\n"
          ]
        },
        {
          "output_type": "stream",
          "name": "stdout",
          "text": [
            "\b\b\b\b\b\b\b\b\b\b\b\b\b\b\b\b\b\b\b\b\b\b\b\b\b\b\b\b\b\b\b\b\b\b\b\b\b\b\b\b\b\b\b\b\b\b\b\b\b\b\b\b\b\b\b\b\b\b\b\b\b\b\b\b\b\b\b\b\b\b\b\b\b\b\b\b\b\b\b\b\b\b\b\b\b\b\r2368/2368 [==============================] - 305s 128ms/step - loss: 0.8941 - accuracy: 0.7740 - val_loss: 1.0307 - val_accuracy: 0.7231 - lr: 1.0000e-04\n",
            "Epoch 10/100\n",
            "2367/2368 [============================>.] - ETA: 0s - loss: 0.8867 - accuracy: 0.7758INFO:tensorflow:Assets written to: finetuneCheckpoint/assets\n"
          ]
        },
        {
          "output_type": "stream",
          "name": "stderr",
          "text": [
            "INFO:tensorflow:Assets written to: finetuneCheckpoint/assets\n",
            "/usr/local/lib/python3.7/dist-packages/keras/engine/functional.py:1410: CustomMaskWarning: Custom mask layers require a config and must override get_config. When loading, the custom mask layer must be passed to the custom_objects argument.\n",
            "  layer_config = serialize_layer_fn(layer)\n",
            "/usr/local/lib/python3.7/dist-packages/keras/saving/saved_model/layer_serialization.py:112: CustomMaskWarning: Custom mask layers require a config and must override get_config. When loading, the custom mask layer must be passed to the custom_objects argument.\n",
            "  return generic_utils.serialize_keras_object(obj)\n"
          ]
        },
        {
          "output_type": "stream",
          "name": "stdout",
          "text": [
            "\b\b\b\b\b\b\b\b\b\b\b\b\b\b\b\b\b\b\b\b\b\b\b\b\b\b\b\b\b\b\b\b\b\b\b\b\b\b\b\b\b\b\b\b\b\b\b\b\b\b\b\b\b\b\b\b\b\b\b\b\b\b\b\b\b\b\b\b\b\b\b\b\b\b\b\b\b\b\b\b\b\b\b\b\b\b\r2368/2368 [==============================] - 304s 128ms/step - loss: 0.8866 - accuracy: 0.7758 - val_loss: 1.0271 - val_accuracy: 0.7239 - lr: 1.0000e-04\n",
            "Epoch 11/100\n",
            "2368/2368 [==============================] - 247s 103ms/step - loss: 0.8797 - accuracy: 0.7779 - val_loss: 1.0280 - val_accuracy: 0.7271 - lr: 1.0000e-04\n",
            "Epoch 12/100\n",
            "2367/2368 [============================>.] - ETA: 0s - loss: 0.8726 - accuracy: 0.7797\n",
            "Epoch 00012: ReduceLROnPlateau reducing learning rate to 1.9999999494757503e-05.\n",
            "2368/2368 [==============================] - 247s 103ms/step - loss: 0.8726 - accuracy: 0.7797 - val_loss: 1.0326 - val_accuracy: 0.7231 - lr: 1.0000e-04\n",
            "Epoch 13/100\n",
            "2368/2368 [==============================] - 247s 103ms/step - loss: 0.8573 - accuracy: 0.7845 - val_loss: 1.0292 - val_accuracy: 0.7207 - lr: 2.0000e-05\n"
          ]
        }
      ]
    },
    {
      "cell_type": "code",
      "metadata": {
        "colab": {
          "base_uri": "https://localhost:8080/"
        },
        "id": "7-lZfSkEB6rA",
        "outputId": "c07e2564-a84c-452c-b198-1ea4c1acc4ff"
      },
      "source": [
        "model.evaluate(test)"
      ],
      "execution_count": 28,
      "outputs": [
        {
          "output_type": "stream",
          "name": "stdout",
          "text": [
            "790/790 [==============================] - 75s 94ms/step - loss: 1.0318 - accuracy: 0.7205\n"
          ]
        },
        {
          "output_type": "execute_result",
          "data": {
            "text/plain": [
              "[1.031782627105713, 0.7205148339271545]"
            ]
          },
          "metadata": {},
          "execution_count": 28
        }
      ]
    },
    {
      "cell_type": "code",
      "metadata": {
        "colab": {
          "base_uri": "https://localhost:8080/",
          "height": 282
        },
        "id": "n-d04ACDZGfF",
        "outputId": "4fdf12d4-d958-4373-8e92-425b5b041d93"
      },
      "source": [
        "pd.DataFrame(history_tuned.history)[['accuracy','val_accuracy']].plot()"
      ],
      "execution_count": 30,
      "outputs": [
        {
          "output_type": "execute_result",
          "data": {
            "text/plain": [
              "<matplotlib.axes._subplots.AxesSubplot at 0x7f90236c3a10>"
            ]
          },
          "metadata": {},
          "execution_count": 30
        },
        {
          "output_type": "display_data",
          "data": {
            "image/png": "[encoded data removed]",
            "text/plain": [
              "<Figure size 432x288 with 1 Axes>"
            ]
          },
          "metadata": {
            "needs_background": "light"
          }
        }
      ]
    },
    {
      "cell_type": "code",
      "metadata": {
        "id": "tI0Wth8fZt_t"
      },
      "source": [
        ""
      ],
      "execution_count": null,
      "outputs": []
    }
  ]
}