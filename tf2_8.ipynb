{
  "nbformat": 4,
  "nbformat_minor": 0,
  "metadata": {
    "colab": {
      "name": "tf2_8.ipynb",
      "provenance": [],
      "collapsed_sections": [
        "J40eRLecZU6A",
        "aaFh_b59b3cl",
        "x2MBjLXQcJTb",
        "5Hn-lwHmAH9r",
        "4FWCvLPdBBoB",
        "GjgPZ_eYGi2u"
      ],
      "authorship_tag": "ABX9TyOxrih3g4WmeNw6k/j7CH5k",
      "include_colab_link": true
    },
    "kernelspec": {
      "name": "python3",
      "display_name": "Python 3"
    },
    "language_info": {
      "name": "python"
    },
    "accelerator": "GPU"
  },
  "cells": [
    {
      "cell_type": "markdown",
      "metadata": {
        "id": "view-in-github",
        "colab_type": "text"
      },
      "source": [
        "<a href=\"https://colab.research.google.com/github/JaperTai77/Tensorflow_DL/blob/main/tf2_8.ipynb\" target=\"_parent\"><img src=\"https://colab.research.google.com/assets/colab-badge.svg\" alt=\"Open In Colab\"/></a>"
      ]
    },
    {
      "cell_type": "markdown",
      "metadata": {
        "id": "iYIKej6OZP1n"
      },
      "source": [
        "# NLP Skimlit"
      ]
    },
    {
      "cell_type": "markdown",
      "metadata": {
        "id": "J40eRLecZU6A"
      },
      "source": [
        "## Preparation"
      ]
    },
    {
      "cell_type": "markdown",
      "metadata": {
        "id": "aaFh_b59b3cl"
      },
      "source": [
        "#### Import data"
      ]
    },
    {
      "cell_type": "code",
      "metadata": {
        "colab": {
          "base_uri": "https://localhost:8080/"
        },
        "id": "FDl7WKFnY2dU",
        "outputId": "d8b78400-c768-4f82-f663-575e107e2b64"
      },
      "source": [
        "!git clone https://github.com/Franck-Dernoncourt/pubmed-rct.git\n",
        "!ls pubmed-rct"
      ],
      "execution_count": 1,
      "outputs": [
        {
          "output_type": "stream",
          "name": "stdout",
          "text": [
            "Cloning into 'pubmed-rct'...\n",
            "remote: Enumerating objects: 33, done.\u001b[K\n",
            "remote: Counting objects: 100% (3/3), done.\u001b[K\n",
            "remote: Compressing objects: 100% (3/3), done.\u001b[K\n",
            "remote: Total 33 (delta 0), reused 0 (delta 0), pack-reused 30\u001b[K\n",
            "Unpacking objects: 100% (33/33), done.\n",
            "PubMed_200k_RCT\n",
            "PubMed_200k_RCT_numbers_replaced_with_at_sign\n",
            "PubMed_20k_RCT\n",
            "PubMed_20k_RCT_numbers_replaced_with_at_sign\n",
            "README.md\n"
          ]
        }
      ]
    },
    {
      "cell_type": "code",
      "metadata": {
        "colab": {
          "base_uri": "https://localhost:8080/"
        },
        "id": "G6w6C0JKb3Ho",
        "outputId": "8e76f032-cb8c-4f2d-cd2a-7016473cc2ae"
      },
      "source": [
        "import os\n",
        "data_dir = \"pubmed-rct/PubMed_20k_RCT_numbers_replaced_with_at_sign/\"\n",
        "filenames = [data_dir + filename for filename in os.listdir(data_dir)]\n",
        "filenames"
      ],
      "execution_count": 2,
      "outputs": [
        {
          "output_type": "execute_result",
          "data": {
            "text/plain": [
              "['pubmed-rct/PubMed_20k_RCT_numbers_replaced_with_at_sign/train.txt',\n",
              " 'pubmed-rct/PubMed_20k_RCT_numbers_replaced_with_at_sign/test.txt',\n",
              " 'pubmed-rct/PubMed_20k_RCT_numbers_replaced_with_at_sign/dev.txt']"
            ]
          },
          "metadata": {},
          "execution_count": 2
        }
      ]
    },
    {
      "cell_type": "markdown",
      "metadata": {
        "id": "x2MBjLXQcJTb"
      },
      "source": [
        "#### Preprocess data into dataframe"
      ]
    },
    {
      "cell_type": "code",
      "metadata": {
        "id": "7yWJWEOAcD-S"
      },
      "source": [
        "def openfile(path):\n",
        "  with open(path,'r') as f:\n",
        "    return f.readlines()"
      ],
      "execution_count": 3,
      "outputs": []
    },
    {
      "cell_type": "code",
      "metadata": {
        "colab": {
          "base_uri": "https://localhost:8080/"
        },
        "id": "aVhn6q1Kc4iI",
        "outputId": "1bbd528d-9979-41e6-b51e-85b6ae7940c1"
      },
      "source": [
        "openfile(path = data_dir+'train.txt')[:20]"
      ],
      "execution_count": 4,
      "outputs": [
        {
          "output_type": "execute_result",
          "data": {
            "text/plain": [
              "['###24293578\\n',\n",
              " 'OBJECTIVE\\tTo investigate the efficacy of @ weeks of daily low-dose oral prednisolone in improving pain , mobility , and systemic low-grade inflammation in the short term and whether the effect would be sustained at @ weeks in older adults with moderate to severe knee osteoarthritis ( OA ) .\\n',\n",
              " 'METHODS\\tA total of @ patients with primary knee OA were randomized @:@ ; @ received @ mg/day of prednisolone and @ received placebo for @ weeks .\\n',\n",
              " 'METHODS\\tOutcome measures included pain reduction and improvement in function scores and systemic inflammation markers .\\n',\n",
              " 'METHODS\\tPain was assessed using the visual analog pain scale ( @-@ mm ) .\\n',\n",
              " 'METHODS\\tSecondary outcome measures included the Western Ontario and McMaster Universities Osteoarthritis Index scores , patient global assessment ( PGA ) of the severity of knee OA , and @-min walk distance ( @MWD ) .\\n',\n",
              " 'METHODS\\tSerum levels of interleukin @ ( IL-@ ) , IL-@ , tumor necrosis factor ( TNF ) - , and high-sensitivity C-reactive protein ( hsCRP ) were measured .\\n',\n",
              " 'RESULTS\\tThere was a clinically relevant reduction in the intervention group compared to the placebo group for knee pain , physical function , PGA , and @MWD at @ weeks .\\n',\n",
              " 'RESULTS\\tThe mean difference between treatment arms ( @ % CI ) was @ ( @-@ @ ) , p < @ ; @ ( @-@ @ ) , p < @ ; @ ( @-@ @ ) , p < @ ; and @ ( @-@ @ ) , p < @ , respectively .\\n',\n",
              " 'RESULTS\\tFurther , there was a clinically relevant reduction in the serum levels of IL-@ , IL-@ , TNF - , and hsCRP at @ weeks in the intervention group when compared to the placebo group .\\n',\n",
              " 'RESULTS\\tThese differences remained significant at @ weeks .\\n',\n",
              " 'RESULTS\\tThe Outcome Measures in Rheumatology Clinical Trials-Osteoarthritis Research Society International responder rate was @ % in the intervention group and @ % in the placebo group ( p < @ ) .\\n',\n",
              " 'CONCLUSIONS\\tLow-dose oral prednisolone had both a short-term and a longer sustained effect resulting in less knee pain , better physical function , and attenuation of systemic inflammation in older patients with knee OA ( ClinicalTrials.gov identifier NCT@ ) .\\n',\n",
              " '\\n',\n",
              " '###24854809\\n',\n",
              " 'BACKGROUND\\tEmotional eating is associated with overeating and the development of obesity .\\n',\n",
              " 'BACKGROUND\\tYet , empirical evidence for individual ( trait ) differences in emotional eating and cognitive mechanisms that contribute to eating during sad mood remain equivocal .\\n',\n",
              " 'OBJECTIVE\\tThe aim of this study was to test if attention bias for food moderates the effect of self-reported emotional eating during sad mood ( vs neutral mood ) on actual food intake .\\n',\n",
              " 'OBJECTIVE\\tIt was expected that emotional eating is predictive of elevated attention for food and higher food intake after an experimentally induced sad mood and that attentional maintenance on food predicts food intake during a sad versus a neutral mood .\\n',\n",
              " 'METHODS\\tParticipants ( N = @ ) were randomly assigned to one of the two experimental mood induction conditions ( sad/neutral ) .\\n']"
            ]
          },
          "metadata": {},
          "execution_count": 4
        }
      ]
    },
    {
      "cell_type": "code",
      "metadata": {
        "colab": {
          "base_uri": "https://localhost:8080/"
        },
        "id": "_L0elw4w4Tgi",
        "outputId": "d9a61a9b-8296-4791-e4f1-d95ff72f5049"
      },
      "source": [
        "'hello\\nthis is the code'.isspace()"
      ],
      "execution_count": 5,
      "outputs": [
        {
          "output_type": "execute_result",
          "data": {
            "text/plain": [
              "False"
            ]
          },
          "metadata": {},
          "execution_count": 5
        }
      ]
    },
    {
      "cell_type": "code",
      "metadata": {
        "colab": {
          "base_uri": "https://localhost:8080/"
        },
        "id": "olJ6DSqHk40i",
        "outputId": "841f0f8d-947c-4dcc-b8c1-25e2b689d6d0"
      },
      "source": [
        "'hello\\nthis is the code'.splitlines()"
      ],
      "execution_count": 6,
      "outputs": [
        {
          "output_type": "execute_result",
          "data": {
            "text/plain": [
              "['hello', 'this is the code']"
            ]
          },
          "metadata": {},
          "execution_count": 6
        }
      ]
    },
    {
      "cell_type": "code",
      "metadata": {
        "id": "lytpOv-KdBCN"
      },
      "source": [
        "def preprocess_text(path):\n",
        "  input_lines = openfile(path)\n",
        "  abstract_lines = \"\"\n",
        "  abstract_samples = []\n",
        "\n",
        "  for line in input_lines:\n",
        "    if line.startswith('###'):\n",
        "      abstract_id = line\n",
        "      abstract_lines = ''\n",
        "    elif line.isspace():\n",
        "      abstract_split = abstract_lines.splitlines() # split abstract into seperate line\n",
        "\n",
        "      for abstract_line_num, abstract_line in enumerate(abstract_split):\n",
        "        line_data = {}\n",
        "        target_text = abstract_line.split(\"\\t\")\n",
        "        line_data['target'] = target_text[0]\n",
        "        line_data['text'] = target_text[1].lower()\n",
        "        line_data['line_num'] = abstract_line_num\n",
        "        line_data['total_lines'] = len(abstract_split)-1 # start from 0\n",
        "        abstract_samples.append(line_data)\n",
        "    else:\n",
        "      abstract_lines += line\n",
        "  return abstract_samples\n"
      ],
      "execution_count": 7,
      "outputs": []
    },
    {
      "cell_type": "code",
      "metadata": {
        "id": "a1wjR9Ov78N4"
      },
      "source": [
        "train_samples = preprocess_text(data_dir+'train.txt')\n",
        "val_samples = preprocess_text(data_dir+'dev.txt')\n",
        "test_samples = preprocess_text(data_dir+'test.txt')"
      ],
      "execution_count": 8,
      "outputs": []
    },
    {
      "cell_type": "code",
      "metadata": {
        "colab": {
          "base_uri": "https://localhost:8080/"
        },
        "id": "Kfl5qdRO8uxq",
        "outputId": "cc8007b4-e9f5-4500-abcd-88c0d7c8f430"
      },
      "source": [
        "print(len(train_samples), len(val_samples), len(test_samples))"
      ],
      "execution_count": 9,
      "outputs": [
        {
          "output_type": "stream",
          "name": "stdout",
          "text": [
            "180040 30212 30135\n"
          ]
        }
      ]
    },
    {
      "cell_type": "code",
      "metadata": {
        "colab": {
          "base_uri": "https://localhost:8080/"
        },
        "id": "A-DBSXdR8y_g",
        "outputId": "d830cbed-f7af-439e-bba4-35afd4028696"
      },
      "source": [
        "train_samples[:5]"
      ],
      "execution_count": 10,
      "outputs": [
        {
          "output_type": "execute_result",
          "data": {
            "text/plain": [
              "[{'line_num': 0,\n",
              "  'target': 'OBJECTIVE',\n",
              "  'text': 'to investigate the efficacy of @ weeks of daily low-dose oral prednisolone in improving pain , mobility , and systemic low-grade inflammation in the short term and whether the effect would be sustained at @ weeks in older adults with moderate to severe knee osteoarthritis ( oa ) .',\n",
              "  'total_lines': 11},\n",
              " {'line_num': 1,\n",
              "  'target': 'METHODS',\n",
              "  'text': 'a total of @ patients with primary knee oa were randomized @:@ ; @ received @ mg/day of prednisolone and @ received placebo for @ weeks .',\n",
              "  'total_lines': 11},\n",
              " {'line_num': 2,\n",
              "  'target': 'METHODS',\n",
              "  'text': 'outcome measures included pain reduction and improvement in function scores and systemic inflammation markers .',\n",
              "  'total_lines': 11},\n",
              " {'line_num': 3,\n",
              "  'target': 'METHODS',\n",
              "  'text': 'pain was assessed using the visual analog pain scale ( @-@ mm ) .',\n",
              "  'total_lines': 11},\n",
              " {'line_num': 4,\n",
              "  'target': 'METHODS',\n",
              "  'text': 'secondary outcome measures included the western ontario and mcmaster universities osteoarthritis index scores , patient global assessment ( pga ) of the severity of knee oa , and @-min walk distance ( @mwd ) .',\n",
              "  'total_lines': 11}]"
            ]
          },
          "metadata": {},
          "execution_count": 10
        }
      ]
    },
    {
      "cell_type": "code",
      "metadata": {
        "colab": {
          "base_uri": "https://localhost:8080/",
          "height": 221
        },
        "id": "P-7PzNV_9o45",
        "outputId": "f0030851-9cfd-4341-c502-efd419c94c24"
      },
      "source": [
        "import pandas as pd\n",
        "df_train = pd.DataFrame(train_samples)\n",
        "df_val = pd.DataFrame(val_samples)\n",
        "df_test = pd.DataFrame(test_samples)\n",
        "df_train.head(5)"
      ],
      "execution_count": 11,
      "outputs": [
        {
          "output_type": "execute_result",
          "data": {
            "text/html": [
              "<div>\n",
              "<style scoped>\n",
              "    .dataframe tbody tr th:only-of-type {\n",
              "        vertical-align: middle;\n",
              "    }\n",
              "\n",
              "    .dataframe tbody tr th {\n",
              "        vertical-align: top;\n",
              "    }\n",
              "\n",
              "    .dataframe thead th {\n",
              "        text-align: right;\n",
              "    }\n",
              "</style>\n",
              "<table border=\"1\" class=\"dataframe\">\n",
              "  <thead>\n",
              "    <tr style=\"text-align: right;\">\n",
              "      <th></th>\n",
              "      <th>target</th>\n",
              "      <th>text</th>\n",
              "      <th>line_num</th>\n",
              "      <th>total_lines</th>\n",
              "    </tr>\n",
              "  </thead>\n",
              "  <tbody>\n",
              "    <tr>\n",
              "      <th>0</th>\n",
              "      <td>OBJECTIVE</td>\n",
              "      <td>to investigate the efficacy of @ weeks of dail...</td>\n",
              "      <td>0</td>\n",
              "      <td>11</td>\n",
              "    </tr>\n",
              "    <tr>\n",
              "      <th>1</th>\n",
              "      <td>METHODS</td>\n",
              "      <td>a total of @ patients with primary knee oa wer...</td>\n",
              "      <td>1</td>\n",
              "      <td>11</td>\n",
              "    </tr>\n",
              "    <tr>\n",
              "      <th>2</th>\n",
              "      <td>METHODS</td>\n",
              "      <td>outcome measures included pain reduction and i...</td>\n",
              "      <td>2</td>\n",
              "      <td>11</td>\n",
              "    </tr>\n",
              "    <tr>\n",
              "      <th>3</th>\n",
              "      <td>METHODS</td>\n",
              "      <td>pain was assessed using the visual analog pain...</td>\n",
              "      <td>3</td>\n",
              "      <td>11</td>\n",
              "    </tr>\n",
              "    <tr>\n",
              "      <th>4</th>\n",
              "      <td>METHODS</td>\n",
              "      <td>secondary outcome measures included the wester...</td>\n",
              "      <td>4</td>\n",
              "      <td>11</td>\n",
              "    </tr>\n",
              "  </tbody>\n",
              "</table>\n",
              "</div>"
            ],
            "text/plain": [
              "      target  ... total_lines\n",
              "0  OBJECTIVE  ...          11\n",
              "1    METHODS  ...          11\n",
              "2    METHODS  ...          11\n",
              "3    METHODS  ...          11\n",
              "4    METHODS  ...          11\n",
              "\n",
              "[5 rows x 4 columns]"
            ]
          },
          "metadata": {},
          "execution_count": 11
        }
      ]
    },
    {
      "cell_type": "code",
      "metadata": {
        "colab": {
          "base_uri": "https://localhost:8080/",
          "height": 282
        },
        "id": "cEsyej60-VS0",
        "outputId": "7fc4af1f-e6eb-4cd6-9c5a-4cdb2b2328e1"
      },
      "source": [
        "df_train['target'].value_counts().plot(kind = 'barh')"
      ],
      "execution_count": 12,
      "outputs": [
        {
          "output_type": "execute_result",
          "data": {
            "text/plain": [
              "<matplotlib.axes._subplots.AxesSubplot at 0x7f20b7aacc50>"
            ]
          },
          "metadata": {},
          "execution_count": 12
        },
        {
          "output_type": "display_data",
          "data": {
            "image/png": "[encoded data removed]",
            "text/plain": [
              "<Figure size 432x288 with 1 Axes>"
            ]
          },
          "metadata": {
            "needs_background": "light"
          }
        }
      ]
    },
    {
      "cell_type": "markdown",
      "metadata": {
        "id": "5Hn-lwHmAH9r"
      },
      "source": [
        "#### Get listed sentence"
      ]
    },
    {
      "cell_type": "code",
      "metadata": {
        "id": "xBEf-Zrs-gRU"
      },
      "source": [
        "train_sent = df_train['text'].tolist()\n",
        "val_sent = df_val['text'].tolist()\n",
        "test_sent = df_test['text'].tolist()"
      ],
      "execution_count": 13,
      "outputs": []
    },
    {
      "cell_type": "code",
      "metadata": {
        "colab": {
          "base_uri": "https://localhost:8080/"
        },
        "id": "-eJ4Vs3jAlEc",
        "outputId": "32f62ef1-3ec4-4396-fffb-3758ccd40024"
      },
      "source": [
        "train_sent[:10]"
      ],
      "execution_count": 14,
      "outputs": [
        {
          "output_type": "execute_result",
          "data": {
            "text/plain": [
              "['to investigate the efficacy of @ weeks of daily low-dose oral prednisolone in improving pain , mobility , and systemic low-grade inflammation in the short term and whether the effect would be sustained at @ weeks in older adults with moderate to severe knee osteoarthritis ( oa ) .',\n",
              " 'a total of @ patients with primary knee oa were randomized @:@ ; @ received @ mg/day of prednisolone and @ received placebo for @ weeks .',\n",
              " 'outcome measures included pain reduction and improvement in function scores and systemic inflammation markers .',\n",
              " 'pain was assessed using the visual analog pain scale ( @-@ mm ) .',\n",
              " 'secondary outcome measures included the western ontario and mcmaster universities osteoarthritis index scores , patient global assessment ( pga ) of the severity of knee oa , and @-min walk distance ( @mwd ) .',\n",
              " 'serum levels of interleukin @ ( il-@ ) , il-@ , tumor necrosis factor ( tnf ) - , and high-sensitivity c-reactive protein ( hscrp ) were measured .',\n",
              " 'there was a clinically relevant reduction in the intervention group compared to the placebo group for knee pain , physical function , pga , and @mwd at @ weeks .',\n",
              " 'the mean difference between treatment arms ( @ % ci ) was @ ( @-@ @ ) , p < @ ; @ ( @-@ @ ) , p < @ ; @ ( @-@ @ ) , p < @ ; and @ ( @-@ @ ) , p < @ , respectively .',\n",
              " 'further , there was a clinically relevant reduction in the serum levels of il-@ , il-@ , tnf - , and hscrp at @ weeks in the intervention group when compared to the placebo group .',\n",
              " 'these differences remained significant at @ weeks .']"
            ]
          },
          "metadata": {},
          "execution_count": 14
        }
      ]
    },
    {
      "cell_type": "markdown",
      "metadata": {
        "id": "4FWCvLPdBBoB"
      },
      "source": [
        "#### Onehot encode"
      ]
    },
    {
      "cell_type": "code",
      "metadata": {
        "colab": {
          "base_uri": "https://localhost:8080/"
        },
        "id": "iNQOtb99Ama0",
        "outputId": "798c4cad-1719-4228-a27e-09c51e51de9b"
      },
      "source": [
        "from sklearn.preprocessing import OneHotEncoder\n",
        "# could also use tf.onehot\n",
        "encoder = OneHotEncoder(sparse = False) # non-sparse matrix\n",
        "train_labels = encoder.fit_transform(df_train['target'].to_numpy().reshape(-1,1))\n",
        "val_labels = encoder.transform(df_val[\"target\"].to_numpy().reshape(-1, 1))\n",
        "test_labels = encoder.transform(df_test[\"target\"].to_numpy().reshape(-1, 1))\n",
        "\n",
        "train_labels.shape"
      ],
      "execution_count": 15,
      "outputs": [
        {
          "output_type": "execute_result",
          "data": {
            "text/plain": [
              "(180040, 5)"
            ]
          },
          "metadata": {},
          "execution_count": 15
        }
      ]
    },
    {
      "cell_type": "markdown",
      "metadata": {
        "id": "GjgPZ_eYGi2u"
      },
      "source": [
        "#### Label encode"
      ]
    },
    {
      "cell_type": "code",
      "metadata": {
        "colab": {
          "base_uri": "https://localhost:8080/"
        },
        "id": "GDzz6I7GGWeO",
        "outputId": "286f8ef4-b22a-4155-98be-fb24395c6d3f"
      },
      "source": [
        "from sklearn.preprocessing import LabelEncoder\n",
        "encoder2 = LabelEncoder()\n",
        "train_labels2 = encoder2.fit_transform(df_train[\"target\"].to_numpy())\n",
        "val_labels2 = encoder2.transform(df_val[\"target\"].to_numpy())\n",
        "test_labels2 = encoder2.transform(df_test[\"target\"].to_numpy())\n",
        "\n",
        "train_labels2"
      ],
      "execution_count": 16,
      "outputs": [
        {
          "output_type": "execute_result",
          "data": {
            "text/plain": [
              "array([3, 2, 2, ..., 4, 1, 1])"
            ]
          },
          "metadata": {},
          "execution_count": 16
        }
      ]
    },
    {
      "cell_type": "code",
      "metadata": {
        "colab": {
          "base_uri": "https://localhost:8080/"
        },
        "id": "_47-FkBaPRSr",
        "outputId": "da08ea6a-18d3-45d8-f3c4-34ff6f3eda30"
      },
      "source": [
        "train_labels2.shape"
      ],
      "execution_count": 17,
      "outputs": [
        {
          "output_type": "execute_result",
          "data": {
            "text/plain": [
              "(180040,)"
            ]
          },
          "metadata": {},
          "execution_count": 17
        }
      ]
    },
    {
      "cell_type": "code",
      "metadata": {
        "colab": {
          "base_uri": "https://localhost:8080/"
        },
        "id": "wVJCigMbH0QA",
        "outputId": "8aabd2f2-5814-444f-9fae-5bd99f6390db"
      },
      "source": [
        "class_name = encoder2.classes_\n",
        "class_name"
      ],
      "execution_count": 18,
      "outputs": [
        {
          "output_type": "execute_result",
          "data": {
            "text/plain": [
              "array(['BACKGROUND', 'CONCLUSIONS', 'METHODS', 'OBJECTIVE', 'RESULTS'],\n",
              "      dtype=object)"
            ]
          },
          "metadata": {},
          "execution_count": 18
        }
      ]
    },
    {
      "cell_type": "markdown",
      "metadata": {
        "id": "DBtxqQ4yIHFi"
      },
      "source": [
        "## Models"
      ]
    },
    {
      "cell_type": "markdown",
      "metadata": {
        "id": "TmJdtAirIMQo"
      },
      "source": [
        "### Model 0 (Naive Bayes)"
      ]
    },
    {
      "cell_type": "code",
      "metadata": {
        "id": "Pt4vpRNiH5LT",
        "colab": {
          "base_uri": "https://localhost:8080/"
        },
        "outputId": "3811875b-6a8b-40d0-c844-c440c52168e7"
      },
      "source": [
        "from sklearn.feature_extraction.text import TfidfVectorizer\n",
        "from sklearn.naive_bayes import MultinomialNB\n",
        "from sklearn.pipeline import Pipeline\n",
        "\n",
        "model0 = Pipeline([\n",
        "                   ('tfidf', TfidfVectorizer()),\n",
        "                   ('clf', MultinomialNB())\n",
        "])\n",
        "model0.fit(train_sent,train_labels2) # onehot not acceptable"
      ],
      "execution_count": null,
      "outputs": [
        {
          "output_type": "execute_result",
          "data": {
            "text/plain": [
              "Pipeline(steps=[('tfidf', TfidfVectorizer()), ('clf', MultinomialNB())])"
            ]
          },
          "metadata": {},
          "execution_count": 12
        }
      ]
    },
    {
      "cell_type": "code",
      "metadata": {
        "colab": {
          "base_uri": "https://localhost:8080/"
        },
        "id": "C5zkBWw8PVA6",
        "outputId": "f36d7b5e-922a-435d-89d3-ba9bc71922ec"
      },
      "source": [
        "model0.score(val_sent,val_labels2)"
      ],
      "execution_count": null,
      "outputs": [
        {
          "output_type": "execute_result",
          "data": {
            "text/plain": [
              "0.7218323844829869"
            ]
          },
          "metadata": {},
          "execution_count": 14
        }
      ]
    },
    {
      "cell_type": "code",
      "metadata": {
        "colab": {
          "base_uri": "https://localhost:8080/"
        },
        "id": "AWZCWitTPZwO",
        "outputId": "f98f5504-cc92-4ca5-f315-7831cf36d970"
      },
      "source": [
        "pred0 = model0.predict(val_sent)\n",
        "\n",
        "from sklearn.metrics import classification_report\n",
        "print(classification_report(val_labels2,pred0))"
      ],
      "execution_count": null,
      "outputs": [
        {
          "output_type": "stream",
          "name": "stdout",
          "text": [
            "              precision    recall  f1-score   support\n",
            "\n",
            "           0       0.66      0.49      0.56      3449\n",
            "           1       0.65      0.59      0.61      4582\n",
            "           2       0.72      0.87      0.79      9964\n",
            "           3       0.75      0.14      0.23      2376\n",
            "           4       0.76      0.86      0.81      9841\n",
            "\n",
            "    accuracy                           0.72     30212\n",
            "   macro avg       0.71      0.59      0.60     30212\n",
            "weighted avg       0.72      0.72      0.70     30212\n",
            "\n"
          ]
        }
      ]
    },
    {
      "cell_type": "markdown",
      "metadata": {
        "id": "_jauOu4fTzlK"
      },
      "source": [
        "### Model 1 (Conv1D)"
      ]
    },
    {
      "cell_type": "markdown",
      "metadata": {
        "id": "4YbxVPUAYCeK"
      },
      "source": [
        "#### Text Vectorizer"
      ]
    },
    {
      "cell_type": "code",
      "metadata": {
        "colab": {
          "base_uri": "https://localhost:8080/"
        },
        "id": "QJuteI7rQHfj",
        "outputId": "ffa4e86e-24c3-474c-de71-de602c76fe87"
      },
      "source": [
        "import numpy as np\n",
        "import tensorflow as tf\n",
        "\n",
        "# avg sentence length\n",
        "np.mean([len(s.split()) for s in train_sent])"
      ],
      "execution_count": 19,
      "outputs": [
        {
          "output_type": "execute_result",
          "data": {
            "text/plain": [
              "26.338269273494777"
            ]
          },
          "metadata": {},
          "execution_count": 19
        }
      ]
    },
    {
      "cell_type": "code",
      "metadata": {
        "colab": {
          "base_uri": "https://localhost:8080/"
        },
        "id": "9mSXYEaSUUrj",
        "outputId": "282c4d5b-9144-496c-d83c-f0819e064656"
      },
      "source": [
        "np.percentile([len(s.split()) for s in train_sent],95)"
      ],
      "execution_count": null,
      "outputs": [
        {
          "output_type": "execute_result",
          "data": {
            "text/plain": [
              "55.0"
            ]
          },
          "metadata": {},
          "execution_count": 20
        }
      ]
    },
    {
      "cell_type": "code",
      "metadata": {
        "id": "GSc190UrU-2T"
      },
      "source": [
        "####\n",
        "max_token = 68000\n",
        "\n",
        "from tensorflow.keras.layers.experimental.preprocessing import TextVectorization\n",
        "text_vector = TextVectorization(max_tokens = max_token,\n",
        "                                output_sequence_length = 55\n",
        "                                )\n",
        "text_vector.adapt(train_sent)"
      ],
      "execution_count": 20,
      "outputs": []
    },
    {
      "cell_type": "code",
      "metadata": {
        "colab": {
          "base_uri": "https://localhost:8080/"
        },
        "id": "R6-E5wxYX_5A",
        "outputId": "476beaa3-5e8f-45c1-a193-ba7f4f3a0c07"
      },
      "source": [
        "text_vector.get_vocabulary()[:10]"
      ],
      "execution_count": null,
      "outputs": [
        {
          "output_type": "execute_result",
          "data": {
            "text/plain": [
              "['', '[UNK]', 'the', 'and', 'of', 'in', 'to', 'with', 'a', 'were']"
            ]
          },
          "metadata": {},
          "execution_count": 22
        }
      ]
    },
    {
      "cell_type": "markdown",
      "metadata": {
        "id": "7HsC4gofZELZ"
      },
      "source": [
        "#### Embedding"
      ]
    },
    {
      "cell_type": "code",
      "metadata": {
        "id": "gIT3toWcYyqX"
      },
      "source": [
        "####\n",
        "tok_emb = tf.keras.layers.Embedding(input_dim=(len(text_vector.get_vocabulary())),\n",
        "                                    output_dim = 128,\n",
        "                                    mask_zero = True # when input has lots of zero\n",
        "                                    )"
      ],
      "execution_count": 21,
      "outputs": []
    },
    {
      "cell_type": "markdown",
      "metadata": {
        "id": "pZWMe1F3gWmd"
      },
      "source": [
        "#### Create faster data"
      ]
    },
    {
      "cell_type": "code",
      "metadata": {
        "id": "3M6HPS11gMBk"
      },
      "source": [
        "####\n",
        "train_dataset = tf.data.Dataset.from_tensor_slices((train_sent, train_labels))\n",
        "valid_dataset = tf.data.Dataset.from_tensor_slices((val_sent, val_labels))\n",
        "test_dataset = tf.data.Dataset.from_tensor_slices((test_sent, test_labels))\n",
        "\n",
        "train_dataset = train_dataset.batch(32).prefetch(tf.data.AUTOTUNE)\n",
        "valid_dataset = valid_dataset.batch(32).prefetch(tf.data.AUTOTUNE)\n",
        "test_dataset = test_dataset.batch(32).prefetch(tf.data.AUTOTUNE)"
      ],
      "execution_count": 22,
      "outputs": []
    },
    {
      "cell_type": "markdown",
      "metadata": {
        "id": "qi2Xx7Ywg0ct"
      },
      "source": [
        "#### Build model"
      ]
    },
    {
      "cell_type": "code",
      "metadata": {
        "colab": {
          "base_uri": "https://localhost:8080/"
        },
        "id": "47b_5Lpwg2Lc",
        "outputId": "0b3600d8-b7ef-4e58-9390-ded887663a88"
      },
      "source": [
        "input = tf.keras.Input(shape = (1,), dtype = tf.string)\n",
        "x = text_vector(input)\n",
        "x = tok_emb(x)\n",
        "x = tf.keras.layers.Conv1D(64,kernel_size = 5,padding = 'same',activation = 'relu')(x)\n",
        "x = tf.keras.layers.GlobalAveragePooling1D()(x)\n",
        "output = tf.keras.layers.Dense(len(class_name), activation = 'softmax')(x)\n",
        "model1 = tf.keras.Model(input,output)\n",
        "\n",
        "model1.compile(loss = tf.keras.losses.CategoricalCrossentropy(),\n",
        "               optimizer = tf.keras.optimizers.Adam(),\n",
        "               metrics = ['accuracy'])\n",
        "model1.summary()\n",
        "\n",
        "model1.fit(train_dataset,steps_per_epoch = int(0.1*len(train_dataset)),\n",
        "          epochs = 3, validation_data = valid_dataset, \n",
        "          validation_steps = int(0.1*len(valid_dataset))\n",
        "          )"
      ],
      "execution_count": null,
      "outputs": [
        {
          "output_type": "stream",
          "name": "stdout",
          "text": [
            "Model: \"model_4\"\n",
            "_________________________________________________________________\n",
            " Layer (type)                Output Shape              Param #   \n",
            "=================================================================\n",
            " input_5 (InputLayer)        [(None, 1)]               0         \n",
            "                                                                 \n",
            " text_vectorization (TextVec  (None, 55)               0         \n",
            " torization)                                                     \n",
            "                                                                 \n",
            " embedding (Embedding)       (None, 55, 128)           8299648   \n",
            "                                                                 \n",
            " conv1d_4 (Conv1D)           (None, 55, 64)            41024     \n",
            "                                                                 \n",
            " global_average_pooling1d_4   (None, 64)               0         \n",
            " (GlobalAveragePooling1D)                                        \n",
            "                                                                 \n",
            " dense_4 (Dense)             (None, 5)                 325       \n",
            "                                                                 \n",
            "=================================================================\n",
            "Total params: 8,340,997\n",
            "Trainable params: 8,340,997\n",
            "Non-trainable params: 0\n",
            "_________________________________________________________________\n",
            "Epoch 1/3\n",
            "562/562 [==============================] - 39s 16ms/step - loss: 0.9151 - accuracy: 0.6376 - val_loss: 0.6819 - val_accuracy: 0.7417\n",
            "Epoch 2/3\n",
            "562/562 [==============================] - 8s 15ms/step - loss: 0.6562 - accuracy: 0.7571 - val_loss: 0.6290 - val_accuracy: 0.7719\n",
            "Epoch 3/3\n",
            "562/562 [==============================] - 8s 15ms/step - loss: 0.6141 - accuracy: 0.7747 - val_loss: 0.5933 - val_accuracy: 0.7889\n"
          ]
        },
        {
          "output_type": "execute_result",
          "data": {
            "text/plain": [
              "<keras.callbacks.History at 0x7f7eb0e1de90>"
            ]
          },
          "metadata": {},
          "execution_count": 44
        }
      ]
    },
    {
      "cell_type": "code",
      "metadata": {
        "colab": {
          "base_uri": "https://localhost:8080/"
        },
        "id": "ngCvc8yAjv6j",
        "outputId": "02610e2e-5473-42d7-c9a6-1a891663bb3a"
      },
      "source": [
        "model1.evaluate(valid_dataset)"
      ],
      "execution_count": null,
      "outputs": [
        {
          "output_type": "stream",
          "name": "stdout",
          "text": [
            "945/945 [==============================] - 5s 6ms/step - loss: 0.5962 - accuracy: 0.7883\n"
          ]
        },
        {
          "output_type": "execute_result",
          "data": {
            "text/plain": [
              "[0.596219003200531, 0.7882960438728333]"
            ]
          },
          "metadata": {},
          "execution_count": 47
        }
      ]
    },
    {
      "cell_type": "code",
      "metadata": {
        "id": "GGMM4LuckZHV"
      },
      "source": [
        "pred1 = model1.predict(valid_dataset)\n",
        "pred1 = tf.argmax(pred1,axis = 1)"
      ],
      "execution_count": null,
      "outputs": []
    },
    {
      "cell_type": "code",
      "metadata": {
        "colab": {
          "base_uri": "https://localhost:8080/"
        },
        "id": "IaRvWGTzmm0E",
        "outputId": "1a8a4bec-d5c5-4721-b6fc-eddc4d1ffeac"
      },
      "source": [
        "from sklearn.metrics import classification_report\n",
        "print(classification_report(val_labels2,pred1))"
      ],
      "execution_count": null,
      "outputs": [
        {
          "output_type": "stream",
          "name": "stdout",
          "text": [
            "              precision    recall  f1-score   support\n",
            "\n",
            "           0       0.64      0.52      0.57      3449\n",
            "           1       0.67      0.74      0.70      4582\n",
            "           2       0.86      0.88      0.87      9964\n",
            "           3       0.60      0.58      0.59      2376\n",
            "           4       0.86      0.86      0.86      9841\n",
            "\n",
            "    accuracy                           0.79     30212\n",
            "   macro avg       0.73      0.72      0.72     30212\n",
            "weighted avg       0.79      0.79      0.79     30212\n",
            "\n"
          ]
        }
      ]
    },
    {
      "cell_type": "markdown",
      "metadata": {
        "id": "WPmakptX1xtc"
      },
      "source": [
        "### Model 2 (Universal Sentence Emcoder)"
      ]
    },
    {
      "cell_type": "code",
      "metadata": {
        "id": "H65f9c9T1z7B"
      },
      "source": [
        "import tensorflow as tf\n",
        "import tensorflow_hub as hub\n",
        "hub_emb = hub.KerasLayer(\"https://tfhub.dev/google/universal-sentence-encoder/4\",\n",
        "                         trainable = False,\n",
        "                         name = 'universal_sentence_encoder')"
      ],
      "execution_count": 23,
      "outputs": []
    },
    {
      "cell_type": "code",
      "metadata": {
        "colab": {
          "base_uri": "https://localhost:8080/"
        },
        "id": "epYX5kgn4qO_",
        "outputId": "fb4b1ef3-c4f0-469c-d002-b7527e8391ff"
      },
      "source": [
        "input = tf.keras.Input(shape = [], # requires a empty list\n",
        "                       dtype = tf.string)\n",
        "pretrained = hub_emb(input)\n",
        "x = tf.keras.layers.Dense(128, activation = 'relu')(pretrained)\n",
        "output = tf.keras.layers.Dense(len(class_name),activation = 'softmax')(x)\n",
        "model2 = tf.keras.Model(input,output)\n",
        "\n",
        "model2.compile(loss = tf.keras.losses.CategoricalCrossentropy(),\n",
        "               optimizer = 'Adam',\n",
        "               metrics = ['accuracy'])\n",
        "\n",
        "model2.summary()\n",
        "\n",
        "model2.fit(train_dataset,\n",
        "           steps_per_epoch=int(0.1 * len(train_dataset)),\n",
        "           epochs=3,validation_data=valid_dataset,\n",
        "           validation_steps=int(0.1 * len(valid_dataset)))"
      ],
      "execution_count": null,
      "outputs": [
        {
          "output_type": "stream",
          "name": "stdout",
          "text": [
            "Model: \"model\"\n",
            "_________________________________________________________________\n",
            " Layer (type)                Output Shape              Param #   \n",
            "=================================================================\n",
            " input_2 (InputLayer)        [(None,)]                 0         \n",
            "                                                                 \n",
            " universal_sentence_encoder   (None, 512)              256797824 \n",
            " (KerasLayer)                                                    \n",
            "                                                                 \n",
            " dense_1 (Dense)             (None, 128)               65664     \n",
            "                                                                 \n",
            " dense_2 (Dense)             (None, 5)                 645       \n",
            "                                                                 \n",
            "=================================================================\n",
            "Total params: 256,864,133\n",
            "Trainable params: 66,309\n",
            "Non-trainable params: 256,797,824\n",
            "_________________________________________________________________\n",
            "Epoch 1/3\n",
            "562/562 [==============================] - 18s 22ms/step - loss: 0.9207 - accuracy: 0.6484 - val_loss: 0.7946 - val_accuracy: 0.6868\n",
            "Epoch 2/3\n",
            "562/562 [==============================] - 12s 21ms/step - loss: 0.7684 - accuracy: 0.7007 - val_loss: 0.7542 - val_accuracy: 0.7005\n",
            "Epoch 3/3\n",
            "562/562 [==============================] - 12s 22ms/step - loss: 0.7512 - accuracy: 0.7112 - val_loss: 0.7379 - val_accuracy: 0.7101\n"
          ]
        },
        {
          "output_type": "execute_result",
          "data": {
            "text/plain": [
              "<keras.callbacks.History at 0x7fa7d2abcbd0>"
            ]
          },
          "metadata": {},
          "execution_count": 24
        }
      ]
    },
    {
      "cell_type": "code",
      "metadata": {
        "colab": {
          "base_uri": "https://localhost:8080/"
        },
        "id": "B4CrBUK26YVH",
        "outputId": "3b9cf0b0-6197-41ea-c8ad-f561e7bbf790"
      },
      "source": [
        "model2.evaluate(valid_dataset)"
      ],
      "execution_count": null,
      "outputs": [
        {
          "output_type": "stream",
          "name": "stdout",
          "text": [
            "945/945 [==============================] - 17s 18ms/step - loss: 0.7396 - accuracy: 0.7142\n"
          ]
        },
        {
          "output_type": "execute_result",
          "data": {
            "text/plain": [
              "[0.7395514845848083, 0.7142195105552673]"
            ]
          },
          "metadata": {},
          "execution_count": 25
        }
      ]
    },
    {
      "cell_type": "code",
      "metadata": {
        "colab": {
          "base_uri": "https://localhost:8080/"
        },
        "id": "0P5R2j7x6c0y",
        "outputId": "5f1bda80-150c-4e65-df65-50eafb5c7c70"
      },
      "source": [
        "pred2 = model2.predict(valid_dataset)\n",
        "pred2 = tf.argmax(pred2, axis = 1)\n",
        "\n",
        "from sklearn.metrics import classification_report\n",
        "print(classification_report(val_labels2,pred2))"
      ],
      "execution_count": null,
      "outputs": [
        {
          "output_type": "stream",
          "name": "stdout",
          "text": [
            "              precision    recall  f1-score   support\n",
            "\n",
            "           0       0.61      0.41      0.49      3449\n",
            "           1       0.57      0.67      0.61      4582\n",
            "           2       0.79      0.78      0.79      9964\n",
            "           3       0.53      0.55      0.54      2376\n",
            "           4       0.78      0.81      0.80      9841\n",
            "\n",
            "    accuracy                           0.71     30212\n",
            "   macro avg       0.66      0.65      0.65     30212\n",
            "weighted avg       0.71      0.71      0.71     30212\n",
            "\n"
          ]
        }
      ]
    },
    {
      "cell_type": "markdown",
      "metadata": {
        "id": "0len-nSw7ss2"
      },
      "source": [
        "### Model 3 (Character Embedding)"
      ]
    },
    {
      "cell_type": "code",
      "metadata": {
        "colab": {
          "base_uri": "https://localhost:8080/"
        },
        "id": "D_umwwNm_b7n",
        "outputId": "8b1f4c88-dd8b-4ac8-feaf-0e7b9698e93e"
      },
      "source": [
        "list('hello how are you')"
      ],
      "execution_count": null,
      "outputs": [
        {
          "output_type": "execute_result",
          "data": {
            "text/plain": [
              "['h',\n",
              " 'e',\n",
              " 'l',\n",
              " 'l',\n",
              " 'o',\n",
              " ' ',\n",
              " 'h',\n",
              " 'o',\n",
              " 'w',\n",
              " ' ',\n",
              " 'a',\n",
              " 'r',\n",
              " 'e',\n",
              " ' ',\n",
              " 'y',\n",
              " 'o',\n",
              " 'u']"
            ]
          },
          "metadata": {},
          "execution_count": 32
        }
      ]
    },
    {
      "cell_type": "code",
      "metadata": {
        "id": "IwRZrBN56xKC"
      },
      "source": [
        "####\n",
        "def split_to_char(text):\n",
        "  return ' '.join(list(text))\n",
        "\n",
        "train_char = [split_to_char(sent) for sent in train_sent]\n",
        "val_char = [split_to_char(sent) for sent in val_sent]\n",
        "test_char = [split_to_char(sent) for sent in test_sent]"
      ],
      "execution_count": 26,
      "outputs": []
    },
    {
      "cell_type": "code",
      "metadata": {
        "colab": {
          "base_uri": "https://localhost:8080/",
          "height": 156
        },
        "id": "SxP7nOul_OvP",
        "outputId": "53caa4e8-77a9-4d51-aca8-f7ed650cf76a"
      },
      "source": [
        "train_char[0]"
      ],
      "execution_count": null,
      "outputs": [
        {
          "output_type": "execute_result",
          "data": {
            "application/vnd.google.colaboratory.intrinsic+json": {
              "type": "string"
            },
            "text/plain": [
              "'t o   i n v e s t i g a t e   t h e   e f f i c a c y   o f   @   w e e k s   o f   d a i l y   l o w - d o s e   o r a l   p r e d n i s o l o n e   i n   i m p r o v i n g   p a i n   ,   m o b i l i t y   ,   a n d   s y s t e m i c   l o w - g r a d e   i n f l a m m a t i o n   i n   t h e   s h o r t   t e r m   a n d   w h e t h e r   t h e   e f f e c t   w o u l d   b e   s u s t a i n e d   a t   @   w e e k s   i n   o l d e r   a d u l t s   w i t h   m o d e r a t e   t o   s e v e r e   k n e e   o s t e o a r t h r i t i s   (   o a   )   .'"
            ]
          },
          "metadata": {},
          "execution_count": 30
        }
      ]
    },
    {
      "cell_type": "code",
      "metadata": {
        "colab": {
          "base_uri": "https://localhost:8080/"
        },
        "id": "_Bks37Zk_Q-z",
        "outputId": "cb7355f6-bfe4-4b2a-f5d1-eaf54dcdcb4b"
      },
      "source": [
        "import numpy as np\n",
        "int(np.percentile([len(sent) for sent in train_sent], 95))"
      ],
      "execution_count": null,
      "outputs": [
        {
          "output_type": "execute_result",
          "data": {
            "text/plain": [
              "290"
            ]
          },
          "metadata": {},
          "execution_count": 37
        }
      ]
    },
    {
      "cell_type": "code",
      "metadata": {
        "id": "bopTUn6JBMct"
      },
      "source": [
        "####\n",
        "import string\n",
        "\n",
        "alphabet = string.ascii_lowercase+string.digits+string.punctuation\n",
        "num_char = len(alphabet)+2 # for space and out of vocab\n",
        "\n",
        "char_vector = TextVectorization(max_tokens=num_char,\n",
        "                                output_sequence_length = 290,\n",
        "                                standardize = 'lower_and_strip_punctuation',\n",
        "                                name = 'char_vector')\n",
        "char_vector.adapt(train_char)"
      ],
      "execution_count": 33,
      "outputs": []
    },
    {
      "cell_type": "code",
      "metadata": {
        "colab": {
          "base_uri": "https://localhost:8080/"
        },
        "id": "HgPzlcl2Brtu",
        "outputId": "4ff9378e-abc7-4de0-ea41-868b85fb8907"
      },
      "source": [
        "len(char_vector.get_vocabulary())"
      ],
      "execution_count": null,
      "outputs": [
        {
          "output_type": "execute_result",
          "data": {
            "text/plain": [
              "28"
            ]
          },
          "metadata": {},
          "execution_count": 45
        }
      ]
    },
    {
      "cell_type": "code",
      "metadata": {
        "id": "JY6KCQSMDqfJ"
      },
      "source": [
        "####\n",
        "emb = tf.keras.layers.Embedding(input_dim=len(char_vector.get_vocabulary()),\n",
        "                                output_dim = 25,\n",
        "                                mask_zero = True\n",
        "                                )"
      ],
      "execution_count": 28,
      "outputs": []
    },
    {
      "cell_type": "code",
      "metadata": {
        "colab": {
          "base_uri": "https://localhost:8080/"
        },
        "id": "9Umhds_8GGrE",
        "outputId": "dc404bf8-6725-48c2-9282-509adb997719"
      },
      "source": [
        "input = tf.keras.Input(shape = (1,), dtype = tf.string)\n",
        "x = char_vector(input)\n",
        "x = emb(x)\n",
        "x = tf.keras.layers.Conv1D(64,5, padding = 'same',activation = 'relu')(x)\n",
        "x = tf.keras.layers.GlobalMaxPooling1D()(x)\n",
        "output = tf.keras.layers.Dense(len(class_name), activation = 'softmax')(x)\n",
        "\n",
        "model3 = tf.keras.Model(input,output)\n",
        "model3.compile(loss = tf.keras.losses.CategoricalCrossentropy(),\n",
        "               optimizer = tf.keras.optimizers.Adam(),\n",
        "               metrics = ['accuracy'])\n",
        "model3.summary()"
      ],
      "execution_count": null,
      "outputs": [
        {
          "output_type": "stream",
          "name": "stdout",
          "text": [
            "Model: \"model_2\"\n",
            "_________________________________________________________________\n",
            " Layer (type)                Output Shape              Param #   \n",
            "=================================================================\n",
            " input_4 (InputLayer)        [(None, 1)]               0         \n",
            "                                                                 \n",
            " char_vector (TextVectorizat  (None, 290)              0         \n",
            " ion)                                                            \n",
            "                                                                 \n",
            " embedding_1 (Embedding)     (None, 290, 25)           700       \n",
            "                                                                 \n",
            " conv1d_1 (Conv1D)           (None, 290, 64)           8064      \n",
            "                                                                 \n",
            " global_max_pooling1d (Globa  (None, 64)               0         \n",
            " lMaxPooling1D)                                                  \n",
            "                                                                 \n",
            " dense_4 (Dense)             (None, 5)                 325       \n",
            "                                                                 \n",
            "=================================================================\n",
            "Total params: 9,089\n",
            "Trainable params: 9,089\n",
            "Non-trainable params: 0\n",
            "_________________________________________________________________\n"
          ]
        }
      ]
    },
    {
      "cell_type": "code",
      "metadata": {
        "colab": {
          "base_uri": "https://localhost:8080/"
        },
        "id": "ibDdBxhsHLaq",
        "outputId": "01572c91-27c1-448c-fa2a-ff55b8703c52"
      },
      "source": [
        "train_char_dataset = tf.data.Dataset.from_tensor_slices((train_char, train_labels)).batch(32).prefetch(tf.data.AUTOTUNE)\n",
        "val_char_dataset = tf.data.Dataset.from_tensor_slices((val_char, val_labels)).batch(32).prefetch(tf.data.AUTOTUNE)\n",
        "test_char_dataset = tf.data.Dataset.from_tensor_slices((test_char, test_labels)).batch(32).prefetch(tf.data.AUTOTUNE)\n",
        "\n",
        "model3.fit(train_char_dataset, steps_per_epoch=int(len(train_char_dataset)),\n",
        "           epochs = 3, validation_data = val_char_dataset,\n",
        "           validation_steps = int(len(val_char_dataset)))"
      ],
      "execution_count": null,
      "outputs": [
        {
          "output_type": "stream",
          "name": "stdout",
          "text": [
            "Epoch 1/3\n",
            "5627/5627 [==============================] - 59s 10ms/step - loss: 0.9569 - accuracy: 0.6201 - val_loss: 0.8313 - val_accuracy: 0.6735\n",
            "Epoch 2/3\n",
            "5627/5627 [==============================] - 58s 10ms/step - loss: 0.7691 - accuracy: 0.7067 - val_loss: 0.7613 - val_accuracy: 0.7063\n",
            "Epoch 3/3\n",
            "5627/5627 [==============================] - 58s 10ms/step - loss: 0.7254 - accuracy: 0.7258 - val_loss: 0.7396 - val_accuracy: 0.7165\n"
          ]
        },
        {
          "output_type": "execute_result",
          "data": {
            "text/plain": [
              "<keras.callbacks.History at 0x7fa7c083b890>"
            ]
          },
          "metadata": {},
          "execution_count": 52
        }
      ]
    },
    {
      "cell_type": "code",
      "metadata": {
        "colab": {
          "base_uri": "https://localhost:8080/"
        },
        "id": "c8todKL5Je38",
        "outputId": "a83f7630-6157-43d8-8c5c-9ccd7998186f"
      },
      "source": [
        "model3.evaluate(val_char_dataset)"
      ],
      "execution_count": null,
      "outputs": [
        {
          "output_type": "stream",
          "name": "stdout",
          "text": [
            "945/945 [==============================] - 5s 6ms/step - loss: 0.7396 - accuracy: 0.7165\n"
          ]
        },
        {
          "output_type": "execute_result",
          "data": {
            "text/plain": [
              "[0.7395703792572021, 0.7164703011512756]"
            ]
          },
          "metadata": {},
          "execution_count": 56
        }
      ]
    },
    {
      "cell_type": "code",
      "metadata": {
        "colab": {
          "base_uri": "https://localhost:8080/"
        },
        "id": "wnGDY3rUIAYZ",
        "outputId": "c79568ad-8029-464d-afce-af063469b3e8"
      },
      "source": [
        "pred3 = model3.predict(val_char_dataset)\n",
        "pred3 = tf.argmax(pred3,axis = 1)\n",
        "\n",
        "from sklearn.metrics import classification_report\n",
        "print(classification_report(val_labels2,pred3))"
      ],
      "execution_count": null,
      "outputs": [
        {
          "output_type": "stream",
          "name": "stdout",
          "text": [
            "              precision    recall  f1-score   support\n",
            "\n",
            "           0       0.56      0.56      0.56      3449\n",
            "           1       0.66      0.49      0.56      4582\n",
            "           2       0.84      0.76      0.80      9964\n",
            "           3       0.69      0.43      0.53      2376\n",
            "           4       0.69      0.90      0.78      9841\n",
            "\n",
            "    accuracy                           0.72     30212\n",
            "   macro avg       0.69      0.63      0.65     30212\n",
            "weighted avg       0.72      0.72      0.71     30212\n",
            "\n"
          ]
        }
      ]
    },
    {
      "cell_type": "markdown",
      "metadata": {
        "id": "1upLKBDrJkCu"
      },
      "source": [
        "### Model 4 (Token + Character Embeddings)"
      ]
    },
    {
      "cell_type": "code",
      "metadata": {
        "colab": {
          "base_uri": "https://localhost:8080/"
        },
        "id": "-JxJqm4cJc5c",
        "outputId": "b7aea8b1-584f-4cae-b75f-66fbf78497c7"
      },
      "source": [
        "import tensorflow as tf\n",
        "import tensorflow_hub as hub\n",
        "hub_embed = hub.KerasLayer(\"https://tfhub.dev/google/universal-sentence-encoder/4\",\n",
        "                                        trainable=False,\n",
        "                                        name=\"universal_sentence_encoder\")\n",
        "# token model\n",
        "token_input = tf.keras.layers.Input(shape = [], dtype = tf.string, name = 'token_input') # don't need shape for USE\n",
        "token_embedding = hub_embed(token_input)\n",
        "token_out = tf.keras.layers.Dense(128, activation = 'relu')(token_embedding)\n",
        "token_model = tf.keras.Model(token_input, token_out)\n",
        "\n",
        "#char model\n",
        "char_input = tf.keras.layers.Input(shape = (1,),dtype = tf.string, name = 'char_input')\n",
        "char_vect = char_vector(char_input)\n",
        "char_embedding = emb(char_vect)\n",
        "char_bi = tf.keras.layers.Bidirectional(tf.keras.layers.LSTM(24))(char_embedding)\n",
        "char_model = tf.keras.Model(char_input,char_bi)\n",
        "\n",
        "# Concatenate token and char\n",
        "token_char = tf.keras.layers.Concatenate(name = \"token_char_hybrid\")([token_model.output,\n",
        "                                            char_model.output]) # want the output for the feed forward network\n",
        "\n",
        "# Create output layers\n",
        "combine_dense = tf.keras.layers.Dropout(0.5)(token_char)\n",
        "combine_dense = tf.keras.layers.Dense(128,activation = 'relu')(combine_dense)\n",
        "combine_dense = tf.keras.layers.Dropout(0.5)(combine_dense)\n",
        "output = tf.keras.layers.Dense(len(class_name),activation = 'softmax')(combine_dense)\n",
        "\n",
        "# Final model\n",
        "model4 = tf.keras.Model([token_model.input,char_model.input],output, name = 'model4')\n",
        "model4.summary()"
      ],
      "execution_count": 34,
      "outputs": [
        {
          "output_type": "stream",
          "name": "stdout",
          "text": [
            "Model: \"model4\"\n",
            "__________________________________________________________________________________________________\n",
            " Layer (type)                   Output Shape         Param #     Connected to                     \n",
            "==================================================================================================\n",
            " char_input (InputLayer)        [(None, 1)]          0           []                               \n",
            "                                                                                                  \n",
            " token_input (InputLayer)       [(None,)]            0           []                               \n",
            "                                                                                                  \n",
            " char_vector (TextVectorization  (None, 290)         0           ['char_input[0][0]']             \n",
            " )                                                                                                \n",
            "                                                                                                  \n",
            " universal_sentence_encoder (Ke  (None, 512)         256797824   ['token_input[0][0]']            \n",
            " rasLayer)                                                                                        \n",
            "                                                                                                  \n",
            " embedding_1 (Embedding)        (None, 290, 25)      700         ['char_vector[0][0]']            \n",
            "                                                                                                  \n",
            " dense_4 (Dense)                (None, 128)          65664       ['universal_sentence_encoder[0][0\n",
            "                                                                 ]']                              \n",
            "                                                                                                  \n",
            " bidirectional_1 (Bidirectional  (None, 48)          9600        ['embedding_1[1][0]']            \n",
            " )                                                                                                \n",
            "                                                                                                  \n",
            " token_char_hybrid (Concatenate  (None, 176)         0           ['dense_4[0][0]',                \n",
            " )                                                                'bidirectional_1[0][0]']        \n",
            "                                                                                                  \n",
            " dropout_2 (Dropout)            (None, 176)          0           ['token_char_hybrid[0][0]']      \n",
            "                                                                                                  \n",
            " dense_5 (Dense)                (None, 128)          22656       ['dropout_2[0][0]']              \n",
            "                                                                                                  \n",
            " dropout_3 (Dropout)            (None, 128)          0           ['dense_5[0][0]']                \n",
            "                                                                                                  \n",
            " dense_6 (Dense)                (None, 5)            645         ['dropout_3[0][0]']              \n",
            "                                                                                                  \n",
            "==================================================================================================\n",
            "Total params: 256,897,089\n",
            "Trainable params: 99,265\n",
            "Non-trainable params: 256,797,824\n",
            "__________________________________________________________________________________________________\n"
          ]
        }
      ]
    },
    {
      "cell_type": "code",
      "metadata": {
        "id": "RMZZTxiV2gSL",
        "colab": {
          "base_uri": "https://localhost:8080/",
          "height": 566
        },
        "outputId": "1959fa50-60c0-4c01-d0fd-432deeb07918"
      },
      "source": [
        "from tensorflow.keras.utils import plot_model\n",
        "plot_model(model4,show_shapes=True)"
      ],
      "execution_count": 37,
      "outputs": [
        {
          "output_type": "execute_result",
          "data": {
            "image/png": "[encoded data removed]",
            "text/plain": [
              "<IPython.core.display.Image object>"
            ]
          },
          "metadata": {},
          "execution_count": 37
        }
      ]
    },
    {
      "cell_type": "code",
      "metadata": {
        "id": "s7B6IKj3NI9H"
      },
      "source": [
        "model4.compile(loss = tf.keras.losses.CategoricalCrossentropy(),\n",
        "               optimizer = tf.keras.optimizers.Adam(),\n",
        "               metrics = ['accuracy'])"
      ],
      "execution_count": 38,
      "outputs": []
    },
    {
      "cell_type": "code",
      "metadata": {
        "colab": {
          "base_uri": "https://localhost:8080/"
        },
        "id": "QSDyTaCwqJCf",
        "outputId": "a137912c-3c08-4a48-df1c-65eda641bf3a"
      },
      "source": [
        "# the order of token and character matters ([token_model.input,char_model.input])\n",
        "train_char_token_data = tf.data.Dataset.from_tensor_slices((train_sent, train_char)) # make data\n",
        "train_char_token_labels = tf.data.Dataset.from_tensor_slices(train_labels) # make labels\n",
        "train_char_token_dataset = tf.data.Dataset.zip((train_char_token_data, train_char_token_labels)) # combine data and labels\n",
        "\n",
        "val_char_token_data = tf.data.Dataset.from_tensor_slices((val_sent, val_char))\n",
        "val_char_token_labels = tf.data.Dataset.from_tensor_slices(val_labels)\n",
        "val_char_token_dataset = tf.data.Dataset.zip((val_char_token_data, val_char_token_labels))\n",
        "\n",
        "train_char_token_dataset"
      ],
      "execution_count": 40,
      "outputs": [
        {
          "output_type": "execute_result",
          "data": {
            "text/plain": [
              "<ZipDataset shapes: (((), ()), (5,)), types: ((tf.string, tf.string), tf.float64)>"
            ]
          },
          "metadata": {},
          "execution_count": 40
        }
      ]
    },
    {
      "cell_type": "code",
      "metadata": {
        "colab": {
          "base_uri": "https://localhost:8080/"
        },
        "id": "8Cjt5Z60qzYL",
        "outputId": "c7f4f144-b9c5-487a-d592-e1e9fda3e910"
      },
      "source": [
        "train_char_token_dataset = train_char_token_dataset.batch(32).prefetch(tf.data.AUTOTUNE)\n",
        "val_char_token_dataset = val_char_token_dataset.batch(32).prefetch(tf.data.AUTOTUNE)\n",
        "\n",
        "train_char_token_dataset"
      ],
      "execution_count": 41,
      "outputs": [
        {
          "output_type": "execute_result",
          "data": {
            "text/plain": [
              "<PrefetchDataset shapes: (((None,), (None,)), (None, 5)), types: ((tf.string, tf.string), tf.float64)>"
            ]
          },
          "metadata": {},
          "execution_count": 41
        }
      ]
    },
    {
      "cell_type": "code",
      "metadata": {
        "colab": {
          "base_uri": "https://localhost:8080/"
        },
        "id": "rmK-WrWUrTRq",
        "outputId": "b91c88a3-01d7-466c-f77b-b328b7058c57"
      },
      "source": [
        "model4.fit(train_char_token_dataset, \n",
        "           steps_per_epoch = int(0.1 * len(train_char_token_dataset)),\n",
        "           epochs = 3, validation_data=val_char_token_dataset,\n",
        "           validation_steps=int(0.1 * len(val_char_token_dataset)))"
      ],
      "execution_count": 42,
      "outputs": [
        {
          "output_type": "stream",
          "name": "stdout",
          "text": [
            "Epoch 1/3\n",
            "562/562 [==============================] - 91s 134ms/step - loss: 0.9993 - accuracy: 0.5981 - val_loss: 0.7948 - val_accuracy: 0.6975\n",
            "Epoch 2/3\n",
            "562/562 [==============================] - 72s 127ms/step - loss: 0.8102 - accuracy: 0.6867 - val_loss: 0.7225 - val_accuracy: 0.7227\n",
            "Epoch 3/3\n",
            "562/562 [==============================] - 68s 121ms/step - loss: 0.7776 - accuracy: 0.7017 - val_loss: 0.6971 - val_accuracy: 0.7350\n"
          ]
        },
        {
          "output_type": "execute_result",
          "data": {
            "text/plain": [
              "<keras.callbacks.History at 0x7f1fc1f762d0>"
            ]
          },
          "metadata": {},
          "execution_count": 42
        }
      ]
    },
    {
      "cell_type": "code",
      "metadata": {
        "colab": {
          "base_uri": "https://localhost:8080/"
        },
        "id": "vJsHPAIcr3w-",
        "outputId": "6b5fcec7-85d9-4953-e6a0-505ab6d1796d"
      },
      "source": [
        "model4.evaluate(val_char_token_dataset)"
      ],
      "execution_count": 43,
      "outputs": [
        {
          "output_type": "stream",
          "name": "stdout",
          "text": [
            "945/945 [==============================] - 49s 52ms/step - loss: 0.6980 - accuracy: 0.7343\n"
          ]
        },
        {
          "output_type": "execute_result",
          "data": {
            "text/plain": [
              "[0.6980432271957397, 0.7342777848243713]"
            ]
          },
          "metadata": {},
          "execution_count": 43
        }
      ]
    },
    {
      "cell_type": "code",
      "metadata": {
        "colab": {
          "base_uri": "https://localhost:8080/"
        },
        "id": "h9e8yGujslNd",
        "outputId": "87d7297b-e651-47d0-d3ad-d6f73a1e1c88"
      },
      "source": [
        "pred4 = model4.predict(val_char_token_dataset)\n",
        "pred4 = tf.argmax(pred4, axis = 1)\n",
        "\n",
        "from sklearn.metrics import classification_report\n",
        "print(classification_report(val_labels2,pred4))"
      ],
      "execution_count": 44,
      "outputs": [
        {
          "output_type": "stream",
          "name": "stdout",
          "text": [
            "              precision    recall  f1-score   support\n",
            "\n",
            "           0       0.62      0.42      0.50      3449\n",
            "           1       0.58      0.67      0.62      4582\n",
            "           2       0.80      0.83      0.81      9964\n",
            "           3       0.60      0.58      0.59      2376\n",
            "           4       0.81      0.81      0.81      9841\n",
            "\n",
            "    accuracy                           0.73     30212\n",
            "   macro avg       0.68      0.66      0.67     30212\n",
            "weighted avg       0.73      0.73      0.73     30212\n",
            "\n"
          ]
        }
      ]
    },
    {
      "cell_type": "markdown",
      "metadata": {
        "id": "aLeGNVwOuFI3"
      },
      "source": [
        "### Model 5 (Token + Character + Position)"
      ]
    },
    {
      "cell_type": "markdown",
      "metadata": {
        "id": "YoXEE3QR31vh"
      },
      "source": [
        "#### One Hot Encode line and total line"
      ]
    },
    {
      "cell_type": "code",
      "metadata": {
        "colab": {
          "base_uri": "https://localhost:8080/",
          "height": 765
        },
        "id": "ruhdi29pvQQG",
        "outputId": "a7e4187e-aeaa-48e2-cf83-b6b5b6d7c183"
      },
      "source": [
        "print(df_train['line_num'].value_counts())\n",
        "df_train.head()"
      ],
      "execution_count": 49,
      "outputs": [
        {
          "output_type": "stream",
          "name": "stdout",
          "text": [
            "0     15000\n",
            "1     15000\n",
            "2     15000\n",
            "3     15000\n",
            "4     14992\n",
            "5     14949\n",
            "6     14758\n",
            "7     14279\n",
            "8     13346\n",
            "9     11981\n",
            "10    10041\n",
            "11     7892\n",
            "12     5853\n",
            "13     4152\n",
            "14     2835\n",
            "15     1861\n",
            "16     1188\n",
            "17      751\n",
            "18      462\n",
            "19      286\n",
            "20      162\n",
            "21      101\n",
            "22       66\n",
            "23       33\n",
            "24       22\n",
            "25       14\n",
            "26        7\n",
            "27        4\n",
            "28        3\n",
            "29        1\n",
            "30        1\n",
            "Name: line_num, dtype: int64\n"
          ]
        },
        {
          "output_type": "execute_result",
          "data": {
            "text/html": [
              "<div>\n",
              "<style scoped>\n",
              "    .dataframe tbody tr th:only-of-type {\n",
              "        vertical-align: middle;\n",
              "    }\n",
              "\n",
              "    .dataframe tbody tr th {\n",
              "        vertical-align: top;\n",
              "    }\n",
              "\n",
              "    .dataframe thead th {\n",
              "        text-align: right;\n",
              "    }\n",
              "</style>\n",
              "<table border=\"1\" class=\"dataframe\">\n",
              "  <thead>\n",
              "    <tr style=\"text-align: right;\">\n",
              "      <th></th>\n",
              "      <th>target</th>\n",
              "      <th>text</th>\n",
              "      <th>line_num</th>\n",
              "      <th>total_lines</th>\n",
              "    </tr>\n",
              "  </thead>\n",
              "  <tbody>\n",
              "    <tr>\n",
              "      <th>0</th>\n",
              "      <td>OBJECTIVE</td>\n",
              "      <td>to investigate the efficacy of @ weeks of dail...</td>\n",
              "      <td>0</td>\n",
              "      <td>11</td>\n",
              "    </tr>\n",
              "    <tr>\n",
              "      <th>1</th>\n",
              "      <td>METHODS</td>\n",
              "      <td>a total of @ patients with primary knee oa wer...</td>\n",
              "      <td>1</td>\n",
              "      <td>11</td>\n",
              "    </tr>\n",
              "    <tr>\n",
              "      <th>2</th>\n",
              "      <td>METHODS</td>\n",
              "      <td>outcome measures included pain reduction and i...</td>\n",
              "      <td>2</td>\n",
              "      <td>11</td>\n",
              "    </tr>\n",
              "    <tr>\n",
              "      <th>3</th>\n",
              "      <td>METHODS</td>\n",
              "      <td>pain was assessed using the visual analog pain...</td>\n",
              "      <td>3</td>\n",
              "      <td>11</td>\n",
              "    </tr>\n",
              "    <tr>\n",
              "      <th>4</th>\n",
              "      <td>METHODS</td>\n",
              "      <td>secondary outcome measures included the wester...</td>\n",
              "      <td>4</td>\n",
              "      <td>11</td>\n",
              "    </tr>\n",
              "  </tbody>\n",
              "</table>\n",
              "</div>"
            ],
            "text/plain": [
              "      target  ... total_lines\n",
              "0  OBJECTIVE  ...          11\n",
              "1    METHODS  ...          11\n",
              "2    METHODS  ...          11\n",
              "3    METHODS  ...          11\n",
              "4    METHODS  ...          11\n",
              "\n",
              "[5 rows x 4 columns]"
            ]
          },
          "metadata": {},
          "execution_count": 49
        }
      ]
    },
    {
      "cell_type": "code",
      "metadata": {
        "id": "0ji5qMMFZmYP"
      },
      "source": [
        "# For line number\n",
        "train_line_one_hot = tf.one_hot(df_train['line_num'].to_numpy(), depth = 15)\n",
        "val_line_one_hot = tf.one_hot(df_val['line_num'].to_numpy(), depth = 15)\n",
        "test_line_one_hot = tf.one_hot(df_test['line_num'].to_numpy(), depth = 15)"
      ],
      "execution_count": 46,
      "outputs": []
    },
    {
      "cell_type": "code",
      "metadata": {
        "colab": {
          "base_uri": "https://localhost:8080/"
        },
        "id": "WV2zHUr9w22B",
        "outputId": "d817e101-9f9c-4bf5-a3c8-821f18e58edd"
      },
      "source": [
        "train_line_one_hot.shape"
      ],
      "execution_count": 52,
      "outputs": [
        {
          "output_type": "execute_result",
          "data": {
            "text/plain": [
              "TensorShape([180040, 15])"
            ]
          },
          "metadata": {},
          "execution_count": 52
        }
      ]
    },
    {
      "cell_type": "code",
      "metadata": {
        "colab": {
          "base_uri": "https://localhost:8080/"
        },
        "id": "mKt332cAaJbG",
        "outputId": "87fc7b73-ccf8-4b1b-a9b6-a6632af9663f"
      },
      "source": [
        "np.percentile(df_train['total_lines'], 98)"
      ],
      "execution_count": 47,
      "outputs": [
        {
          "output_type": "execute_result",
          "data": {
            "text/plain": [
              "20.0"
            ]
          },
          "metadata": {},
          "execution_count": 47
        }
      ]
    },
    {
      "cell_type": "code",
      "metadata": {
        "id": "8TrJVzRaiNNa"
      },
      "source": [
        "# For total line\n",
        "train_total_lines_one_hot = tf.one_hot(df_train['total_lines'].to_numpy(),depth = 20)\n",
        "val_total_lines_one_hot = tf.one_hot(df_val['total_lines'].to_numpy(),depth = 20)\n",
        "test_total_lines_one_hot = tf.one_hot(df_test['total_lines'].to_numpy(),depth = 20)"
      ],
      "execution_count": 50,
      "outputs": []
    },
    {
      "cell_type": "code",
      "metadata": {
        "colab": {
          "base_uri": "https://localhost:8080/"
        },
        "id": "SEjDIQPEw73w",
        "outputId": "bf0e14e7-92a3-4fd3-8ef4-5397b73f2a76"
      },
      "source": [
        "train_total_lines_one_hot.shape"
      ],
      "execution_count": 53,
      "outputs": [
        {
          "output_type": "execute_result",
          "data": {
            "text/plain": [
              "TensorShape([180040, 20])"
            ]
          },
          "metadata": {},
          "execution_count": 53
        }
      ]
    },
    {
      "cell_type": "markdown",
      "metadata": {
        "id": "grAgrM_736oN"
      },
      "source": [
        "#### Build Model"
      ]
    },
    {
      "cell_type": "code",
      "metadata": {
        "id": "bCcxlvoAkvaw"
      },
      "source": [
        "# Token input\n",
        "token_input = tf.keras.layers.Input(shape = [],dtype = tf.string, name = 'token_input')\n",
        "token_embedding = hub_emb(token_input)\n",
        "token_output = tf.keras.layers.Dense(128, activation = 'relu')(token_embedding)\n",
        "token_model = tf.keras.Model(token_input,\n",
        "                             token_output)\n",
        "\n",
        "# Char input\n",
        "char_input = tf.keras.layers.Input(shape = (1,), dtype = tf.string, name = 'char_input')\n",
        "char_vec = char_vector(char_input)\n",
        "char_embedding = emb(char_vec)\n",
        "char_bi = tf.keras.layers.Bidirectional(tf.keras.layers.LSTM(24))(char_embedding)\n",
        "char_model = tf.keras.Model(char_input,\n",
        "                            char_bi)\n",
        "# Line number\n",
        "line_input = tf.keras.layers.Input(shape = (15,), dtype = tf.float32, name = 'line_number_input')\n",
        "line_output = tf.keras.layers.Dense(32, activation = 'relu')(line_input)\n",
        "line_model = tf.keras.Model(line_input, line_output)\n",
        "\n",
        "# Total lines\n",
        "total_input = tf.keras.layers.Input(shape = (20,), dtype = tf.float32, name = 'Total_line_input')\n",
        "total_output = tf.keras.layers.Dense(32, activation = 'relu')(total_input)\n",
        "total_line_model = tf.keras.Model(total_input, total_output)\n",
        "\n",
        "# Combine token and char\n",
        "combine_emb = tf.keras.layers.Concatenate(name = 'char_token_embedding')([token_model.output,\n",
        "                                                                          char_model.output])\n",
        "# Add dropout\n",
        "z = tf.keras.layers.Dense(256,activation = 'relu')(combine_emb)\n",
        "z = tf.keras.layers.Dropout(0.5)(z)\n",
        "\n",
        "# Combine positional and token/char embedding\n",
        "tri_emb = tf.keras.layers.Concatenate(name = 'char_token_position_embedding')([line_model.output,\n",
        "                                                                               total_line_model.output,\n",
        "                                                                               z])\n",
        "# Create output layer\n",
        "output_layer = tf.keras.layers.Dense(5, activation = 'softmax',name = 'output')(tri_emb)   \n",
        "\n",
        "# Combine all\n",
        "model5 = tf.keras.Model(inputs = [line_model.input,\n",
        "                                  total_line_model.input,\n",
        "                                  token_model.input,\n",
        "                                  char_model.input],\n",
        "                        outputs = output_layer)                                                                             "
      ],
      "execution_count": 59,
      "outputs": []
    },
    {
      "cell_type": "code",
      "metadata": {
        "colab": {
          "base_uri": "https://localhost:8080/",
          "height": 368
        },
        "id": "wfAbwfWT3sE4",
        "outputId": "c8b74067-11ed-4bcb-e565-673649a54b35"
      },
      "source": [
        "from tensorflow.keras.utils import plot_model\n",
        "plot_model(model5,show_shapes=True)"
      ],
      "execution_count": 60,
      "outputs": [
        {
          "output_type": "execute_result",
          "data": {
            "image/png": "[encoded data removed]",
            "text/plain": [
              "<IPython.core.display.Image object>"
            ]
          },
          "metadata": {},
          "execution_count": 60
        }
      ]
    },
    {
      "cell_type": "code",
      "metadata": {
        "id": "nlXtRpjW4OJf"
      },
      "source": [
        "model5.compile(loss=tf.keras.losses.CategoricalCrossentropy(label_smoothing=0.2), \n",
        "                # add label smoothing\n",
        "                optimizer=tf.keras.optimizers.Adam(),\n",
        "                metrics=[\"accuracy\"])"
      ],
      "execution_count": 65,
      "outputs": []
    },
    {
      "cell_type": "markdown",
      "metadata": {
        "id": "1OBNYfWJ4_tL"
      },
      "source": [
        "Label smoothing helps to regularize our model (prevent overfitting) by making sure it doesn't get too focused on applying one particular label to a sample."
      ]
    },
    {
      "cell_type": "markdown",
      "metadata": {
        "id": "Fgz-VF2d4Yg2"
      },
      "source": [
        "#### Create dataset and fit"
      ]
    },
    {
      "cell_type": "code",
      "metadata": {
        "colab": {
          "base_uri": "https://localhost:8080/"
        },
        "id": "2K_xS3Ed4V2i",
        "outputId": "b627266b-c60d-4199-c3c9-629b7e788a3c"
      },
      "source": [
        "train_pos_char_token_data = tf.data.Dataset.from_tensor_slices((train_line_one_hot, \n",
        "                                                                train_total_lines_one_hot,\n",
        "                                                                train_sent,\n",
        "                                                                train_char)) \n",
        "train_pos_char_token_labels = tf.data.Dataset.from_tensor_slices(train_labels) \n",
        "train_pos_char_token_dataset = tf.data.Dataset.zip((train_pos_char_token_data, train_pos_char_token_labels)) \n",
        "train_pos_char_token_dataset = train_pos_char_token_dataset.batch(32).prefetch(tf.data.AUTOTUNE) \n",
        "\n",
        "val_pos_char_token_data = tf.data.Dataset.from_tensor_slices((val_line_one_hot,\n",
        "                                                              val_total_lines_one_hot,\n",
        "                                                              val_sent,\n",
        "                                                              val_char))\n",
        "val_pos_char_token_labels = tf.data.Dataset.from_tensor_slices(val_labels)\n",
        "val_pos_char_token_dataset = tf.data.Dataset.zip((val_pos_char_token_data, val_pos_char_token_labels))\n",
        "val_pos_char_token_dataset = val_pos_char_token_dataset.batch(32).prefetch(tf.data.AUTOTUNE) \n",
        "\n",
        "train_pos_char_token_dataset"
      ],
      "execution_count": 63,
      "outputs": [
        {
          "output_type": "execute_result",
          "data": {
            "text/plain": [
              "<PrefetchDataset shapes: (((None, 15), (None, 20), (None,), (None,)), (None, 5)), types: ((tf.float32, tf.float32, tf.string, tf.string), tf.float64)>"
            ]
          },
          "metadata": {},
          "execution_count": 63
        }
      ]
    },
    {
      "cell_type": "code",
      "metadata": {
        "colab": {
          "base_uri": "https://localhost:8080/"
        },
        "id": "pv8ObyDj-Cro",
        "outputId": "48cec7a5-c604-4ca6-a964-579d6c89053e"
      },
      "source": [
        "model5.fit(train_pos_char_token_dataset,\n",
        "           steps_per_epoch = int(0.1*len(train_pos_char_token_dataset)),\n",
        "           epochs = 3,\n",
        "           validation_data=val_pos_char_token_dataset,\n",
        "           validation_steps=int(0.1 * len(val_pos_char_token_dataset)))"
      ],
      "execution_count": 66,
      "outputs": [
        {
          "output_type": "stream",
          "name": "stdout",
          "text": [
            "Epoch 1/3\n",
            "562/562 [==============================] - 88s 136ms/step - loss: 1.0958 - accuracy: 0.7254 - val_loss: 0.9864 - val_accuracy: 0.8012\n",
            "Epoch 2/3\n",
            "562/562 [==============================] - 73s 130ms/step - loss: 0.9672 - accuracy: 0.8141 - val_loss: 0.9504 - val_accuracy: 0.8278\n",
            "Epoch 3/3\n",
            "562/562 [==============================] - 69s 123ms/step - loss: 0.9483 - accuracy: 0.8248 - val_loss: 0.9380 - val_accuracy: 0.8288\n"
          ]
        },
        {
          "output_type": "execute_result",
          "data": {
            "text/plain": [
              "<keras.callbacks.History at 0x7f1f896d46d0>"
            ]
          },
          "metadata": {},
          "execution_count": 66
        }
      ]
    },
    {
      "cell_type": "code",
      "metadata": {
        "colab": {
          "base_uri": "https://localhost:8080/"
        },
        "id": "xdUaj5vOAUAb",
        "outputId": "37152634-6d45-44e8-97d4-b3d84e1943d5"
      },
      "source": [
        "model5.evaluate(val_pos_char_token_dataset)"
      ],
      "execution_count": 67,
      "outputs": [
        {
          "output_type": "stream",
          "name": "stdout",
          "text": [
            "945/945 [==============================] - 51s 53ms/step - loss: 0.9356 - accuracy: 0.8336\n"
          ]
        },
        {
          "output_type": "execute_result",
          "data": {
            "text/plain": [
              "[0.9355681538581848, 0.8335760831832886]"
            ]
          },
          "metadata": {},
          "execution_count": 67
        }
      ]
    },
    {
      "cell_type": "code",
      "metadata": {
        "colab": {
          "base_uri": "https://localhost:8080/"
        },
        "id": "YOwaWUWwARYH",
        "outputId": "0c59fc77-8114-4845-d780-30a9f59d55ea"
      },
      "source": [
        "pred5 = model5.predict(val_pos_char_token_dataset)\n",
        "pred5 = tf.argmax(pred5, axis = 1)\n",
        "\n",
        "from sklearn.metrics import classification_report\n",
        "print(classification_report(val_labels2,pred5))"
      ],
      "execution_count": 68,
      "outputs": [
        {
          "output_type": "stream",
          "name": "stdout",
          "text": [
            "              precision    recall  f1-score   support\n",
            "\n",
            "           0       0.72      0.73      0.73      3449\n",
            "           1       0.82      0.85      0.83      4582\n",
            "           2       0.88      0.88      0.88      9964\n",
            "           3       0.71      0.59      0.64      2376\n",
            "           4       0.86      0.87      0.87      9841\n",
            "\n",
            "    accuracy                           0.83     30212\n",
            "   macro avg       0.80      0.79      0.79     30212\n",
            "weighted avg       0.83      0.83      0.83     30212\n",
            "\n"
          ]
        }
      ]
    },
    {
      "cell_type": "markdown",
      "metadata": {
        "id": "Ro00bmaqC9i5"
      },
      "source": [
        "## Evaluation"
      ]
    },
    {
      "cell_type": "markdown",
      "metadata": {
        "id": "aVOvlzEQDC8b"
      },
      "source": [
        "### Save model"
      ]
    },
    {
      "cell_type": "code",
      "metadata": {
        "colab": {
          "base_uri": "https://localhost:8080/"
        },
        "id": "yQVxpTnlC9BJ",
        "outputId": "75d169ff-0741-474e-cf7f-16fae041a035"
      },
      "source": [
        "model5.save('skimlit_model')"
      ],
      "execution_count": 72,
      "outputs": [
        {
          "output_type": "stream",
          "name": "stderr",
          "text": [
            "WARNING:absl:Function `_wrapped_model` contains input name(s) Total_line_input with unsupported characters which will be renamed to total_line_input in the SavedModel.\n",
            "WARNING:absl:Found untraced functions such as lstm_cell_10_layer_call_fn, lstm_cell_10_layer_call_and_return_conditional_losses, lstm_cell_11_layer_call_fn, lstm_cell_11_layer_call_and_return_conditional_losses, lstm_cell_10_layer_call_fn while saving (showing 5 of 10). These functions will not be directly callable after loading.\n"
          ]
        },
        {
          "output_type": "stream",
          "name": "stdout",
          "text": [
            "INFO:tensorflow:Assets written to: skimlit_model/assets\n"
          ]
        },
        {
          "output_type": "stream",
          "name": "stderr",
          "text": [
            "INFO:tensorflow:Assets written to: skimlit_model/assets\n",
            "WARNING:absl:<keras.layers.recurrent.LSTMCell object at 0x7f1f89c597d0> has the same name 'LSTMCell' as a built-in Keras object. Consider renaming <class 'keras.layers.recurrent.LSTMCell'> to avoid naming conflicts when loading with `tf.keras.models.load_model`. If renaming is not possible, pass the object in the `custom_objects` parameter of the load function.\n",
            "WARNING:absl:<keras.layers.recurrent.LSTMCell object at 0x7f1f89c61a90> has the same name 'LSTMCell' as a built-in Keras object. Consider renaming <class 'keras.layers.recurrent.LSTMCell'> to avoid naming conflicts when loading with `tf.keras.models.load_model`. If renaming is not possible, pass the object in the `custom_objects` parameter of the load function.\n"
          ]
        }
      ]
    },
    {
      "cell_type": "code",
      "metadata": {
        "id": "Su71riY3DNaV"
      },
      "source": [
        "load_model = tf.keras.models.load_model('skimlit_model')"
      ],
      "execution_count": null,
      "outputs": []
    },
    {
      "cell_type": "markdown",
      "metadata": {
        "id": "TTH8twfXD1u5"
      },
      "source": [
        "### For test data"
      ]
    },
    {
      "cell_type": "code",
      "metadata": {
        "id": "qIbZ8VADD4jC"
      },
      "source": [
        "test_pos_char_token_data = tf.data.Dataset.from_tensor_slices((test_line_one_hot,\n",
        "                                                               test_total_lines_one_hot,\n",
        "                                                               test_sent,\n",
        "                                                               test_char))\n",
        "test_pos_char_token_labels = tf.data.Dataset.from_tensor_slices(test_labels)\n",
        "test_pos_char_token_dataset = tf.data.Dataset.zip((test_pos_char_token_data, test_pos_char_token_labels))\n",
        "test_pos_char_token_dataset = test_pos_char_token_dataset.batch(32).prefetch(tf.data.AUTOTUNE)"
      ],
      "execution_count": 73,
      "outputs": []
    },
    {
      "cell_type": "code",
      "metadata": {
        "colab": {
          "base_uri": "https://localhost:8080/"
        },
        "id": "7WYT0LaoEfv4",
        "outputId": "91c3bceb-df10-41d9-e702-8a170e8504dc"
      },
      "source": [
        "prob = model5.predict(test_pos_char_token_dataset,verbose=1)\n",
        "pred = tf.argmax(prob, axis = 1)"
      ],
      "execution_count": 74,
      "outputs": [
        {
          "output_type": "stream",
          "name": "stdout",
          "text": [
            "942/942 [==============================] - 48s 51ms/step\n"
          ]
        }
      ]
    },
    {
      "cell_type": "code",
      "metadata": {
        "colab": {
          "base_uri": "https://localhost:8080/"
        },
        "id": "4mMyzNuEGP82",
        "outputId": "6753780b-3c8b-4d90-91ea-cded759f7df4"
      },
      "source": [
        "from sklearn.metrics import classification_report\n",
        "print(classification_report(test_labels2,pred))"
      ],
      "execution_count": 75,
      "outputs": [
        {
          "output_type": "stream",
          "name": "stdout",
          "text": [
            "              precision    recall  f1-score   support\n",
            "\n",
            "           0       0.74      0.73      0.73      3621\n",
            "           1       0.81      0.85      0.83      4571\n",
            "           2       0.87      0.88      0.88      9897\n",
            "           3       0.70      0.59      0.64      2333\n",
            "           4       0.86      0.86      0.86      9713\n",
            "\n",
            "    accuracy                           0.83     30135\n",
            "   macro avg       0.79      0.78      0.79     30135\n",
            "weighted avg       0.83      0.83      0.83     30135\n",
            "\n"
          ]
        }
      ]
    },
    {
      "cell_type": "code",
      "metadata": {
        "colab": {
          "base_uri": "https://localhost:8080/",
          "height": 428
        },
        "id": "sz6R8gwbGgE3",
        "outputId": "aebc6a44-eb5d-475d-cf24-2c8b01a0c767"
      },
      "source": [
        "from sklearn.metrics import confusion_matrix\n",
        "import seaborn as sns\n",
        "import matplotlib.pyplot as plt\n",
        "\n",
        "M = confusion_matrix(y_true = test_labels2, y_pred = pred)\n",
        "plt.figure(figsize = (9,7))\n",
        "sns.heatmap(M,annot = True, cmap = 'flare',fmt = 'd',\n",
        "            xticklabels=class_name, yticklabels = class_name)\n",
        "plt.show()"
      ],
      "execution_count": 79,
      "outputs": [
        {
          "output_type": "display_data",
          "data": {
            "image/png": "[encoded data removed]",
            "text/plain": [
              "<Figure size 648x504 with 2 Axes>"
            ]
          },
          "metadata": {
            "needs_background": "light"
          }
        }
      ]
    },
    {
      "cell_type": "code",
      "metadata": {
        "colab": {
          "base_uri": "https://localhost:8080/",
          "height": 572
        },
        "id": "QqeCu7ZXHs0o",
        "outputId": "0821fe44-a88b-40ac-a471-076e7bc7a1f3"
      },
      "source": [
        "df_test"
      ],
      "execution_count": 80,
      "outputs": [
        {
          "output_type": "execute_result",
          "data": {
            "text/html": [
              "<div>\n",
              "<style scoped>\n",
              "    .dataframe tbody tr th:only-of-type {\n",
              "        vertical-align: middle;\n",
              "    }\n",
              "\n",
              "    .dataframe tbody tr th {\n",
              "        vertical-align: top;\n",
              "    }\n",
              "\n",
              "    .dataframe thead th {\n",
              "        text-align: right;\n",
              "    }\n",
              "</style>\n",
              "<table border=\"1\" class=\"dataframe\">\n",
              "  <thead>\n",
              "    <tr style=\"text-align: right;\">\n",
              "      <th></th>\n",
              "      <th>target</th>\n",
              "      <th>text</th>\n",
              "      <th>line_num</th>\n",
              "      <th>total_lines</th>\n",
              "    </tr>\n",
              "  </thead>\n",
              "  <tbody>\n",
              "    <tr>\n",
              "      <th>0</th>\n",
              "      <td>BACKGROUND</td>\n",
              "      <td>this study analyzed liver function abnormaliti...</td>\n",
              "      <td>0</td>\n",
              "      <td>8</td>\n",
              "    </tr>\n",
              "    <tr>\n",
              "      <th>1</th>\n",
              "      <td>RESULTS</td>\n",
              "      <td>a post hoc analysis was conducted with the use...</td>\n",
              "      <td>1</td>\n",
              "      <td>8</td>\n",
              "    </tr>\n",
              "    <tr>\n",
              "      <th>2</th>\n",
              "      <td>RESULTS</td>\n",
              "      <td>liver function tests ( lfts ) were measured at...</td>\n",
              "      <td>2</td>\n",
              "      <td>8</td>\n",
              "    </tr>\n",
              "    <tr>\n",
              "      <th>3</th>\n",
              "      <td>RESULTS</td>\n",
              "      <td>survival analyses were used to assess the asso...</td>\n",
              "      <td>3</td>\n",
              "      <td>8</td>\n",
              "    </tr>\n",
              "    <tr>\n",
              "      <th>4</th>\n",
              "      <td>RESULTS</td>\n",
              "      <td>the percentage of patients with abnormal lfts ...</td>\n",
              "      <td>4</td>\n",
              "      <td>8</td>\n",
              "    </tr>\n",
              "    <tr>\n",
              "      <th>...</th>\n",
              "      <td>...</td>\n",
              "      <td>...</td>\n",
              "      <td>...</td>\n",
              "      <td>...</td>\n",
              "    </tr>\n",
              "    <tr>\n",
              "      <th>30130</th>\n",
              "      <td>RESULTS</td>\n",
              "      <td>there was a statistically significant between-...</td>\n",
              "      <td>13</td>\n",
              "      <td>17</td>\n",
              "    </tr>\n",
              "    <tr>\n",
              "      <th>30131</th>\n",
              "      <td>RESULTS</td>\n",
              "      <td>there were no statistically significant betwee...</td>\n",
              "      <td>14</td>\n",
              "      <td>17</td>\n",
              "    </tr>\n",
              "    <tr>\n",
              "      <th>30132</th>\n",
              "      <td>RESULTS</td>\n",
              "      <td>there was no significant association between s...</td>\n",
              "      <td>15</td>\n",
              "      <td>17</td>\n",
              "    </tr>\n",
              "    <tr>\n",
              "      <th>30133</th>\n",
              "      <td>RESULTS</td>\n",
              "      <td>no adverse effects were reported .</td>\n",
              "      <td>16</td>\n",
              "      <td>17</td>\n",
              "    </tr>\n",
              "    <tr>\n",
              "      <th>30134</th>\n",
              "      <td>CONCLUSIONS</td>\n",
              "      <td>performing a @-week do-as-tolerated program of...</td>\n",
              "      <td>17</td>\n",
              "      <td>17</td>\n",
              "    </tr>\n",
              "  </tbody>\n",
              "</table>\n",
              "<p>30135 rows × 4 columns</p>\n",
              "</div>"
            ],
            "text/plain": [
              "            target  ... total_lines\n",
              "0       BACKGROUND  ...           8\n",
              "1          RESULTS  ...           8\n",
              "2          RESULTS  ...           8\n",
              "3          RESULTS  ...           8\n",
              "4          RESULTS  ...           8\n",
              "...            ...  ...         ...\n",
              "30130      RESULTS  ...          17\n",
              "30131      RESULTS  ...          17\n",
              "30132      RESULTS  ...          17\n",
              "30133      RESULTS  ...          17\n",
              "30134  CONCLUSIONS  ...          17\n",
              "\n",
              "[30135 rows x 4 columns]"
            ]
          },
          "metadata": {},
          "execution_count": 80
        }
      ]
    },
    {
      "cell_type": "code",
      "metadata": {
        "colab": {
          "base_uri": "https://localhost:8080/"
        },
        "id": "NCY7AXITJFUK",
        "outputId": "e82b6181-c9d8-4bf1-f60c-3a2ebe981742"
      },
      "source": [
        "prob"
      ],
      "execution_count": 85,
      "outputs": [
        {
          "output_type": "execute_result",
          "data": {
            "text/plain": [
              "array([[0.3070561 , 0.09607327, 0.05168844, 0.4923166 , 0.05286557],\n",
              "       [0.35393453, 0.07749134, 0.21241358, 0.3261118 , 0.03004875],\n",
              "       [0.07747585, 0.02283459, 0.75013286, 0.09502975, 0.05452693],\n",
              "       ...,\n",
              "       [0.06770498, 0.07594253, 0.08849712, 0.05131122, 0.71654415],\n",
              "       [0.06471932, 0.06785023, 0.07063851, 0.0437091 , 0.7530829 ],\n",
              "       [0.08510544, 0.5424561 , 0.13282597, 0.04882226, 0.19079018]],\n",
              "      dtype=float32)"
            ]
          },
          "metadata": {},
          "execution_count": 85
        }
      ]
    },
    {
      "cell_type": "code",
      "metadata": {
        "colab": {
          "base_uri": "https://localhost:8080/",
          "height": 564
        },
        "id": "AAx68EoBHHB2",
        "outputId": "eaf0d223-592e-4adf-b0b8-0253739cf4b9"
      },
      "source": [
        "import pandas as pd\n",
        "df_test['pred'] = [class_name[i] for i in pred.numpy()]\n",
        "\n",
        "df_test['prob'] = tf.reduce_max(prob,axis = 1).numpy()\n",
        "\n",
        "df_test['acc'] = df_test.apply(lambda x: 1 if x['pred'] == x['target'] else 0, axis = 1)\n",
        "\n",
        "df_test.head()"
      ],
      "execution_count": 91,
      "outputs": [
        {
          "output_type": "execute_result",
          "data": {
            "text/html": [
              "<div>\n",
              "<style scoped>\n",
              "    .dataframe tbody tr th:only-of-type {\n",
              "        vertical-align: middle;\n",
              "    }\n",
              "\n",
              "    .dataframe tbody tr th {\n",
              "        vertical-align: top;\n",
              "    }\n",
              "\n",
              "    .dataframe thead th {\n",
              "        text-align: right;\n",
              "    }\n",
              "</style>\n",
              "<table border=\"1\" class=\"dataframe\">\n",
              "  <thead>\n",
              "    <tr style=\"text-align: right;\">\n",
              "      <th></th>\n",
              "      <th>target</th>\n",
              "      <th>text</th>\n",
              "      <th>line_num</th>\n",
              "      <th>total_lines</th>\n",
              "      <th>pred</th>\n",
              "      <th>prob</th>\n",
              "      <th>acc</th>\n",
              "    </tr>\n",
              "  </thead>\n",
              "  <tbody>\n",
              "    <tr>\n",
              "      <th>0</th>\n",
              "      <td>BACKGROUND</td>\n",
              "      <td>this study analyzed liver function abnormaliti...</td>\n",
              "      <td>0</td>\n",
              "      <td>8</td>\n",
              "      <td>OBJECTIVE</td>\n",
              "      <td>0.492317</td>\n",
              "      <td>0</td>\n",
              "    </tr>\n",
              "    <tr>\n",
              "      <th>1</th>\n",
              "      <td>RESULTS</td>\n",
              "      <td>a post hoc analysis was conducted with the use...</td>\n",
              "      <td>1</td>\n",
              "      <td>8</td>\n",
              "      <td>BACKGROUND</td>\n",
              "      <td>0.353935</td>\n",
              "      <td>0</td>\n",
              "    </tr>\n",
              "    <tr>\n",
              "      <th>2</th>\n",
              "      <td>RESULTS</td>\n",
              "      <td>liver function tests ( lfts ) were measured at...</td>\n",
              "      <td>2</td>\n",
              "      <td>8</td>\n",
              "      <td>METHODS</td>\n",
              "      <td>0.750133</td>\n",
              "      <td>0</td>\n",
              "    </tr>\n",
              "    <tr>\n",
              "      <th>3</th>\n",
              "      <td>RESULTS</td>\n",
              "      <td>survival analyses were used to assess the asso...</td>\n",
              "      <td>3</td>\n",
              "      <td>8</td>\n",
              "      <td>METHODS</td>\n",
              "      <td>0.620423</td>\n",
              "      <td>0</td>\n",
              "    </tr>\n",
              "    <tr>\n",
              "      <th>4</th>\n",
              "      <td>RESULTS</td>\n",
              "      <td>the percentage of patients with abnormal lfts ...</td>\n",
              "      <td>4</td>\n",
              "      <td>8</td>\n",
              "      <td>RESULTS</td>\n",
              "      <td>0.708939</td>\n",
              "      <td>1</td>\n",
              "    </tr>\n",
              "  </tbody>\n",
              "</table>\n",
              "</div>"
            ],
            "text/plain": [
              "       target                                               text  ...      prob  acc\n",
              "0  BACKGROUND  this study analyzed liver function abnormaliti...  ...  0.492317    0\n",
              "1     RESULTS  a post hoc analysis was conducted with the use...  ...  0.353935    0\n",
              "2     RESULTS  liver function tests ( lfts ) were measured at...  ...  0.750133    0\n",
              "3     RESULTS  survival analyses were used to assess the asso...  ...  0.620423    0\n",
              "4     RESULTS  the percentage of patients with abnormal lfts ...  ...  0.708939    1\n",
              "\n",
              "[5 rows x 7 columns]"
            ]
          },
          "metadata": {},
          "execution_count": 91
        }
      ]
    },
    {
      "cell_type": "code",
      "metadata": {
        "colab": {
          "base_uri": "https://localhost:8080/"
        },
        "id": "s-Gnqz4uIMLY",
        "outputId": "19201423-6068-4bd0-b7df-e23c54293bb2"
      },
      "source": [
        "df_wrong = df_test[df_test['acc'] == 0].sort_values(by = 'prob', ascending=False)\n",
        "df_wrong = df_wrong.reset_index()\n",
        "\n",
        "for i in range(10):\n",
        "  print(f\"Target: {df_wrong.loc[i,'target']}, Pred: {df_wrong.loc[i,'pred']}, Prob: {df_wrong.loc[i,'prob']}, Line number: {df_wrong.loc[i,'line_num']}, Total lines: {df_wrong.loc[i,'total_lines']}\\n\")\n",
        "  print(f\"Text:\\n{df_wrong.loc[i,'text']}\\n\")\n",
        "  print(\"-----\\n\")"
      ],
      "execution_count": 96,
      "outputs": [
        {
          "output_type": "stream",
          "name": "stdout",
          "text": [
            "Target: RESULTS, Pred: METHODS, Prob: 0.9456683397293091, Line number: 4, Total lines: 13\n",
            "\n",
            "Text:\n",
            "the primary endpoint is the cumulative three-year hiv incidence .\n",
            "\n",
            "-----\n",
            "\n",
            "Target: CONCLUSIONS, Pred: METHODS, Prob: 0.9342359304428101, Line number: 4, Total lines: 6\n",
            "\n",
            "Text:\n",
            "symptom outcomes will be assessed and estimates of cost-effectiveness made .\n",
            "\n",
            "-----\n",
            "\n",
            "Target: RESULTS, Pred: METHODS, Prob: 0.9269504547119141, Line number: 3, Total lines: 16\n",
            "\n",
            "Text:\n",
            "a cluster randomised trial was implemented with @,@ children in @ government primary schools on the south coast of kenya in @-@ .\n",
            "\n",
            "-----\n",
            "\n",
            "Target: METHODS, Pred: BACKGROUND, Prob: 0.9266694784164429, Line number: 1, Total lines: 11\n",
            "\n",
            "Text:\n",
            "pretest-posttest .\n",
            "\n",
            "-----\n",
            "\n",
            "Target: BACKGROUND, Pred: OBJECTIVE, Prob: 0.9246124029159546, Line number: 0, Total lines: 12\n",
            "\n",
            "Text:\n",
            "to evaluate the effects of the lactic acid bacterium lactobacillus salivarius on caries risk factors .\n",
            "\n",
            "-----\n",
            "\n",
            "Target: METHODS, Pred: RESULTS, Prob: 0.9182432889938354, Line number: 6, Total lines: 9\n",
            "\n",
            "Text:\n",
            "-@ % vs. fish : -@ % vs. fish + s : -@ % ; p < @ ) but there were no significant differences between groups .\n",
            "\n",
            "-----\n",
            "\n",
            "Target: CONCLUSIONS, Pred: BACKGROUND, Prob: 0.9174354672431946, Line number: 18, Total lines: 18\n",
            "\n",
            "Text:\n",
            "nct@ ( clinicaltrials.gov ) .\n",
            "\n",
            "-----\n",
            "\n",
            "Target: RESULTS, Pred: BACKGROUND, Prob: 0.9088653326034546, Line number: 8, Total lines: 15\n",
            "\n",
            "Text:\n",
            "non-diffuse-trickling '' ) .\n",
            "\n",
            "-----\n",
            "\n",
            "Target: RESULTS, Pred: METHODS, Prob: 0.9059398770332336, Line number: 4, Total lines: 13\n",
            "\n",
            "Text:\n",
            "baseline measures included sociodemographics , standardized anthropometrics , asthma control test ( act ) , gerd symptom assessment scale , pittsburgh sleep quality index , and berlin questionnaire for sleep apnea .\n",
            "\n",
            "-----\n",
            "\n",
            "Target: RESULTS, Pred: METHODS, Prob: 0.9056702852249146, Line number: 4, Total lines: 14\n",
            "\n",
            "Text:\n",
            "a screening questionnaire for moh was sent to all @-@ year old patients on these gps ` list .\n",
            "\n",
            "-----\n",
            "\n"
          ]
        }
      ]
    },
    {
      "cell_type": "markdown",
      "metadata": {
        "id": "m9FpdUisM0hY"
      },
      "source": [
        "## Predict User Input (from course notebook)"
      ]
    },
    {
      "cell_type": "code",
      "metadata": {
        "colab": {
          "base_uri": "https://localhost:8080/"
        },
        "id": "Fk-Kd54VMWXW",
        "outputId": "50b11893-285d-418e-badc-a4daaa5f8f63"
      },
      "source": [
        "import json\n",
        "!wget https://raw.githubusercontent.com/mrdbourke/tensorflow-deep-learning/main/extras/skimlit_example_abstracts.json\n",
        "\n",
        "with open(\"skimlit_example_abstracts.json\", \"r\") as f:\n",
        "  example_abstracts = json.load(f)\n",
        "\n",
        "example_abstracts"
      ],
      "execution_count": 97,
      "outputs": [
        {
          "output_type": "stream",
          "name": "stdout",
          "text": [
            "--2021-11-21 11:15:12--  https://raw.githubusercontent.com/mrdbourke/tensorflow-deep-learning/main/extras/skimlit_example_abstracts.json\n",
            "Resolving raw.githubusercontent.com (raw.githubusercontent.com)... 185.199.108.133, 185.199.109.133, 185.199.110.133, ...\n",
            "Connecting to raw.githubusercontent.com (raw.githubusercontent.com)|185.199.108.133|:443... connected.\n",
            "HTTP request sent, awaiting response... 200 OK\n",
            "Length: 6737 (6.6K) [text/plain]\n",
            "Saving to: ‘skimlit_example_abstracts.json’\n",
            "\n",
            "\r          skimlit_e   0%[                    ]       0  --.-KB/s               \rskimlit_example_abs 100%[===================>]   6.58K  --.-KB/s    in 0s      \n",
            "\n",
            "2021-11-21 11:15:12 (58.7 MB/s) - ‘skimlit_example_abstracts.json’ saved [6737/6737]\n",
            "\n"
          ]
        },
        {
          "output_type": "execute_result",
          "data": {
            "text/plain": [
              "[{'abstract': 'This RCT examined the efficacy of a manualized social intervention for children with HFASDs. Participants were randomly assigned to treatment or wait-list conditions. Treatment included instruction and therapeutic activities targeting social skills, face-emotion recognition, interest expansion, and interpretation of non-literal language. A response-cost program was applied to reduce problem behaviors and foster skills acquisition. Significant treatment effects were found for five of seven primary outcome measures (parent ratings and direct child measures). Secondary measures based on staff ratings (treatment group only) corroborated gains reported by parents. High levels of parent, child and staff satisfaction were reported, along with high levels of treatment fidelity. Standardized effect size estimates were primarily in the medium and large ranges and favored the treatment group.',\n",
              "  'details': 'RCT of a manualized social treatment for high-functioning autism spectrum disorders',\n",
              "  'source': 'https://pubmed.ncbi.nlm.nih.gov/20232240/'},\n",
              " {'abstract': \"Postpartum depression (PPD) is the most prevalent mood disorder associated with childbirth. No single cause of PPD has been identified, however the increased risk of nutritional deficiencies incurred through the high nutritional requirements of pregnancy may play a role in the pathology of depressive symptoms. Three nutritional interventions have drawn particular interest as possible non-invasive and cost-effective prevention and/or treatment strategies for PPD; omega-3 (n-3) long chain polyunsaturated fatty acids (LCPUFA), vitamin D and overall diet. We searched for meta-analyses of randomised controlled trials (RCT's) of nutritional interventions during the perinatal period with PPD as an outcome, and checked for any trials published subsequently to the meta-analyses. Fish oil: Eleven RCT's of prenatal fish oil supplementation RCT's show null and positive effects on PPD symptoms. Vitamin D: no relevant RCT's were identified, however seven observational studies of maternal vitamin D levels with PPD outcomes showed inconsistent associations. Diet: Two Australian RCT's with dietary advice interventions in pregnancy had a positive and null result on PPD. With the exception of fish oil, few RCT's with nutritional interventions during pregnancy assess PPD. Further research is needed to determine whether nutritional intervention strategies during pregnancy can protect against symptoms of PPD. Given the prevalence of PPD and ease of administering PPD measures, we recommend future prenatal nutritional RCT's include PPD as an outcome.\",\n",
              "  'details': 'Formatting removed (can be used to compare model to actual example)',\n",
              "  'source': 'https://pubmed.ncbi.nlm.nih.gov/28012571/'},\n",
              " {'abstract': 'Mental illness, including depression, anxiety and bipolar disorder, accounts for a significant proportion of global disability and poses a substantial social, economic and heath burden. Treatment is presently dominated by pharmacotherapy, such as antidepressants, and psychotherapy, such as cognitive behavioural therapy; however, such treatments avert less than half of the disease burden, suggesting that additional strategies are needed to prevent and treat mental disorders. There are now consistent mechanistic, observational and interventional data to suggest diet quality may be a modifiable risk factor for mental illness. This review provides an overview of the nutritional psychiatry field. It includes a discussion of the neurobiological mechanisms likely modulated by diet, the use of dietary and nutraceutical interventions in mental disorders, and recommendations for further research. Potential biological pathways related to mental disorders include inflammation, oxidative stress, the gut microbiome, epigenetic modifications and neuroplasticity. Consistent epidemiological evidence, particularly for depression, suggests an association between measures of diet quality and mental health, across multiple populations and age groups; these do not appear to be explained by other demographic, lifestyle factors or reverse causality. Our recently published intervention trial provides preliminary clinical evidence that dietary interventions in clinically diagnosed populations are feasible and can provide significant clinical benefit. Furthermore, nutraceuticals including n-3 fatty acids, folate, S-adenosylmethionine, N-acetyl cysteine and probiotics, among others, are promising avenues for future research. Continued research is now required to investigate the efficacy of intervention studies in large cohorts and within clinically relevant populations, particularly in patients with schizophrenia, bipolar and anxiety disorders.',\n",
              "  'details': 'Effect of nutrition on mental health',\n",
              "  'source': 'https://pubmed.ncbi.nlm.nih.gov/28942748/'},\n",
              " {'abstract': \"Hepatitis C virus (HCV) and alcoholic liver disease (ALD), either alone or in combination, count for more than two thirds of all liver diseases in the Western world. There is no safe level of drinking in HCV-infected patients and the most effective goal for these patients is total abstinence. Baclofen, a GABA(B) receptor agonist, represents a promising pharmacotherapy for alcohol dependence (AD). Previously, we performed a randomized clinical trial (RCT), which demonstrated the safety and efficacy of baclofen in patients affected by AD and cirrhosis. The goal of this post-hoc analysis was to explore baclofen's effect in a subgroup of alcohol-dependent HCV-infected cirrhotic patients. Any patient with HCV infection was selected for this analysis. Among the 84 subjects randomized in the main trial, 24 alcohol-dependent cirrhotic patients had a HCV infection; 12 received baclofen 10mg t.i.d. and 12 received placebo for 12-weeks. With respect to the placebo group (3/12, 25.0%), a significantly higher number of patients who achieved and maintained total alcohol abstinence was found in the baclofen group (10/12, 83.3%; p=0.0123). Furthermore, in the baclofen group, compared to placebo, there was a significantly higher increase in albumin values from baseline (p=0.0132) and a trend toward a significant reduction in INR levels from baseline (p=0.0716). In conclusion, baclofen was safe and significantly more effective than placebo in promoting alcohol abstinence, and improving some Liver Function Tests (LFTs) (i.e. albumin, INR) in alcohol-dependent HCV-infected cirrhotic patients. Baclofen may represent a clinically relevant alcohol pharmacotherapy for these patients.\",\n",
              "  'details': 'Baclofen promotes alcohol abstinence in alcohol dependent cirrhotic patients with hepatitis C virus (HCV) infection',\n",
              "  'source': 'https://pubmed.ncbi.nlm.nih.gov/22244707/'}]"
            ]
          },
          "metadata": {},
          "execution_count": 97
        }
      ]
    },
    {
      "cell_type": "code",
      "metadata": {
        "colab": {
          "base_uri": "https://localhost:8080/",
          "height": 377
        },
        "id": "kfXQukL2NQUN",
        "outputId": "8e328c48-197e-4cad-a0c2-cc44a42cf652"
      },
      "source": [
        "abstracts = pd.DataFrame(example_abstracts)\n",
        "abstracts.head()"
      ],
      "execution_count": 98,
      "outputs": [
        {
          "output_type": "execute_result",
          "data": {
            "text/html": [
              "<div>\n",
              "<style scoped>\n",
              "    .dataframe tbody tr th:only-of-type {\n",
              "        vertical-align: middle;\n",
              "    }\n",
              "\n",
              "    .dataframe tbody tr th {\n",
              "        vertical-align: top;\n",
              "    }\n",
              "\n",
              "    .dataframe thead th {\n",
              "        text-align: right;\n",
              "    }\n",
              "</style>\n",
              "<table border=\"1\" class=\"dataframe\">\n",
              "  <thead>\n",
              "    <tr style=\"text-align: right;\">\n",
              "      <th></th>\n",
              "      <th>abstract</th>\n",
              "      <th>source</th>\n",
              "      <th>details</th>\n",
              "    </tr>\n",
              "  </thead>\n",
              "  <tbody>\n",
              "    <tr>\n",
              "      <th>0</th>\n",
              "      <td>This RCT examined the efficacy of a manualized...</td>\n",
              "      <td>https://pubmed.ncbi.nlm.nih.gov/20232240/</td>\n",
              "      <td>RCT of a manualized social treatment for high-...</td>\n",
              "    </tr>\n",
              "    <tr>\n",
              "      <th>1</th>\n",
              "      <td>Postpartum depression (PPD) is the most preval...</td>\n",
              "      <td>https://pubmed.ncbi.nlm.nih.gov/28012571/</td>\n",
              "      <td>Formatting removed (can be used to compare mod...</td>\n",
              "    </tr>\n",
              "    <tr>\n",
              "      <th>2</th>\n",
              "      <td>Mental illness, including depression, anxiety ...</td>\n",
              "      <td>https://pubmed.ncbi.nlm.nih.gov/28942748/</td>\n",
              "      <td>Effect of nutrition on mental health</td>\n",
              "    </tr>\n",
              "    <tr>\n",
              "      <th>3</th>\n",
              "      <td>Hepatitis C virus (HCV) and alcoholic liver di...</td>\n",
              "      <td>https://pubmed.ncbi.nlm.nih.gov/22244707/</td>\n",
              "      <td>Baclofen promotes alcohol abstinence in alcoho...</td>\n",
              "    </tr>\n",
              "  </tbody>\n",
              "</table>\n",
              "</div>"
            ],
            "text/plain": [
              "                                            abstract  ...                                            details\n",
              "0  This RCT examined the efficacy of a manualized...  ...  RCT of a manualized social treatment for high-...\n",
              "1  Postpartum depression (PPD) is the most preval...  ...  Formatting removed (can be used to compare mod...\n",
              "2  Mental illness, including depression, anxiety ...  ...               Effect of nutrition on mental health\n",
              "3  Hepatitis C virus (HCV) and alcoholic liver di...  ...  Baclofen promotes alcohol abstinence in alcoho...\n",
              "\n",
              "[4 rows x 3 columns]"
            ]
          },
          "metadata": {},
          "execution_count": 98
        }
      ]
    },
    {
      "cell_type": "code",
      "metadata": {
        "colab": {
          "base_uri": "https://localhost:8080/"
        },
        "id": "58kus5nRNTUp",
        "outputId": "9ba7b70f-2126-4de1-d78b-17a7b708e1e1"
      },
      "source": [
        "from spacy.lang.en import English\n",
        "nlp = English() # setup English sentence parser\n",
        "sentencizer = nlp.create_pipe(\"sentencizer\") # create sentence splitting pipeline object\n",
        "nlp.add_pipe(sentencizer) # add sentence splitting pipeline object to sentence parser\n",
        "doc = nlp(example_abstracts[0][\"abstract\"]) # create \"doc\" of parsed sequences, change index for a different abstract\n",
        "abstract_lines = [str(sent) for sent in list(doc.sents)] # return detected sentences from doc in string type (not spaCy token type)\n",
        "abstract_lines"
      ],
      "execution_count": 99,
      "outputs": [
        {
          "output_type": "execute_result",
          "data": {
            "text/plain": [
              "['This RCT examined the efficacy of a manualized social intervention for children with HFASDs.',\n",
              " 'Participants were randomly assigned to treatment or wait-list conditions.',\n",
              " 'Treatment included instruction and therapeutic activities targeting social skills, face-emotion recognition, interest expansion, and interpretation of non-literal language.',\n",
              " 'A response-cost program was applied to reduce problem behaviors and foster skills acquisition.',\n",
              " 'Significant treatment effects were found for five of seven primary outcome measures (parent ratings and direct child measures).',\n",
              " 'Secondary measures based on staff ratings (treatment group only) corroborated gains reported by parents.',\n",
              " 'High levels of parent, child and staff satisfaction were reported, along with high levels of treatment fidelity.',\n",
              " 'Standardized effect size estimates were primarily in the medium and large ranges and favored the treatment group.']"
            ]
          },
          "metadata": {},
          "execution_count": 99
        }
      ]
    },
    {
      "cell_type": "code",
      "metadata": {
        "colab": {
          "base_uri": "https://localhost:8080/"
        },
        "id": "LbGL_9UJNZ-d",
        "outputId": "cd6b7a9b-7a67-4b29-e869-4664afb201a5"
      },
      "source": [
        "# Get total number of lines\n",
        "total_lines_in_sample = len(abstract_lines)\n",
        "\n",
        "# Go through each line in abstract and create a list of dictionaries containing features for each line\n",
        "sample_lines = []\n",
        "for i, line in enumerate(abstract_lines):\n",
        "  sample_dict = {}\n",
        "  sample_dict[\"text\"] = str(line)\n",
        "  sample_dict[\"line_number\"] = i\n",
        "  sample_dict[\"total_lines\"] = total_lines_in_sample - 1\n",
        "  sample_lines.append(sample_dict)\n",
        "sample_lines"
      ],
      "execution_count": 100,
      "outputs": [
        {
          "output_type": "execute_result",
          "data": {
            "text/plain": [
              "[{'line_number': 0,\n",
              "  'text': 'This RCT examined the efficacy of a manualized social intervention for children with HFASDs.',\n",
              "  'total_lines': 7},\n",
              " {'line_number': 1,\n",
              "  'text': 'Participants were randomly assigned to treatment or wait-list conditions.',\n",
              "  'total_lines': 7},\n",
              " {'line_number': 2,\n",
              "  'text': 'Treatment included instruction and therapeutic activities targeting social skills, face-emotion recognition, interest expansion, and interpretation of non-literal language.',\n",
              "  'total_lines': 7},\n",
              " {'line_number': 3,\n",
              "  'text': 'A response-cost program was applied to reduce problem behaviors and foster skills acquisition.',\n",
              "  'total_lines': 7},\n",
              " {'line_number': 4,\n",
              "  'text': 'Significant treatment effects were found for five of seven primary outcome measures (parent ratings and direct child measures).',\n",
              "  'total_lines': 7},\n",
              " {'line_number': 5,\n",
              "  'text': 'Secondary measures based on staff ratings (treatment group only) corroborated gains reported by parents.',\n",
              "  'total_lines': 7},\n",
              " {'line_number': 6,\n",
              "  'text': 'High levels of parent, child and staff satisfaction were reported, along with high levels of treatment fidelity.',\n",
              "  'total_lines': 7},\n",
              " {'line_number': 7,\n",
              "  'text': 'Standardized effect size estimates were primarily in the medium and large ranges and favored the treatment group.',\n",
              "  'total_lines': 7}]"
            ]
          },
          "metadata": {},
          "execution_count": 100
        }
      ]
    },
    {
      "cell_type": "code",
      "metadata": {
        "id": "jO2aYiQ4NnZs"
      },
      "source": [
        "# Get all line_number values from sample abstract\n",
        "test_abstract_line_numbers = [line[\"line_number\"] for line in sample_lines]\n",
        "# One-hot encode to same depth as training data, so model accepts right input shape\n",
        "test_abstract_line_numbers_one_hot = tf.one_hot(test_abstract_line_numbers, depth=15) "
      ],
      "execution_count": null,
      "outputs": []
    },
    {
      "cell_type": "code",
      "metadata": {
        "id": "L142NuzENpk5"
      },
      "source": [
        "# Get all total_lines values from sample abstract\n",
        "test_abstract_total_lines = [line[\"total_lines\"] for line in sample_lines]\n",
        "# One-hot encode to same depth as training data, so model accepts right input shape\n",
        "test_abstract_total_lines_one_hot = tf.one_hot(test_abstract_total_lines, depth=20)"
      ],
      "execution_count": null,
      "outputs": []
    },
    {
      "cell_type": "code",
      "metadata": {
        "id": "D3CgEUOKOFzw"
      },
      "source": [
        "def split_chars(text):\n",
        "  return \" \".join(list(text))"
      ],
      "execution_count": 105,
      "outputs": []
    },
    {
      "cell_type": "code",
      "metadata": {
        "colab": {
          "base_uri": "https://localhost:8080/"
        },
        "id": "ZB6KX_weNvS-",
        "outputId": "2aacad80-96a4-477c-94f5-54864fcd2eab"
      },
      "source": [
        "abstract_chars = [split_chars(sentence) for sentence in abstract_lines]\n",
        "abstract_chars"
      ],
      "execution_count": 106,
      "outputs": [
        {
          "output_type": "execute_result",
          "data": {
            "text/plain": [
              "['T h i s   R C T   e x a m i n e d   t h e   e f f i c a c y   o f   a   m a n u a l i z e d   s o c i a l   i n t e r v e n t i o n   f o r   c h i l d r e n   w i t h   H F A S D s .',\n",
              " 'P a r t i c i p a n t s   w e r e   r a n d o m l y   a s s i g n e d   t o   t r e a t m e n t   o r   w a i t - l i s t   c o n d i t i o n s .',\n",
              " 'T r e a t m e n t   i n c l u d e d   i n s t r u c t i o n   a n d   t h e r a p e u t i c   a c t i v i t i e s   t a r g e t i n g   s o c i a l   s k i l l s ,   f a c e - e m o t i o n   r e c o g n i t i o n ,   i n t e r e s t   e x p a n s i o n ,   a n d   i n t e r p r e t a t i o n   o f   n o n - l i t e r a l   l a n g u a g e .',\n",
              " 'A   r e s p o n s e - c o s t   p r o g r a m   w a s   a p p l i e d   t o   r e d u c e   p r o b l e m   b e h a v i o r s   a n d   f o s t e r   s k i l l s   a c q u i s i t i o n .',\n",
              " 'S i g n i f i c a n t   t r e a t m e n t   e f f e c t s   w e r e   f o u n d   f o r   f i v e   o f   s e v e n   p r i m a r y   o u t c o m e   m e a s u r e s   ( p a r e n t   r a t i n g s   a n d   d i r e c t   c h i l d   m e a s u r e s ) .',\n",
              " 'S e c o n d a r y   m e a s u r e s   b a s e d   o n   s t a f f   r a t i n g s   ( t r e a t m e n t   g r o u p   o n l y )   c o r r o b o r a t e d   g a i n s   r e p o r t e d   b y   p a r e n t s .',\n",
              " 'H i g h   l e v e l s   o f   p a r e n t ,   c h i l d   a n d   s t a f f   s a t i s f a c t i o n   w e r e   r e p o r t e d ,   a l o n g   w i t h   h i g h   l e v e l s   o f   t r e a t m e n t   f i d e l i t y .',\n",
              " 'S t a n d a r d i z e d   e f f e c t   s i z e   e s t i m a t e s   w e r e   p r i m a r i l y   i n   t h e   m e d i u m   a n d   l a r g e   r a n g e s   a n d   f a v o r e d   t h e   t r e a t m e n t   g r o u p .']"
            ]
          },
          "metadata": {},
          "execution_count": 106
        }
      ]
    },
    {
      "cell_type": "code",
      "metadata": {
        "id": "JTzZ2OXtNv9T"
      },
      "source": [
        "test_abstract_pred_probs = model5.predict(x=(test_abstract_line_numbers_one_hot,\n",
        "                                                   test_abstract_total_lines_one_hot,\n",
        "                                                   tf.constant(abstract_lines),\n",
        "                                                   tf.constant(abstract_chars)))"
      ],
      "execution_count": 108,
      "outputs": []
    },
    {
      "cell_type": "code",
      "metadata": {
        "colab": {
          "base_uri": "https://localhost:8080/"
        },
        "id": "0wdyd2zRNzU6",
        "outputId": "45f07ffd-58ff-469d-e01f-7f6258ae6906"
      },
      "source": [
        "# Turn prediction probabilities into prediction classes\n",
        "test_abstract_preds = tf.argmax(test_abstract_pred_probs, axis=1)\n",
        "# Turn prediction class integers into string class names\n",
        "test_abstract_pred_classes = [encoder2.classes_[i] for i in test_abstract_preds]\n",
        "\n",
        "for i, line in enumerate(abstract_lines):\n",
        "  print(f\"{test_abstract_pred_classes[i]}: {line}\")"
      ],
      "execution_count": 111,
      "outputs": [
        {
          "output_type": "stream",
          "name": "stdout",
          "text": [
            "OBJECTIVE: This RCT examined the efficacy of a manualized social intervention for children with HFASDs.\n",
            "METHODS: Participants were randomly assigned to treatment or wait-list conditions.\n",
            "METHODS: Treatment included instruction and therapeutic activities targeting social skills, face-emotion recognition, interest expansion, and interpretation of non-literal language.\n",
            "METHODS: A response-cost program was applied to reduce problem behaviors and foster skills acquisition.\n",
            "METHODS: Significant treatment effects were found for five of seven primary outcome measures (parent ratings and direct child measures).\n",
            "METHODS: Secondary measures based on staff ratings (treatment group only) corroborated gains reported by parents.\n",
            "RESULTS: High levels of parent, child and staff satisfaction were reported, along with high levels of treatment fidelity.\n",
            "RESULTS: Standardized effect size estimates were primarily in the medium and large ranges and favored the treatment group.\n"
          ]
        }
      ]
    }
  ]
}