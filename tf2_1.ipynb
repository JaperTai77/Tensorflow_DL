{
  "nbformat": 4,
  "nbformat_minor": 0,
  "metadata": {
    "colab": {
      "name": "tf2_1.ipynb",
      "provenance": [],
      "collapsed_sections": [
        "qYr9p-64sMsG",
        "G4kOeVxJ_2Ky"
      ],
      "authorship_tag": "ABX9TyOv5WjA5pxOoOOJbKEvAVMy",
      "include_colab_link": true
    },
    "kernelspec": {
      "name": "python3",
      "display_name": "Python 3"
    },
    "language_info": {
      "name": "python"
    }
  },
  "cells": [
    {
      "cell_type": "markdown",
      "metadata": {
        "id": "view-in-github",
        "colab_type": "text"
      },
      "source": [
        "<a href=\"https://colab.research.google.com/github/JaperTai77/Tensorflow_DL/blob/main/tf2_1.ipynb\" target=\"_parent\"><img src=\"https://colab.research.google.com/assets/colab-badge.svg\" alt=\"Open In Colab\"/></a>"
      ]
    },
    {
      "cell_type": "markdown",
      "metadata": {
        "id": "qYr9p-64sMsG"
      },
      "source": [
        "## Create Tensors"
      ]
    },
    {
      "cell_type": "code",
      "metadata": {
        "colab": {
          "base_uri": "https://localhost:8080/"
        },
        "id": "ly-UrsT7o4a3",
        "outputId": "eed60a8c-cdba-41d3-b072-6ddb7bd20a0e"
      },
      "source": [
        "import tensorflow as tf\n",
        "# constant tensor\n",
        "t = tf.constant([[[2,4,5],[4,5,6]],\n",
        "             [[5,6,3],[2,5,7]],\n",
        "             [[2,8,5],[3,6,4]]])\n",
        "t"
      ],
      "execution_count": null,
      "outputs": [
        {
          "output_type": "execute_result",
          "data": {
            "text/plain": [
              "<tf.Tensor: shape=(3, 2, 3), dtype=int32, numpy=\n",
              "array([[[2, 4, 5],\n",
              "        [4, 5, 6]],\n",
              "\n",
              "       [[5, 6, 3],\n",
              "        [2, 5, 7]],\n",
              "\n",
              "       [[2, 8, 5],\n",
              "        [3, 6, 4]]], dtype=int32)>"
            ]
          },
          "metadata": {},
          "execution_count": 1
        }
      ]
    },
    {
      "cell_type": "code",
      "metadata": {
        "colab": {
          "base_uri": "https://localhost:8080/"
        },
        "id": "Ox7C-MRzrRjB",
        "outputId": "3aeeab78-0b61-4614-953a-5844520db572"
      },
      "source": [
        "# varible tensor\n",
        "t = tf.Variable([1,4,5])\n",
        "t[0].assign(0)"
      ],
      "execution_count": null,
      "outputs": [
        {
          "output_type": "execute_result",
          "data": {
            "text/plain": [
              "<tf.Variable 'UnreadVariable' shape=(3,) dtype=int32, numpy=array([0, 4, 5], dtype=int32)>"
            ]
          },
          "metadata": {},
          "execution_count": 4
        }
      ]
    },
    {
      "cell_type": "code",
      "metadata": {
        "colab": {
          "base_uri": "https://localhost:8080/"
        },
        "id": "xRG21lruTdxQ",
        "outputId": "470f1045-27f5-4c6f-b182-d963a1eaec92"
      },
      "source": [
        "I = tf.Variable(np.arange(0, 5))\n",
        "I.assign_add([10, 10, 10, 10, 10])"
      ],
      "execution_count": null,
      "outputs": [
        {
          "output_type": "execute_result",
          "data": {
            "text/plain": [
              "<tf.Variable 'UnreadVariable' shape=(5,) dtype=int64, numpy=array([10, 11, 12, 13, 14])>"
            ]
          },
          "metadata": {},
          "execution_count": 89
        }
      ]
    },
    {
      "cell_type": "markdown",
      "metadata": {
        "id": "KU8PgbavscBa"
      },
      "source": [
        "Constant tensors can't be changed/assigned."
      ]
    },
    {
      "cell_type": "code",
      "metadata": {
        "colab": {
          "base_uri": "https://localhost:8080/"
        },
        "id": "bYd1FYt_rbpk",
        "outputId": "8c3e1a30-2652-42ac-8ea2-77347ff8f14d"
      },
      "source": [
        "# random tensors\n",
        "rand1 = tf.random.Generator.from_seed(10)\n",
        "rand1 = rand1.normal(shape = (3,2))\n",
        "rand1"
      ],
      "execution_count": null,
      "outputs": [
        {
          "output_type": "execute_result",
          "data": {
            "text/plain": [
              "<tf.Tensor: shape=(3, 2), dtype=float32, numpy=\n",
              "array([[-0.29604465, -0.21134205],\n",
              "       [ 0.01063002,  1.5165398 ],\n",
              "       [ 0.27305737, -0.29925638]], dtype=float32)>"
            ]
          },
          "metadata": {},
          "execution_count": 5
        }
      ]
    },
    {
      "cell_type": "code",
      "metadata": {
        "colab": {
          "base_uri": "https://localhost:8080/"
        },
        "id": "F_DuLhl0t7Ur",
        "outputId": "f82ccb98-2862-408d-f5a3-c37c489ae1e3"
      },
      "source": [
        "# shuffle tensors (shuffle data)\n",
        "t = tf.constant([[0,1],[3,5],[4,8]])\n",
        "tf.random.set_seed(10) # sets global seed\n",
        "tf.random.shuffle(t)"
      ],
      "execution_count": null,
      "outputs": [
        {
          "output_type": "execute_result",
          "data": {
            "text/plain": [
              "<tf.Tensor: shape=(3, 2), dtype=int32, numpy=\n",
              "array([[0, 1],\n",
              "       [4, 8],\n",
              "       [3, 5]], dtype=int32)>"
            ]
          },
          "metadata": {},
          "execution_count": 15
        }
      ]
    },
    {
      "cell_type": "code",
      "metadata": {
        "colab": {
          "base_uri": "https://localhost:8080/"
        },
        "id": "-gU_wid1u8bm",
        "outputId": "7e1b4d01-4b35-42f7-9e83-e81aa614aee0"
      },
      "source": [
        "tf.ones(shape = (5,5))"
      ],
      "execution_count": null,
      "outputs": [
        {
          "output_type": "execute_result",
          "data": {
            "text/plain": [
              "<tf.Tensor: shape=(5, 5), dtype=float32, numpy=\n",
              "array([[1., 1., 1., 1., 1.],\n",
              "       [1., 1., 1., 1., 1.],\n",
              "       [1., 1., 1., 1., 1.],\n",
              "       [1., 1., 1., 1., 1.],\n",
              "       [1., 1., 1., 1., 1.]], dtype=float32)>"
            ]
          },
          "metadata": {},
          "execution_count": 17
        }
      ]
    },
    {
      "cell_type": "markdown",
      "metadata": {
        "id": "qwEvqdKF0r4l"
      },
      "source": [
        "Tensors can be run on a GPU, array can't."
      ]
    },
    {
      "cell_type": "code",
      "metadata": {
        "colab": {
          "base_uri": "https://localhost:8080/"
        },
        "id": "enV1uOnB0dn6",
        "outputId": "8aa470bc-bb07-4108-b323-a4e3454981cf"
      },
      "source": [
        "import numpy as np\n",
        "n = np.arange(1,10,dtype = np.int32)\n",
        "n = tf.constant(n, shape = (3,1,3))\n",
        "n"
      ],
      "execution_count": null,
      "outputs": [
        {
          "output_type": "execute_result",
          "data": {
            "text/plain": [
              "<tf.Tensor: shape=(3, 1, 3), dtype=int32, numpy=\n",
              "array([[[1, 2, 3]],\n",
              "\n",
              "       [[4, 5, 6]],\n",
              "\n",
              "       [[7, 8, 9]]], dtype=int32)>"
            ]
          },
          "metadata": {},
          "execution_count": 24
        }
      ]
    },
    {
      "cell_type": "code",
      "metadata": {
        "colab": {
          "base_uri": "https://localhost:8080/"
        },
        "id": "krqhlajZ1Bhi",
        "outputId": "da5e987a-981d-47ce-fefa-f67ed49bb7cb"
      },
      "source": [
        "n.shape, n.ndim, tf.size(n)"
      ],
      "execution_count": null,
      "outputs": [
        {
          "output_type": "execute_result",
          "data": {
            "text/plain": [
              "(TensorShape([3, 1, 3]), 3, <tf.Tensor: shape=(), dtype=int32, numpy=9>)"
            ]
          },
          "metadata": {},
          "execution_count": 26
        }
      ]
    },
    {
      "cell_type": "code",
      "metadata": {
        "colab": {
          "base_uri": "https://localhost:8080/"
        },
        "id": "29VYyF_a5Rqq",
        "outputId": "2ba33f1e-0bd6-4bde-f7d8-9c9a7e86dc59"
      },
      "source": [
        "# new axis (1)\n",
        "n[...,tf.newaxis] #add axis in the end"
      ],
      "execution_count": null,
      "outputs": [
        {
          "output_type": "execute_result",
          "data": {
            "text/plain": [
              "<tf.Tensor: shape=(3, 1, 3, 1), dtype=int32, numpy=\n",
              "array([[[[1],\n",
              "         [2],\n",
              "         [3]]],\n",
              "\n",
              "\n",
              "       [[[4],\n",
              "         [5],\n",
              "         [6]]],\n",
              "\n",
              "\n",
              "       [[[7],\n",
              "         [8],\n",
              "         [9]]]], dtype=int32)>"
            ]
          },
          "metadata": {},
          "execution_count": 31
        }
      ]
    },
    {
      "cell_type": "code",
      "metadata": {
        "colab": {
          "base_uri": "https://localhost:8080/"
        },
        "id": "_xS9pnvP6vKV",
        "outputId": "d4ec0198-f278-4ad7-f7b7-1fed77492f44"
      },
      "source": [
        "# new axis (2)\n",
        "tf.expand_dims(n,axis = -1) #add axis in the end"
      ],
      "execution_count": null,
      "outputs": [
        {
          "output_type": "execute_result",
          "data": {
            "text/plain": [
              "<tf.Tensor: shape=(3, 1, 1, 3), dtype=int32, numpy=\n",
              "array([[[[1, 2, 3]]],\n",
              "\n",
              "\n",
              "       [[[4, 5, 6]]],\n",
              "\n",
              "\n",
              "       [[[7, 8, 9]]]], dtype=int32)>"
            ]
          },
          "metadata": {},
          "execution_count": 34
        }
      ]
    },
    {
      "cell_type": "code",
      "metadata": {
        "colab": {
          "base_uri": "https://localhost:8080/"
        },
        "id": "zXOaIQqg67UA",
        "outputId": "a4d63ee9-4ac0-45fe-85e9-c33b3f1a05c0"
      },
      "source": [
        "# operations\n",
        "t - 10"
      ],
      "execution_count": null,
      "outputs": [
        {
          "output_type": "execute_result",
          "data": {
            "text/plain": [
              "<tf.Tensor: shape=(3, 2), dtype=int32, numpy=\n",
              "array([[-10,  -9],\n",
              "       [ -7,  -5],\n",
              "       [ -6,  -2]], dtype=int32)>"
            ]
          },
          "metadata": {},
          "execution_count": 35
        }
      ]
    },
    {
      "cell_type": "code",
      "metadata": {
        "colab": {
          "base_uri": "https://localhost:8080/"
        },
        "id": "pOXSp4TZ7wS3",
        "outputId": "04082a36-0b95-4b32-fb6d-f0d885bef871"
      },
      "source": [
        "t/3"
      ],
      "execution_count": null,
      "outputs": [
        {
          "output_type": "execute_result",
          "data": {
            "text/plain": [
              "<tf.Tensor: shape=(3, 2), dtype=float64, numpy=\n",
              "array([[0.        , 0.33333333],\n",
              "       [1.        , 1.66666667],\n",
              "       [1.33333333, 2.66666667]])>"
            ]
          },
          "metadata": {},
          "execution_count": 36
        }
      ]
    },
    {
      "cell_type": "code",
      "metadata": {
        "colab": {
          "base_uri": "https://localhost:8080/"
        },
        "id": "5YBi4bOV7yIK",
        "outputId": "317e8845-2ca6-45b2-fa4d-bd6196ec78d5"
      },
      "source": [
        "tf.multiply(t,2)"
      ],
      "execution_count": null,
      "outputs": [
        {
          "output_type": "execute_result",
          "data": {
            "text/plain": [
              "<tf.Tensor: shape=(3, 2), dtype=int32, numpy=\n",
              "array([[ 0,  2],\n",
              "       [ 6, 10],\n",
              "       [ 8, 16]], dtype=int32)>"
            ]
          },
          "metadata": {},
          "execution_count": 37
        }
      ]
    },
    {
      "cell_type": "markdown",
      "metadata": {
        "id": "J90MfCb48mZw"
      },
      "source": [
        "Matrix Multiplication"
      ]
    },
    {
      "cell_type": "code",
      "metadata": {
        "colab": {
          "base_uri": "https://localhost:8080/"
        },
        "id": "pD5inFZm716_",
        "outputId": "efcce4d9-be75-403c-dd5b-4dd7ba748f88"
      },
      "source": [
        "t = tf.constant([[0,1],[3,5]])\n",
        "tf.matmul(t,t)"
      ],
      "execution_count": null,
      "outputs": [
        {
          "output_type": "execute_result",
          "data": {
            "text/plain": [
              "<tf.Tensor: shape=(2, 2), dtype=int32, numpy=\n",
              "array([[ 3,  5],\n",
              "       [15, 28]], dtype=int32)>"
            ]
          },
          "metadata": {},
          "execution_count": 40
        }
      ]
    },
    {
      "cell_type": "code",
      "metadata": {
        "colab": {
          "base_uri": "https://localhost:8080/"
        },
        "id": "yhwzCaMN8rWn",
        "outputId": "78b503b8-91db-4094-8862-3f64524f2b39"
      },
      "source": [
        "t@t"
      ],
      "execution_count": null,
      "outputs": [
        {
          "output_type": "execute_result",
          "data": {
            "text/plain": [
              "<tf.Tensor: shape=(2, 2), dtype=int32, numpy=\n",
              "array([[ 3,  5],\n",
              "       [15, 28]], dtype=int32)>"
            ]
          },
          "metadata": {},
          "execution_count": 41
        }
      ]
    },
    {
      "cell_type": "code",
      "metadata": {
        "colab": {
          "base_uri": "https://localhost:8080/"
        },
        "id": "fa-lq4O387i8",
        "outputId": "cd9b5086-3bbb-4107-ed85-3bd06deb3e7e"
      },
      "source": [
        "# Reshape tensor for matrix multiplication\n",
        "t2 = tf.constant([[0,1],[3,5],[5,3],[3,7]])\n",
        "t2 = tf.reshape(t2,shape = (2,4))\n",
        "print(t2)\n",
        "t@t2"
      ],
      "execution_count": null,
      "outputs": [
        {
          "output_type": "stream",
          "name": "stdout",
          "text": [
            "tf.Tensor(\n",
            "[[0 1 3 5]\n",
            " [5 3 3 7]], shape=(2, 4), dtype=int32)\n"
          ]
        },
        {
          "output_type": "execute_result",
          "data": {
            "text/plain": [
              "<tf.Tensor: shape=(2, 4), dtype=int32, numpy=\n",
              "array([[ 5,  3,  3,  7],\n",
              "       [25, 18, 24, 50]], dtype=int32)>"
            ]
          },
          "metadata": {},
          "execution_count": 48
        }
      ]
    },
    {
      "cell_type": "code",
      "metadata": {
        "colab": {
          "base_uri": "https://localhost:8080/"
        },
        "id": "Wl1HVtT-_Kw0",
        "outputId": "6203fcca-3d1a-4509-cdd5-18b8c03fe7d2"
      },
      "source": [
        "# Transpose tensor for matrix multiplication\n",
        "t2 = tf.constant([[0,1],[3,5],[5,3],[3,7]])\n",
        "t2 = tf.transpose(t2)\n",
        "print(t2)\n",
        "t@t2"
      ],
      "execution_count": null,
      "outputs": [
        {
          "output_type": "stream",
          "name": "stdout",
          "text": [
            "tf.Tensor(\n",
            "[[0 3 5 3]\n",
            " [1 5 3 7]], shape=(2, 4), dtype=int32)\n"
          ]
        },
        {
          "output_type": "execute_result",
          "data": {
            "text/plain": [
              "<tf.Tensor: shape=(2, 4), dtype=int32, numpy=\n",
              "array([[ 1,  5,  3,  7],\n",
              "       [ 5, 34, 30, 44]], dtype=int32)>"
            ]
          },
          "metadata": {},
          "execution_count": 47
        }
      ]
    },
    {
      "cell_type": "markdown",
      "metadata": {
        "id": "CN601PtdA1A2"
      },
      "source": [
        "Dot Product"
      ]
    },
    {
      "cell_type": "code",
      "metadata": {
        "colab": {
          "base_uri": "https://localhost:8080/"
        },
        "id": "Mf39T6gp_sRn",
        "outputId": "cfc492c7-5137-4313-db52-0c425994b4fb"
      },
      "source": [
        "tf.tensordot(t,t2,axes=1)"
      ],
      "execution_count": null,
      "outputs": [
        {
          "output_type": "execute_result",
          "data": {
            "text/plain": [
              "<tf.Tensor: shape=(2, 4), dtype=int32, numpy=\n",
              "array([[ 5,  3,  3,  7],\n",
              "       [25, 18, 24, 50]], dtype=int32)>"
            ]
          },
          "metadata": {},
          "execution_count": 53
        }
      ]
    },
    {
      "cell_type": "markdown",
      "metadata": {
        "id": "4wk00W4RHZIa"
      },
      "source": [
        "Data types"
      ]
    },
    {
      "cell_type": "code",
      "metadata": {
        "colab": {
          "base_uri": "https://localhost:8080/"
        },
        "id": "Wqxb4i22HhVa",
        "outputId": "cd95c23f-2ef2-4b99-d3bb-f610a7a4c2af"
      },
      "source": [
        "# float32 to float64\n",
        "t = tf.constant([[3.5,4.3],[5,4.2]])\n",
        "t.dtype"
      ],
      "execution_count": null,
      "outputs": [
        {
          "output_type": "execute_result",
          "data": {
            "text/plain": [
              "tf.float32"
            ]
          },
          "metadata": {},
          "execution_count": 57
        }
      ]
    },
    {
      "cell_type": "code",
      "metadata": {
        "colab": {
          "base_uri": "https://localhost:8080/"
        },
        "id": "_g9JzCU_H5Db",
        "outputId": "646f4507-9126-42a5-a2e9-7c9f53b76ab8"
      },
      "source": [
        "t = tf.cast(t,dtype = tf.float16)\n",
        "t.dtype"
      ],
      "execution_count": null,
      "outputs": [
        {
          "output_type": "execute_result",
          "data": {
            "text/plain": [
              "tf.float16"
            ]
          },
          "metadata": {},
          "execution_count": 58
        }
      ]
    },
    {
      "cell_type": "markdown",
      "metadata": {
        "id": "9LBDd2eGJ2vR"
      },
      "source": [
        "Aggregating Tensors"
      ]
    },
    {
      "cell_type": "code",
      "metadata": {
        "colab": {
          "base_uri": "https://localhost:8080/"
        },
        "id": "HGXhjYhkIMRg",
        "outputId": "d05ae9dd-26e0-496c-82d0-1d1933096d37"
      },
      "source": [
        "# absolute value\n",
        "t = tf.constant([-3,4,5,-2])\n",
        "tf.abs(t)"
      ],
      "execution_count": null,
      "outputs": [
        {
          "output_type": "execute_result",
          "data": {
            "text/plain": [
              "<tf.Tensor: shape=(4,), dtype=int32, numpy=array([3, 4, 5, 2], dtype=int32)>"
            ]
          },
          "metadata": {},
          "execution_count": 59
        }
      ]
    },
    {
      "cell_type": "code",
      "metadata": {
        "colab": {
          "base_uri": "https://localhost:8080/"
        },
        "id": "8HBvyvzyKfYq",
        "outputId": "8dcbf5dd-d062-4f71-aaef-e0e7e4c8acba"
      },
      "source": [
        "# mean\n",
        "tf.reduce_mean(t)"
      ],
      "execution_count": null,
      "outputs": [
        {
          "output_type": "execute_result",
          "data": {
            "text/plain": [
              "<tf.Tensor: shape=(), dtype=int32, numpy=1>"
            ]
          },
          "metadata": {},
          "execution_count": 61
        }
      ]
    },
    {
      "cell_type": "code",
      "metadata": {
        "colab": {
          "base_uri": "https://localhost:8080/"
        },
        "id": "_UDEBw7MKr8O",
        "outputId": "e0e3a4d4-9ea1-41c6-b61c-ac50b4eead52"
      },
      "source": [
        "# max\n",
        "tf.reduce_max(t)"
      ],
      "execution_count": null,
      "outputs": [
        {
          "output_type": "execute_result",
          "data": {
            "text/plain": [
              "<tf.Tensor: shape=(), dtype=int32, numpy=5>"
            ]
          },
          "metadata": {},
          "execution_count": 62
        }
      ]
    },
    {
      "cell_type": "code",
      "metadata": {
        "colab": {
          "base_uri": "https://localhost:8080/",
          "height": 338
        },
        "id": "4gjlh2_ALTiA",
        "outputId": "045719e1-5540-4645-9905-34f0dd0498ad"
      },
      "source": [
        "# variance\n",
        "tf.math.reduce_variance(t)"
      ],
      "execution_count": null,
      "outputs": [
        {
          "output_type": "error",
          "ename": "TypeError",
          "evalue": "ignored",
          "traceback": [
            "\u001b[0;31m---------------------------------------------------------------------------\u001b[0m",
            "\u001b[0;31mTypeError\u001b[0m                                 Traceback (most recent call last)",
            "\u001b[0;32m<ipython-input-65-ad39ed1dd3fc>\u001b[0m in \u001b[0;36m<module>\u001b[0;34m()\u001b[0m\n\u001b[0;32m----> 1\u001b[0;31m \u001b[0mtf\u001b[0m\u001b[0;34m.\u001b[0m\u001b[0mmath\u001b[0m\u001b[0;34m.\u001b[0m\u001b[0mreduce_variance\u001b[0m\u001b[0;34m(\u001b[0m\u001b[0mt\u001b[0m\u001b[0;34m)\u001b[0m\u001b[0;34m\u001b[0m\u001b[0;34m\u001b[0m\u001b[0m\n\u001b[0m",
            "\u001b[0;32m/usr/local/lib/python3.7/dist-packages/tensorflow/python/util/dispatch.py\u001b[0m in \u001b[0;36mwrapper\u001b[0;34m(*args, **kwargs)\u001b[0m\n\u001b[1;32m    204\u001b[0m     \u001b[0;34m\"\"\"Call target, and fall back on dispatchers if there is a TypeError.\"\"\"\u001b[0m\u001b[0;34m\u001b[0m\u001b[0;34m\u001b[0m\u001b[0m\n\u001b[1;32m    205\u001b[0m     \u001b[0;32mtry\u001b[0m\u001b[0;34m:\u001b[0m\u001b[0;34m\u001b[0m\u001b[0;34m\u001b[0m\u001b[0m\n\u001b[0;32m--> 206\u001b[0;31m       \u001b[0;32mreturn\u001b[0m \u001b[0mtarget\u001b[0m\u001b[0;34m(\u001b[0m\u001b[0;34m*\u001b[0m\u001b[0margs\u001b[0m\u001b[0;34m,\u001b[0m \u001b[0;34m**\u001b[0m\u001b[0mkwargs\u001b[0m\u001b[0;34m)\u001b[0m\u001b[0;34m\u001b[0m\u001b[0;34m\u001b[0m\u001b[0m\n\u001b[0m\u001b[1;32m    207\u001b[0m     \u001b[0;32mexcept\u001b[0m \u001b[0;34m(\u001b[0m\u001b[0mTypeError\u001b[0m\u001b[0;34m,\u001b[0m \u001b[0mValueError\u001b[0m\u001b[0;34m)\u001b[0m\u001b[0;34m:\u001b[0m\u001b[0;34m\u001b[0m\u001b[0;34m\u001b[0m\u001b[0m\n\u001b[1;32m    208\u001b[0m       \u001b[0;31m# Note: convert_to_eager_tensor currently raises a ValueError, not a\u001b[0m\u001b[0;34m\u001b[0m\u001b[0;34m\u001b[0m\u001b[0;34m\u001b[0m\u001b[0m\n",
            "\u001b[0;32m/usr/local/lib/python3.7/dist-packages/tensorflow/python/ops/math_ops.py\u001b[0m in \u001b[0;36mreduce_variance\u001b[0;34m(input_tensor, axis, keepdims, name)\u001b[0m\n\u001b[1;32m   2633\u001b[0m     \u001b[0mmeans\u001b[0m \u001b[0;34m=\u001b[0m \u001b[0mreduce_mean\u001b[0m\u001b[0;34m(\u001b[0m\u001b[0minput_tensor\u001b[0m\u001b[0;34m,\u001b[0m \u001b[0maxis\u001b[0m\u001b[0;34m=\u001b[0m\u001b[0maxis\u001b[0m\u001b[0;34m,\u001b[0m \u001b[0mkeepdims\u001b[0m\u001b[0;34m=\u001b[0m\u001b[0;32mTrue\u001b[0m\u001b[0;34m)\u001b[0m\u001b[0;34m\u001b[0m\u001b[0;34m\u001b[0m\u001b[0m\n\u001b[1;32m   2634\u001b[0m     \u001b[0;32mif\u001b[0m \u001b[0mmeans\u001b[0m\u001b[0;34m.\u001b[0m\u001b[0mdtype\u001b[0m\u001b[0;34m.\u001b[0m\u001b[0mis_integer\u001b[0m\u001b[0;34m:\u001b[0m\u001b[0;34m\u001b[0m\u001b[0;34m\u001b[0m\u001b[0m\n\u001b[0;32m-> 2635\u001b[0;31m       \u001b[0;32mraise\u001b[0m \u001b[0mTypeError\u001b[0m\u001b[0;34m(\u001b[0m\u001b[0;34m\"Input must be either real or complex\"\u001b[0m\u001b[0;34m)\u001b[0m\u001b[0;34m\u001b[0m\u001b[0;34m\u001b[0m\u001b[0m\n\u001b[0m\u001b[1;32m   2636\u001b[0m     \u001b[0mdiff\u001b[0m \u001b[0;34m=\u001b[0m \u001b[0minput_tensor\u001b[0m \u001b[0;34m-\u001b[0m \u001b[0mmeans\u001b[0m\u001b[0;34m\u001b[0m\u001b[0;34m\u001b[0m\u001b[0m\n\u001b[1;32m   2637\u001b[0m     \u001b[0;32mif\u001b[0m \u001b[0mdiff\u001b[0m\u001b[0;34m.\u001b[0m\u001b[0mdtype\u001b[0m\u001b[0;34m.\u001b[0m\u001b[0mis_complex\u001b[0m\u001b[0;34m:\u001b[0m\u001b[0;34m\u001b[0m\u001b[0;34m\u001b[0m\u001b[0m\n",
            "\u001b[0;31mTypeError\u001b[0m: Input must be either real or complex"
          ]
        }
      ]
    },
    {
      "cell_type": "code",
      "metadata": {
        "colab": {
          "base_uri": "https://localhost:8080/"
        },
        "id": "AavjAiIUL2Wf",
        "outputId": "3540d727-1664-4f97-a706-7cab4826c036"
      },
      "source": [
        "tf.math.reduce_variance(tf.cast(t,dtype = tf.float16))"
      ],
      "execution_count": null,
      "outputs": [
        {
          "output_type": "execute_result",
          "data": {
            "text/plain": [
              "<tf.Tensor: shape=(), dtype=float16, numpy=12.5>"
            ]
          },
          "metadata": {},
          "execution_count": 67
        }
      ]
    },
    {
      "cell_type": "code",
      "metadata": {
        "colab": {
          "base_uri": "https://localhost:8080/"
        },
        "id": "RyW3A76LL-mz",
        "outputId": "a6a2acda-f11a-4db5-ef0f-7c88b76ecdc2"
      },
      "source": [
        "# positional max\n",
        "F = tf.constant(np.random.randn(50))\n",
        "tf.argmax(F)"
      ],
      "execution_count": null,
      "outputs": [
        {
          "output_type": "execute_result",
          "data": {
            "text/plain": [
              "<tf.Tensor: shape=(), dtype=int64, numpy=32>"
            ]
          },
          "metadata": {},
          "execution_count": 71
        }
      ]
    },
    {
      "cell_type": "markdown",
      "metadata": {
        "id": "HxGb75w-NhDI"
      },
      "source": [
        "max is at position 32"
      ]
    },
    {
      "cell_type": "code",
      "metadata": {
        "colab": {
          "base_uri": "https://localhost:8080/"
        },
        "id": "VNYbG7hGNLpE",
        "outputId": "4897dcb4-b80b-43bf-fc34-3feb76a1485b"
      },
      "source": [
        "F[tf.argmax(F)] == tf.reduce_max(F)"
      ],
      "execution_count": null,
      "outputs": [
        {
          "output_type": "execute_result",
          "data": {
            "text/plain": [
              "<tf.Tensor: shape=(), dtype=bool, numpy=True>"
            ]
          },
          "metadata": {},
          "execution_count": 72
        }
      ]
    },
    {
      "cell_type": "code",
      "metadata": {
        "colab": {
          "base_uri": "https://localhost:8080/"
        },
        "id": "qwlEvxs8NeTI",
        "outputId": "78f9a6b8-7004-4ac4-a29d-df36222921b0"
      },
      "source": [
        "# Squeeze method\n",
        "F = tf.constant(np.random.randint(0, 50, 10), shape=(1, 1, 1, 1, 10))\n",
        "print(F.shape)\n",
        "F = tf.squeeze(F)\n",
        "print(F.shape)"
      ],
      "execution_count": null,
      "outputs": [
        {
          "output_type": "stream",
          "name": "stdout",
          "text": [
            "(1, 1, 1, 1, 10)\n",
            "(10,)\n"
          ]
        }
      ]
    },
    {
      "cell_type": "markdown",
      "metadata": {
        "id": "PhNH8X2xQp_k"
      },
      "source": [
        "Encoding"
      ]
    },
    {
      "cell_type": "code",
      "metadata": {
        "colab": {
          "base_uri": "https://localhost:8080/"
        },
        "id": "7OvE0f6cQKAQ",
        "outputId": "7dbfcda8-24e9-4fa4-8445-1c1ca14c5cf2"
      },
      "source": [
        "l = [0,1,2,3,4,3,2,1,0]\n",
        "tf.one_hot(l,depth = 5)"
      ],
      "execution_count": null,
      "outputs": [
        {
          "output_type": "execute_result",
          "data": {
            "text/plain": [
              "<tf.Tensor: shape=(9, 5), dtype=float32, numpy=\n",
              "array([[1., 0., 0., 0., 0.],\n",
              "       [0., 1., 0., 0., 0.],\n",
              "       [0., 0., 1., 0., 0.],\n",
              "       [0., 0., 0., 1., 0.],\n",
              "       [0., 0., 0., 0., 1.],\n",
              "       [0., 0., 0., 1., 0.],\n",
              "       [0., 0., 1., 0., 0.],\n",
              "       [0., 1., 0., 0., 0.],\n",
              "       [1., 0., 0., 0., 0.]], dtype=float32)>"
            ]
          },
          "metadata": {},
          "execution_count": 82
        }
      ]
    },
    {
      "cell_type": "code",
      "metadata": {
        "colab": {
          "base_uri": "https://localhost:8080/"
        },
        "id": "avcS3kuMRaoi",
        "outputId": "134514ee-2a14-4d05-8ff6-54dad19d6222"
      },
      "source": [
        "tf.one_hot(l, depth=5, on_value=\"On\", off_value=\"Off\")"
      ],
      "execution_count": null,
      "outputs": [
        {
          "output_type": "execute_result",
          "data": {
            "text/plain": [
              "<tf.Tensor: shape=(9, 5), dtype=string, numpy=\n",
              "array([[b'On', b'Off', b'Off', b'Off', b'Off'],\n",
              "       [b'Off', b'On', b'Off', b'Off', b'Off'],\n",
              "       [b'Off', b'Off', b'On', b'Off', b'Off'],\n",
              "       [b'Off', b'Off', b'Off', b'On', b'Off'],\n",
              "       [b'Off', b'Off', b'Off', b'Off', b'On'],\n",
              "       [b'Off', b'Off', b'Off', b'On', b'Off'],\n",
              "       [b'Off', b'Off', b'On', b'Off', b'Off'],\n",
              "       [b'Off', b'On', b'Off', b'Off', b'Off'],\n",
              "       [b'On', b'Off', b'Off', b'Off', b'Off']], dtype=object)>"
            ]
          },
          "metadata": {},
          "execution_count": 83
        }
      ]
    },
    {
      "cell_type": "code",
      "metadata": {
        "colab": {
          "base_uri": "https://localhost:8080/"
        },
        "id": "yT2foP3yR9jw",
        "outputId": "4d8ce56d-158a-42c0-a7dd-7ae2fee75a55"
      },
      "source": [
        "t = tf.range(1,10)\n",
        "t"
      ],
      "execution_count": null,
      "outputs": [
        {
          "output_type": "execute_result",
          "data": {
            "text/plain": [
              "<tf.Tensor: shape=(9,), dtype=int32, numpy=array([1, 2, 3, 4, 5, 6, 7, 8, 9], dtype=int32)>"
            ]
          },
          "metadata": {},
          "execution_count": 85
        }
      ]
    },
    {
      "cell_type": "code",
      "metadata": {
        "colab": {
          "base_uri": "https://localhost:8080/"
        },
        "id": "VLA1xfgYSmCo",
        "outputId": "bdeb880a-681a-4b44-895d-bfa8b99b0849"
      },
      "source": [
        "# square\n",
        "tf.square(t)"
      ],
      "execution_count": null,
      "outputs": [
        {
          "output_type": "execute_result",
          "data": {
            "text/plain": [
              "<tf.Tensor: shape=(9,), dtype=int32, numpy=array([ 1,  4,  9, 16, 25, 36, 49, 64, 81], dtype=int32)>"
            ]
          },
          "metadata": {},
          "execution_count": 86
        }
      ]
    },
    {
      "cell_type": "code",
      "metadata": {
        "colab": {
          "base_uri": "https://localhost:8080/"
        },
        "id": "r08DWvqsStxE",
        "outputId": "f9f0e7f3-91af-48ba-e1c5-5f590eb0bda5"
      },
      "source": [
        "# square root\n",
        "tf.sqrt(tf.cast(t, dtype = tf.float16))"
      ],
      "execution_count": null,
      "outputs": [
        {
          "output_type": "execute_result",
          "data": {
            "text/plain": [
              "<tf.Tensor: shape=(9,), dtype=float16, numpy=\n",
              "array([1.   , 1.414, 1.732, 2.   , 2.236, 2.45 , 2.646, 2.828, 3.   ],\n",
              "      dtype=float16)>"
            ]
          },
          "metadata": {},
          "execution_count": 88
        }
      ]
    },
    {
      "cell_type": "markdown",
      "metadata": {
        "id": "IGKKnRu5UDgH"
      },
      "source": [
        "Using Numpy"
      ]
    },
    {
      "cell_type": "code",
      "metadata": {
        "colab": {
          "base_uri": "https://localhost:8080/"
        },
        "id": "bQjECgGFUFsu",
        "outputId": "2bf10b42-df63-4762-a979-9676b5307e4c"
      },
      "source": [
        "# tensor to numpy array\n",
        "T = tf.constant(np.array([3., 7., 10.]))\n",
        "print(type(np.array(T)))\n",
        "print(type(T.numpy()))\n",
        "print(T.dtype) # numpy uses float64, tensor uses float32"
      ],
      "execution_count": null,
      "outputs": [
        {
          "output_type": "stream",
          "name": "stdout",
          "text": [
            "<class 'numpy.ndarray'>\n",
            "<class 'numpy.ndarray'>\n",
            "<dtype: 'float64'>\n"
          ]
        }
      ]
    },
    {
      "cell_type": "code",
      "metadata": {
        "colab": {
          "base_uri": "https://localhost:8080/"
        },
        "id": "TWjoiFy9UX1A",
        "outputId": "394e5c5a-cc62-4040-b87e-179f4b208c4f"
      },
      "source": [
        "# Check GPU\n",
        "tf.config.list_physical_devices('GPU')"
      ],
      "execution_count": null,
      "outputs": [
        {
          "output_type": "execute_result",
          "data": {
            "text/plain": [
              "[PhysicalDevice(name='/physical_device:CPU:0', device_type='CPU')]"
            ]
          },
          "metadata": {},
          "execution_count": 96
        }
      ]
    },
    {
      "cell_type": "markdown",
      "metadata": {
        "id": "G4kOeVxJ_2Ky"
      },
      "source": [
        "## Neural Network Regression"
      ]
    },
    {
      "cell_type": "code",
      "metadata": {
        "id": "8I7qEk6G_12b"
      },
      "source": [
        "import tensorflow as tf\n",
        "import numpy as np\n",
        "import matplotlib.pyplot as plt"
      ],
      "execution_count": null,
      "outputs": []
    },
    {
      "cell_type": "code",
      "metadata": {
        "id": "OVSKk2H8Clcu"
      },
      "source": [
        "# create data\n",
        "X = np.array([-7.0, -4.0, -1.0, 2.0, 5.0, 8.0, 11.0, 14.0])\n",
        "y = X+10"
      ],
      "execution_count": null,
      "outputs": []
    },
    {
      "cell_type": "code",
      "metadata": {
        "colab": {
          "base_uri": "https://localhost:8080/"
        },
        "id": "2hwMRJoyE5Gc",
        "outputId": "82eaa5c0-c966-4560-d808-99c1e38b53be"
      },
      "source": [
        "X[0].shape # no shape, convert into tensors"
      ],
      "execution_count": null,
      "outputs": [
        {
          "output_type": "execute_result",
          "data": {
            "text/plain": [
              "()"
            ]
          },
          "metadata": {},
          "execution_count": 7
        }
      ]
    },
    {
      "cell_type": "code",
      "metadata": {
        "colab": {
          "base_uri": "https://localhost:8080/"
        },
        "id": "F4JCNSD-Gn8A",
        "outputId": "4dec678f-9473-4fbe-87dd-86e5d72bbc2e"
      },
      "source": [
        "# convert into tensors and cast onto float32\n",
        "X = tf.cast(tf.constant(X), dtype = tf.float32)\n",
        "y = tf.cast(tf.constant(y),dtype = tf.float32)\n",
        "print(X[0].shape) # one predictor to one response, no shape\n",
        "X,y"
      ],
      "execution_count": null,
      "outputs": [
        {
          "output_type": "stream",
          "name": "stdout",
          "text": [
            "()\n"
          ]
        },
        {
          "output_type": "execute_result",
          "data": {
            "text/plain": [
              "(<tf.Tensor: shape=(8,), dtype=float32, numpy=array([-7., -4., -1.,  2.,  5.,  8., 11., 14.], dtype=float32)>,\n",
              " <tf.Tensor: shape=(8,), dtype=float32, numpy=array([ 3.,  6.,  9., 12., 15., 18., 21., 24.], dtype=float32)>)"
            ]
          },
          "metadata": {},
          "execution_count": 32
        }
      ]
    },
    {
      "cell_type": "markdown",
      "metadata": {
        "id": "oaLrmtEVGV2a"
      },
      "source": [
        "#### Steps in modeling"
      ]
    },
    {
      "cell_type": "markdown",
      "metadata": {
        "id": "WTJDCIRsGbyr"
      },
      "source": [
        "Create a model"
      ]
    },
    {
      "cell_type": "code",
      "metadata": {
        "id": "aSHkyocKFkb0"
      },
      "source": [
        "model = tf.keras.Sequential([\n",
        "    tf.keras.layers.Dense(1)  \n",
        "])"
      ],
      "execution_count": null,
      "outputs": []
    },
    {
      "cell_type": "code",
      "metadata": {
        "id": "sPbi9f0fI_Pp"
      },
      "source": [
        "# or\n",
        "model = tf.keras.Sequential()\n",
        "model.add(tf.keras.layers.Dense(1))"
      ],
      "execution_count": null,
      "outputs": []
    },
    {
      "cell_type": "markdown",
      "metadata": {
        "id": "30vmLXoUGhmm"
      },
      "source": [
        "Compile a model"
      ]
    },
    {
      "cell_type": "code",
      "metadata": {
        "id": "kHAh6uqNIs6C"
      },
      "source": [
        "model.compile(loss = tf.keras.losses.mae, # or ['mae']\n",
        "              optimizer = tf.keras.optimizers.SGD(), # or ['sgd']\n",
        "              metrics = tf.keras.losses.mae)"
      ],
      "execution_count": null,
      "outputs": []
    },
    {
      "cell_type": "markdown",
      "metadata": {
        "id": "A3bMLbIpGlFl"
      },
      "source": [
        "Fitting a model"
      ]
    },
    {
      "cell_type": "code",
      "metadata": {
        "colab": {
          "base_uri": "https://localhost:8080/"
        },
        "id": "AqcyFehxI0ZD",
        "outputId": "b387ba2d-ed98-4ee7-c035-fa013b586fe4"
      },
      "source": [
        "model.fit(X,y, epochs = 5)"
      ],
      "execution_count": null,
      "outputs": [
        {
          "output_type": "stream",
          "name": "stdout",
          "text": [
            "Epoch 1/5\n",
            "1/1 [==============================] - 0s 172ms/step - loss: 10.7990 - mean_absolute_error: 10.7990\n",
            "Epoch 2/5\n",
            "1/1 [==============================] - 0s 7ms/step - loss: 10.6665 - mean_absolute_error: 10.6665\n",
            "Epoch 3/5\n",
            "1/1 [==============================] - 0s 4ms/step - loss: 10.5340 - mean_absolute_error: 10.5340\n",
            "Epoch 4/5\n",
            "1/1 [==============================] - 0s 5ms/step - loss: 10.4015 - mean_absolute_error: 10.4015\n",
            "Epoch 5/5\n",
            "1/1 [==============================] - 0s 8ms/step - loss: 10.2690 - mean_absolute_error: 10.2690\n"
          ]
        },
        {
          "output_type": "execute_result",
          "data": {
            "text/plain": [
              "<keras.callbacks.History at 0x7f985095aa10>"
            ]
          },
          "metadata": {},
          "execution_count": 21
        }
      ]
    },
    {
      "cell_type": "code",
      "metadata": {
        "colab": {
          "base_uri": "https://localhost:8080/"
        },
        "id": "cQzFZQthMzWH",
        "outputId": "f249d4af-4f0c-4293-aae9-ec37651c4640"
      },
      "source": [
        "model.predict([17])"
      ],
      "execution_count": null,
      "outputs": [
        {
          "output_type": "execute_result",
          "data": {
            "text/plain": [
              "array([[15.912489]], dtype=float32)"
            ]
          },
          "metadata": {},
          "execution_count": 22
        }
      ]
    },
    {
      "cell_type": "markdown",
      "metadata": {
        "id": "qlRMlV6dpg3Z"
      },
      "source": [
        "#### Improve model"
      ]
    },
    {
      "cell_type": "code",
      "metadata": {
        "colab": {
          "base_uri": "https://localhost:8080/"
        },
        "id": "L6I9pC24xfcq",
        "outputId": "7c138a5a-9f02-4b9e-d33f-35051d57b892"
      },
      "source": [
        "model = tf.keras.Sequential()\n",
        "model.add(tf.keras.layers.Dense(10))\n",
        "model.compile(loss = 'mae',\n",
        "              optimizer = tf.keras.optimizers.Adam(),\n",
        "              metrics = ['mae'])\n",
        "model.fit(X,y,epochs = 50)"
      ],
      "execution_count": null,
      "outputs": [
        {
          "output_type": "stream",
          "name": "stdout",
          "text": [
            "Epoch 1/50\n",
            "1/1 [==============================] - 0s 334ms/step - loss: 13.2723 - mae: 13.2723\n",
            "Epoch 2/50\n",
            "1/1 [==============================] - 0s 6ms/step - loss: 13.2675 - mae: 13.2675\n",
            "Epoch 3/50\n",
            "1/1 [==============================] - 0s 7ms/step - loss: 13.2627 - mae: 13.2627\n",
            "Epoch 4/50\n",
            "1/1 [==============================] - 0s 5ms/step - loss: 13.2579 - mae: 13.2579\n",
            "Epoch 5/50\n",
            "1/1 [==============================] - 0s 7ms/step - loss: 13.2531 - mae: 13.2531\n",
            "Epoch 6/50\n",
            "1/1 [==============================] - 0s 3ms/step - loss: 13.2483 - mae: 13.2483\n",
            "Epoch 7/50\n",
            "1/1 [==============================] - 0s 6ms/step - loss: 13.2435 - mae: 13.2435\n",
            "Epoch 8/50\n",
            "1/1 [==============================] - 0s 5ms/step - loss: 13.2387 - mae: 13.2387\n",
            "Epoch 9/50\n",
            "1/1 [==============================] - 0s 10ms/step - loss: 13.2339 - mae: 13.2339\n",
            "Epoch 10/50\n",
            "1/1 [==============================] - 0s 8ms/step - loss: 13.2291 - mae: 13.2291\n",
            "Epoch 11/50\n",
            "1/1 [==============================] - 0s 7ms/step - loss: 13.2243 - mae: 13.2243\n",
            "Epoch 12/50\n",
            "1/1 [==============================] - 0s 9ms/step - loss: 13.2195 - mae: 13.2195\n",
            "Epoch 13/50\n",
            "1/1 [==============================] - 0s 5ms/step - loss: 13.2147 - mae: 13.2147\n",
            "Epoch 14/50\n",
            "1/1 [==============================] - 0s 5ms/step - loss: 13.2099 - mae: 13.2099\n",
            "Epoch 15/50\n",
            "1/1 [==============================] - 0s 4ms/step - loss: 13.2051 - mae: 13.2051\n",
            "Epoch 16/50\n",
            "1/1 [==============================] - 0s 5ms/step - loss: 13.2003 - mae: 13.2003\n",
            "Epoch 17/50\n",
            "1/1 [==============================] - 0s 6ms/step - loss: 13.1955 - mae: 13.1955\n",
            "Epoch 18/50\n",
            "1/1 [==============================] - 0s 12ms/step - loss: 13.1907 - mae: 13.1907\n",
            "Epoch 19/50\n",
            "1/1 [==============================] - 0s 5ms/step - loss: 13.1859 - mae: 13.1859\n",
            "Epoch 20/50\n",
            "1/1 [==============================] - 0s 5ms/step - loss: 13.1811 - mae: 13.1811\n",
            "Epoch 21/50\n",
            "1/1 [==============================] - 0s 6ms/step - loss: 13.1763 - mae: 13.1763\n",
            "Epoch 22/50\n",
            "1/1 [==============================] - 0s 8ms/step - loss: 13.1715 - mae: 13.1715\n",
            "Epoch 23/50\n",
            "1/1 [==============================] - 0s 6ms/step - loss: 13.1667 - mae: 13.1667\n",
            "Epoch 24/50\n",
            "1/1 [==============================] - 0s 7ms/step - loss: 13.1619 - mae: 13.1619\n",
            "Epoch 25/50\n",
            "1/1 [==============================] - 0s 7ms/step - loss: 13.1571 - mae: 13.1571\n",
            "Epoch 26/50\n",
            "1/1 [==============================] - 0s 7ms/step - loss: 13.1523 - mae: 13.1523\n",
            "Epoch 27/50\n",
            "1/1 [==============================] - 0s 5ms/step - loss: 13.1475 - mae: 13.1475\n",
            "Epoch 28/50\n",
            "1/1 [==============================] - 0s 7ms/step - loss: 13.1427 - mae: 13.1427\n",
            "Epoch 29/50\n",
            "1/1 [==============================] - 0s 6ms/step - loss: 13.1379 - mae: 13.1379\n",
            "Epoch 30/50\n",
            "1/1 [==============================] - 0s 4ms/step - loss: 13.1331 - mae: 13.1331\n",
            "Epoch 31/50\n",
            "1/1 [==============================] - 0s 6ms/step - loss: 13.1283 - mae: 13.1283\n",
            "Epoch 32/50\n",
            "1/1 [==============================] - 0s 5ms/step - loss: 13.1235 - mae: 13.1235\n",
            "Epoch 33/50\n",
            "1/1 [==============================] - 0s 10ms/step - loss: 13.1187 - mae: 13.1187\n",
            "Epoch 34/50\n",
            "1/1 [==============================] - 0s 6ms/step - loss: 13.1139 - mae: 13.1139\n",
            "Epoch 35/50\n",
            "1/1 [==============================] - 0s 5ms/step - loss: 13.1091 - mae: 13.1091\n",
            "Epoch 36/50\n",
            "1/1 [==============================] - 0s 9ms/step - loss: 13.1043 - mae: 13.1043\n",
            "Epoch 37/50\n",
            "1/1 [==============================] - 0s 9ms/step - loss: 13.0995 - mae: 13.0995\n",
            "Epoch 38/50\n",
            "1/1 [==============================] - 0s 11ms/step - loss: 13.0947 - mae: 13.0947\n",
            "Epoch 39/50\n",
            "1/1 [==============================] - 0s 11ms/step - loss: 13.0899 - mae: 13.0899\n",
            "Epoch 40/50\n",
            "1/1 [==============================] - 0s 5ms/step - loss: 13.0851 - mae: 13.0851\n",
            "Epoch 41/50\n",
            "1/1 [==============================] - 0s 6ms/step - loss: 13.0803 - mae: 13.0803\n",
            "Epoch 42/50\n",
            "1/1 [==============================] - 0s 6ms/step - loss: 13.0755 - mae: 13.0755\n",
            "Epoch 43/50\n",
            "1/1 [==============================] - 0s 5ms/step - loss: 13.0707 - mae: 13.0707\n",
            "Epoch 44/50\n",
            "1/1 [==============================] - 0s 5ms/step - loss: 13.0659 - mae: 13.0659\n",
            "Epoch 45/50\n",
            "1/1 [==============================] - 0s 8ms/step - loss: 13.0611 - mae: 13.0611\n",
            "Epoch 46/50\n",
            "1/1 [==============================] - 0s 4ms/step - loss: 13.0563 - mae: 13.0563\n",
            "Epoch 47/50\n",
            "1/1 [==============================] - 0s 4ms/step - loss: 13.0515 - mae: 13.0515\n",
            "Epoch 48/50\n",
            "1/1 [==============================] - 0s 4ms/step - loss: 13.0467 - mae: 13.0467\n",
            "Epoch 49/50\n",
            "1/1 [==============================] - 0s 4ms/step - loss: 13.0419 - mae: 13.0419\n",
            "Epoch 50/50\n",
            "1/1 [==============================] - 0s 3ms/step - loss: 13.0371 - mae: 13.0371\n"
          ]
        },
        {
          "output_type": "execute_result",
          "data": {
            "text/plain": [
              "<keras.callbacks.History at 0x7fdcc6ad7750>"
            ]
          },
          "metadata": {},
          "execution_count": 20
        }
      ]
    },
    {
      "cell_type": "code",
      "metadata": {
        "colab": {
          "base_uri": "https://localhost:8080/"
        },
        "id": "7R7itiDHM5Sp",
        "outputId": "c0081011-0df5-4509-b588-37e696b61013"
      },
      "source": [
        "model = tf.keras.Sequential()\n",
        "model.add(tf.keras.layers.Dense(1))\n",
        "model.compile(loss = 'mae',\n",
        "              optimizer = tf.keras.optimizers.Adam(lr = 0.1),\n",
        "              metrics = ['mae'])\n",
        "model.fit(X,y,epochs = 50)"
      ],
      "execution_count": null,
      "outputs": [
        {
          "output_type": "stream",
          "name": "stderr",
          "text": [
            "/usr/local/lib/python3.7/dist-packages/keras/optimizer_v2/optimizer_v2.py:356: UserWarning: The `lr` argument is deprecated, use `learning_rate` instead.\n",
            "  \"The `lr` argument is deprecated, use `learning_rate` instead.\")\n"
          ]
        },
        {
          "output_type": "stream",
          "name": "stdout",
          "text": [
            "Epoch 1/50\n",
            "1/1 [==============================] - 0s 283ms/step - loss: 14.7688 - mae: 14.7688\n",
            "Epoch 2/50\n",
            "1/1 [==============================] - 0s 6ms/step - loss: 14.3188 - mae: 14.3188\n",
            "Epoch 3/50\n",
            "1/1 [==============================] - 0s 5ms/step - loss: 13.8688 - mae: 13.8688\n",
            "Epoch 4/50\n",
            "1/1 [==============================] - 0s 7ms/step - loss: 13.4188 - mae: 13.4188\n",
            "Epoch 5/50\n",
            "1/1 [==============================] - 0s 7ms/step - loss: 12.9688 - mae: 12.9688\n",
            "Epoch 6/50\n",
            "1/1 [==============================] - 0s 8ms/step - loss: 12.5188 - mae: 12.5188\n",
            "Epoch 7/50\n",
            "1/1 [==============================] - 0s 6ms/step - loss: 12.0688 - mae: 12.0688\n",
            "Epoch 8/50\n",
            "1/1 [==============================] - 0s 8ms/step - loss: 11.6188 - mae: 11.6188\n",
            "Epoch 9/50\n",
            "1/1 [==============================] - 0s 5ms/step - loss: 11.1688 - mae: 11.1688\n",
            "Epoch 10/50\n",
            "1/1 [==============================] - 0s 8ms/step - loss: 10.7188 - mae: 10.7188\n",
            "Epoch 11/50\n",
            "1/1 [==============================] - 0s 20ms/step - loss: 10.2688 - mae: 10.2688\n",
            "Epoch 12/50\n",
            "1/1 [==============================] - 0s 8ms/step - loss: 9.8188 - mae: 9.8188\n",
            "Epoch 13/50\n",
            "1/1 [==============================] - 0s 9ms/step - loss: 9.3688 - mae: 9.3688\n",
            "Epoch 14/50\n",
            "1/1 [==============================] - 0s 6ms/step - loss: 8.9188 - mae: 8.9188\n",
            "Epoch 15/50\n",
            "1/1 [==============================] - 0s 7ms/step - loss: 8.4688 - mae: 8.4688\n",
            "Epoch 16/50\n",
            "1/1 [==============================] - 0s 4ms/step - loss: 8.0188 - mae: 8.0188\n",
            "Epoch 17/50\n",
            "1/1 [==============================] - 0s 7ms/step - loss: 7.5688 - mae: 7.5688\n",
            "Epoch 18/50\n",
            "1/1 [==============================] - 0s 7ms/step - loss: 7.1188 - mae: 7.1188\n",
            "Epoch 19/50\n",
            "1/1 [==============================] - 0s 7ms/step - loss: 6.6688 - mae: 6.6688\n",
            "Epoch 20/50\n",
            "1/1 [==============================] - 0s 10ms/step - loss: 6.2188 - mae: 6.2188\n",
            "Epoch 21/50\n",
            "1/1 [==============================] - 0s 6ms/step - loss: 6.0000 - mae: 6.0000\n",
            "Epoch 22/50\n",
            "1/1 [==============================] - 0s 7ms/step - loss: 5.9542 - mae: 5.9542\n",
            "Epoch 23/50\n",
            "1/1 [==============================] - 0s 5ms/step - loss: 6.1064 - mae: 6.1064\n",
            "Epoch 24/50\n",
            "1/1 [==============================] - 0s 9ms/step - loss: 6.2150 - mae: 6.2150\n",
            "Epoch 25/50\n",
            "1/1 [==============================] - 0s 6ms/step - loss: 6.2847 - mae: 6.2847\n",
            "Epoch 26/50\n",
            "1/1 [==============================] - 0s 7ms/step - loss: 6.3194 - mae: 6.3194\n",
            "Epoch 27/50\n",
            "1/1 [==============================] - 0s 5ms/step - loss: 6.3449 - mae: 6.3449\n",
            "Epoch 28/50\n",
            "1/1 [==============================] - 0s 7ms/step - loss: 6.3225 - mae: 6.3225\n",
            "Epoch 29/50\n",
            "1/1 [==============================] - 0s 8ms/step - loss: 6.2318 - mae: 6.2318\n",
            "Epoch 30/50\n",
            "1/1 [==============================] - 0s 8ms/step - loss: 6.0910 - mae: 6.0910\n",
            "Epoch 31/50\n",
            "1/1 [==============================] - 0s 8ms/step - loss: 5.9643 - mae: 5.9643\n",
            "Epoch 32/50\n",
            "1/1 [==============================] - 0s 8ms/step - loss: 5.8239 - mae: 5.8239\n",
            "Epoch 33/50\n",
            "1/1 [==============================] - 0s 8ms/step - loss: 5.6712 - mae: 5.6712\n",
            "Epoch 34/50\n",
            "1/1 [==============================] - 0s 7ms/step - loss: 5.5073 - mae: 5.5073\n",
            "Epoch 35/50\n",
            "1/1 [==============================] - 0s 18ms/step - loss: 5.3332 - mae: 5.3332\n",
            "Epoch 36/50\n",
            "1/1 [==============================] - 0s 10ms/step - loss: 5.1499 - mae: 5.1499\n",
            "Epoch 37/50\n",
            "1/1 [==============================] - 0s 8ms/step - loss: 5.0604 - mae: 5.0604\n",
            "Epoch 38/50\n",
            "1/1 [==============================] - 0s 8ms/step - loss: 5.0071 - mae: 5.0071\n",
            "Epoch 39/50\n",
            "1/1 [==============================] - 0s 11ms/step - loss: 4.9519 - mae: 4.9519\n",
            "Epoch 40/50\n",
            "1/1 [==============================] - 0s 11ms/step - loss: 5.0104 - mae: 5.0104\n",
            "Epoch 41/50\n",
            "1/1 [==============================] - 0s 11ms/step - loss: 5.0274 - mae: 5.0274\n",
            "Epoch 42/50\n",
            "1/1 [==============================] - 0s 4ms/step - loss: 4.9920 - mae: 4.9920\n",
            "Epoch 43/50\n",
            "1/1 [==============================] - 0s 7ms/step - loss: 4.9100 - mae: 4.9100\n",
            "Epoch 44/50\n",
            "1/1 [==============================] - 0s 5ms/step - loss: 4.7862 - mae: 4.7862\n",
            "Epoch 45/50\n",
            "1/1 [==============================] - 0s 6ms/step - loss: 4.6252 - mae: 4.6252\n",
            "Epoch 46/50\n",
            "1/1 [==============================] - 0s 10ms/step - loss: 4.4984 - mae: 4.4984\n",
            "Epoch 47/50\n",
            "1/1 [==============================] - 0s 6ms/step - loss: 4.4273 - mae: 4.4273\n",
            "Epoch 48/50\n",
            "1/1 [==============================] - 0s 4ms/step - loss: 4.3564 - mae: 4.3564\n",
            "Epoch 49/50\n",
            "1/1 [==============================] - 0s 6ms/step - loss: 4.2857 - mae: 4.2857\n",
            "Epoch 50/50\n",
            "1/1 [==============================] - 0s 6ms/step - loss: 4.2886 - mae: 4.2886\n"
          ]
        },
        {
          "output_type": "execute_result",
          "data": {
            "text/plain": [
              "<keras.callbacks.History at 0x7fdcc2253590>"
            ]
          },
          "metadata": {},
          "execution_count": 35
        }
      ]
    },
    {
      "cell_type": "code",
      "metadata": {
        "colab": {
          "base_uri": "https://localhost:8080/"
        },
        "id": "KjuvKtF-qN4Y",
        "outputId": "73d784d0-401a-486e-b01e-6188efbf679f"
      },
      "source": [
        "model.predict([17])"
      ],
      "execution_count": null,
      "outputs": [
        {
          "output_type": "execute_result",
          "data": {
            "text/plain": [
              "array([[30.756317]], dtype=float32)"
            ]
          },
          "metadata": {},
          "execution_count": 36
        }
      ]
    },
    {
      "cell_type": "markdown",
      "metadata": {
        "id": "BLzB6QZLyBtS"
      },
      "source": [
        "#### Visualize"
      ]
    },
    {
      "cell_type": "code",
      "metadata": {
        "id": "xqg2xljErbXC"
      },
      "source": [
        "X = np.arange(-100, 100, 4); y = X + 10\n",
        "Xtrain = X[:40];Xtest = X[40:];ytrain = y[:40];ytest = y[40:]"
      ],
      "execution_count": null,
      "outputs": []
    },
    {
      "cell_type": "code",
      "metadata": {
        "colab": {
          "base_uri": "https://localhost:8080/",
          "height": 286
        },
        "id": "wnfYhHw0y_BV",
        "outputId": "b4ced160-4188-4db6-9da4-be995366a536"
      },
      "source": [
        "plt.scatter(Xtrain, ytrain, c='b', label='Training data')\n",
        "plt.scatter(Xtest, ytest, c='g', label='Testing data')\n",
        "plt.legend()\n",
        "plt.plot();"
      ],
      "execution_count": null,
      "outputs": [
        {
          "output_type": "display_data",
          "data": {
            "image/png": "[encoded data removed]",
            "text/plain": [
              "<Figure size 432x288 with 1 Axes>"
            ]
          },
          "metadata": {
            "needs_background": "light"
          }
        }
      ]
    },
    {
      "cell_type": "code",
      "metadata": {
        "colab": {
          "base_uri": "https://localhost:8080/"
        },
        "id": "9xykmbdkzGCE",
        "outputId": "5e8d9b28-3b6a-462d-e4d2-306f2cb5c673"
      },
      "source": [
        "model.summary()"
      ],
      "execution_count": null,
      "outputs": [
        {
          "output_type": "stream",
          "name": "stdout",
          "text": [
            "Model: \"sequential_15\"\n",
            "_________________________________________________________________\n",
            "Layer (type)                 Output Shape              Param #   \n",
            "=================================================================\n",
            "dense_15 (Dense)             (None, 1)                 2         \n",
            "=================================================================\n",
            "Total params: 2\n",
            "Trainable params: 2\n",
            "Non-trainable params: 0\n",
            "_________________________________________________________________\n"
          ]
        }
      ]
    },
    {
      "cell_type": "code",
      "metadata": {
        "colab": {
          "base_uri": "https://localhost:8080/",
          "height": 222
        },
        "id": "Mh8napU50hCx",
        "outputId": "cdb875af-1367-44ae-8350-a4b4694a511a"
      },
      "source": [
        "from tensorflow.keras.utils import plot_model\n",
        "\n",
        "plot_model(model, show_shapes=True)"
      ],
      "execution_count": null,
      "outputs": [
        {
          "output_type": "execute_result",
          "data": {
            "image/png": "[encoded data removed]",
            "text/plain": [
              "<IPython.core.display.Image object>"
            ]
          },
          "metadata": {},
          "execution_count": 39
        }
      ]
    },
    {
      "cell_type": "code",
      "metadata": {
        "colab": {
          "base_uri": "https://localhost:8080/"
        },
        "id": "Ru7JzbtQ_X7q",
        "outputId": "fee8c30a-4eff-433a-cefe-ca28083d3a70"
      },
      "source": [
        "model1 = tf.keras.Sequential([\n",
        "    tf.keras.layers.Dense(10,input_shape = [1],name = 'input_layer'),\n",
        "    tf.keras.layers.Dense(1,name = 'output_layer')],\n",
        "    name = 'model1')\n",
        "model1.compile(loss = 'mae',\n",
        "              optimizer = tf.keras.optimizers.SGD(),\n",
        "              metrics = ['mae'])\n",
        "model1.summary()"
      ],
      "execution_count": null,
      "outputs": [
        {
          "output_type": "stream",
          "name": "stdout",
          "text": [
            "Model: \"model1\"\n",
            "_________________________________________________________________\n",
            "Layer (type)                 Output Shape              Param #   \n",
            "=================================================================\n",
            "input_layer (Dense)          (None, 10)                20        \n",
            "_________________________________________________________________\n",
            "output_layer (Dense)         (None, 1)                 11        \n",
            "=================================================================\n",
            "Total params: 31\n",
            "Trainable params: 31\n",
            "Non-trainable params: 0\n",
            "_________________________________________________________________\n"
          ]
        }
      ]
    },
    {
      "cell_type": "code",
      "metadata": {
        "colab": {
          "base_uri": "https://localhost:8080/",
          "height": 333
        },
        "id": "cHJhkIKlAZju",
        "outputId": "a22d0c83-a59f-4d87-e734-245835d80c10"
      },
      "source": [
        "plot_model(model1, show_shapes=True)"
      ],
      "execution_count": null,
      "outputs": [
        {
          "output_type": "execute_result",
          "data": {
            "image/png": "[encoded data removed]",
            "text/plain": [
              "<IPython.core.display.Image object>"
            ]
          },
          "metadata": {},
          "execution_count": 43
        }
      ]
    },
    {
      "cell_type": "code",
      "metadata": {
        "colab": {
          "base_uri": "https://localhost:8080/",
          "height": 286
        },
        "id": "m1rv2Pt6A3O4",
        "outputId": "834964d4-f337-48a0-b4c1-dbec68f59a22"
      },
      "source": [
        "ypred = model.predict(Xtest)\n",
        "plt.scatter(Xtrain,ytrain, label = 'Training data', c = 'blue')\n",
        "plt.scatter(Xtest,ytest,label = 'Testing data', c = 'r')\n",
        "plt.scatter(Xtest,ypred,label = 'Predictions', c = 'g')\n",
        "plt.legend()\n",
        "plt.show()"
      ],
      "execution_count": null,
      "outputs": [
        {
          "output_type": "display_data",
          "data": {
            "image/png": "[encoded data removed]",
            "text/plain": [
              "<Figure size 432x288 with 1 Axes>"
            ]
          },
          "metadata": {
            "needs_background": "light"
          }
        }
      ]
    },
    {
      "cell_type": "code",
      "metadata": {
        "colab": {
          "base_uri": "https://localhost:8080/"
        },
        "id": "nR3j0fLODU9f",
        "outputId": "a98643ca-9efc-48e9-ee5c-d39796d16354"
      },
      "source": [
        "model.evaluate(Xtest,ytest)"
      ],
      "execution_count": null,
      "outputs": [
        {
          "output_type": "stream",
          "name": "stdout",
          "text": [
            "1/1 [==============================] - 0s 127ms/step - loss: 37.0743 - mae: 37.0743\n"
          ]
        },
        {
          "output_type": "execute_result",
          "data": {
            "text/plain": [
              "[37.07426071166992, 37.07426071166992]"
            ]
          },
          "metadata": {},
          "execution_count": 46
        }
      ]
    },
    {
      "cell_type": "code",
      "metadata": {
        "colab": {
          "base_uri": "https://localhost:8080/"
        },
        "id": "XhEZiDluISvZ",
        "outputId": "9b534ac7-97f8-46d6-dce8-dd281190a57c"
      },
      "source": [
        "print(ytest.shape)\n",
        "print(ypred.shape) # not the same shape"
      ],
      "execution_count": null,
      "outputs": [
        {
          "output_type": "stream",
          "name": "stdout",
          "text": [
            "(10,)\n",
            "(10, 1)\n"
          ]
        }
      ]
    },
    {
      "cell_type": "code",
      "metadata": {
        "colab": {
          "base_uri": "https://localhost:8080/"
        },
        "id": "dilslPfxH4ci",
        "outputId": "de36828c-da9c-4725-f2b1-9676331a8efd"
      },
      "source": [
        "tf.metrics.mean_absolute_error(y_true = ytest,\n",
        "                               y_pred = tf.squeeze(ypred)) # squeeze to make both the same shape"
      ],
      "execution_count": null,
      "outputs": [
        {
          "output_type": "execute_result",
          "data": {
            "text/plain": [
              "<tf.Tensor: shape=(), dtype=float32, numpy=37.07426>"
            ]
          },
          "metadata": {},
          "execution_count": 52
        }
      ]
    },
    {
      "cell_type": "code",
      "metadata": {
        "colab": {
          "base_uri": "https://localhost:8080/"
        },
        "id": "MjWVBmYEI0au",
        "outputId": "8cfbb1b2-58a1-472e-9605-04b34ee3b8b8"
      },
      "source": [
        "# only get the MAE\n",
        "tf.metrics.mean_absolute_error(y_true = ytest,\n",
        "                               y_pred = tf.squeeze(ypred)).numpy()"
      ],
      "execution_count": null,
      "outputs": [
        {
          "output_type": "execute_result",
          "data": {
            "text/plain": [
              "37.07426"
            ]
          },
          "metadata": {},
          "execution_count": 53
        }
      ]
    },
    {
      "cell_type": "markdown",
      "metadata": {
        "id": "F9m-rzwLTnIx"
      },
      "source": [
        "#### Save model"
      ]
    },
    {
      "cell_type": "code",
      "metadata": {
        "id": "uFEMpJtKIGvd"
      },
      "source": [
        "model.save('SavedModel_format')\n",
        "# or\n",
        "model.save('SavedModel_format.h5')"
      ],
      "execution_count": null,
      "outputs": []
    },
    {
      "cell_type": "markdown",
      "metadata": {
        "id": "TwqlbUyGYOUa"
      },
      "source": [
        "#### Load model"
      ]
    },
    {
      "cell_type": "code",
      "metadata": {
        "id": "wpNAOaAbYRcq"
      },
      "source": [
        "model = tf.keras.models.load_model(\"SavedModel_format\")\n",
        "# or\n",
        "loaded_h5_model = tf.keras.models.load_model(\"SaveModel_format.h5\")"
      ],
      "execution_count": null,
      "outputs": []
    },
    {
      "cell_type": "markdown",
      "metadata": {
        "id": "ZYdslq_VG0Z1"
      },
      "source": [
        "## Regression Example"
      ]
    },
    {
      "cell_type": "code",
      "metadata": {
        "id": "jXiEG5n5G4tD"
      },
      "source": [
        "import tensorflow as tf\n",
        "import pandas as pd\n",
        "import matplotlib.pyplot as plt\n",
        "url = 'https://raw.githubusercontent.com/stedy/Machine-Learning-with-R-datasets/master/insurance.csv'\n",
        "df = pd.read_csv(url)"
      ],
      "execution_count": 1,
      "outputs": []
    },
    {
      "cell_type": "code",
      "metadata": {
        "id": "DnLjWu-rHNR1"
      },
      "source": [
        "dfD = pd.get_dummies(df, drop_first=True)"
      ],
      "execution_count": 2,
      "outputs": []
    },
    {
      "cell_type": "code",
      "metadata": {
        "id": "sKIbIgiiLlC4"
      },
      "source": [
        "X = dfD.drop(columns = ['charges'])\n",
        "y = dfD.charges"
      ],
      "execution_count": 3,
      "outputs": []
    },
    {
      "cell_type": "code",
      "metadata": {
        "id": "YVhgGBUPL3nF"
      },
      "source": [
        "from sklearn.model_selection import train_test_split\n",
        "Xtrain, Xtest, ytrain, ytest = train_test_split(X,y,test_size = 0.2)"
      ],
      "execution_count": 17,
      "outputs": []
    },
    {
      "cell_type": "code",
      "metadata": {
        "id": "mCQpyuETO8YR"
      },
      "source": [
        "Xtrain = tf.constant(Xtrain, dtype = 'float32')\n",
        "Xtest = tf.constant(Xtest,dtype = 'float32')"
      ],
      "execution_count": 18,
      "outputs": []
    },
    {
      "cell_type": "code",
      "metadata": {
        "colab": {
          "base_uri": "https://localhost:8080/"
        },
        "id": "lPZfC8J3OtLW",
        "outputId": "ca45c329-729d-42a1-860c-dbe8038ed493"
      },
      "source": [
        "Xtrain.shape"
      ],
      "execution_count": 19,
      "outputs": [
        {
          "output_type": "execute_result",
          "data": {
            "text/plain": [
              "TensorShape([1070, 8])"
            ]
          },
          "metadata": {},
          "execution_count": 19
        }
      ]
    },
    {
      "cell_type": "code",
      "metadata": {
        "id": "LhiVTeTUNJoG",
        "colab": {
          "base_uri": "https://localhost:8080/"
        },
        "outputId": "f58a8c1e-e891-4f9a-ee8d-6961f9385068"
      },
      "source": [
        "model = tf.keras.Sequential([\n",
        "                             tf.keras.layers.Dense(100),\n",
        "                             tf.keras.layers.Dense(10),\n",
        "                             tf.keras.layers.Dense(1)])\n",
        "model.compile(loss='mae',\n",
        "               optimizer=tf.keras.optimizers.Adam(),\n",
        "                metrics=['mae'])\n",
        "result = model.fit(Xtrain,ytrain, epochs = 100, verbose=2)"
      ],
      "execution_count": 32,
      "outputs": [
        {
          "output_type": "stream",
          "name": "stdout",
          "text": [
            "Epoch 1/100\n",
            "34/34 - 0s - loss: 13068.9287 - mae: 13068.9287\n",
            "Epoch 2/100\n",
            "34/34 - 0s - loss: 12900.0459 - mae: 12900.0459\n",
            "Epoch 3/100\n",
            "34/34 - 0s - loss: 12554.2334 - mae: 12554.2334\n",
            "Epoch 4/100\n",
            "34/34 - 0s - loss: 11883.5977 - mae: 11883.5977\n",
            "Epoch 5/100\n",
            "34/34 - 0s - loss: 10764.4072 - mae: 10764.4072\n",
            "Epoch 6/100\n",
            "34/34 - 0s - loss: 9342.0146 - mae: 9342.0146\n",
            "Epoch 7/100\n",
            "34/34 - 0s - loss: 8065.1460 - mae: 8065.1460\n",
            "Epoch 8/100\n",
            "34/34 - 0s - loss: 7444.0264 - mae: 7444.0264\n",
            "Epoch 9/100\n",
            "34/34 - 0s - loss: 7331.6431 - mae: 7331.6431\n",
            "Epoch 10/100\n",
            "34/34 - 0s - loss: 7309.0967 - mae: 7309.0967\n",
            "Epoch 11/100\n",
            "34/34 - 0s - loss: 7290.4771 - mae: 7290.4771\n",
            "Epoch 12/100\n",
            "34/34 - 0s - loss: 7269.0806 - mae: 7269.0806\n",
            "Epoch 13/100\n",
            "34/34 - 0s - loss: 7249.1377 - mae: 7249.1377\n",
            "Epoch 14/100\n",
            "34/34 - 0s - loss: 7229.4316 - mae: 7229.4316\n",
            "Epoch 15/100\n",
            "34/34 - 0s - loss: 7207.0557 - mae: 7207.0557\n",
            "Epoch 16/100\n",
            "34/34 - 0s - loss: 7187.5625 - mae: 7187.5625\n",
            "Epoch 17/100\n",
            "34/34 - 0s - loss: 7165.6250 - mae: 7165.6250\n",
            "Epoch 18/100\n",
            "34/34 - 0s - loss: 7142.0273 - mae: 7142.0273\n",
            "Epoch 19/100\n",
            "34/34 - 0s - loss: 7120.1650 - mae: 7120.1650\n",
            "Epoch 20/100\n",
            "34/34 - 0s - loss: 7096.8560 - mae: 7096.8560\n",
            "Epoch 21/100\n",
            "34/34 - 0s - loss: 7072.7300 - mae: 7072.7300\n",
            "Epoch 22/100\n",
            "34/34 - 0s - loss: 7048.8633 - mae: 7048.8633\n",
            "Epoch 23/100\n",
            "34/34 - 0s - loss: 7024.7358 - mae: 7024.7358\n",
            "Epoch 24/100\n",
            "34/34 - 0s - loss: 6998.7139 - mae: 6998.7139\n",
            "Epoch 25/100\n",
            "34/34 - 0s - loss: 6974.4404 - mae: 6974.4404\n",
            "Epoch 26/100\n",
            "34/34 - 0s - loss: 6945.8169 - mae: 6945.8169\n",
            "Epoch 27/100\n",
            "34/34 - 0s - loss: 6916.0059 - mae: 6916.0059\n",
            "Epoch 28/100\n",
            "34/34 - 0s - loss: 6891.4839 - mae: 6891.4839\n",
            "Epoch 29/100\n",
            "34/34 - 0s - loss: 6861.9761 - mae: 6861.9761\n",
            "Epoch 30/100\n",
            "34/34 - 0s - loss: 6831.7666 - mae: 6831.7666\n",
            "Epoch 31/100\n",
            "34/34 - 0s - loss: 6801.3208 - mae: 6801.3208\n",
            "Epoch 32/100\n",
            "34/34 - 0s - loss: 6772.4609 - mae: 6772.4609\n",
            "Epoch 33/100\n",
            "34/34 - 0s - loss: 6739.2178 - mae: 6739.2178\n",
            "Epoch 34/100\n",
            "34/34 - 0s - loss: 6713.2954 - mae: 6713.2954\n",
            "Epoch 35/100\n",
            "34/34 - 0s - loss: 6674.5591 - mae: 6674.5591\n",
            "Epoch 36/100\n",
            "34/34 - 0s - loss: 6641.2090 - mae: 6641.2090\n",
            "Epoch 37/100\n",
            "34/34 - 0s - loss: 6609.1191 - mae: 6609.1191\n",
            "Epoch 38/100\n",
            "34/34 - 0s - loss: 6577.0415 - mae: 6577.0415\n",
            "Epoch 39/100\n",
            "34/34 - 0s - loss: 6547.7085 - mae: 6547.7085\n",
            "Epoch 40/100\n",
            "34/34 - 0s - loss: 6521.6841 - mae: 6521.6841\n",
            "Epoch 41/100\n",
            "34/34 - 0s - loss: 6502.3721 - mae: 6502.3721\n",
            "Epoch 42/100\n",
            "34/34 - 0s - loss: 6484.0371 - mae: 6484.0371\n",
            "Epoch 43/100\n",
            "34/34 - 0s - loss: 6466.0688 - mae: 6466.0688\n",
            "Epoch 44/100\n",
            "34/34 - 0s - loss: 6455.3677 - mae: 6455.3677\n",
            "Epoch 45/100\n",
            "34/34 - 0s - loss: 6448.4697 - mae: 6448.4697\n",
            "Epoch 46/100\n",
            "34/34 - 0s - loss: 6444.3115 - mae: 6444.3115\n",
            "Epoch 47/100\n",
            "34/34 - 0s - loss: 6432.9004 - mae: 6432.9004\n",
            "Epoch 48/100\n",
            "34/34 - 0s - loss: 6426.2271 - mae: 6426.2271\n",
            "Epoch 49/100\n",
            "34/34 - 0s - loss: 6419.8716 - mae: 6419.8716\n",
            "Epoch 50/100\n",
            "34/34 - 0s - loss: 6413.0381 - mae: 6413.0381\n",
            "Epoch 51/100\n",
            "34/34 - 0s - loss: 6403.8057 - mae: 6403.8057\n",
            "Epoch 52/100\n",
            "34/34 - 0s - loss: 6406.2363 - mae: 6406.2363\n",
            "Epoch 53/100\n",
            "34/34 - 0s - loss: 6391.0684 - mae: 6391.0684\n",
            "Epoch 54/100\n",
            "34/34 - 0s - loss: 6390.4604 - mae: 6390.4604\n",
            "Epoch 55/100\n",
            "34/34 - 0s - loss: 6386.0669 - mae: 6386.0669\n",
            "Epoch 56/100\n",
            "34/34 - 0s - loss: 6371.0708 - mae: 6371.0708\n",
            "Epoch 57/100\n",
            "34/34 - 0s - loss: 6365.6802 - mae: 6365.6802\n",
            "Epoch 58/100\n",
            "34/34 - 0s - loss: 6358.7422 - mae: 6358.7422\n",
            "Epoch 59/100\n",
            "34/34 - 0s - loss: 6350.6772 - mae: 6350.6772\n",
            "Epoch 60/100\n",
            "34/34 - 0s - loss: 6350.8955 - mae: 6350.8955\n",
            "Epoch 61/100\n",
            "34/34 - 0s - loss: 6338.7490 - mae: 6338.7490\n",
            "Epoch 62/100\n",
            "34/34 - 0s - loss: 6337.5376 - mae: 6337.5376\n",
            "Epoch 63/100\n",
            "34/34 - 0s - loss: 6326.2676 - mae: 6326.2676\n",
            "Epoch 64/100\n",
            "34/34 - 0s - loss: 6318.4292 - mae: 6318.4292\n",
            "Epoch 65/100\n",
            "34/34 - 0s - loss: 6311.4360 - mae: 6311.4360\n",
            "Epoch 66/100\n",
            "34/34 - 0s - loss: 6305.5879 - mae: 6305.5879\n",
            "Epoch 67/100\n",
            "34/34 - 0s - loss: 6298.7661 - mae: 6298.7661\n",
            "Epoch 68/100\n",
            "34/34 - 0s - loss: 6297.1831 - mae: 6297.1831\n",
            "Epoch 69/100\n",
            "34/34 - 0s - loss: 6288.4087 - mae: 6288.4087\n",
            "Epoch 70/100\n",
            "34/34 - 0s - loss: 6281.9580 - mae: 6281.9580\n",
            "Epoch 71/100\n",
            "34/34 - 0s - loss: 6274.7681 - mae: 6274.7681\n",
            "Epoch 72/100\n",
            "34/34 - 0s - loss: 6267.1138 - mae: 6267.1138\n",
            "Epoch 73/100\n",
            "34/34 - 0s - loss: 6261.0913 - mae: 6261.0913\n",
            "Epoch 74/100\n",
            "34/34 - 0s - loss: 6253.4771 - mae: 6253.4771\n",
            "Epoch 75/100\n",
            "34/34 - 0s - loss: 6248.6777 - mae: 6248.6777\n",
            "Epoch 76/100\n",
            "34/34 - 0s - loss: 6240.3477 - mae: 6240.3477\n",
            "Epoch 77/100\n",
            "34/34 - 0s - loss: 6231.9756 - mae: 6231.9756\n",
            "Epoch 78/100\n",
            "34/34 - 0s - loss: 6225.3716 - mae: 6225.3716\n",
            "Epoch 79/100\n",
            "34/34 - 0s - loss: 6212.3857 - mae: 6212.3857\n",
            "Epoch 80/100\n",
            "34/34 - 0s - loss: 6212.6636 - mae: 6212.6636\n",
            "Epoch 81/100\n",
            "34/34 - 0s - loss: 6199.8394 - mae: 6199.8394\n",
            "Epoch 82/100\n",
            "34/34 - 0s - loss: 6189.5312 - mae: 6189.5312\n",
            "Epoch 83/100\n",
            "34/34 - 0s - loss: 6181.5537 - mae: 6181.5537\n",
            "Epoch 84/100\n",
            "34/34 - 0s - loss: 6174.6899 - mae: 6174.6899\n",
            "Epoch 85/100\n",
            "34/34 - 0s - loss: 6166.0508 - mae: 6166.0508\n",
            "Epoch 86/100\n",
            "34/34 - 0s - loss: 6155.3604 - mae: 6155.3604\n",
            "Epoch 87/100\n",
            "34/34 - 0s - loss: 6146.7119 - mae: 6146.7119\n",
            "Epoch 88/100\n",
            "34/34 - 0s - loss: 6135.6523 - mae: 6135.6523\n",
            "Epoch 89/100\n",
            "34/34 - 0s - loss: 6128.7266 - mae: 6128.7266\n",
            "Epoch 90/100\n",
            "34/34 - 0s - loss: 6118.7148 - mae: 6118.7148\n",
            "Epoch 91/100\n",
            "34/34 - 0s - loss: 6109.0020 - mae: 6109.0020\n",
            "Epoch 92/100\n",
            "34/34 - 0s - loss: 6101.6465 - mae: 6101.6465\n",
            "Epoch 93/100\n",
            "34/34 - 0s - loss: 6089.8657 - mae: 6089.8657\n",
            "Epoch 94/100\n",
            "34/34 - 0s - loss: 6077.8628 - mae: 6077.8628\n",
            "Epoch 95/100\n",
            "34/34 - 0s - loss: 6072.6123 - mae: 6072.6123\n",
            "Epoch 96/100\n",
            "34/34 - 0s - loss: 6063.1216 - mae: 6063.1216\n",
            "Epoch 97/100\n",
            "34/34 - 0s - loss: 6046.3965 - mae: 6046.3965\n",
            "Epoch 98/100\n",
            "34/34 - 0s - loss: 6033.4736 - mae: 6033.4736\n",
            "Epoch 99/100\n",
            "34/34 - 0s - loss: 6023.4189 - mae: 6023.4189\n",
            "Epoch 100/100\n",
            "34/34 - 0s - loss: 6008.2490 - mae: 6008.2490\n"
          ]
        }
      ]
    },
    {
      "cell_type": "code",
      "metadata": {
        "colab": {
          "base_uri": "https://localhost:8080/"
        },
        "id": "id3uJ526_C9Z",
        "outputId": "809cc923-1781-48b3-c7b1-2f953979595b"
      },
      "source": [
        "model.evaluate(Xtest, ytest)"
      ],
      "execution_count": 33,
      "outputs": [
        {
          "output_type": "stream",
          "name": "stdout",
          "text": [
            "9/9 [==============================] - 0s 2ms/step - loss: 6565.6309 - mae: 6565.6309\n"
          ]
        },
        {
          "output_type": "execute_result",
          "data": {
            "text/plain": [
              "[6565.630859375, 6565.630859375]"
            ]
          },
          "metadata": {},
          "execution_count": 33
        }
      ]
    },
    {
      "cell_type": "code",
      "metadata": {
        "colab": {
          "base_uri": "https://localhost:8080/",
          "height": 281
        },
        "id": "HKy2-FI-_jWS",
        "outputId": "4f69970e-3708-46de-e3b6-330cbd5f529a"
      },
      "source": [
        "pd.DataFrame(result.history).plot()"
      ],
      "execution_count": 34,
      "outputs": [
        {
          "output_type": "execute_result",
          "data": {
            "text/plain": [
              "<matplotlib.axes._subplots.AxesSubplot at 0x7fcadcb4ae90>"
            ]
          },
          "metadata": {},
          "execution_count": 34
        },
        {
          "output_type": "display_data",
          "data": {
            "image/png": "[encoded data removed]",
            "text/plain": [
              "<Figure size 432x288 with 1 Axes>"
            ]
          },
          "metadata": {
            "needs_background": "light"
          }
        }
      ]
    }
  ]
}