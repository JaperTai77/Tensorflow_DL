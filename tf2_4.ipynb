{
  "nbformat": 4,
  "nbformat_minor": 0,
  "metadata": {
    "colab": {
      "name": "tf2_4.ipynb",
      "provenance": [],
      "collapsed_sections": [
        "nd04lJXwCVdD",
        "W5H116XHCX6k",
        "68WYsk0TFUuH",
        "N-OJTc_JFXBj",
        "Bd081O_3EnV4",
        "nCagIp-maprj",
        "-z0-CZaGjUnk",
        "Uko2TOBgsiuq",
        "8Ixq3SW16x4L",
        "9tbgvny1FINC"
      ],
      "authorship_tag": "ABX9TyP8BdemQRKxUaK8qqqYM4lm",
      "include_colab_link": true
    },
    "kernelspec": {
      "name": "python3",
      "display_name": "Python 3"
    },
    "language_info": {
      "name": "python"
    }
  },
  "cells": [
    {
      "cell_type": "markdown",
      "metadata": {
        "id": "view-in-github",
        "colab_type": "text"
      },
      "source": [
        "<a href=\"https://colab.research.google.com/github/JaperTai77/Tensorflow_DL/blob/main/tf2_4.ipynb\" target=\"_parent\"><img src=\"https://colab.research.google.com/assets/colab-badge.svg\" alt=\"Open In Colab\"/></a>"
      ]
    },
    {
      "cell_type": "markdown",
      "metadata": {
        "id": "nd04lJXwCVdD"
      },
      "source": [
        "# Transfer Learning (Feature Extraction)"
      ]
    },
    {
      "cell_type": "markdown",
      "metadata": {
        "id": "W5H116XHCX6k"
      },
      "source": [
        "### Import data"
      ]
    },
    {
      "cell_type": "code",
      "metadata": {
        "colab": {
          "base_uri": "https://localhost:8080/"
        },
        "id": "vCkwe6VX__ad",
        "outputId": "3f90ca91-a1b4-4fac-d673-a28601aab3c5"
      },
      "source": [
        "import zipfile\n",
        "!wget https://storage.googleapis.com/ztm_tf_course/food_vision/10_food_classes_10_percent.zip\n",
        "zip_ref = zipfile.ZipFile(\"10_food_classes_10_percent.zip\", \"r\")\n",
        "zip_ref.extractall()\n",
        "zip_ref.close()"
      ],
      "execution_count": 1,
      "outputs": [
        {
          "output_type": "stream",
          "name": "stdout",
          "text": [
            "--2021-11-05 04:52:47--  https://storage.googleapis.com/ztm_tf_course/food_vision/10_food_classes_10_percent.zip\n",
            "Resolving storage.googleapis.com (storage.googleapis.com)... 64.233.189.128, 108.177.97.128, 108.177.125.128, ...\n",
            "Connecting to storage.googleapis.com (storage.googleapis.com)|64.233.189.128|:443... connected.\n",
            "HTTP request sent, awaiting response... 200 OK\n",
            "Length: 168546183 (161M) [application/zip]\n",
            "Saving to: ‘10_food_classes_10_percent.zip’\n",
            "\n",
            "10_food_classes_10_ 100%[===================>] 160.74M  44.7MB/s    in 3.6s    \n",
            "\n",
            "2021-11-05 04:52:51 (44.7 MB/s) - ‘10_food_classes_10_percent.zip’ saved [168546183/168546183]\n",
            "\n"
          ]
        }
      ]
    },
    {
      "cell_type": "markdown",
      "metadata": {
        "id": "68WYsk0TFUuH"
      },
      "source": [
        "#### Test data"
      ]
    },
    {
      "cell_type": "code",
      "metadata": {
        "colab": {
          "base_uri": "https://localhost:8080/"
        },
        "id": "77vkv_ILDBXt",
        "outputId": "268c17f2-ce35-4714-b25c-9fc8ec06c7af"
      },
      "source": [
        "import os\n",
        "\n",
        "for dirpath, dirnames, filenames in os.walk(\"10_food_classes_10_percent/test\"):\n",
        "  print(f\"There are {len(filenames)} images in {dirpath}\")"
      ],
      "execution_count": null,
      "outputs": [
        {
          "output_type": "stream",
          "name": "stdout",
          "text": [
            "There are 0 images in 10_food_classes_10_percent/test\n",
            "There are 250 images in 10_food_classes_10_percent/test/chicken_wings\n",
            "There are 250 images in 10_food_classes_10_percent/test/sushi\n",
            "There are 250 images in 10_food_classes_10_percent/test/pizza\n",
            "There are 250 images in 10_food_classes_10_percent/test/hamburger\n",
            "There are 250 images in 10_food_classes_10_percent/test/grilled_salmon\n",
            "There are 250 images in 10_food_classes_10_percent/test/fried_rice\n",
            "There are 250 images in 10_food_classes_10_percent/test/ice_cream\n",
            "There are 250 images in 10_food_classes_10_percent/test/ramen\n",
            "There are 250 images in 10_food_classes_10_percent/test/chicken_curry\n",
            "There are 250 images in 10_food_classes_10_percent/test/steak\n"
          ]
        }
      ]
    },
    {
      "cell_type": "markdown",
      "metadata": {
        "id": "N-OJTc_JFXBj"
      },
      "source": [
        "#### Train data"
      ]
    },
    {
      "cell_type": "code",
      "metadata": {
        "colab": {
          "base_uri": "https://localhost:8080/"
        },
        "id": "OUbyVi6PDo0U",
        "outputId": "bcf7789c-d436-40b0-ee0f-28c1a887e851"
      },
      "source": [
        "for dirpath, dirnames, filenames in os.walk(\"10_food_classes_10_percent/train\"):\n",
        "  print(f\"There are {len(filenames)} images in {dirpath}\")"
      ],
      "execution_count": null,
      "outputs": [
        {
          "output_type": "stream",
          "name": "stdout",
          "text": [
            "There are 0 images in 10_food_classes_10_percent/train\n",
            "There are 75 images in 10_food_classes_10_percent/train/chicken_wings\n",
            "There are 75 images in 10_food_classes_10_percent/train/sushi\n",
            "There are 75 images in 10_food_classes_10_percent/train/pizza\n",
            "There are 75 images in 10_food_classes_10_percent/train/hamburger\n",
            "There are 75 images in 10_food_classes_10_percent/train/grilled_salmon\n",
            "There are 75 images in 10_food_classes_10_percent/train/fried_rice\n",
            "There are 75 images in 10_food_classes_10_percent/train/ice_cream\n",
            "There are 75 images in 10_food_classes_10_percent/train/ramen\n",
            "There are 75 images in 10_food_classes_10_percent/train/chicken_curry\n",
            "There are 75 images in 10_food_classes_10_percent/train/steak\n"
          ]
        }
      ]
    },
    {
      "cell_type": "markdown",
      "metadata": {
        "id": "J65FXn-oKZfA"
      },
      "source": [
        "#### Import train/test"
      ]
    },
    {
      "cell_type": "code",
      "metadata": {
        "colab": {
          "base_uri": "https://localhost:8080/"
        },
        "id": "ub7c3_KYCvud",
        "outputId": "79a8e25c-d107-4ec8-8c23-8b35f783a420"
      },
      "source": [
        "from tensorflow.keras.preprocessing.image import ImageDataGenerator\n",
        "train_dir = \"10_food_classes_10_percent/train/\"\n",
        "test_dir = \"10_food_classes_10_percent/test/\"\n",
        "\n",
        "train_datagen = ImageDataGenerator(rescale = 1/255.)\n",
        "test_datagen = ImageDataGenerator(rescale = 1/255.)\n",
        "\n",
        "train = train_datagen.flow_from_directory(train_dir,\n",
        "                                     target_size = (224,224),\n",
        "                                     batch_size = 32,\n",
        "                                     class_mode = 'categorical')\n",
        "test = test_datagen.flow_from_directory(test_dir,\n",
        "                                     target_size = (224,224),\n",
        "                                     batch_size = 32,\n",
        "                                     class_mode = 'categorical')                           "
      ],
      "execution_count": null,
      "outputs": [
        {
          "output_type": "stream",
          "name": "stdout",
          "text": [
            "Found 750 images belonging to 10 classes.\n",
            "Found 2500 images belonging to 10 classes.\n"
          ]
        }
      ]
    },
    {
      "cell_type": "markdown",
      "metadata": {
        "id": "Bd081O_3EnV4"
      },
      "source": [
        "### Feature extraction"
      ]
    },
    {
      "cell_type": "markdown",
      "metadata": {
        "id": "nCagIp-maprj"
      },
      "source": [
        "#### Tensorboard Callback"
      ]
    },
    {
      "cell_type": "code",
      "metadata": {
        "id": "6FALkdamYvxc"
      },
      "source": [
        "import datetime\n",
        "import tensorflow as tf\n",
        "\n",
        "def tensorboard_call(dir_name,experiment_name):\n",
        "  log_dir = dir_name+ \"/\" + experiment_name + \"/\" + datetime.datetime.now().strftime(\"%Y%m%d-%H%M%S\")\n",
        "  callback = tf.keras.callbacks.TensorBoard(log_dir = log_dir)\n",
        "  print(f\"Saving TensorBoard log files to: {log_dir}\")\n",
        "  return callback"
      ],
      "execution_count": null,
      "outputs": []
    },
    {
      "cell_type": "markdown",
      "metadata": {
        "id": "Sf2U6XlqgJYU"
      },
      "source": [
        "https://tfhub.dev"
      ]
    },
    {
      "cell_type": "code",
      "metadata": {
        "id": "UrajvE1wc-7x"
      },
      "source": [
        "import tensorflow_hub as hub\n",
        "# Resnet 50 V2 feature vector\n",
        "resnet_url = \"https://tfhub.dev/google/imagenet/resnet_v2_50/feature_vector/4\"\n",
        "\n",
        "# Original: EfficientNetB0 feature vector (version 1)\n",
        "efficientnet_url = \"https://tfhub.dev/tensorflow/efficientnet/b0/feature-vector/1\"\n",
        "# New: EfficientNetB0 feature vector (version 2)\n",
        "# efficientnet_url = \"https://tfhub.dev/google/imagenet/efficientnet_v2_imagenet1k_b0/feature_vector/2\""
      ],
      "execution_count": null,
      "outputs": []
    },
    {
      "cell_type": "markdown",
      "metadata": {
        "id": "7OtJS9E8g1ss"
      },
      "source": [
        "Compare efficient net and resnet"
      ]
    },
    {
      "cell_type": "code",
      "metadata": {
        "id": "TNbzIX9Vg6DV"
      },
      "source": [
        "def create_model(model_url, classes = 10):\n",
        "  # from example usage of the model\n",
        "  # download pretrained model\n",
        "  feature_extractor_layer = hub.KerasLayer(model_url,\n",
        "                                     trainable = False, # freeze learned pattern\n",
        "                                     name = 'feature_extraction_layer',\n",
        "                                     input_shape = (224,224,3))\n",
        "  # create model\n",
        "  model = tf.keras.Sequential([\n",
        "              feature_extractor_layer,\n",
        "              tf.keras.layers.Dense(classes,activation = 'softmax', name = 'output_layer')\n",
        "  ])\n",
        "\n",
        "  return model"
      ],
      "execution_count": null,
      "outputs": []
    },
    {
      "cell_type": "markdown",
      "metadata": {
        "id": "-z0-CZaGjUnk"
      },
      "source": [
        "#### Resnet"
      ]
    },
    {
      "cell_type": "code",
      "metadata": {
        "colab": {
          "base_uri": "https://localhost:8080/"
        },
        "id": "eplQhOp-jWc4",
        "outputId": "57020824-ea3a-42e3-be2e-749e566ce9d2"
      },
      "source": [
        "resnet = create_model(resnet_url,classes = 10)\n",
        "resnet.summary()"
      ],
      "execution_count": null,
      "outputs": [
        {
          "output_type": "stream",
          "name": "stdout",
          "text": [
            "Model: \"sequential\"\n",
            "_________________________________________________________________\n",
            "Layer (type)                 Output Shape              Param #   \n",
            "=================================================================\n",
            "feature_extraction_layer (Ke (None, 2048)              23564800  \n",
            "_________________________________________________________________\n",
            "output_layer (Dense)         (None, 10)                20490     \n",
            "=================================================================\n",
            "Total params: 23,585,290\n",
            "Trainable params: 20,490\n",
            "Non-trainable params: 23,564,800\n",
            "_________________________________________________________________\n"
          ]
        }
      ]
    },
    {
      "cell_type": "code",
      "metadata": {
        "colab": {
          "base_uri": "https://localhost:8080/"
        },
        "id": "BBEUCbnhj8q2",
        "outputId": "1fbd64c6-e809-47a9-ae51-271edcf5b2c0"
      },
      "source": [
        "resnet.compile(loss = tf.keras.losses.CategoricalCrossentropy(),\n",
        "               optimizer = tf.keras.optimizers.Adam(),\n",
        "               metrics = ['accuracy'])\n",
        "resnet.fit(train,epochs = 5, steps_per_epoch = len(train),\n",
        "           validation_data = test, validation_steps = len(test),\n",
        "           callbacks = [tensorboard_call('tensorflow_hub','resnet')])"
      ],
      "execution_count": null,
      "outputs": [
        {
          "output_type": "stream",
          "name": "stdout",
          "text": [
            "Saving TensorBoard log files to: tensorflow_hub/resnet/20211103-073425\n",
            "Epoch 1/5\n",
            "24/24 [==============================] - 58s 1s/step - loss: 1.9626 - accuracy: 0.3413 - val_loss: 1.1941 - val_accuracy: 0.6280\n",
            "Epoch 2/5\n",
            "24/24 [==============================] - 22s 923ms/step - loss: 0.8961 - accuracy: 0.7453 - val_loss: 0.8509 - val_accuracy: 0.7324\n",
            "Epoch 3/5\n",
            "24/24 [==============================] - 21s 916ms/step - loss: 0.6249 - accuracy: 0.8240 - val_loss: 0.7682 - val_accuracy: 0.7476\n",
            "Epoch 4/5\n",
            "24/24 [==============================] - 21s 916ms/step - loss: 0.4780 - accuracy: 0.8707 - val_loss: 0.7418 - val_accuracy: 0.7524\n",
            "Epoch 5/5\n",
            "24/24 [==============================] - 21s 910ms/step - loss: 0.3795 - accuracy: 0.9093 - val_loss: 0.6846 - val_accuracy: 0.7756\n"
          ]
        },
        {
          "output_type": "execute_result",
          "data": {
            "text/plain": [
              "<keras.callbacks.History at 0x7f76e0f0c810>"
            ]
          },
          "metadata": {},
          "execution_count": 10
        }
      ]
    },
    {
      "cell_type": "markdown",
      "metadata": {
        "id": "Uko2TOBgsiuq"
      },
      "source": [
        "#### Efficient Net"
      ]
    },
    {
      "cell_type": "code",
      "metadata": {
        "colab": {
          "base_uri": "https://localhost:8080/"
        },
        "id": "hO4mwf0Usoar",
        "outputId": "9ad981fc-21c1-4b8e-833b-4dac90f443c0"
      },
      "source": [
        "effnet = create_model(efficientnet_url,classes = 10)\n",
        "effnet.summary()"
      ],
      "execution_count": null,
      "outputs": [
        {
          "output_type": "stream",
          "name": "stdout",
          "text": [
            "Model: \"sequential_1\"\n",
            "_________________________________________________________________\n",
            "Layer (type)                 Output Shape              Param #   \n",
            "=================================================================\n",
            "feature_extraction_layer (Ke (None, 1280)              4049564   \n",
            "_________________________________________________________________\n",
            "output_layer (Dense)         (None, 10)                12810     \n",
            "=================================================================\n",
            "Total params: 4,062,374\n",
            "Trainable params: 12,810\n",
            "Non-trainable params: 4,049,564\n",
            "_________________________________________________________________\n"
          ]
        }
      ]
    },
    {
      "cell_type": "code",
      "metadata": {
        "colab": {
          "base_uri": "https://localhost:8080/"
        },
        "id": "Z3HNBstftGNO",
        "outputId": "d0d7e130-0a04-49ef-97f5-f59114b1989e"
      },
      "source": [
        "effnet.compile(loss = tf.keras.losses.CategoricalCrossentropy(),\n",
        "               optimizer = tf.keras.optimizers.Adam(),\n",
        "               metrics = ['accuracy'])\n",
        "effnet.fit(train, epochs = 5, steps_per_epoch = len(train),\n",
        "           validation_data = test,validation_steps = len(test),\n",
        "           callbacks = [tensorboard_call('tensorflow_hub','efficientNet')])"
      ],
      "execution_count": null,
      "outputs": [
        {
          "output_type": "stream",
          "name": "stdout",
          "text": [
            "Saving TensorBoard log files to: tensorflow_hub/efficientNet/20211103-073706\n",
            "Epoch 1/5\n",
            "24/24 [==============================] - 34s 1s/step - loss: 1.8407 - accuracy: 0.4307 - val_loss: 1.2971 - val_accuracy: 0.7204\n",
            "Epoch 2/5\n",
            "24/24 [==============================] - 19s 815ms/step - loss: 1.0443 - accuracy: 0.7733 - val_loss: 0.8693 - val_accuracy: 0.8100\n",
            "Epoch 3/5\n",
            "24/24 [==============================] - 19s 816ms/step - loss: 0.7422 - accuracy: 0.8453 - val_loss: 0.6993 - val_accuracy: 0.8420\n",
            "Epoch 4/5\n",
            "24/24 [==============================] - 19s 810ms/step - loss: 0.5925 - accuracy: 0.8720 - val_loss: 0.6135 - val_accuracy: 0.8556\n",
            "Epoch 5/5\n",
            "24/24 [==============================] - 19s 809ms/step - loss: 0.5003 - accuracy: 0.8960 - val_loss: 0.5602 - val_accuracy: 0.8624\n"
          ]
        },
        {
          "output_type": "execute_result",
          "data": {
            "text/plain": [
              "<keras.callbacks.History at 0x7f766cb54510>"
            ]
          },
          "metadata": {},
          "execution_count": 12
        }
      ]
    },
    {
      "cell_type": "markdown",
      "metadata": {
        "id": "8Ixq3SW16x4L"
      },
      "source": [
        "#### Compare in tensor board"
      ]
    },
    {
      "cell_type": "markdown",
      "metadata": {
        "id": "hH4imcMk64qM"
      },
      "source": [
        "results and data become public"
      ]
    },
    {
      "cell_type": "code",
      "metadata": {
        "id": "F0SfUpGx7-sA"
      },
      "source": [
        "!tensorboard dev upload --logdir ./tensorflow_hub/ \\\n",
        "  --name \"EfficientNet vs. ResNet\" \\\n",
        "  --description \"Comparing the two models\" \\\n",
        "  --one_shot"
      ],
      "execution_count": null,
      "outputs": []
    },
    {
      "cell_type": "code",
      "metadata": {
        "id": "bcdlGHHK8Upi"
      },
      "source": [
        "!tensorboard dev list"
      ],
      "execution_count": null,
      "outputs": []
    },
    {
      "cell_type": "code",
      "metadata": {
        "id": "u6eHJ1bx8lrA"
      },
      "source": [
        "# delete experiment \n",
        "!tensorboard dev delete --experiment_id FnFb6OdRRPOT"
      ],
      "execution_count": null,
      "outputs": []
    },
    {
      "cell_type": "markdown",
      "metadata": {
        "id": "dEAqHSBeELRA"
      },
      "source": [
        "# Transfer Learning (Fine Tunning)"
      ]
    },
    {
      "cell_type": "markdown",
      "metadata": {
        "id": "hLGDEH4WNzgW"
      },
      "source": [
        "## Create model (functional API)"
      ]
    },
    {
      "cell_type": "markdown",
      "metadata": {
        "id": "9tbgvny1FINC"
      },
      "source": [
        "#### Import data"
      ]
    },
    {
      "cell_type": "markdown",
      "metadata": {
        "id": "XkYigYF_FNCp"
      },
      "source": [
        "function that is often used are stored"
      ]
    },
    {
      "cell_type": "code",
      "metadata": {
        "id": "38ynV-QkEt5o",
        "colab": {
          "base_uri": "https://localhost:8080/"
        },
        "outputId": "e2a6a8bd-1ef5-4380-c33a-0cc2922cb21b"
      },
      "source": [
        "!wget https://raw.githubusercontent.com/mrdbourke/tensorflow-deep-learning/main/extras/helper_functions.py \n",
        "from helper_functions import create_tensorboard_callback, plot_loss_curves, unzip_data, walk_through_dir"
      ],
      "execution_count": null,
      "outputs": [
        {
          "output_type": "stream",
          "name": "stdout",
          "text": [
            "--2021-11-04 06:28:05--  https://raw.githubusercontent.com/mrdbourke/tensorflow-deep-learning/main/extras/helper_functions.py\n",
            "Resolving raw.githubusercontent.com (raw.githubusercontent.com)... 185.199.108.133, 185.199.109.133, 185.199.110.133, ...\n",
            "Connecting to raw.githubusercontent.com (raw.githubusercontent.com)|185.199.108.133|:443... connected.\n",
            "HTTP request sent, awaiting response... 200 OK\n",
            "Length: 10246 (10K) [text/plain]\n",
            "Saving to: ‘helper_functions.py.1’\n",
            "\n",
            "\rhelper_functions.py   0%[                    ]       0  --.-KB/s               \rhelper_functions.py 100%[===================>]  10.01K  --.-KB/s    in 0s      \n",
            "\n",
            "2021-11-04 06:28:05 (80.1 MB/s) - ‘helper_functions.py.1’ saved [10246/10246]\n",
            "\n"
          ]
        }
      ]
    },
    {
      "cell_type": "code",
      "metadata": {
        "colab": {
          "base_uri": "https://localhost:8080/"
        },
        "id": "f-nuKZ3fFwNg",
        "outputId": "6293d874-2dd9-425c-e98d-8e1ab6a498d0"
      },
      "source": [
        "!wget https://storage.googleapis.com/ztm_tf_course/food_vision/10_food_classes_10_percent.zip \n",
        "import zipfile\n",
        "zip_ref = zipfile.ZipFile(\"10_food_classes_10_percent.zip\", \"r\")\n",
        "zip_ref.extractall()\n",
        "zip_ref.close()"
      ],
      "execution_count": null,
      "outputs": [
        {
          "output_type": "stream",
          "name": "stdout",
          "text": [
            "--2021-11-04 06:28:05--  https://storage.googleapis.com/ztm_tf_course/food_vision/10_food_classes_10_percent.zip\n",
            "Resolving storage.googleapis.com (storage.googleapis.com)... 108.177.97.128, 108.177.125.128, 142.251.8.128, ...\n",
            "Connecting to storage.googleapis.com (storage.googleapis.com)|108.177.97.128|:443... connected.\n",
            "HTTP request sent, awaiting response... 200 OK\n",
            "Length: 168546183 (161M) [application/zip]\n",
            "Saving to: ‘10_food_classes_10_percent.zip.1’\n",
            "\n",
            "10_food_classes_10_ 100%[===================>] 160.74M   171MB/s    in 0.9s    \n",
            "\n",
            "2021-11-04 06:28:06 (171 MB/s) - ‘10_food_classes_10_percent.zip.1’ saved [168546183/168546183]\n",
            "\n"
          ]
        }
      ]
    },
    {
      "cell_type": "code",
      "metadata": {
        "colab": {
          "base_uri": "https://localhost:8080/"
        },
        "id": "teGRmlFxGPHk",
        "outputId": "cddd09e2-6329-42fa-befb-ee75ea77ce38"
      },
      "source": [
        "import tensorflow as tf\n",
        "train = tf.keras.preprocessing.image_dataset_from_directory(\n",
        "    directory = \"10_food_classes_10_percent/train/\",\n",
        "    image_size = (224,224),\n",
        "    label_mode = 'categorical',\n",
        "    batch_size = 32\n",
        ")\n",
        "\n",
        "test = tf.keras.preprocessing.image_dataset_from_directory(\n",
        "    directory = \"10_food_classes_10_percent/test/\",\n",
        "    image_size = (224,224),\n",
        "    label_mode = 'categorical',\n",
        "    batch_size = 32\n",
        ")"
      ],
      "execution_count": null,
      "outputs": [
        {
          "output_type": "stream",
          "name": "stdout",
          "text": [
            "Found 750 files belonging to 10 classes.\n",
            "Found 2500 files belonging to 10 classes.\n"
          ]
        }
      ]
    },
    {
      "cell_type": "code",
      "metadata": {
        "colab": {
          "base_uri": "https://localhost:8080/"
        },
        "id": "fDYZC3QWJxnm",
        "outputId": "2b534584-5c87-45f5-a4b3-520455803855"
      },
      "source": [
        "train.class_names"
      ],
      "execution_count": null,
      "outputs": [
        {
          "output_type": "execute_result",
          "data": {
            "text/plain": [
              "['chicken_curry',\n",
              " 'chicken_wings',\n",
              " 'fried_rice',\n",
              " 'grilled_salmon',\n",
              " 'hamburger',\n",
              " 'ice_cream',\n",
              " 'pizza',\n",
              " 'ramen',\n",
              " 'steak',\n",
              " 'sushi']"
            ]
          },
          "metadata": {},
          "execution_count": 9
        }
      ]
    },
    {
      "cell_type": "code",
      "metadata": {
        "colab": {
          "base_uri": "https://localhost:8080/"
        },
        "id": "h7MyPKexJyk-",
        "outputId": "118217d3-bbee-4a2d-ae70-8f55fd68f20b"
      },
      "source": [
        "for image, label in train.take(1):\n",
        "  print('Batch size:',len(image))\n",
        "  print(label)"
      ],
      "execution_count": null,
      "outputs": [
        {
          "output_type": "stream",
          "name": "stdout",
          "text": [
            "Batch size: 32\n",
            "tf.Tensor(\n",
            "[[0. 0. 0. 1. 0. 0. 0. 0. 0. 0.]\n",
            " [0. 0. 0. 0. 0. 0. 1. 0. 0. 0.]\n",
            " [0. 0. 0. 0. 0. 0. 0. 0. 1. 0.]\n",
            " [1. 0. 0. 0. 0. 0. 0. 0. 0. 0.]\n",
            " [1. 0. 0. 0. 0. 0. 0. 0. 0. 0.]\n",
            " [1. 0. 0. 0. 0. 0. 0. 0. 0. 0.]\n",
            " [0. 0. 0. 0. 0. 0. 0. 0. 1. 0.]\n",
            " [0. 0. 0. 0. 0. 0. 0. 0. 1. 0.]\n",
            " [0. 0. 0. 0. 0. 0. 0. 1. 0. 0.]\n",
            " [0. 1. 0. 0. 0. 0. 0. 0. 0. 0.]\n",
            " [0. 0. 0. 1. 0. 0. 0. 0. 0. 0.]\n",
            " [0. 0. 0. 0. 0. 0. 1. 0. 0. 0.]\n",
            " [0. 0. 0. 0. 0. 0. 0. 0. 0. 1.]\n",
            " [0. 0. 0. 0. 0. 0. 0. 0. 0. 1.]\n",
            " [0. 0. 0. 0. 0. 0. 0. 1. 0. 0.]\n",
            " [0. 0. 0. 0. 0. 0. 0. 1. 0. 0.]\n",
            " [0. 0. 0. 0. 0. 0. 0. 1. 0. 0.]\n",
            " [0. 0. 1. 0. 0. 0. 0. 0. 0. 0.]\n",
            " [1. 0. 0. 0. 0. 0. 0. 0. 0. 0.]\n",
            " [0. 0. 1. 0. 0. 0. 0. 0. 0. 0.]\n",
            " [0. 0. 0. 0. 0. 0. 1. 0. 0. 0.]\n",
            " [0. 0. 0. 0. 0. 0. 1. 0. 0. 0.]\n",
            " [0. 0. 0. 0. 0. 0. 1. 0. 0. 0.]\n",
            " [1. 0. 0. 0. 0. 0. 0. 0. 0. 0.]\n",
            " [0. 0. 0. 0. 0. 0. 0. 1. 0. 0.]\n",
            " [0. 0. 1. 0. 0. 0. 0. 0. 0. 0.]\n",
            " [1. 0. 0. 0. 0. 0. 0. 0. 0. 0.]\n",
            " [0. 1. 0. 0. 0. 0. 0. 0. 0. 0.]\n",
            " [0. 0. 0. 1. 0. 0. 0. 0. 0. 0.]\n",
            " [0. 0. 0. 0. 0. 0. 0. 0. 1. 0.]\n",
            " [0. 0. 0. 0. 0. 0. 0. 1. 0. 0.]\n",
            " [0. 0. 0. 0. 0. 1. 0. 0. 0. 0.]], shape=(32, 10), dtype=float32)\n"
          ]
        }
      ]
    },
    {
      "cell_type": "markdown",
      "metadata": {
        "id": "Igq1-qRPqyO_"
      },
      "source": [
        "#### Model 1"
      ]
    },
    {
      "cell_type": "markdown",
      "metadata": {
        "id": "EjfJvaCXD3ji"
      },
      "source": [
        "-10% training data\\\n",
        "-no preprocess\\\n",
        "-efficientnet with all layer frozen"
      ]
    },
    {
      "cell_type": "code",
      "metadata": {
        "id": "3BT1iffzLe5r",
        "colab": {
          "base_uri": "https://localhost:8080/"
        },
        "outputId": "57516fa0-670c-49ce-8fe5-a161bfd7722b"
      },
      "source": [
        "import tensorflow as tf\n",
        "model_base = tf.keras.applications.EfficientNetB0(include_top = False) # want to train top layers\n",
        "\n",
        "# freeze base model (pre-trained patterns aren't trained)\n",
        "model_base.trainable = False\n",
        "\n",
        "input = tf.keras.layers.Input(shape = (224,224,3), name = 'input_layer')\n",
        "\n",
        "# need to rescale for some application (effnet not require)\n",
        "# x = tf.keras.layers.experimental.preprocessing.Rescaling(1./255)(inputs)\n",
        "x = model_base(input)\n",
        "print(x.shape)\n",
        "# aggregate all the most important information, reduce number of computations\n",
        "x = tf.keras.layers.GlobalAveragePooling2D(name = 'global_pooling_layer')(x)\n",
        "print(x.shape)\n",
        "\n",
        "output = tf.keras.layers.Dense(10,activation = 'softmax', name = 'output_layer')(x)\n",
        "model_1 = tf.keras.Model(input, output)"
      ],
      "execution_count": null,
      "outputs": [
        {
          "output_type": "stream",
          "name": "stdout",
          "text": [
            "(None, 7, 7, 1280)\n",
            "(None, 1280)\n"
          ]
        }
      ]
    },
    {
      "cell_type": "code",
      "metadata": {
        "colab": {
          "base_uri": "https://localhost:8080/"
        },
        "id": "o68HkOTXl_l9",
        "outputId": "6e5c500c-d1a1-43bf-b61f-fbc6319e0397"
      },
      "source": [
        "import datetime\n",
        "log_dir = 'transfer_learning/model1/' + datetime.datetime.now().strftime(\"%Y%m%d-%H%M%S\")\n",
        "tensorboard_callback = tf.keras.callbacks.TensorBoard(log_dir=log_dir)\n",
        "\n",
        "model_1.compile(loss = 'categorical_crossentropy',\n",
        "                optimizer = 'Adam',\n",
        "                metrics = ['accuracy'])\n",
        "history1 = model_1.fit(train,\n",
        "                     epochs = 5,\n",
        "                     steps_per_epoch = len(train),\n",
        "                     validation_data = test,\n",
        "                     validation_steps = int(0.25*len(test)),\n",
        "                     callbacks = [tensorboard_callback])"
      ],
      "execution_count": null,
      "outputs": [
        {
          "output_type": "stream",
          "name": "stderr",
          "text": [
            "/usr/local/lib/python3.7/dist-packages/keras/utils/generic_utils.py:497: CustomMaskWarning: Custom mask layers require a config and must override get_config. When loading, the custom mask layer must be passed to the custom_objects argument.\n",
            "  category=CustomMaskWarning)\n"
          ]
        },
        {
          "output_type": "stream",
          "name": "stdout",
          "text": [
            "Epoch 1/5\n",
            "24/24 [==============================] - 90s 3s/step - loss: 1.8864 - accuracy: 0.4013 - val_loss: 1.3470 - val_accuracy: 0.7204\n",
            "Epoch 2/5\n",
            "24/24 [==============================] - 81s 3s/step - loss: 1.1314 - accuracy: 0.7640 - val_loss: 0.9304 - val_accuracy: 0.8043\n",
            "Epoch 3/5\n",
            "24/24 [==============================] - 81s 3s/step - loss: 0.8297 - accuracy: 0.8107 - val_loss: 0.7704 - val_accuracy: 0.8109\n",
            "Epoch 4/5\n",
            "24/24 [==============================] - 82s 3s/step - loss: 0.6868 - accuracy: 0.8427 - val_loss: 0.6747 - val_accuracy: 0.8306\n",
            "Epoch 5/5\n",
            "24/24 [==============================] - 82s 3s/step - loss: 0.5791 - accuracy: 0.8667 - val_loss: 0.6273 - val_accuracy: 0.8372\n"
          ]
        }
      ]
    },
    {
      "cell_type": "code",
      "metadata": {
        "colab": {
          "base_uri": "https://localhost:8080/"
        },
        "id": "xEmyXf8Mq3Ip",
        "outputId": "7c5cc4b2-8617-452d-db4b-2f2748b7f233"
      },
      "source": [
        "for layer_number, layer in enumerate(model_base.layers):\n",
        "  if int(layer_number)<10:\n",
        "    print(layer_number, layer.name)\n",
        "\n",
        "# or model_base.summary()"
      ],
      "execution_count": null,
      "outputs": [
        {
          "output_type": "stream",
          "name": "stdout",
          "text": [
            "0 input_3\n",
            "1 rescaling_2\n",
            "2 normalization_2\n",
            "3 stem_conv_pad\n",
            "4 stem_conv\n",
            "5 stem_bn\n",
            "6 stem_activation\n",
            "7 block1a_dwconv\n",
            "8 block1a_bn\n",
            "9 block1a_activation\n"
          ]
        }
      ]
    },
    {
      "cell_type": "code",
      "metadata": {
        "colab": {
          "base_uri": "https://localhost:8080/"
        },
        "id": "_NjvdtF8thrx",
        "outputId": "3c0cf2cf-145d-4551-e7ba-608c362ee748"
      },
      "source": [
        "model_1.summary()"
      ],
      "execution_count": null,
      "outputs": [
        {
          "output_type": "stream",
          "name": "stdout",
          "text": [
            "Model: \"model_1\"\n",
            "_________________________________________________________________\n",
            "Layer (type)                 Output Shape              Param #   \n",
            "=================================================================\n",
            "input_layer (InputLayer)     [(None, 224, 224, 3)]     0         \n",
            "_________________________________________________________________\n",
            "efficientnetb0 (Functional)  (None, None, None, 1280)  4049571   \n",
            "_________________________________________________________________\n",
            "global_pooling_layer (Global (None, 1280)              0         \n",
            "_________________________________________________________________\n",
            "output_layer (Dense)         (None, 10)                12810     \n",
            "=================================================================\n",
            "Total params: 4,062,381\n",
            "Trainable params: 12,810\n",
            "Non-trainable params: 4,049,571\n",
            "_________________________________________________________________\n"
          ]
        }
      ]
    },
    {
      "cell_type": "code",
      "metadata": {
        "colab": {
          "base_uri": "https://localhost:8080/",
          "height": 282
        },
        "id": "ZqoIPhAetnhi",
        "outputId": "48f04432-0370-4a6e-dd62-10e1ebffe465"
      },
      "source": [
        "import pandas as pd\n",
        "pd.DataFrame(history1.history).plot()"
      ],
      "execution_count": null,
      "outputs": [
        {
          "output_type": "execute_result",
          "data": {
            "text/plain": [
              "<matplotlib.axes._subplots.AxesSubplot at 0x7fd668e0fd10>"
            ]
          },
          "metadata": {},
          "execution_count": 22
        },
        {
          "output_type": "display_data",
          "data": {
            "image/png": "[encoded data removed]",
            "text/plain": [
              "<Figure size 432x288 with 1 Axes>"
            ]
          },
          "metadata": {
            "needs_background": "light"
          }
        }
      ]
    },
    {
      "cell_type": "markdown",
      "metadata": {
        "id": "zg4V5BFPz2WG"
      },
      "source": [
        "**EVALUATION**"
      ]
    },
    {
      "cell_type": "code",
      "metadata": {
        "colab": {
          "base_uri": "https://localhost:8080/"
        },
        "id": "TsWWa0F7z9U5",
        "outputId": "4c4dae39-303a-4a7b-ff47-ee8b75e78b0a"
      },
      "source": [
        "model_1.evaluate(test)"
      ],
      "execution_count": null,
      "outputs": [
        {
          "output_type": "stream",
          "name": "stdout",
          "text": [
            "79/79 [==============================] - 138s 2s/step - loss: 0.6047 - accuracy: 0.8404\n"
          ]
        },
        {
          "output_type": "execute_result",
          "data": {
            "text/plain": [
              "[0.6047024726867676, 0.840399980545044]"
            ]
          },
          "metadata": {},
          "execution_count": 31
        }
      ]
    },
    {
      "cell_type": "markdown",
      "metadata": {
        "id": "zHE-giQJuhS7"
      },
      "source": [
        "#### Demonstrate global average pooling 2D"
      ]
    },
    {
      "cell_type": "markdown",
      "metadata": {
        "id": "hDDGCuCfutYJ"
      },
      "source": [
        "Transform a 4d tensor to 2d using average pooling"
      ]
    },
    {
      "cell_type": "code",
      "metadata": {
        "colab": {
          "base_uri": "https://localhost:8080/"
        },
        "id": "dQWDhNFXuL8M",
        "outputId": "29eb5715-e4c5-4d9d-b061-7332d47d2695"
      },
      "source": [
        "input_shape = (1,4,4,3)\n",
        "input_tensor = tf.random.normal(input_shape)\n",
        "print(f'Input tensor:\\n {input_tensor}')\n",
        "\n",
        "global_average_pool_tensor = tf.keras.layers.GlobalAveragePooling2D()(input_tensor)\n",
        "print(f'Output tensor: {global_average_pool_tensor}')\n",
        "\n",
        "print(global_average_pool_tensor.shape)"
      ],
      "execution_count": null,
      "outputs": [
        {
          "output_type": "stream",
          "name": "stdout",
          "text": [
            "Input tensor:\n",
            " [[[[-1.10230970e+00 -7.21740872e-02 -2.86837339e+00]\n",
            "   [ 2.11930823e+00 -1.50148362e-01  6.01058602e-01]\n",
            "   [-1.26361716e+00  1.25238836e-01  4.72676128e-01]\n",
            "   [-8.01038325e-01  2.36788064e-01  7.46527672e-01]]\n",
            "\n",
            "  [[ 1.15486789e+00  1.10739999e-01 -2.34664202e-01]\n",
            "   [-5.49838305e-01  3.49650264e-01  4.36587840e-01]\n",
            "   [-1.58540711e-01 -1.22204018e+00 -4.91354644e-01]\n",
            "   [ 1.17571306e+00  1.00407265e-01 -1.00859952e+00]]\n",
            "\n",
            "  [[ 7.87669122e-01  1.73916459e-01  1.22240293e+00]\n",
            "   [-2.00681019e+00 -2.57639855e-01  2.50941515e-01]\n",
            "   [-5.72830021e-01  6.55921698e-02  4.48943198e-01]\n",
            "   [ 1.94852781e+00  1.12261140e+00 -1.02592245e-01]]\n",
            "\n",
            "  [[ 1.31966993e-01  2.13519764e+00 -5.28527439e-01]\n",
            "   [ 1.65329814e+00 -1.40667439e+00  5.78902483e-01]\n",
            "   [-1.19949520e+00  1.24162829e+00  3.10089678e-01]\n",
            "   [ 6.39417791e-04 -1.04483776e-02  1.97003275e-01]]]]\n",
            "Output tensor: [[0.08234445 0.15891531 0.00193886]]\n",
            "(1, 3)\n"
          ]
        }
      ]
    },
    {
      "cell_type": "code",
      "metadata": {
        "colab": {
          "base_uri": "https://localhost:8080/"
        },
        "id": "EjMY84QSwR6x",
        "outputId": "3ad465a9-906d-446a-b355-f3afbfe3f6c1"
      },
      "source": [
        "# Alternative\n",
        "tf.reduce_mean(input_tensor, axis=[1, 2]).numpy() == global_average_pool_tensor.numpy()"
      ],
      "execution_count": null,
      "outputs": [
        {
          "output_type": "execute_result",
          "data": {
            "text/plain": [
              "array([[ True,  True,  True]])"
            ]
          },
          "metadata": {},
          "execution_count": 29
        }
      ]
    },
    {
      "cell_type": "markdown",
      "metadata": {
        "id": "EY9ycZM1xwBE"
      },
      "source": [
        "Condense information and extract feature"
      ]
    },
    {
      "cell_type": "markdown",
      "metadata": {
        "id": "NkYnBWOdy7Br"
      },
      "source": [
        "## Series of Transfer Learning "
      ]
    },
    {
      "cell_type": "markdown",
      "metadata": {
        "id": "0Xj_-8xR4OI5"
      },
      "source": [
        "#### Import data "
      ]
    },
    {
      "cell_type": "code",
      "metadata": {
        "colab": {
          "base_uri": "https://localhost:8080/"
        },
        "id": "pJGDQnLdyNdH",
        "outputId": "3b34f639-0cd7-42c9-cbfc-1e8108c4c536"
      },
      "source": [
        "!wget https://storage.googleapis.com/ztm_tf_course/food_vision/10_food_classes_1_percent.zip \n",
        "import zipfile\n",
        "zip_ref = zipfile.ZipFile(\"10_food_classes_1_percent.zip\", \"r\")\n",
        "zip_ref.extractall()\n",
        "zip_ref.close()"
      ],
      "execution_count": 1,
      "outputs": [
        {
          "output_type": "stream",
          "name": "stdout",
          "text": [
            "--2021-11-05 04:52:00--  https://storage.googleapis.com/ztm_tf_course/food_vision/10_food_classes_1_percent.zip\n",
            "Resolving storage.googleapis.com (storage.googleapis.com)... 172.217.12.240, 172.217.15.112, 172.217.164.144, ...\n",
            "Connecting to storage.googleapis.com (storage.googleapis.com)|172.217.12.240|:443... connected.\n",
            "HTTP request sent, awaiting response... 200 OK\n",
            "Length: 133612354 (127M) [application/zip]\n",
            "Saving to: ‘10_food_classes_1_percent.zip’\n",
            "\n",
            "10_food_classes_1_p 100%[===================>] 127.42M  64.0MB/s    in 2.0s    \n",
            "\n",
            "2021-11-05 04:52:02 (64.0 MB/s) - ‘10_food_classes_1_percent.zip’ saved [133612354/133612354]\n",
            "\n"
          ]
        }
      ]
    },
    {
      "cell_type": "code",
      "metadata": {
        "colab": {
          "base_uri": "https://localhost:8080/"
        },
        "id": "mx8it2U24oPH",
        "outputId": "c6319ec7-b6ef-4679-ae49-15dd07b8e02d"
      },
      "source": [
        "import tensorflow as tf\n",
        "train = tf.keras.preprocessing.image_dataset_from_directory(\n",
        "    directory = \"10_food_classes_1_percent/train/\",\n",
        "    image_size = (224,224),\n",
        "    label_mode = 'categorical',\n",
        "    batch_size = 32\n",
        ")\n",
        "\n",
        "test = tf.keras.preprocessing.image_dataset_from_directory(\n",
        "    directory = \"10_food_classes_1_percent/test/\",\n",
        "    image_size = (224,224),\n",
        "    label_mode = 'categorical',\n",
        "    batch_size = 32\n",
        ")"
      ],
      "execution_count": 2,
      "outputs": [
        {
          "output_type": "stream",
          "name": "stdout",
          "text": [
            "Found 70 files belonging to 10 classes.\n",
            "Found 2500 files belonging to 10 classes.\n"
          ]
        }
      ]
    },
    {
      "cell_type": "markdown",
      "metadata": {
        "id": "2D5ggbu95FTu"
      },
      "source": [
        "#### Model 2"
      ]
    },
    {
      "cell_type": "markdown",
      "metadata": {
        "id": "xlk49PU_ETfA"
      },
      "source": [
        "-1% training data\\\n",
        "-data augmentation\\\n",
        "-efficientnet with all layer frozen"
      ]
    },
    {
      "cell_type": "markdown",
      "metadata": {
        "id": "vopuI56T5fH4"
      },
      "source": [
        "Data Augmentation"
      ]
    },
    {
      "cell_type": "code",
      "metadata": {
        "id": "QJBMgs_B46Rb"
      },
      "source": [
        "# process happens on the GPU (if using) and only happens in training\n",
        "Augmentation = tf.keras.Sequential([\n",
        "            tf.keras.layers.experimental.preprocessing.RandomFlip('horizontal'),\n",
        "            tf.keras.layers.experimental.preprocessing.RandomRotation(0.2),\n",
        "            tf.keras.layers.experimental.preprocessing.RandomZoom(0.2),\n",
        "            tf.keras.layers.experimental.preprocessing.RandomHeight(0.2)\n",
        "            # tf.keras.layers.experimental.preprocessing.Rescaling(1./255)\n",
        "            ],name = 'data_augmentation')"
      ],
      "execution_count": null,
      "outputs": []
    },
    {
      "cell_type": "markdown",
      "metadata": {
        "id": "M8mnNvwC9sYO"
      },
      "source": [
        "Visualize image"
      ]
    },
    {
      "cell_type": "code",
      "metadata": {
        "colab": {
          "base_uri": "https://localhost:8080/",
          "height": 175
        },
        "id": "bQtbA4Ga8mAE",
        "outputId": "ea76d34c-515e-4762-a21f-70bc0faf10d4"
      },
      "source": [
        "import matplotlib.pyplot as plt\n",
        "import matplotlib.image as mpimg\n",
        "import os\n",
        "import random\n",
        "\n",
        "target_class = random.choice(train.class_names)\n",
        "target_dir = \"10_food_classes_1_percent/train/\" + target_class \n",
        "random_image = random.choice(os.listdir(target_dir))\n",
        "random_image_path = target_dir + \"/\" + random_image \n",
        "img = mpimg.imread(random_image_path)\n",
        "plt.subplot(1,2,1)\n",
        "plt.imshow(img) \n",
        "plt.title(f\"Original image: {target_class}\", fontsize = 8)\n",
        "plt.axis(False);\n",
        "\n",
        "augmented_img = Augmentation(tf.expand_dims(img, axis=0)) # data augmentation requires shape (None, height, width, 3)\n",
        "plt.subplot(1,2,2)\n",
        "plt.imshow(tf.squeeze(tf.cast(augmented_img, dtype = tf.float32))/255.) # requires normalization after augmentation\n",
        "plt.title(f\"Augmented image: {target_class}\",fontsize = 8)\n",
        "plt.axis(False);"
      ],
      "execution_count": null,
      "outputs": [
        {
          "output_type": "display_data",
          "data": {
            "image/png": "[encoded data removed]",
            "text/plain": [
              "<Figure size 432x288 with 2 Axes>"
            ]
          },
          "metadata": {
            "needs_background": "light"
          }
        }
      ]
    },
    {
      "cell_type": "markdown",
      "metadata": {
        "id": "d8x9zzNn_PSt"
      },
      "source": [
        "Build model"
      ]
    },
    {
      "cell_type": "code",
      "metadata": {
        "colab": {
          "base_uri": "https://localhost:8080/"
        },
        "id": "wyL8Guas-XCO",
        "outputId": "62970123-0295-4989-faeb-5edef43984ac"
      },
      "source": [
        "model_base = tf.keras.applications.EfficientNetB0(include_top = False)\n",
        "model_base.trainable = False\n",
        "\n",
        "input = tf.keras.layers.Input(shape = (224,224,3), name = 'input_layer')\n",
        "# Add augmentation layer to model1\n",
        "x = Augmentation(input)\n",
        "x = model_base(x,training = False)\n",
        "x = tf.keras.layers.GlobalAveragePooling2D(name=\"global_average_pooling_layer\")(x)\n",
        "output = tf.keras.layers.Dense(10,activation = 'softmax', name = 'output_layer')(x)\n",
        "model_2 = tf.keras.Model(input,output)\n",
        "\n",
        "model_2.compile(loss=tf.keras.losses.CategoricalCrossentropy(),\n",
        "                optimizer = tf.keras.optimizers.Adam(),\n",
        "                metrics = ['accuracy'])\n",
        "\n",
        "history2 = model_2.fit(train, steps_per_epoch = len(train), epochs = 5,\n",
        "                       validation_data = test, validation_steps = int(0.25*len(test))\n",
        "                       )"
      ],
      "execution_count": null,
      "outputs": [
        {
          "output_type": "stream",
          "name": "stdout",
          "text": [
            "Epoch 1/5\n",
            "3/3 [==============================] - 47s 19s/step - loss: 2.3434 - accuracy: 0.1714 - val_loss: 2.1600 - val_accuracy: 0.2385\n",
            "Epoch 2/5\n",
            "3/3 [==============================] - 38s 18s/step - loss: 2.0593 - accuracy: 0.3143 - val_loss: 2.0524 - val_accuracy: 0.2911\n",
            "Epoch 3/5\n",
            "3/3 [==============================] - 38s 18s/step - loss: 1.8606 - accuracy: 0.5286 - val_loss: 1.9576 - val_accuracy: 0.3454\n",
            "Epoch 4/5\n",
            "3/3 [==============================] - 39s 18s/step - loss: 1.7427 - accuracy: 0.5429 - val_loss: 1.8924 - val_accuracy: 0.3914\n",
            "Epoch 5/5\n",
            "3/3 [==============================] - 38s 18s/step - loss: 1.6014 - accuracy: 0.6286 - val_loss: 1.7935 - val_accuracy: 0.4556\n"
          ]
        }
      ]
    },
    {
      "cell_type": "code",
      "metadata": {
        "id": "51dGfOlSC77X"
      },
      "source": [
        "pd.DataFrame(history2.history).plot()"
      ],
      "execution_count": null,
      "outputs": []
    },
    {
      "cell_type": "markdown",
      "metadata": {
        "id": "I9RaQR0C_weS"
      },
      "source": [
        "**EVALUATION**"
      ]
    },
    {
      "cell_type": "code",
      "metadata": {
        "colab": {
          "base_uri": "https://localhost:8080/"
        },
        "id": "PwAgoV3cCos3",
        "outputId": "319e29e2-13a8-4516-e767-61137925eaa9"
      },
      "source": [
        "model_2.evaluate(test)"
      ],
      "execution_count": null,
      "outputs": [
        {
          "output_type": "stream",
          "name": "stdout",
          "text": [
            "79/79 [==============================] - 141s 2s/step - loss: 1.7952 - accuracy: 0.4484\n"
          ]
        },
        {
          "output_type": "execute_result",
          "data": {
            "text/plain": [
              "[1.7951689958572388, 0.44839999079704285]"
            ]
          },
          "metadata": {},
          "execution_count": 56
        }
      ]
    },
    {
      "cell_type": "markdown",
      "metadata": {
        "id": "JC1J_dJ7DiwL"
      },
      "source": [
        "#### Model 3 (model check point)"
      ]
    },
    {
      "cell_type": "markdown",
      "metadata": {
        "id": "mr7_JvZYEdMx"
      },
      "source": [
        "-10% training data\\\n",
        "-data augmentation\\\n",
        "-efficientnet all layer frozen"
      ]
    },
    {
      "cell_type": "code",
      "metadata": {
        "colab": {
          "base_uri": "https://localhost:8080/"
        },
        "id": "bmChobxoC7FZ",
        "outputId": "b0da2a67-7563-43c2-bce2-6a1729151534"
      },
      "source": [
        "import tensorflow as tf\n",
        "train = tf.keras.preprocessing.image_dataset_from_directory(\n",
        "    directory = \"10_food_classes_10_percent/train/\",\n",
        "    image_size = (224,224),\n",
        "    label_mode = 'categorical',\n",
        "    batch_size = 32\n",
        ")\n",
        "\n",
        "test = tf.keras.preprocessing.image_dataset_from_directory(\n",
        "    directory = \"10_food_classes_10_percent/test/\",\n",
        "    image_size = (224,224),\n",
        "    label_mode = 'categorical',\n",
        "    batch_size = 32,\n",
        ")"
      ],
      "execution_count": 3,
      "outputs": [
        {
          "output_type": "stream",
          "name": "stdout",
          "text": [
            "Found 750 files belonging to 10 classes.\n",
            "Found 2500 files belonging to 10 classes.\n"
          ]
        }
      ]
    },
    {
      "cell_type": "code",
      "metadata": {
        "id": "V9kDfLzOFGz1",
        "colab": {
          "base_uri": "https://localhost:8080/"
        },
        "outputId": "11da5541-06b7-44e8-e05a-e63da1267212"
      },
      "source": [
        "Augmentation = tf.keras.Sequential([\n",
        "      tf.keras.layers.experimental.preprocessing.RandomFlip('horizontal'),\n",
        "      tf.keras.layers.experimental.preprocessing.RandomWidth(0.2),\n",
        "      tf.keras.layers.experimental.preprocessing.RandomHeight(0.1),\n",
        "      tf.keras.layers.experimental.preprocessing.RandomRotation(0.2)\n",
        "      #tf.keras.layers.experimental.preprocessing.Rescaling(1./255)\n",
        "      ])\n",
        "\n",
        "\n",
        "model_base = tf.keras.applications.EfficientNetB0(include_top=False)\n",
        "model_base.trainable = False # layers in our model not trainable\n",
        "\n",
        "input = tf.keras.layers.Input(shape = (224,224,3))\n",
        "x = Augmentation(input)\n",
        "x = model_base(x,training=False) # keep base model in inference mode (no change) and batchnorm layer doesn't update\n",
        "x = tf.keras.layers.GlobalAveragePooling2D()(x)\n",
        "output = tf.keras.layers.Dense(10, activation = tf.keras.activations.softmax)(x)\n",
        "model_3 = tf.keras.Model(input, output)\n",
        "\n",
        "model_3.compile(loss = 'categorical_crossentropy',\n",
        "              optimizer = 'Adam',\n",
        "              metrics = ['accuracy'])\n"
      ],
      "execution_count": 4,
      "outputs": [
        {
          "output_type": "stream",
          "name": "stdout",
          "text": [
            "Downloading data from https://storage.googleapis.com/keras-applications/efficientnetb0_notop.h5\n",
            "16711680/16705208 [==============================] - 0s 0us/step\n",
            "16719872/16705208 [==============================] - 0s 0us/step\n"
          ]
        }
      ]
    },
    {
      "cell_type": "markdown",
      "metadata": {
        "id": "h-_V3u-gRaBM"
      },
      "source": [
        "Model Checkpoint"
      ]
    },
    {
      "cell_type": "code",
      "metadata": {
        "id": "vKumQnQTQao6"
      },
      "source": [
        "checkpoint_path = \"ten_percent_model_checkpoints_weights/checkpoint.ckpt\"\n",
        "# save weights only (faster than saving all)\n",
        "checkpoint = tf.keras.callbacks.ModelCheckpoint(filepath=checkpoint_path,\n",
        "                                                save_weights_only = True,\n",
        "                                                save_best_only = False,\n",
        "                                                save_freq = 'epoch',\n",
        "                                                verbose = 1)"
      ],
      "execution_count": 5,
      "outputs": []
    },
    {
      "cell_type": "code",
      "metadata": {
        "colab": {
          "base_uri": "https://localhost:8080/"
        },
        "id": "K_Hgr9quTtBp",
        "outputId": "188d5cf3-3f42-4f7c-f753-1e5eaf3ebc80"
      },
      "source": [
        "import datetime\n",
        "log_dir = 'transfer_learning/model3/' + datetime.datetime.now().strftime(\"%Y%m%d-%H%M%S\")\n",
        "tensorboard = tf.keras.callbacks.TensorBoard(log_dir=log_dir)\n",
        "\n",
        "history3_1 = model_3.fit(train,epochs=5, steps_per_epoch=len(train),\n",
        "                         validation_data=test,validation_steps=int(0.25 * len(test)),\n",
        "                         callbacks=[checkpoint,tensorboard])"
      ],
      "execution_count": 6,
      "outputs": [
        {
          "output_type": "stream",
          "name": "stderr",
          "text": [
            "/usr/local/lib/python3.7/dist-packages/keras/utils/generic_utils.py:497: CustomMaskWarning: Custom mask layers require a config and must override get_config. When loading, the custom mask layer must be passed to the custom_objects argument.\n",
            "  category=CustomMaskWarning)\n"
          ]
        },
        {
          "output_type": "stream",
          "name": "stdout",
          "text": [
            "Epoch 1/5\n",
            "24/24 [==============================] - 55s 840ms/step - loss: 1.9248 - accuracy: 0.3800 - val_loss: 1.3928 - val_accuracy: 0.6562\n",
            "\n",
            "Epoch 00001: saving model to ten_percent_model_checkpoints_weights/checkpoint.ckpt\n",
            "Epoch 2/5\n",
            "24/24 [==============================] - 14s 588ms/step - loss: 1.2775 - accuracy: 0.6853 - val_loss: 0.9950 - val_accuracy: 0.7697\n",
            "\n",
            "Epoch 00002: saving model to ten_percent_model_checkpoints_weights/checkpoint.ckpt\n",
            "Epoch 3/5\n",
            "24/24 [==============================] - 12s 498ms/step - loss: 0.9727 - accuracy: 0.7627 - val_loss: 0.8187 - val_accuracy: 0.8224\n",
            "\n",
            "Epoch 00003: saving model to ten_percent_model_checkpoints_weights/checkpoint.ckpt\n",
            "Epoch 4/5\n",
            "24/24 [==============================] - 14s 597ms/step - loss: 0.8234 - accuracy: 0.7947 - val_loss: 0.7077 - val_accuracy: 0.8339\n",
            "\n",
            "Epoch 00004: saving model to ten_percent_model_checkpoints_weights/checkpoint.ckpt\n",
            "Epoch 5/5\n",
            "24/24 [==============================] - 15s 618ms/step - loss: 0.7240 - accuracy: 0.8120 - val_loss: 0.6556 - val_accuracy: 0.8454\n",
            "\n",
            "Epoch 00005: saving model to ten_percent_model_checkpoints_weights/checkpoint.ckpt\n"
          ]
        }
      ]
    },
    {
      "cell_type": "markdown",
      "metadata": {
        "id": "TCt9PY53dMS2"
      },
      "source": [
        "**EVALUATION**"
      ]
    },
    {
      "cell_type": "code",
      "metadata": {
        "colab": {
          "base_uri": "https://localhost:8080/"
        },
        "id": "ZcSGjFjbYgaX",
        "outputId": "04978e76-e116-4102-b303-f62d41c8c45b"
      },
      "source": [
        "model_3.evaluate(test)"
      ],
      "execution_count": null,
      "outputs": [
        {
          "output_type": "stream",
          "name": "stdout",
          "text": [
            "79/79 [==============================] - 138s 2s/step - loss: 0.6684 - accuracy: 0.8252\n"
          ]
        },
        {
          "output_type": "execute_result",
          "data": {
            "text/plain": [
              "[0.6684066653251648, 0.8252000212669373]"
            ]
          },
          "metadata": {},
          "execution_count": 66
        }
      ]
    },
    {
      "cell_type": "markdown",
      "metadata": {
        "id": "oeoUswWVYzRm"
      },
      "source": [
        "Load checkpoint weight"
      ]
    },
    {
      "cell_type": "code",
      "metadata": {
        "colab": {
          "base_uri": "https://localhost:8080/"
        },
        "id": "JUvaz2WHZCzC",
        "outputId": "cd74bffb-a408-4ad0-a3c5-333d1ea16cb8"
      },
      "source": [
        "print(checkpoint_path)"
      ],
      "execution_count": null,
      "outputs": [
        {
          "output_type": "stream",
          "name": "stdout",
          "text": [
            "ten_percent_model_checkpoints_weights/checkpoint.ckpt\n"
          ]
        }
      ]
    },
    {
      "cell_type": "code",
      "metadata": {
        "colab": {
          "base_uri": "https://localhost:8080/"
        },
        "id": "bZdvt_eKYpsG",
        "outputId": "64ee5847-8191-4480-ad0c-b034c96489a9"
      },
      "source": [
        "model_3.load_weights(checkpoint_path)"
      ],
      "execution_count": 29,
      "outputs": [
        {
          "output_type": "execute_result",
          "data": {
            "text/plain": [
              "<tensorflow.python.training.tracking.util.CheckpointLoadStatus at 0x7f4d0f213290>"
            ]
          },
          "metadata": {},
          "execution_count": 29
        }
      ]
    },
    {
      "cell_type": "code",
      "metadata": {
        "colab": {
          "base_uri": "https://localhost:8080/"
        },
        "id": "9mT95I6lbD36",
        "outputId": "5cd4f427-0e93-4727-80aa-068cd2a82d7d"
      },
      "source": [
        "model_3.summary()"
      ],
      "execution_count": 23,
      "outputs": [
        {
          "output_type": "stream",
          "name": "stdout",
          "text": [
            "Model: \"model\"\n",
            "_________________________________________________________________\n",
            "Layer (type)                 Output Shape              Param #   \n",
            "=================================================================\n",
            "input_2 (InputLayer)         [(None, 224, 224, 3)]     0         \n",
            "_________________________________________________________________\n",
            "sequential (Sequential)      (None, None, None, 3)     0         \n",
            "_________________________________________________________________\n",
            "efficientnetb0 (Functional)  (None, None, None, 1280)  4049571   \n",
            "_________________________________________________________________\n",
            "global_average_pooling2d (Gl (None, 1280)              0         \n",
            "_________________________________________________________________\n",
            "dense (Dense)                (None, 10)                12810     \n",
            "=================================================================\n",
            "Total params: 4,062,381\n",
            "Trainable params: 12,810\n",
            "Non-trainable params: 4,049,571\n",
            "_________________________________________________________________\n"
          ]
        }
      ]
    },
    {
      "cell_type": "code",
      "metadata": {
        "colab": {
          "base_uri": "https://localhost:8080/"
        },
        "id": "f5--RhanbFC7",
        "outputId": "e8ba2684-eac8-428e-cb5f-5b6491a5dbf6"
      },
      "source": [
        "for layer in model_3.layers:\n",
        "  print(layer.trainable)"
      ],
      "execution_count": null,
      "outputs": [
        {
          "output_type": "stream",
          "name": "stdout",
          "text": [
            "True\n",
            "True\n",
            "False\n",
            "True\n",
            "True\n"
          ]
        }
      ]
    },
    {
      "cell_type": "code",
      "metadata": {
        "id": "R9TRvvGBbPyx"
      },
      "source": [
        ""
      ],
      "execution_count": null,
      "outputs": []
    },
    {
      "cell_type": "markdown",
      "metadata": {
        "id": "7dMNpL4RfTkM"
      },
      "source": [
        "## Fine Tunning"
      ]
    },
    {
      "cell_type": "markdown",
      "metadata": {
        "id": "YY1GWojOhYp9"
      },
      "source": [
        "#### View trainable"
      ]
    },
    {
      "cell_type": "code",
      "metadata": {
        "colab": {
          "base_uri": "https://localhost:8080/"
        },
        "id": "aRsIvSVhexgT",
        "outputId": "6b56e39c-599c-4899-96e3-18061c0d3d32"
      },
      "source": [
        "for layer in model_3.layers:\n",
        "  print(layer, layer.trainable)"
      ],
      "execution_count": 9,
      "outputs": [
        {
          "output_type": "stream",
          "name": "stdout",
          "text": [
            "<keras.engine.input_layer.InputLayer object at 0x7f4dffdc98d0> True\n",
            "<keras.engine.sequential.Sequential object at 0x7f4dff1d11d0> True\n",
            "<keras.engine.functional.Functional object at 0x7f4df0129590> False\n",
            "<keras.layers.pooling.GlobalAveragePooling2D object at 0x7f4df010c1d0> True\n",
            "<keras.layers.core.Dense object at 0x7f4df005d510> True\n"
          ]
        }
      ]
    },
    {
      "cell_type": "markdown",
      "metadata": {
        "id": "-k-gKu4hgHee"
      },
      "source": [
        "third layer is untrainable, so inspect the thrid layer"
      ]
    },
    {
      "cell_type": "code",
      "metadata": {
        "colab": {
          "base_uri": "https://localhost:8080/"
        },
        "id": "tW86zrZ-fimd",
        "outputId": "5959a08e-7f9d-4d59-f7c5-5df888b49705"
      },
      "source": [
        "# third layer\n",
        "for number, layer in enumerate(model_3.layers[2].layers):\n",
        "  if number<20:\n",
        "    print(number, layer.name, layer.trainable)\n",
        "print('And so on')"
      ],
      "execution_count": 15,
      "outputs": [
        {
          "output_type": "stream",
          "name": "stdout",
          "text": [
            "0 input_1 False\n",
            "1 rescaling False\n",
            "2 normalization False\n",
            "3 stem_conv_pad False\n",
            "4 stem_conv False\n",
            "5 stem_bn False\n",
            "6 stem_activation False\n",
            "7 block1a_dwconv False\n",
            "8 block1a_bn False\n",
            "9 block1a_activation False\n",
            "10 block1a_se_squeeze False\n",
            "11 block1a_se_reshape False\n",
            "12 block1a_se_reduce False\n",
            "13 block1a_se_expand False\n",
            "14 block1a_se_excite False\n",
            "15 block1a_project_conv False\n",
            "16 block1a_project_bn False\n",
            "17 block2a_expand_conv False\n",
            "18 block2a_expand_bn False\n",
            "19 block2a_expand_activation False\n",
            "And so on\n"
          ]
        }
      ]
    },
    {
      "cell_type": "code",
      "metadata": {
        "colab": {
          "base_uri": "https://localhost:8080/"
        },
        "id": "5U_gpNiigAlr",
        "outputId": "a6491387-8108-41b9-940d-843f92fa4a40"
      },
      "source": [
        "print(len(model_3.layers[2].trainable_variables))"
      ],
      "execution_count": 18,
      "outputs": [
        {
          "output_type": "stream",
          "name": "stdout",
          "text": [
            "0\n"
          ]
        }
      ]
    },
    {
      "cell_type": "markdown",
      "metadata": {
        "id": "vN0BNhDCdRLj"
      },
      "source": [
        "#### Model 4"
      ]
    },
    {
      "cell_type": "markdown",
      "metadata": {
        "id": "hHxAJ2EYdTKN"
      },
      "source": [
        "-10% training data\\\n",
        "-data augmentation\\\n",
        "-efficientnet top layer frozen bottom will train"
      ]
    },
    {
      "cell_type": "code",
      "metadata": {
        "id": "b7zqE7WfhSBQ"
      },
      "source": [
        "import tensorflow as tf\n",
        "train = tf.keras.preprocessing.image_dataset_from_directory(\n",
        "    directory = \"10_food_classes_10_percent/train/\",\n",
        "    image_size = (224,224),\n",
        "    label_mode = 'categorical',\n",
        "    batch_size = 32\n",
        ")\n",
        "\n",
        "test = tf.keras.preprocessing.image_dataset_from_directory(\n",
        "    directory = \"10_food_classes_10_percent/test/\",\n",
        "    image_size = (224,224),\n",
        "    label_mode = 'categorical',\n",
        "    batch_size = 32,\n",
        ")"
      ],
      "execution_count": null,
      "outputs": []
    },
    {
      "cell_type": "code",
      "metadata": {
        "colab": {
          "base_uri": "https://localhost:8080/"
        },
        "id": "QO_iJ637gw2N",
        "outputId": "b9a4c4f3-1bd2-4a0a-8a06-9744b09aca95"
      },
      "source": [
        "model_base = tf.keras.applications.EfficientNetB0(include_top=False)\n",
        "model_base.trainable = True\n",
        "# freeze layers except last 10\n",
        "for layer in model_base.layers[:-10]:\n",
        "  layer.trainable = False\n",
        "\n",
        "input = tf.keras.layers.Input(shape = (224,224,3))\n",
        "x = Augmentation(input)\n",
        "x = model_base(x,training=False)\n",
        "x = tf.keras.layers.GlobalAveragePooling2D()(x)\n",
        "output = tf.keras.layers.Dense(10, activation = tf.keras.activations.softmax)(x)\n",
        "model_4 = tf.keras.Model(input, output)\n",
        "model_4.compile(loss=\"categorical_crossentropy\",\n",
        "                optimizer=tf.keras.optimizers.Adam(lr=0.0001), \n",
        "                # lr is 10x lower than before for fine-tuning\n",
        "                metrics=[\"accuracy\"])\n",
        "\n",
        "model_4.load_weights(checkpoint_path)\n",
        "\n",
        "print(len(model_4.trainable_variables))"
      ],
      "execution_count": 38,
      "outputs": [
        {
          "output_type": "stream",
          "name": "stderr",
          "text": [
            "/usr/local/lib/python3.7/dist-packages/keras/optimizer_v2/optimizer_v2.py:356: UserWarning: The `lr` argument is deprecated, use `learning_rate` instead.\n",
            "  \"The `lr` argument is deprecated, use `learning_rate` instead.\")\n"
          ]
        },
        {
          "output_type": "stream",
          "name": "stdout",
          "text": [
            "12\n"
          ]
        }
      ]
    },
    {
      "cell_type": "code",
      "metadata": {
        "colab": {
          "base_uri": "https://localhost:8080/"
        },
        "id": "QWADLyX3lqeN",
        "outputId": "2907920a-a9a2-42bd-9d5f-fffad1945c9b"
      },
      "source": [
        "history_4 = model_4.fit(train,epochs=10,validation_data=test,\n",
        "                        steps_per_epoch = len(train),\n",
        "                        initial_epoch=history3_1.epoch[-1], # previous last epoch\n",
        "                        validation_steps=int(0.25 * len(test)),\n",
        "                        )"
      ],
      "execution_count": 34,
      "outputs": [
        {
          "output_type": "stream",
          "name": "stdout",
          "text": [
            "Epoch 5/10\n",
            "24/24 [==============================] - 21s 567ms/step - loss: 0.8078 - accuracy: 0.7400 - val_loss: 0.4893 - val_accuracy: 0.8372\n",
            "Epoch 6/10\n",
            "24/24 [==============================] - 11s 462ms/step - loss: 0.3241 - accuracy: 0.8947 - val_loss: 0.4224 - val_accuracy: 0.8586\n",
            "Epoch 7/10\n",
            "24/24 [==============================] - 12s 474ms/step - loss: 0.1387 - accuracy: 0.9560 - val_loss: 0.5016 - val_accuracy: 0.8289\n",
            "Epoch 8/10\n",
            "24/24 [==============================] - 12s 470ms/step - loss: 0.0858 - accuracy: 0.9720 - val_loss: 0.5442 - val_accuracy: 0.8438\n",
            "Epoch 9/10\n",
            "24/24 [==============================] - 11s 459ms/step - loss: 0.0877 - accuracy: 0.9720 - val_loss: 0.5552 - val_accuracy: 0.8405\n",
            "Epoch 10/10\n",
            "24/24 [==============================] - 11s 440ms/step - loss: 0.0374 - accuracy: 0.9933 - val_loss: 0.5210 - val_accuracy: 0.8454\n"
          ]
        }
      ]
    },
    {
      "cell_type": "code",
      "metadata": {
        "colab": {
          "base_uri": "https://localhost:8080/"
        },
        "id": "pedYBRdnqgvx",
        "outputId": "5bf01422-f805-41f7-f3b3-cbb847a1fa10"
      },
      "source": [
        "model_4.summary()"
      ],
      "execution_count": 40,
      "outputs": [
        {
          "output_type": "stream",
          "name": "stdout",
          "text": [
            "Model: \"model_3\"\n",
            "_________________________________________________________________\n",
            "Layer (type)                 Output Shape              Param #   \n",
            "=================================================================\n",
            "input_14 (InputLayer)        [(None, 224, 224, 3)]     0         \n",
            "_________________________________________________________________\n",
            "sequential_1 (Sequential)    (None, None, None, 3)     0         \n",
            "_________________________________________________________________\n",
            "efficientnetb0 (Functional)  (None, None, None, 1280)  4049571   \n",
            "_________________________________________________________________\n",
            "global_average_pooling2d_3 ( (None, 1280)              0         \n",
            "_________________________________________________________________\n",
            "dense_3 (Dense)              (None, 10)                12810     \n",
            "=================================================================\n",
            "Total params: 4,062,381\n",
            "Trainable params: 906,042\n",
            "Non-trainable params: 3,156,339\n",
            "_________________________________________________________________\n"
          ]
        }
      ]
    },
    {
      "cell_type": "code",
      "metadata": {
        "colab": {
          "base_uri": "https://localhost:8080/"
        },
        "id": "wUL_zwbysSvP",
        "outputId": "6d07733d-7590-4df0-c9b3-c2a74304315a"
      },
      "source": [
        "model_4.evaluate(test)"
      ],
      "execution_count": 41,
      "outputs": [
        {
          "output_type": "stream",
          "name": "stdout",
          "text": [
            "79/79 [==============================] - 14s 136ms/step - loss: 0.6524 - accuracy: 0.8368\n"
          ]
        },
        {
          "output_type": "execute_result",
          "data": {
            "text/plain": [
              "[0.6523900032043457, 0.8367999792098999]"
            ]
          },
          "metadata": {},
          "execution_count": 41
        }
      ]
    },
    {
      "cell_type": "code",
      "metadata": {
        "colab": {
          "base_uri": "https://localhost:8080/",
          "height": 282
        },
        "id": "smwTt3-Es6Jo",
        "outputId": "ce7243a2-13f6-4532-b57b-383c7acec595"
      },
      "source": [
        "import pandas as pd\n",
        "pd.DataFrame(history_4.history).plot()"
      ],
      "execution_count": 43,
      "outputs": [
        {
          "output_type": "execute_result",
          "data": {
            "text/plain": [
              "<matplotlib.axes._subplots.AxesSubplot at 0x7f4d0e09a210>"
            ]
          },
          "metadata": {},
          "execution_count": 43
        },
        {
          "output_type": "display_data",
          "data": {
            "image/png": "[encoded data removed]",
            "text/plain": [
              "<Figure size 432x288 with 1 Axes>"
            ]
          },
          "metadata": {
            "needs_background": "light"
          }
        }
      ]
    },
    {
      "cell_type": "code",
      "metadata": {
        "id": "WQQq10MTEK_j"
      },
      "source": [
        ""
      ],
      "execution_count": null,
      "outputs": []
    }
  ]
}